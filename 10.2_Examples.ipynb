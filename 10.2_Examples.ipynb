{
 "cells": [
  {
   "cell_type": "markdown",
   "metadata": {},
   "source": [
    "# 10.2 Examples\n",
    "\n",
    "\n",
    "#### This week:\n",
    "\n",
    "* A couple of miscellaneous items: plotting lines with colormap color, integer word length and sets\n",
    "* Lorenz equations \n",
    "* Recaman's sequence"
   ]
  },
  {
   "cell_type": "code",
   "execution_count": 1,
   "metadata": {},
   "outputs": [
    {
     "name": "stdout",
     "output_type": "stream",
     "text": [
      "Populating the interactive namespace from numpy and matplotlib\n"
     ]
    }
   ],
   "source": [
    "%pylab ipympl"
   ]
  },
  {
   "cell_type": "markdown",
   "metadata": {},
   "source": [
    "### Set\n",
    "A set is an unordered collection of items. Every element is unique (no duplicates) and must be immutable (which cannot be changed)."
   ]
  },
  {
   "cell_type": "code",
   "execution_count": null,
   "metadata": {},
   "outputs": [],
   "source": [
    "set?"
   ]
  },
  {
   "cell_type": "code",
   "execution_count": 3,
   "metadata": {},
   "outputs": [],
   "source": [
    "A = {1, 2, 3, 4, 5}\n",
    "B = {4, 5, 6, 7, 8}"
   ]
  },
  {
   "cell_type": "code",
   "execution_count": 4,
   "metadata": {},
   "outputs": [
    {
     "data": {
      "text/plain": [
       "{1, 2, 3, 4, 5, 6, 7, 8}"
      ]
     },
     "execution_count": 4,
     "metadata": {},
     "output_type": "execute_result"
    }
   ],
   "source": [
    "A.union(B)"
   ]
  },
  {
   "cell_type": "code",
   "execution_count": 5,
   "metadata": {},
   "outputs": [
    {
     "data": {
      "text/plain": [
       "{4, 5}"
      ]
     },
     "execution_count": 5,
     "metadata": {},
     "output_type": "execute_result"
    }
   ],
   "source": [
    "A.intersection(B)"
   ]
  },
  {
   "cell_type": "code",
   "execution_count": 7,
   "metadata": {},
   "outputs": [
    {
     "name": "stdout",
     "output_type": "stream",
     "text": [
      "True\n"
     ]
    }
   ],
   "source": [
    "if 4 in A.intersection(B): print(\"True\")"
   ]
  },
  {
   "cell_type": "code",
   "execution_count": 8,
   "metadata": {},
   "outputs": [],
   "source": [
    "aa = {}  # this is a dictionary"
   ]
  },
  {
   "cell_type": "code",
   "execution_count": 10,
   "metadata": {},
   "outputs": [],
   "source": [
    "# empty set\n",
    "aa = set()"
   ]
  },
  {
   "cell_type": "code",
   "execution_count": 12,
   "metadata": {},
   "outputs": [],
   "source": [
    "aa.add(23)"
   ]
  },
  {
   "cell_type": "code",
   "execution_count": 13,
   "metadata": {},
   "outputs": [
    {
     "data": {
      "text/plain": [
       "{23}"
      ]
     },
     "execution_count": 13,
     "metadata": {},
     "output_type": "execute_result"
    }
   ],
   "source": [
    "aa"
   ]
  },
  {
   "cell_type": "code",
   "execution_count": 14,
   "metadata": {},
   "outputs": [],
   "source": [
    "for i in range(3):\n",
    "    aa.add(i)"
   ]
  },
  {
   "cell_type": "code",
   "execution_count": 15,
   "metadata": {},
   "outputs": [
    {
     "data": {
      "text/plain": [
       "{0, 1, 2, 23}"
      ]
     },
     "execution_count": 15,
     "metadata": {},
     "output_type": "execute_result"
    }
   ],
   "source": [
    "aa"
   ]
  },
  {
   "cell_type": "code",
   "execution_count": 21,
   "metadata": {},
   "outputs": [
    {
     "name": "stdout",
     "output_type": "stream",
     "text": [
      "True\n"
     ]
    }
   ],
   "source": [
    "if 3 in [3,5,4,3]: print(\"True\")"
   ]
  },
  {
   "cell_type": "code",
   "execution_count": 19,
   "metadata": {},
   "outputs": [],
   "source": [
    "ia = array(ones(5), dtype='int')"
   ]
  },
  {
   "cell_type": "code",
   "execution_count": 20,
   "metadata": {},
   "outputs": [
    {
     "data": {
      "text/plain": [
       "array([1, 1, 1, 1, 1])"
      ]
     },
     "execution_count": 20,
     "metadata": {},
     "output_type": "execute_result"
    }
   ],
   "source": [
    "ia"
   ]
  },
  {
   "cell_type": "markdown",
   "metadata": {},
   "source": [
    "### Integer arrays and word length\n",
    "The word length determines how many integers an integer variable (_memory slot_) can distinguish."
   ]
  },
  {
   "cell_type": "code",
   "execution_count": 22,
   "metadata": {},
   "outputs": [
    {
     "data": {
      "text/plain": [
       "65536"
      ]
     },
     "execution_count": 22,
     "metadata": {},
     "output_type": "execute_result"
    }
   ],
   "source": [
    "2**16"
   ]
  },
  {
   "cell_type": "code",
   "execution_count": 37,
   "metadata": {},
   "outputs": [],
   "source": [
    "n=257\n",
    "ia = array(ones(n),dtype='int64')  # try with int8"
   ]
  },
  {
   "cell_type": "code",
   "execution_count": 31,
   "metadata": {},
   "outputs": [
    {
     "data": {
      "text/plain": [
       "array([1, 1, 1, 1, 1, 1, 1, 1, 1, 1, 1, 1, 1, 1, 1, 1, 1, 1, 1, 1, 1, 1,\n",
       "       1, 1, 1, 1, 1, 1, 1, 1, 1, 1, 1, 1, 1, 1, 1, 1, 1, 1, 1, 1, 1, 1,\n",
       "       1, 1, 1, 1, 1, 1, 1, 1, 1, 1, 1, 1, 1, 1, 1, 1, 1, 1, 1, 1, 1, 1,\n",
       "       1, 1, 1, 1, 1, 1, 1, 1, 1, 1, 1, 1, 1, 1, 1, 1, 1, 1, 1, 1, 1, 1,\n",
       "       1, 1, 1, 1, 1, 1, 1, 1, 1, 1, 1, 1, 1, 1, 1, 1, 1, 1, 1, 1, 1, 1,\n",
       "       1, 1, 1, 1, 1, 1, 1, 1, 1, 1, 1, 1, 1, 1, 1, 1, 1, 1, 1, 1, 1, 1,\n",
       "       1, 1, 1, 1, 1, 1, 1, 1, 1, 1, 1, 1, 1, 1, 1, 1, 1, 1], dtype=int8)"
      ]
     },
     "execution_count": 31,
     "metadata": {},
     "output_type": "execute_result"
    }
   ],
   "source": [
    "ia"
   ]
  },
  {
   "cell_type": "code",
   "execution_count": 41,
   "metadata": {},
   "outputs": [
    {
     "data": {
      "text/plain": [
       "9.223372036854776"
      ]
     },
     "execution_count": 41,
     "metadata": {},
     "output_type": "execute_result"
    }
   ],
   "source": [
    "2**63/1e18"
   ]
  },
  {
   "cell_type": "code",
   "execution_count": null,
   "metadata": {},
   "outputs": [],
   "source": [
    "# 2**7   # need one bit for sign"
   ]
  },
  {
   "cell_type": "code",
   "execution_count": 35,
   "metadata": {},
   "outputs": [],
   "source": [
    "for i in range(n):\n",
    "    ia[i] = i"
   ]
  },
  {
   "cell_type": "code",
   "execution_count": 36,
   "metadata": {},
   "outputs": [
    {
     "data": {
      "text/plain": [
       "array([   0,    1,    2,    3,    4,    5,    6,    7,    8,    9,   10,\n",
       "         11,   12,   13,   14,   15,   16,   17,   18,   19,   20,   21,\n",
       "         22,   23,   24,   25,   26,   27,   28,   29,   30,   31,   32,\n",
       "         33,   34,   35,   36,   37,   38,   39,   40,   41,   42,   43,\n",
       "         44,   45,   46,   47,   48,   49,   50,   51,   52,   53,   54,\n",
       "         55,   56,   57,   58,   59,   60,   61,   62,   63,   64,   65,\n",
       "         66,   67,   68,   69,   70,   71,   72,   73,   74,   75,   76,\n",
       "         77,   78,   79,   80,   81,   82,   83,   84,   85,   86,   87,\n",
       "         88,   89,   90,   91,   92,   93,   94,   95,   96,   97,   98,\n",
       "         99,  100,  101,  102,  103,  104,  105,  106,  107,  108,  109,\n",
       "        110,  111,  112,  113,  114,  115,  116,  117,  118,  119,  120,\n",
       "        121,  122,  123,  124,  125,  126,  127, -128, -127, -126, -125,\n",
       "       -124, -123, -122, -121, -120, -119, -118, -117, -116, -115, -114,\n",
       "       -113, -112, -111, -110, -109, -108, -107, -106, -105, -104, -103,\n",
       "       -102, -101, -100,  -99,  -98,  -97,  -96,  -95,  -94,  -93,  -92,\n",
       "        -91,  -90,  -89,  -88,  -87,  -86,  -85,  -84,  -83,  -82,  -81,\n",
       "        -80,  -79,  -78,  -77,  -76,  -75,  -74,  -73,  -72,  -71,  -70,\n",
       "        -69,  -68,  -67,  -66,  -65,  -64,  -63,  -62,  -61,  -60,  -59,\n",
       "        -58,  -57,  -56,  -55,  -54,  -53,  -52,  -51,  -50,  -49,  -48,\n",
       "        -47,  -46,  -45,  -44,  -43,  -42,  -41,  -40,  -39,  -38,  -37,\n",
       "        -36,  -35,  -34,  -33,  -32,  -31,  -30,  -29,  -28,  -27,  -26,\n",
       "        -25,  -24,  -23,  -22,  -21,  -20,  -19,  -18,  -17,  -16,  -15,\n",
       "        -14,  -13,  -12,  -11,  -10,   -9,   -8,   -7,   -6,   -5,   -4,\n",
       "         -3,   -2,   -1,    0], dtype=int8)"
      ]
     },
     "execution_count": 36,
     "metadata": {},
     "output_type": "execute_result"
    }
   ],
   "source": [
    "ia"
   ]
  },
  {
   "cell_type": "markdown",
   "metadata": {},
   "source": [
    "### Plotting colored lines on black background"
   ]
  },
  {
   "cell_type": "code",
   "execution_count": 42,
   "metadata": {},
   "outputs": [],
   "source": [
    "import matplotlib.pyplot as plt"
   ]
  },
  {
   "cell_type": "code",
   "execution_count": 46,
   "metadata": {},
   "outputs": [],
   "source": [
    "# ax.axis?"
   ]
  },
  {
   "cell_type": "code",
   "execution_count": 43,
   "metadata": {},
   "outputs": [
    {
     "data": {
      "application/vnd.jupyter.widget-view+json": {
       "model_id": "",
       "version_major": 2,
       "version_minor": 0
      },
      "text/plain": [
       "Canvas(toolbar=Toolbar(toolitems=[('Home', 'Reset original view', 'home', 'home'), ('Back', 'Back to previous …"
      ]
     },
     "metadata": {},
     "output_type": "display_data"
    },
    {
     "data": {
      "text/plain": [
       "(0.0, 1.0, 0.0, 1.0)"
      ]
     },
     "execution_count": 43,
     "metadata": {},
     "output_type": "execute_result"
    }
   ],
   "source": [
    "fig, ax = plt.subplots(facecolor='k')\n",
    "#ax.axis('equal')\n",
    "ax.axis('off')"
   ]
  },
  {
   "cell_type": "code",
   "execution_count": 47,
   "metadata": {},
   "outputs": [
    {
     "data": {
      "text/plain": [
       "[<matplotlib.lines.Line2D at 0x7f2253f91fd0>]"
      ]
     },
     "execution_count": 47,
     "metadata": {},
     "output_type": "execute_result"
    }
   ],
   "source": [
    "x = linspace(0,2*pi,100)\n",
    "ax.plot(x,sin(x))"
   ]
  },
  {
   "cell_type": "markdown",
   "metadata": {},
   "source": [
    "\n",
    "#### Plotting with a color from a color map"
   ]
  },
  {
   "cell_type": "code",
   "execution_count": 54,
   "metadata": {},
   "outputs": [],
   "source": [
    "cm = plt.cm.get_cmap('autumn')"
   ]
  },
  {
   "cell_type": "code",
   "execution_count": 53,
   "metadata": {},
   "outputs": [
    {
     "data": {
      "text/plain": [
       "(1.0, 1.0, 0.6139702022054964, 1.0)"
      ]
     },
     "execution_count": 53,
     "metadata": {},
     "output_type": "execute_result"
    }
   ],
   "source": [
    "cm(0.9)"
   ]
  },
  {
   "cell_type": "code",
   "execution_count": 55,
   "metadata": {},
   "outputs": [
    {
     "data": {
      "application/vnd.jupyter.widget-view+json": {
       "model_id": "",
       "version_major": 2,
       "version_minor": 0
      },
      "text/plain": [
       "Canvas(toolbar=Toolbar(toolitems=[('Home', 'Reset original view', 'home', 'home'), ('Back', 'Back to previous …"
      ]
     },
     "metadata": {},
     "output_type": "display_data"
    }
   ],
   "source": [
    "fig, ax = plt.subplots(facecolor='k')\n",
    "#ax.axis('equal')\n",
    "ax.axis('off')\n",
    "\n",
    "cm = plt.cm.get_cmap('hot')"
   ]
  },
  {
   "cell_type": "code",
   "execution_count": 58,
   "metadata": {},
   "outputs": [
    {
     "data": {
      "text/plain": [
       "0.07957747154594767"
      ]
     },
     "execution_count": 58,
     "metadata": {},
     "output_type": "execute_result"
    }
   ],
   "source": [
    "0.5/xmax"
   ]
  },
  {
   "cell_type": "code",
   "execution_count": 59,
   "metadata": {},
   "outputs": [
    {
     "data": {
      "text/plain": [
       "[<matplotlib.lines.Line2D at 0x7f2253f13da0>]"
      ]
     },
     "execution_count": 59,
     "metadata": {},
     "output_type": "execute_result"
    }
   ],
   "source": [
    "xmax = 2*pi\n",
    "x = linspace(0,xmax,100)\n",
    "color = cm(0.5/xmax)\n",
    "\n",
    "ax.plot(x,sin(x),c=color)"
   ]
  },
  {
   "cell_type": "markdown",
   "metadata": {},
   "source": [
    "#### Plotting each segment with a color map"
   ]
  },
  {
   "cell_type": "code",
   "execution_count": 63,
   "metadata": {},
   "outputs": [],
   "source": [
    "for i in range(1000): close(i)"
   ]
  },
  {
   "cell_type": "code",
   "execution_count": 64,
   "metadata": {},
   "outputs": [
    {
     "data": {
      "application/vnd.jupyter.widget-view+json": {
       "model_id": "",
       "version_major": 2,
       "version_minor": 0
      },
      "text/plain": [
       "Canvas(toolbar=Toolbar(toolitems=[('Home', 'Reset original view', 'home', 'home'), ('Back', 'Back to previous …"
      ]
     },
     "metadata": {},
     "output_type": "display_data"
    }
   ],
   "source": [
    "fig, ax = plt.subplots(facecolor='k')\n",
    "#ax.axis('equal')\n",
    "ax.axis('off')\n",
    "\n",
    "cm = plt.cm.get_cmap('hsv')\n",
    "\n",
    "n = 100; nd = 10\n",
    "xmax = 2*pi\n",
    "x = linspace(0,xmax,n*nd)\n",
    "\n",
    "def plot_sin(x,c=(0,0,0,0)):\n",
    "    ax.plot(x,sin(x),c=c)\n",
    "\n",
    "for i in range(n): \n",
    "    color = cm(x[i*nd]/xmax)\n",
    "    plot_sin(x[i*nd:i*nd+nd+1],c = color)"
   ]
  },
  {
   "cell_type": "markdown",
   "metadata": {},
   "source": [
    "#### Plot arc through $a_n$ and $a_{n-1}$ \n",
    "Imagine you have two points on a number ray that represent subsequent elements of a sequence. Draw a half circle through these two points."
   ]
  },
  {
   "cell_type": "code",
   "execution_count": 65,
   "metadata": {},
   "outputs": [],
   "source": [
    "an, an_ = 6,3 ; n = 3"
   ]
  },
  {
   "cell_type": "code",
   "execution_count": 67,
   "metadata": {},
   "outputs": [
    {
     "data": {
      "application/vnd.jupyter.widget-view+json": {
       "model_id": "",
       "version_major": 2,
       "version_minor": 0
      },
      "text/plain": [
       "Canvas(toolbar=Toolbar(toolitems=[('Home', 'Reset original view', 'home', 'home'), ('Back', 'Back to previous …"
      ]
     },
     "metadata": {},
     "output_type": "display_data"
    },
    {
     "data": {
      "text/plain": [
       "[<matplotlib.lines.Line2D at 0x7f2253a436d8>]"
      ]
     },
     "execution_count": 67,
     "metadata": {},
     "output_type": "execute_result"
    }
   ],
   "source": [
    "fig, ax = plt.subplots(facecolor='k')\n",
    "ax.axis('equal')\n",
    "ax.axis('off')\n",
    "\n",
    "center = (an + an_)/2.\n",
    "radius = abs(an - an_)/2\n",
    "x = linspace(-radius,radius,1000)\n",
    "y = sqrt(radius**2 - x**2) * (-1)**n\n",
    "ax.plot(x+center,y)"
   ]
  },
  {
   "cell_type": "code",
   "execution_count": 69,
   "metadata": {},
   "outputs": [
    {
     "data": {
      "application/vnd.jupyter.widget-view+json": {
       "model_id": "",
       "version_major": 2,
       "version_minor": 0
      },
      "text/plain": [
       "Canvas(toolbar=Toolbar(toolitems=[('Home', 'Reset original view', 'home', 'home'), ('Back', 'Back to previous …"
      ]
     },
     "metadata": {},
     "output_type": "display_data"
    }
   ],
   "source": [
    "fig, ax = plt.subplots(facecolor='k')\n",
    "ax.axis('equal')\n",
    "ax.axis('off')\n",
    "\n",
    "def plot_arc(an, an_, n):\n",
    "    center = (an + an_)/2.\n",
    "    radius = abs(an - an_)/2\n",
    "    x = linspace(-radius,radius,1000)\n",
    "    y = np.sqrt(radius**2 - x**2) * (-1)**n\n",
    "    ax.plot(x+center,y)\n",
    "\n",
    "plot_arc(an, an_, n)\n",
    "savefig('arc.png')"
   ]
  },
  {
   "cell_type": "markdown",
   "metadata": {},
   "source": [
    "**Demonstrate download and upload of figure**"
   ]
  },
  {
   "cell_type": "markdown",
   "metadata": {},
   "source": [
    "## Lorenz equations\n",
    "One of the most celebrated sets of differential equations in physics is the [Lorenz equations](https://en.wikipedia.org/wiki/Lorenz_system):\n",
    "$$ \\frac{dx}{dt} = \\sigma(y-x) $$ $$\\frac{dy}{dt} = rx -y -xz$$ $$\\frac{dz}{dt} = xy - bz$$ where $\\sigma$, $r$ and $b$ are constants. (The names of these constants may seem arbirtrary and odd but are always used in these equations -- _for historical reasons_).\n",
    "\n",
    "Use the range from $t = 0$ to $t = 50 $ with the intial condition $(x,y,z) = (1,1,1)$, and solve with parameters $\\sigma=10.0$, $r=28$ and $b=8/3$."
   ]
  },
  {
   "cell_type": "markdown",
   "metadata": {},
   "source": [
    "Use the scipy solver `integrate.solve_ivp`."
   ]
  },
  {
   "cell_type": "code",
   "execution_count": 1,
   "metadata": {},
   "outputs": [
    {
     "name": "stdout",
     "output_type": "stream",
     "text": [
      "Populating the interactive namespace from numpy and matplotlib\n"
     ]
    }
   ],
   "source": [
    "%pylab ipympl\n",
    "from scipy import integrate"
   ]
  },
  {
   "cell_type": "code",
   "execution_count": 3,
   "metadata": {},
   "outputs": [],
   "source": [
    "def lorenz_rhs_ode(t,yy,params):\n",
    "    '''\n",
    "    Righ-hand-side (RHS) of Lorenz equations for scipy.integrate.solve_ivp\n",
    "    \n",
    "    Parameters:\n",
    "    -----------\n",
    "    t : float\n",
    "      time \n",
    "    params : tuple, floats\n",
    "      (s,r,b) sigma, r, b parameters\n",
    "    yy : array, float\n",
    "      position vector, three components\n",
    "\n",
    "    Return: \n",
    "    -------\n",
    "    rhs : list, floats \n",
    "      RHS new position vector\n",
    "    '''\n",
    "\n",
    "    s,r,b = params\n",
    "    x,y,z = yy\n",
    "    rhs = array([ s*(y-x), r*x -y -x*z, x*y - b*z])\n",
    "    return rhs"
   ]
  },
  {
   "cell_type": "code",
   "execution_count": 16,
   "metadata": {},
   "outputs": [],
   "source": [
    "# set the parameters for this solution\n",
    "s = 7.0; r = 32; b = 9./3\n",
    "params = (s,r,b)\n",
    "tmin,tmax = (0,25)\n",
    "\n",
    "nmax = 2000\n",
    "t_eval = linspace(tmin,tmax,nmax)\n",
    "fun = lambda t,y : lorenz_rhs_ode(t,y,params)\n",
    "a0  = array([1.,1.,1.])\n",
    "a0  = array([1.,1.000001,1.])\n",
    "sol    = integrate.solve_ivp(fun,[tmin,tmax],a0, t_eval = t_eval,rtol=1.e-6 )"
   ]
  },
  {
   "cell_type": "markdown",
   "metadata": {},
   "source": [
    "#### Time evolution of the components"
   ]
  },
  {
   "cell_type": "code",
   "execution_count": 15,
   "metadata": {},
   "outputs": [
    {
     "data": {
      "application/vnd.jupyter.widget-view+json": {
       "model_id": "f3bc624891b444f09ab3ec6cddfe46e1",
       "version_major": 2,
       "version_minor": 0
      },
      "text/plain": [
       "Canvas(toolbar=Toolbar(toolitems=[('Home', 'Reset original view', 'home', 'home'), ('Back', 'Back to previous …"
      ]
     },
     "metadata": {},
     "output_type": "display_data"
    },
    {
     "data": {
      "text/plain": [
       "<matplotlib.legend.Legend at 0x7fb4ad472550>"
      ]
     },
     "execution_count": 15,
     "metadata": {},
     "output_type": "execute_result"
    }
   ],
   "source": [
    "close(1);figure(1)\n",
    "plot(sol.t,sol.y[0],label='x')\n",
    "plot(sol.t,sol.y[1],label='y')\n",
    "plot(sol.t,sol.y[2],label='z')\n",
    "xlabel('time'); ylabel(\"value\")\n",
    "legend()"
   ]
  },
  {
   "cell_type": "code",
   "execution_count": 17,
   "metadata": {},
   "outputs": [
    {
     "data": {
      "application/vnd.jupyter.widget-view+json": {
       "model_id": "ae9b0fb91e2f4d0a9d71bb58608afa08",
       "version_major": 2,
       "version_minor": 0
      },
      "text/plain": [
       "Canvas(toolbar=Toolbar(toolitems=[('Home', 'Reset original view', 'home', 'home'), ('Back', 'Back to previous …"
      ]
     },
     "metadata": {},
     "output_type": "display_data"
    },
    {
     "data": {
      "text/plain": [
       "<matplotlib.legend.Legend at 0x7fb4ad40cb00>"
      ]
     },
     "execution_count": 17,
     "metadata": {},
     "output_type": "execute_result"
    }
   ],
   "source": [
    "close(11);figure(11)\n",
    "plot(sol.t,sol.y[0],label='x')\n",
    "plot(sol.t,sol.y[1],label='y')\n",
    "plot(sol.t,sol.y[2],label='z')\n",
    "xlabel('time'); ylabel(\"value\")\n",
    "legend()"
   ]
  },
  {
   "cell_type": "markdown",
   "metadata": {},
   "source": [
    "#### Plot of x vs y component"
   ]
  },
  {
   "cell_type": "code",
   "execution_count": 10,
   "metadata": {},
   "outputs": [],
   "source": [
    "cm = plt.cm.get_cmap('coolwarm')\n",
    "n = linspace(1,nmax+1,nmax)\n",
    "color = cm(n/nmax)[::-1]"
   ]
  },
  {
   "cell_type": "code",
   "execution_count": 11,
   "metadata": {},
   "outputs": [
    {
     "data": {
      "application/vnd.jupyter.widget-view+json": {
       "model_id": "daf739b26333445e8f90231b5243ba6a",
       "version_major": 2,
       "version_minor": 0
      },
      "text/plain": [
       "Canvas(toolbar=Toolbar(toolitems=[('Home', 'Reset original view', 'home', 'home'), ('Back', 'Back to previous …"
      ]
     },
     "metadata": {},
     "output_type": "display_data"
    },
    {
     "data": {
      "text/plain": [
       "Text(0, 0.5, 'y')"
      ]
     },
     "execution_count": 11,
     "metadata": {},
     "output_type": "execute_result"
    }
   ],
   "source": [
    "close(2);figure(2)\n",
    "for i in range(nmax-2):\n",
    "    plot(sol.y[0][i:i+2],sol.y[1][i:i+2],'-',c=color[i],lw=0.75)\n",
    "plot(sol.y[0][-2],sol.y[1][-2],'o',c=color[-2])\n",
    "xlabel('x'); ylabel(\"y\")"
   ]
  },
  {
   "cell_type": "code",
   "execution_count": 18,
   "metadata": {},
   "outputs": [
    {
     "data": {
      "application/vnd.jupyter.widget-view+json": {
       "model_id": "83365ff1b6db4f4c8f859aac5289a7de",
       "version_major": 2,
       "version_minor": 0
      },
      "text/plain": [
       "Canvas(toolbar=Toolbar(toolitems=[('Home', 'Reset original view', 'home', 'home'), ('Back', 'Back to previous …"
      ]
     },
     "metadata": {},
     "output_type": "display_data"
    },
    {
     "data": {
      "text/plain": [
       "Text(0, 0.5, 'y')"
      ]
     },
     "execution_count": 18,
     "metadata": {},
     "output_type": "execute_result"
    }
   ],
   "source": [
    "close(12);figure(12)\n",
    "for i in range(nmax-2):\n",
    "    plot(sol.y[0][i:i+2],sol.y[1][i:i+2],'-',c=color[i],lw=0.75)\n",
    "plot(sol.y[0][-2],sol.y[1][-2],'o',c=color[-2])\n",
    "xlabel('x'); ylabel(\"y\")"
   ]
  },
  {
   "cell_type": "code",
   "execution_count": 12,
   "metadata": {},
   "outputs": [
    {
     "data": {
      "application/vnd.jupyter.widget-view+json": {
       "model_id": "1ce7f775cdb949c1a65ae296b0fe6ee2",
       "version_major": 2,
       "version_minor": 0
      },
      "text/plain": [
       "Canvas(toolbar=Toolbar(toolitems=[('Home', 'Reset original view', 'home', 'home'), ('Back', 'Back to previous …"
      ]
     },
     "metadata": {},
     "output_type": "display_data"
    },
    {
     "data": {
      "text/plain": [
       "Text(0, 0.5, 'z')"
      ]
     },
     "execution_count": 12,
     "metadata": {},
     "output_type": "execute_result"
    }
   ],
   "source": [
    "close(3);figure(3)\n",
    "for i in range(nmax-2):\n",
    "    plot(sol.y[0][i:i+2],sol.y[2][i:i+2],'-',c=color[i],lw=0.75)\n",
    "plot(sol.y[0][-2],sol.y[2][-2],'o',c=color[-2])\n",
    "xlabel('x'); ylabel(\"z\")"
   ]
  },
  {
   "cell_type": "code",
   "execution_count": 19,
   "metadata": {},
   "outputs": [
    {
     "data": {
      "application/vnd.jupyter.widget-view+json": {
       "model_id": "3cf959f209aa4d63b75a582350513242",
       "version_major": 2,
       "version_minor": 0
      },
      "text/plain": [
       "Canvas(toolbar=Toolbar(toolitems=[('Home', 'Reset original view', 'home', 'home'), ('Back', 'Back to previous …"
      ]
     },
     "metadata": {},
     "output_type": "display_data"
    },
    {
     "data": {
      "text/plain": [
       "Text(0, 0.5, 'z')"
      ]
     },
     "execution_count": 19,
     "metadata": {},
     "output_type": "execute_result"
    }
   ],
   "source": [
    "close(13);figure(13)\n",
    "for i in range(nmax-2):\n",
    "    plot(sol.y[0][i:i+2],sol.y[2][i:i+2],'-',c=color[i],lw=0.75)\n",
    "plot(sol.y[0][-2],sol.y[2][-2],'o',c=color[-2])\n",
    "xlabel('x'); ylabel(\"z\")"
   ]
  },
  {
   "cell_type": "markdown",
   "metadata": {},
   "source": [
    "#### Last but not least, let's do a 3D plot of the 3D trajectory."
   ]
  },
  {
   "cell_type": "code",
   "execution_count": 13,
   "metadata": {},
   "outputs": [],
   "source": [
    "import matplotlib.pyplot as plt\n",
    "from scipy.integrate import odeint\n",
    "from mpl_toolkits.mplot3d import Axes3D"
   ]
  },
  {
   "cell_type": "code",
   "execution_count": 14,
   "metadata": {},
   "outputs": [
    {
     "data": {
      "application/vnd.jupyter.widget-view+json": {
       "model_id": "5a1e7369f73b457e8e101b73475e157f",
       "version_major": 2,
       "version_minor": 0
      },
      "text/plain": [
       "Canvas(toolbar=Toolbar(toolitems=[('Home', 'Reset original view', 'home', 'home'), ('Back', 'Back to previous …"
      ]
     },
     "metadata": {},
     "output_type": "display_data"
    }
   ],
   "source": [
    "ifig=4;close(ifig);fig = plt.figure(ifig)\n",
    "ax = fig.gca(projection='3d',azim=-30, elev=45)\n",
    "for i in range(nmax-2):\n",
    "    ax.plot(sol.y[0][i:i+2],sol.y[1][i:i+2],sol.y[2][i:i+2],'-',c=color[i],lw=0.75)\n",
    "ax.plot(sol.y[0][-2:-1],sol.y[1][-2:-1],sol.y[2][-2:-1],'o',c=color[-2])\n",
    "ax.set_xlabel('X')\n",
    "ax.set_ylabel('Y')\n",
    "ax.set_zlabel('Z')\n",
    "show()"
   ]
  },
  {
   "cell_type": "code",
   "execution_count": 20,
   "metadata": {},
   "outputs": [
    {
     "data": {
      "application/vnd.jupyter.widget-view+json": {
       "model_id": "4bfb697d505c42158871a5dc807e2a37",
       "version_major": 2,
       "version_minor": 0
      },
      "text/plain": [
       "Canvas(toolbar=Toolbar(toolitems=[('Home', 'Reset original view', 'home', 'home'), ('Back', 'Back to previous …"
      ]
     },
     "metadata": {},
     "output_type": "display_data"
    }
   ],
   "source": [
    "ifig=14;close(ifig);fig = plt.figure(ifig)\n",
    "ax = fig.gca(projection='3d',azim=-30, elev=45)\n",
    "for i in range(nmax-2):\n",
    "    ax.plot(sol.y[0][i:i+2],sol.y[1][i:i+2],sol.y[2][i:i+2],'-',c=color[i],lw=0.75)\n",
    "ax.plot(sol.y[0][-2:-1],sol.y[1][-2:-1],sol.y[2][-2:-1],'o',c=color[-2])\n",
    "ax.set_xlabel('X')\n",
    "ax.set_ylabel('Y')\n",
    "ax.set_zlabel('Z')\n",
    "show()"
   ]
  },
  {
   "cell_type": "markdown",
   "metadata": {},
   "source": [
    "## Recaman sequence\n",
    "\n",
    "* $a_n = a_{n-1} -n$ if $a_n>0$ and not $\\in[a_0, a_1, \\dots a_{n-1}]$\n",
    "* $a_n = a_{n-1} +n$ else\n",
    "* $a_0 = 0$\n",
    "\n",
    "\n",
    "\n",
    "### Further exploration:\n",
    "1. An unsolved question is if all positive integer numbers are part of the sequence. What will be the computational limit be on exploring this question? How can we overcome it? The challenge here will be to store the larges number of integers possible that are part of the sequence already. Just storing all of them in big 64bit integer arrays will get you very far. But imagine you could design a hierarchical number storage structure in which you would store the number of groups of numbers that have been seen? I think one could get pretty far. \n",
    "2. In Lab 10.2 Activity 2 you are asked to make a static visualisation plot like the one shown in class. But would it not be nice to have an animation like we did for the oscillating sin curves, where we would see in a movie how the line is evolving, following the path? It may also be nice to have the number ray not evolve on a horizontal direction but on a 45 degree slope. We would all love to see such a movie, and if there are enthusiasts who create such movie we would look at that next Monday together.\n",
    "\n"
   ]
  },
  {
   "cell_type": "code",
   "execution_count": null,
   "metadata": {},
   "outputs": [],
   "source": []
  }
 ],
 "metadata": {
  "kernelspec": {
   "display_name": "Python 3",
   "language": "python",
   "name": "python3"
  },
  "language_info": {
   "codemirror_mode": {
    "name": "ipython",
    "version": 3
   },
   "file_extension": ".py",
   "mimetype": "text/x-python",
   "name": "python",
   "nbconvert_exporter": "python",
   "pygments_lexer": "ipython3",
   "version": "3.6.10"
  }
 },
 "nbformat": 4,
 "nbformat_minor": 4
}
