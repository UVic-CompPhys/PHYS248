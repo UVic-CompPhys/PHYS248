{
 "cells": [
  {
   "cell_type": "markdown",
   "metadata": {},
   "source": [
    "# 3.2 Linux/Unix Operating System, GNU, editors, git \n",
    "\n",
    "**Before we start:**\n",
    "* Point out update to table of commonly used format specifications at the end of Python notebook 1.1\n",
    " \n",
    "In this notebook we switch between Bash and Python3 kernerl. Check on the top right next to the circle. We start with Bash. \n",
    "\n",
    "## Review\n",
    "\n",
    "### Terminal FAQs\n",
    "* How do commands entered on the terminal work: options and arguments.\n",
    "* Where am I in the file structure? What is the [hierachical tree structure](https://docstore.mik.ua/orelly/unix/upt/ch01_19.htm)? \n",
    "* What is the difference between and absolute and a relative path name? And what does that imply for the `cp` command? \n",
    "* What does the `cat` command do? Is there a `mouse` or a `dog` command? \n",
    "* I really did not get this example \n",
    "```bash\n",
    " ls -laRt / > dirs.txt\n",
    " zip dirs.zip dirs.txt\n",
    "``` \n",
    "Can you unpack that for me?\n",
    "* Can you demonstrate what the difference between these command line editors is? Which one should I choose? And do I really need to use one? Can't I just use the built-in JupyterLab editor?\n",
    "\n",
    "### Git FAQs\n",
    "* What is a repository anyways?\n",
    "* What is the difference between a snapshot, a version and a commit?\n",
    "* I have created a new file in a repository directory. I want to add it to the repository and connect it to GitLab? What should I do?\n",
    "* I have modified a file. I forgot if it is already under version control. How can I find that out?\n",
    "* OK, turns out the file is tracked. How do I make add this modification to the GitLab repository?\n",
    "* Can you remind me of the basic workflow of git?\n",
    "* You said you updated the _course repo_ on GitLab and that we should _pull_ it. What does that mean and what should I actually do? "
   ]
  },
  {
   "cell_type": "markdown",
   "metadata": {},
   "source": [
    "## Git - part II\n",
    "\n",
    "### Additional useful commands\n",
    "command | what it does\n",
    "--------|--------------\n",
    "`git log --all --oneline --decorate --graph` | shows a formatted log of past commits\n",
    "`git branch`  | create a new branch\n",
    "`git checkout branchname` | switch to branch, or restore current branch to last commit\n",
    "`git clean` | removes all untracked files\n",
    "\n",
    "* Demonstrate how to use `git checkout` to retrieve a deleted or changed tracked file from last commit\n",
    "* `git clean` can be dangerous; use with options `-i` (interactive), `-n` (dry run), `-d` (directory) and `-f` (force). \n",
    "\n",
    "#### Branching & merging\n",
    "\n",
    "A key feature of any DVC system is to support development work on a development branch while the master branch stays intact with the latest working version. This is a very useful advanced feature that many people use all the time.  \n",
    "\n",
    "```shell\n",
    "git branch dev_abc\n",
    "git checkout dev_abc\n",
    "```\n",
    "\n",
    "Any changes you now make to the repository are commited to that branch. When you try to push the commit to the remote you will be asked to create the remote branch, and what command to use for that. \n",
    "\n",
    "You can look at the changes introduced in the `dev_abc` branch online on GitLab page. \n",
    "\n",
    "If you switch the `HEAD` back to `master` (`git checkout master`) you may use `git merge` to merge the `dev_abc` branch with your main branch:\n",
    "```shell\n",
    "git merge dev_abc\n",
    "```\n",
    "\n",
    "\n",
    "### How to get and stay out of trouble\n",
    "The most common way to get confused with your git repo is when you say `git pull` and you get a message like this:\n",
    "```\n",
    "error: Your local changes to the following files would be overwritten by merge:\n",
    "        README.md\n",
    "Please commit your changes or stash them before you merge.\n",
    "Aborting\n",
    "```\n",
    "What has happened? Well, for a start - read the error message. Git is very good at providing useful messages. This situation happens when you have made changes to a tracked file that are not committed. Then git does not know how to merge them, but it also will not overwrite your changes. \n",
    "\n",
    "What can you do? Decide if you want to keep the changes, then add/commit. Or if you want to discard, then checkout the file, i.e. recreate it from the last commit with `git checkout filename`.\n",
    "\n",
    "Then repeat the `git pull` command. \n",
    "\n",
    "You can avoid the problem by being deliberate in what you do in your repo and generally keep it clean. Make changes to a notebook and commit. Remove files that you do not want to track. \n",
    "\n",
    "There are _best practice_ solutions to all possible problems in git, such as undoing a commit, etc. For a beginner an easier, even if a bit more radical method to extract yourself is to copy untracked and/or uncommited files out of the repo, remove the repo, clone it again and copy the files in question back into the repo. "
   ]
  },
  {
   "cell_type": "markdown",
   "metadata": {},
   "source": [
    "## Advanced terminal and shell commands\n",
    "In this section we will cover additional commands to be used in the terminal."
   ]
  },
  {
   "cell_type": "markdown",
   "metadata": {},
   "source": [
    "### System operations via Python\n",
    "There are Python modules that allow you to do operating system or terminal commands via Python. This allows you to do things inside Python that you would otherwise do with the shell. \n",
    "\n",
    "**Temporarily switch kernel to Python 3.**"
   ]
  },
  {
   "cell_type": "code",
   "execution_count": null,
   "metadata": {},
   "outputs": [],
   "source": [
    "import sys"
   ]
  },
  {
   "cell_type": "markdown",
   "metadata": {},
   "source": [
    "Which version of Python"
   ]
  },
  {
   "cell_type": "code",
   "execution_count": null,
   "metadata": {},
   "outputs": [],
   "source": [
    "print(sys.version) "
   ]
  },
  {
   "cell_type": "markdown",
   "metadata": {},
   "source": [
    "Create 5 files with names `samples_nn.dat` where `nn` takes numbers from 8 to 12. Each file contains the number `nn`. Then create a directory called `samples` and move the files into the directory."
   ]
  },
  {
   "cell_type": "code",
   "execution_count": null,
   "metadata": {},
   "outputs": [],
   "source": [
    "import subprocess"
   ]
  },
  {
   "cell_type": "code",
   "execution_count": null,
   "metadata": {},
   "outputs": [],
   "source": [
    "for i in range(7,12):\n",
    "    f = open(\"samples_\"+str(i)+\".dat\",'w')\n",
    "    f.write(str(i))\n",
    "    f.close()"
   ]
  },
  {
   "cell_type": "code",
   "execution_count": null,
   "metadata": {},
   "outputs": [],
   "source": [
    "!ls sam*dat"
   ]
  },
  {
   "cell_type": "markdown",
   "metadata": {},
   "source": [
    "Change the program so that the file names have always the same number of characters by padding single-digit numbers with zeros. This can be done with the string method `zfill`."
   ]
  },
  {
   "cell_type": "code",
   "execution_count": null,
   "metadata": {},
   "outputs": [],
   "source": [
    "for i in range(7,12):\n",
    "    fname = \"samples_\"+str(i).zfill(2)+\".dat\"\n",
    "    f = open(fname,'w')\n",
    "    f.write(str(i))\n",
    "    f.close()"
   ]
  },
  {
   "cell_type": "code",
   "execution_count": null,
   "metadata": {},
   "outputs": [],
   "source": [
    "subprocess.call(['mkdir','samples'])\n",
    "for i in range(7,12):\n",
    "    fname = \"samples_\"+str(i).zfill(2)+\".dat\"\n",
    "    f = open(fname,'w')\n",
    "    f.write(str(i))\n",
    "    f.close()\n",
    "    subprocess.call(['mv',fname,'samples'])"
   ]
  },
  {
   "cell_type": "code",
   "execution_count": null,
   "metadata": {},
   "outputs": [],
   "source": [
    "cat samples/samples_07.dat"
   ]
  },
  {
   "cell_type": "markdown",
   "metadata": {},
   "source": [
    "There are other libraries that do similar things, such as `os` and `shutil`.\n",
    "\n",
    "**Switch kernel back to Bash.**"
   ]
  },
  {
   "cell_type": "markdown",
   "metadata": {},
   "source": [
    "### More file system commands\n",
    "command | what it does\n",
    "--------|--------------\n",
    "  `df` | report file system disk space usage  \n",
    "  `more/less/tail/head` | pager commands that show all or part of a text or data file\n",
    "  `touch` | change file timestamps \n",
    "  `grep`  | print lines matching a pattern\n",
    "  `wc` | print newline, word, and byte counts for each file\n",
    "  `sed` | stream editor for filtering and transforming text\n",
    "  `rmdir` | remove empty directory\n",
    "  `history` | show command history"
   ]
  },
  {
   "cell_type": "markdown",
   "metadata": {},
   "source": [
    "#### Examples:\n",
    "* List directory content"
   ]
  },
  {
   "cell_type": "code",
   "execution_count": null,
   "metadata": {},
   "outputs": [],
   "source": [
    "ls "
   ]
  },
  {
   "cell_type": "markdown",
   "metadata": {},
   "source": [
    "* Show the top 10 lines of the file `Index.md`:"
   ]
  },
  {
   "cell_type": "code",
   "execution_count": null,
   "metadata": {},
   "outputs": [],
   "source": [
    "head Index.md"
   ]
  },
  {
   "cell_type": "markdown",
   "metadata": {},
   "source": [
    "* How many lines does the entire file have?"
   ]
  },
  {
   "cell_type": "code",
   "execution_count": null,
   "metadata": {},
   "outputs": [],
   "source": [
    "wc Index.md"
   ]
  },
  {
   "cell_type": "markdown",
   "metadata": {},
   "source": [
    "* Check the `man` page to see what the other output is.\n",
    "* Check the `man` page to find out how to show the first 15 lines. Then, pipe the output of that command into the `wc` command. What should be the result?\n",
    "* Use a combination of the `head` and `tail` command to show just line number 15.\n",
    "* Scroll through the entire `Index.md` file using the `less` command. Try the `/` command for searching and `g` and `G` for going to the top and bottom."
   ]
  },
  {
   "cell_type": "markdown",
   "metadata": {},
   "source": [
    "#### More examples:\n",
    "* Again, at the terminal use a pager command to look how a notebook file actually looks like.\n",
    "* The following command looks for all lines that contain the words _superduper_ in the file name `3.2_Linux_terminal_git.ipynb` - i.e. this notebook file:"
   ]
  },
  {
   "cell_type": "code",
   "execution_count": null,
   "metadata": {},
   "outputs": [],
   "source": [
    "# for next cell make sure you are in the course repository directory\n",
    "!pwd"
   ]
  },
  {
   "cell_type": "markdown",
   "metadata": {},
   "source": [
    "* Show the lines that contain the word \"superduper\" "
   ]
  },
  {
   "cell_type": "code",
   "execution_count": null,
   "metadata": {},
   "outputs": [],
   "source": [
    "grep \"superduper\" \"3.2_Linux_terminal_git.ipynb\" "
   ]
  },
  {
   "cell_type": "markdown",
   "metadata": {},
   "source": [
    "* Demonstrate `history` "
   ]
  },
  {
   "cell_type": "markdown",
   "metadata": {},
   "source": [
    "### More about the shell\n",
    "The most common shell to use these days is called the [Bash](https://en.wikipedia.org/wiki/Bash_(Unix_shell)) shell. It is the interactive program responsible for many things you do at the command line. It is also a scriptable program language, which means you can write Bash programs (also called scripts). We will not use this much in this class, but it is very useful to know if its existence and to be aware of the basic concepts explained below."
   ]
  },
  {
   "cell_type": "markdown",
   "metadata": {},
   "source": [
    "#### Processes\n",
    "command | what it does\n",
    "--------|--------------\n",
    "  `\\|`  | a shell feature called a _pipe_ which allows you to pipe the output of one command as input into another command\n",
    "  `>` | redirect the output of a command into a file\n",
    "  `top` | show all processes\n",
    "  `ps` | report a snapshot of the current processes\n",
    "  `jobs` | show currently running jobs or programs\n",
    "  `kill` | send a signal to a process\n",
    "  `nohub` and `&` and `nice` | send job to background\n",
    "  Crl-C | press Ctrl (control) and C at the same time - this kills an interactive process\n",
    "  Crl-Z | press Ctrl (control) and Z at the same time - this stops an interactive process\n"
   ]
  },
  {
   "cell_type": "markdown",
   "metadata": {},
   "source": [
    "* How many lines are there in the file `3.2_Linux_terminal_git.ipynb` that contain the word `superduper`?"
   ]
  },
  {
   "cell_type": "code",
   "execution_count": null,
   "metadata": {},
   "outputs": [],
   "source": [
    "grep \"superduper\" \"3.2_Linux_terminal_git.ipynb\" | wc -l"
   ]
  },
  {
   "cell_type": "markdown",
   "metadata": {},
   "source": [
    "Modify file content with stream-line editor `sed`. The following replaces the word _superduper_ with the word _mountain goat_ in this file and write the result to standard output, which is the redirected to the file `tt.ipynb`. Have a look at that notebook."
   ]
  },
  {
   "cell_type": "code",
   "execution_count": null,
   "metadata": {},
   "outputs": [],
   "source": [
    "sed s/\"superduper\"/\"mountain goat\"/g 3.2_Linux_terminal_git.ipynb > tt.ipynb"
   ]
  },
  {
   "cell_type": "markdown",
   "metadata": {},
   "source": [
    "Want to learn more about stream-line-editing? Check the `sed` man page."
   ]
  },
  {
   "cell_type": "markdown",
   "metadata": {},
   "source": [
    "* Another example for output redirection"
   ]
  },
  {
   "cell_type": "code",
   "execution_count": null,
   "metadata": {},
   "outputs": [],
   "source": [
    "ls | grep READ > out.txt\n",
    "cat out.txt"
   ]
  },
  {
   "cell_type": "markdown",
   "metadata": {},
   "source": [
    "#### Variables \n",
    "Like any programming language Bash allows to define and work with variables, and show the content with the `echo` command:"
   ]
  },
  {
   "cell_type": "code",
   "execution_count": null,
   "metadata": {},
   "outputs": [],
   "source": [
    "name=\"Edward\"\n",
    "names=\"Alfred Paul Ellis Roxie Sam\"\n",
    "\n",
    "echo The name is $name\n",
    "echo The other names are $names"
   ]
  },
  {
   "cell_type": "markdown",
   "metadata": {},
   "source": [
    "A special class of variables are those that have special meaning to the environment, and will be recognized by the shell. They can be set in the `.bashrc` file, see below. Examples for environment variables are: \n",
    "\n",
    "Variable | Comment\n",
    "--|--\n",
    "`EDITOR` | The command line editor to be used when needed, e.g. when the `git commit` command is used without the `-m` option (see [Git notebook](2._Intro_Git.ipynb)\n",
    " `PATH` | A list of absolute directory file path addresses where the shell will look for executables.\n",
    " \n",
    "##### Assigning output of command to variable\n",
    "A command like `ls` will print the output to the terminal. If you would like to do an operation on each file in a directory, for example, it is useful to be able to interpret the output of a command as a string. The _back quotes_ (left, top on your keyboard below the `Esc` key) will accomplish that. Consider the following example:"
   ]
  },
  {
   "cell_type": "code",
   "execution_count": null,
   "metadata": {},
   "outputs": [],
   "source": [
    "files=`ls`\n",
    "echo $files"
   ]
  },
  {
   "cell_type": "markdown",
   "metadata": {},
   "source": [
    "##### Access substring\n",
    "Often is is required to do something with just a part of a string. A substring can be accessed in the following way (experiment with the two number arguments to figure out what they mean):"
   ]
  },
  {
   "cell_type": "code",
   "execution_count": null,
   "metadata": {},
   "outputs": [],
   "source": [
    "echo ${files:3:12}"
   ]
  },
  {
   "cell_type": "markdown",
   "metadata": {},
   "source": [
    "#### Regular expressions\n",
    "* `*` stands for _any sequence of characters\n",
    "* `?` stands for exactly any one character\n",
    "* `[1-5]` or `[1,4,d]` stands for range or list of characters\n",
    "\n",
    "These can be used, for example in the `ls` or `mv` or `cp` commands."
   ]
  },
  {
   "cell_type": "markdown",
   "metadata": {},
   "source": [
    "#### Escaping special characters\n",
    "Study the following examples that demonstrate working with variables and shows how the special meaning of the `$` character can be escaped."
   ]
  },
  {
   "cell_type": "code",
   "execution_count": null,
   "metadata": {},
   "outputs": [],
   "source": [
    "ABC=Orwell.1984\n",
    "echo The variable is shown with the command \n",
    "echo \"echo \\$ABC\""
   ]
  },
  {
   "cell_type": "code",
   "execution_count": null,
   "metadata": {},
   "outputs": [],
   "source": [
    "echo The value of the variable ABC is $ABC"
   ]
  },
  {
   "cell_type": "markdown",
   "metadata": {},
   "source": [
    "##### String manipulation\n",
    "```\n",
    "set \n",
    "basename\n",
    "dirname\n",
    "```"
   ]
  },
  {
   "cell_type": "code",
   "execution_count": null,
   "metadata": {},
   "outputs": [],
   "source": [
    "set -- abc def 123 fg10\n",
    "echo $1"
   ]
  },
  {
   "cell_type": "code",
   "execution_count": null,
   "metadata": {},
   "outputs": [],
   "source": [
    "astr=\"abc def 123 fg10\"\n",
    "set -- $astr\n",
    "echo $2"
   ]
  },
  {
   "cell_type": "markdown",
   "metadata": {},
   "source": [
    "Note that in the above example `1`, `2`, `3` etc are _set_ to be variables that contain the words provided in sequence. The list starts with `1` (and not with `0` as it would in Python)."
   ]
  },
  {
   "cell_type": "code",
   "execution_count": null,
   "metadata": {},
   "outputs": [],
   "source": [
    "basename /usr/local/share/doc/foo/foo.txt"
   ]
  },
  {
   "cell_type": "code",
   "execution_count": null,
   "metadata": {},
   "outputs": [],
   "source": [
    "dirname /usr/local/share/doc/foo/foo.txt"
   ]
  },
  {
   "cell_type": "markdown",
   "metadata": {},
   "source": [
    "### Networking\n",
    "This is a list of common networking commands. We will not need these (much) in this course, but it is useful for you to know they exist.\n",
    "\n",
    "command | what it does\n",
    "--------|--------------\n",
    "  `ssh` | login to a remote computer\n",
    "  `scp` | cp a file from/to a remote computer\n",
    "  `whoami` | who am i\n",
    "  `rsync`  | incrementally synchronize files and directory accross the network\n",
    "  `ftp`  | file-transfer protocal, transfer files from remote locations using the ftp protocol\n",
    "  `wget` | transfer files from remote locations using the http protocol\n",
    "```\n",
    "\n",
    "* `wget` example: download file `example.sh` file from the internet:\n"
   ]
  },
  {
   "cell_type": "code",
   "execution_count": null,
   "metadata": {},
   "outputs": [],
   "source": [
    "wget https://raw.githubusercontent.com/UVic-CompPhys/physmath248-2018/master/examples/example.sh"
   ]
  },
  {
   "cell_type": "markdown",
   "metadata": {},
   "source": [
    "### Shell scripts\n",
    "\n",
    "Combine a sequence of shell commands into a file and use as a program called in this case a _shell script_. You have to make the file with the script executable (`chmod u+x file_name.sh`). See file [`example.sh`](./examples/example.sh). The `#` character signals a comment line. You can execute a shell script by just typing the name of the shell script file and hit Return:\n",
    "```\n",
    "./example.sh\n",
    "```\n",
    "\n",
    "\n",
    "The `./` at the beginning ensures that I am getting the command `example.sh` from the file in this current directory, and not in some other directory in the `PATH` environment variable. The `PATH` environment variable is a list of directories in which the shell will look for executable files. One common use case is that people create a `bin` directory (bin for binary which usually implies executable, but shell scripts are `ASCII` files and can also be executed). They place all personal programs and shell scripts in that `bin` dir. Then add the `$HOME/bin` dir to the `PATH` variable. Now, those programs will be available from anywhere in your directory tree. The `HOME` environemnt variable contains the path name of your home directory. Try `echo $HOME` on the command line.\n",
    "\n",
    "#### Customize your shell/CLI\n",
    "You can define variables and aliases in the .bashrc file. The details on how this is set up depends on the particular Linux/Unix/Mac flavour.\n",
    "\n",
    "```\n",
    "   alias\n",
    "   environment variables\n",
    "```\n",
    "\n",
    "At startup the shell will execute the shell commands in `.bashrc`.\n",
    "There may already be a `.bashrc` in your home directory, have a look in there, it may suggest that you add your own aliases to a `.bashrc` file. Else add aliases and environment variables directly to the `.bashrc` file. Add:\n",
    "* an environment variable of your workspace, e.g. `export PATH=$PATH:$HOME/bin`\n",
    "* an alias to redefine the `rm` command to always ask if a file should really be removed\n",
    "* an alias for your editor   "
   ]
  },
  {
   "cell_type": "markdown",
   "metadata": {},
   "source": [
    "#### Flow control in bash\n",
    "\n",
    "Bash provides elaborate flow control that allows you to create powerful tools to maninupate files in a file system."
   ]
  },
  {
   "cell_type": "code",
   "execution_count": null,
   "metadata": {},
   "outputs": [],
   "source": [
    "names=\"Alfred Paul Ellis Roxie Sam\"\n",
    "for name in $names\n",
    "do\n",
    "echo Hello $name! How are you doing? > $name.txt\n",
    "done\n",
    "\n",
    "# and check output:\n",
    "ls *txt\n",
    "cat $name.txt"
   ]
  },
  {
   "cell_type": "code",
   "execution_count": null,
   "metadata": {},
   "outputs": [],
   "source": [
    "if [ -f Sam.txt ] \n",
    "then\n",
    "echo Sam.txt does already exist.\n",
    "fi"
   ]
  },
  {
   "cell_type": "code",
   "execution_count": null,
   "metadata": {},
   "outputs": [],
   "source": [
    "# Another way to do this is the logical \"and\" operator \"&&\"\n",
    "# think about it ....\n",
    "[ -f Sam.txt ] && echo Sam.txt does already exist."
   ]
  },
  {
   "cell_type": "markdown",
   "metadata": {},
   "source": [
    "`&&` is the _and_ operator, and `||` is the _or_ operator. Try an example with the '||' operator."
   ]
  },
  {
   "cell_type": "markdown",
   "metadata": {},
   "source": [
    "#### Dot files (configuration files, hidden files)\n",
    "We have seen that `ls -a` shows us _all_ files, including the _hidden_ files. These are files that start with a `.` and are usually configuration files of programs and applications that one does not need to see most of the time. These so-called _dot_ files contain default settings and set environment variables. Environment variables are bash variables that have a special meaning. An example is the `EDITOR` variable that sets your default choice of command-line editor. E.g., if your choice of command-line editor is `nano` then you could set the `EDITOR` variable to that value:\n",
    "```\n",
    "export EDITOR=nano\n",
    "```\n",
    "Here `export` makes sure the variable is known in all child processes as well.\n",
    "\n",
    "#### Example\n",
    "The following cell writes a file on the command line using `cat`:"
   ]
  },
  {
   "cell_type": "code",
   "execution_count": null,
   "metadata": {},
   "outputs": [],
   "source": [
    "cat > ~/.bashrc << %% \n",
    "export EDITOR=\"nano\"\n",
    "export PATH=$PATH:$HOME/bin\n",
    "alias ed=\"emacs -nw\"\n",
    "alias git_log='git log --all --oneline --decorate --graph'\n",
    "alias rm=\"rm -i\"\n",
    "%%"
   ]
  },
  {
   "cell_type": "markdown",
   "metadata": {},
   "source": [
    "In order to make the changes to the your `.bashrc` file known to the shell you _source_ your `.bashrc` file:\n",
    "\n",
    "```\n",
    "source .bashrc\n",
    "```\n",
    "\n",
    "Now try `echo $EDITOR` to see if that environment variable has been set. \n",
    "Whenever a new terminal is started the `.bashrc` is automatically sourced."
   ]
  },
  {
   "cell_type": "markdown",
   "metadata": {},
   "source": [
    "#### Convert a notebook\n",
    "Individual notebooks can be converted to static formats using the terminal command `jupyter nbconvert --to html notebookname.ipynb` or via the _Download as_ option in the _File_ menu."
   ]
  },
  {
   "cell_type": "markdown",
   "metadata": {},
   "source": [
    "### Resources\n",
    "You can find numerous online tutorials and support resources on the internet, such as:\n",
    "* <http://linuxcommand.org/lc3_learning_the_shell.php>\n",
    "* <http://www.emacswiki.org/emacs/LearningEmacs>\n",
    "* [bash tutorial](http://www.funtoo.org/Bash_by_Example,_Part_1)\n",
    "* [youtube shell/terminal tutorial](https://www.youtube.com/watch?v=oxuRxtrO2Ag) covers some of what we did in class, and then some more\n"
   ]
  }
 ],
 "metadata": {
  "kernelspec": {
   "display_name": "Bash",
   "language": "bash",
   "name": "bash"
  },
  "language_info": {
   "codemirror_mode": "shell",
   "file_extension": ".sh",
   "mimetype": "text/x-sh",
   "name": "bash"
  }
 },
 "nbformat": 4,
 "nbformat_minor": 4
}
