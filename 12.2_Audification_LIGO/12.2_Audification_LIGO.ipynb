{
 "cells": [
  {
   "cell_type": "markdown",
   "metadata": {},
   "source": [
    "# 12.2 Audification, LIGO Gravitational Wave Signals\n",
    "\n",
    "#### Before we start\n",
    "* [CES](https://ces.uvic.ca/blue)\n",
    "\n",
    "#### This class:\n",
    "\n",
    "* Audification\n",
    "* The LIGO gravitational wave discovery in 2015"
   ]
  },
  {
   "cell_type": "markdown",
   "metadata": {},
   "source": [
    "## Audification\n",
    "\n",
    "A digital tone has a frequency and a sample rate. Frequency in Hz, e.g. tone _a_ is $f = 446.16\\mathrm{Hz}$. Sample rate has to be high enough to sample highest frequency in sequence."
   ]
  },
  {
   "cell_type": "code",
   "execution_count": 21,
   "metadata": {},
   "outputs": [
    {
     "name": "stdout",
     "output_type": "stream",
     "text": [
      "Populating the interactive namespace from numpy and matplotlib\n"
     ]
    }
   ],
   "source": [
    "%pylab ipympl"
   ]
  },
  {
   "cell_type": "code",
   "execution_count": 22,
   "metadata": {},
   "outputs": [],
   "source": [
    "from scipy.io import wavfile\n",
    "from IPython.display import Audio"
   ]
  },
  {
   "cell_type": "code",
   "execution_count": 3,
   "metadata": {},
   "outputs": [
    {
     "data": {
      "application/vnd.jupyter.widget-view+json": {
       "model_id": "",
       "version_major": 2,
       "version_minor": 0
      },
      "text/plain": [
       "Canvas(toolbar=Toolbar(toolitems=[('Home', 'Reset original view', 'home', 'home'), ('Back', 'Back to previous …"
      ]
     },
     "metadata": {},
     "output_type": "display_data"
    },
    {
     "data": {
      "text/plain": [
       "[<matplotlib.lines.Line2D at 0x7f179a3d80b8>]"
      ]
     },
     "execution_count": 3,
     "metadata": {},
     "output_type": "execute_result"
    }
   ],
   "source": [
    "sr = 1024\n",
    "x= linspace(0,2*pi,sr)\n",
    "close(33);figure(33)\n",
    "plot(x,sin(x))"
   ]
  },
  {
   "cell_type": "code",
   "execution_count": 4,
   "metadata": {},
   "outputs": [
    {
     "data": {
      "application/vnd.jupyter.widget-view+json": {
       "model_id": "",
       "version_major": 2,
       "version_minor": 0
      },
      "text/plain": [
       "Canvas(toolbar=Toolbar(toolitems=[('Home', 'Reset original view', 'home', 'home'), ('Back', 'Back to previous …"
      ]
     },
     "metadata": {},
     "output_type": "display_data"
    },
    {
     "data": {
      "text/plain": [
       "[<matplotlib.lines.Line2D at 0x7f179a34b780>]"
      ]
     },
     "execution_count": 4,
     "metadata": {},
     "output_type": "execute_result"
    }
   ],
   "source": [
    "fr = 446.16   # frequency in Hz = s**-1\n",
    "sr = 1024    # sample rate\n",
    "x= linspace(0,2*pi*fr,sr)\n",
    "close(33);figure(33)\n",
    "plot(x,sin(x))"
   ]
  },
  {
   "cell_type": "code",
   "execution_count": 5,
   "metadata": {},
   "outputs": [
    {
     "data": {
      "text/plain": [
       "\u001b[0;31mSignature:\u001b[0m \u001b[0mwavfile\u001b[0m\u001b[0;34m.\u001b[0m\u001b[0mwrite\u001b[0m\u001b[0;34m(\u001b[0m\u001b[0mfilename\u001b[0m\u001b[0;34m,\u001b[0m \u001b[0mrate\u001b[0m\u001b[0;34m,\u001b[0m \u001b[0mdata\u001b[0m\u001b[0;34m)\u001b[0m\u001b[0;34m\u001b[0m\u001b[0;34m\u001b[0m\u001b[0m\n",
       "\u001b[0;31mDocstring:\u001b[0m\n",
       "Write a numpy array as a WAV file.\n",
       "\n",
       "Parameters\n",
       "----------\n",
       "filename : string or open file handle\n",
       "    Output wav file.\n",
       "rate : int\n",
       "    The sample rate (in samples/sec).\n",
       "data : ndarray\n",
       "    A 1-D or 2-D numpy array of either integer or float data-type.\n",
       "\n",
       "Notes\n",
       "-----\n",
       "* Writes a simple uncompressed WAV file.\n",
       "* To write multiple-channels, use a 2-D array of shape\n",
       "  (Nsamples, Nchannels).\n",
       "* The bits-per-sample and PCM/float will be determined by the data-type.\n",
       "\n",
       "Common data types: [1]_\n",
       "\n",
       "=====================  ===========  ===========  =============\n",
       "     WAV format            Min          Max       NumPy dtype\n",
       "=====================  ===========  ===========  =============\n",
       "32-bit floating-point  -1.0         +1.0         float32\n",
       "32-bit PCM             -2147483648  +2147483647  int32\n",
       "16-bit PCM             -32768       +32767       int16\n",
       "8-bit PCM              0            255          uint8\n",
       "=====================  ===========  ===========  =============\n",
       "\n",
       "Note that 8-bit PCM is unsigned.\n",
       "\n",
       "References\n",
       "----------\n",
       ".. [1] IBM Corporation and Microsoft Corporation, \"Multimedia Programming\n",
       "   Interface and Data Specifications 1.0\", section \"Data Format of the\n",
       "   Samples\", August 1991\n",
       "   http://www.tactilemedia.com/info/MCI_Control_Info.html\n",
       "\u001b[0;31mFile:\u001b[0m      /usr/local/lib/python3.6/dist-packages/scipy/io/wavfile.py\n",
       "\u001b[0;31mType:\u001b[0m      function\n"
      ]
     },
     "metadata": {},
     "output_type": "display_data"
    }
   ],
   "source": [
    "wavfile.write?"
   ]
  },
  {
   "cell_type": "code",
   "execution_count": 8,
   "metadata": {},
   "outputs": [
    {
     "data": {
      "text/html": [
       "\n",
       "                <audio  controls=\"controls\" >\n",
       "                    <source src=\"data:audio/x-wav;base64,UklGRjIQAABXQVZFZm10IBIAAAADAAEAAAQAAAAQAAAEACAAAABmYWN0BAAAAAAEAABkYXRhABAAAAAAAABTAMg+Zhw4vzH3bj8a2X+/XxNoPwptK7+KEqc+VQWNPQ/7574G7EM/m7h0vy+ifj+GFWC/Wu0dP7lZhb6lrwy+8W0DP47NTr+hUHk/0zV8v10HVz+/rQ+/tP1FPqgxUj6iPhK/xbNYP625fL/5lng/5PNMv4q/AD9bVwC+HVqLvptdID+jkmG/me9+PwXKc79Z50E/vGnivitUaD0O8qw+sbktv2JfaT+273+/z9RtPyvvNb9AQcI+sT1HPNS3zb6pQjo/hhBwv864fz+Tvma/5RkpP7Msob4926W9moPtPkjpRb/unXU/IUt+v+6PXj8fdxu/kKh+PpsCGT5eFwa/Y59QP9kAer9uqHs/0VJVv2sXDT9Bwjm+pl1evvzJFD/4V1q/9TN9P+fTd793Eks/hRj8vmr05z07VZE+yccivzYHYz9cM3+/NdJyP1XbP7/Xz9w+4JQ2vQbLsr7F/y8/j6Jqv6L8fz9sqWy/DLszP9J6vL7rOce8imfTPt9hPL/FIHE/045/vwphZT9ZwCa/wUCbPt+qvj0mA/O+C99HP/N5dr9z6n0/6AFdvwH7GD8KlHK+x08lvri7CD9TaVK/m6d6P4ERe78yllM/wHsKv8Z/LT46gWo+tE8Xv+jzWz+npH2/cwd3P1opSb9rqPY+VjHPvdlKl77OKyU/MHNkv3Ztfz8y0XG/Dsg9P5Ut176szgQ9OZ24Pi8/Mr/a3Gs/3v9/vxR1az8ggDG/Qq22PrlmFT1AD9m+83k+P+Mncr8rW38/0vpjv31gJD/vTpW+SHPXvYB5+D4+zUm/pEx3PyeAfb+Ea1s/GHkWv1V2Zj6wljE+5VoLv0srVD/eRHu/EnF6P5DRUb/X2gc/ujYhvuybdr6xzxk/g4ddv74Lfj+lMXa/oDhHP/su8b5qZrY9vDqdPpGJJ7+F1mU/5J1/vwjHcD+XrTu/LoPRPuEGprxvaL6+2Xc0PzcObb9n+X8/0jdqv3s+Lz/H2LC+1SpHvb6u3j7RikC/1iVzP9kdf7/5i2I/aPohv3ZXjz6JM/A9ceb9vsyzSz/4FXi/Qwx9P9HMWb998RM/5k9avuDWPb7L9A0/POVVv5/Yez8px3m//ARQP8k0Bb+T5xQ+pFaBPttJHL+8El8/OGl+v4VSdT9bQEW/aazrPpeUnb2rJKO+/uApPyUxZ7+lxH8/wbNvvwWMOT/Z0Mu+QtQEPHAsxD6uqTa/mzZuP0Dpf7+x8Wg/M/Ysv5r9qj5n53g9zkXkvmSUQj+UGnS/3dZ+P4wUYb8xjh8/j1qJvll1BL7jpAE/pJJNv+jVeD/Kjny/4CVYP0hkEb8zIU4+4A9KPlGJEL8Tl1c/1mJ8v8sTeT+IME6/sIkCP8mSCL5tWoe+G74eP4KVYL8PvX4/G2p0v55AQz/rIOa+zLyEPW0IqT77MSy/BYNoP7fhf79ml24/bWM3v8wWxj6K1IQ7A+nJvpnUOD/6VW+/ac9/P7+iZ79fpyo/9BulvkZNlb061Ok+mpZEvxQGdT88hn6/mZRfP+8bHb91WIM+6ssQPqRRBL+0aU8/a4x5v8EHfD/Adla/ktEOP7LqQb46QVa+XxgTP8BAWb+A43w//lZ4v0ZUTD9Ms/++pXH4PRZZjT5YLCG/yA9iP0IHf79xeHM/fTlBv7aM4D70v1e9yeWuvnR8Lj8YzGm/GfV/PwNybb/kMzU/P1XAviTThLzxnc8+hfg6v0lscD/jq3+/CEtmPxZSKL8NNJ8+MiGuPctZ775fkUY/Tuh1v/krfj8wDF6/u6MaP8Wier7/HB2+Y/kGP+o4Ub99OXo/LXd7v4G/VD90OQy/26w1PndqYj7boRW/NOJaP5Zafb/LkHc/R3BKv4lJ+j5RtN+9ZVKTvnuUIz9/gWO/zUd/P459cr8LKz8/AvDavib+JT2FvLQ+UcAwv1AMaz/K/n+/okNsP379Mr9qjLo+H2zoPANL1b5cFT0/fnlxv65+fz+Z6mS/bfYlPyBGmb6G7sa9TNb0Pp+ESL84wXY/Fch9v157XD+sJRi/IotuPiJoKT4GnAm/NABTPxXder8V3Xo/NABTvwacCT8iaCm+IotuvqwlGD9ee1y/Fch9PzjBdr+fhEg/TNb0vobuxj0gRpk+bfYlv5nqZD+ufn+/fnlxP1wVPb8DS9U+H2zovGqMur5+/TI/okNsv8r+fz9QDGu/UcAwP4W8tL4m/iW9AvDaPgsrP7+OfXI/zUd/v3+BYz97lCO/ZVKTPlG03z2JSfq+R3BKP8uQd7+WWn0/NOJav9uhFT93amK+26w1vnQ5DD+Bv1S/LXd7P305er/qOFE/Y/kGv/8cHT7Fono+u6MavzAMXj/5K36/Tuh1P1+RRr/LWe8+MiGuvQ00n74WUig/CEtmv+Orfz9JbHC/hfg6P/Gdz74k04Q8P1XAPuQzNb8Dcm0/GfV/vxjMaT90fC6/yeWuPvS/Vz22jOC+fTlBP3F4c79CB38/yA9iv1gsIT8WWY2+pXH4vUyz/z5GVEy//lZ4P4DjfL/AQFk/XxgTvzpBVj6y6kE+ktEOv8B2Vj/BB3y/a4x5P7RpT7+kUQQ/6ssQvnVYg77vGx0/mZRfvzyGfj8UBnW/mpZEPzrU6b5GTZU99BulPl+nKr+/omc/ac9/v/pVbz+Z1Di/A+nJPorUhLvMFsa+bWM3P2aXbr+34X8/BYNov/sxLD9tCKm+zLyEvesg5j6eQEO/G2p0Pw+9fr+ClWA/G74ev21ahz7Jkgg+sIkCv4gwTj/LE3m/1mJ8PxOXV79RiRA/4A9KvjMhTr5IZBE/4CVYv8qOfD/o1Xi/pJJNP+OkAb9ZdQQ+j1qJPjGOH7+MFGE/3dZ+v5QadD9klEK/zkXkPmfneL2a/aq+M/YsP7HxaL9A6X8/mzZuv66pNj9wLMS+QtQEvNnQyz4FjDm/wbNvP6XEf78lMWc//uApv6skoz6XlJ09aazrvltART+FUnW/OGl+P7wSX7/bSRw/pFaBvpPnFL7JNAU//ARQvynHeT+f2Hu/POVVP8v0Db/g1j0+5k9aPn3xE7/RzFk/Qwx9v/gVeD/Ms0u/ceb9Pokz8L12V4++aPohP/mLYr/ZHX8/1iVzv9GKQD++rt6+1SpHPcfYsD57Pi+/0jdqP2f5f783Dm0/2Xc0v29ovj7hBqY8LoPRvpetOz8Ix3C/5J1/P4XWZb+RiSc/vDqdvmpmtr37LvE+oDhHv6Uxdj++C36/g4ddP7HPGb/sm3Y+ujYhPtfaB7+Q0VE/EnF6v95Eez9LK1S/5VoLP7CWMb5Vdma+GHkWP4RrW78ngH0/pEx3vz7NST+Aefi+SHPXPe9OlT59YCS/0vpjPytbf7/jJ3I/83k+v0AP2T65ZhW9Qq22viCAMT8UdWu/3v9/P9rca78vPzI/OZ24vqzOBL2VLdc+Dsg9vzLRcT92bX+/MHNkP84rJb/ZSpc+VjHPPWuo9r5aKUk/cwd3v6ekfT/o81u/tE8XPzqBar7Gfy2+wHsKPzKWU7+BEXs/m6d6v1NpUj+4uwi/x08lPgqUcj4B+xi/6AFdP3Pqfb/zeXY/C99HvyYD8z7fqr69wUCbvlnAJj8KYWW/045/P8Ugcb/fYTw/imfTvus5xzzSerw+DLszv2ypbD+i/H+/j6JqP8X/L78Gy7I+4JQ2PdfP3L5V2z8/NdJyv1wzfz82B2O/ycciPztVkb5q9Oe9hRj8PncSS7/n03c/9TN9v/hXWj/8yRS/pl1ePkHCOT5rFw2/0VJVP26oe7/ZAHo/Y59Qv14XBj+bAhm+kKh+vh93Gz/uj16/IUt+P+6ddb9I6UU/moPtvj3bpT2zLKE+5Rkpv5O+Zj/OuH+/hhBwP6lCOr/Ut80+sT1HvEBBwr4r7zU/z9Rtv7bvfz9iX2m/sbktPw7yrL4rVGi9vGniPlnnQb8FynM/me9+v6OSYT+bXSC/HVqLPltXAD6KvwC/5PNMP/mWeL+tuXw/xbNYv6I+Ej+oMVK+tP1Fvr+tDz9dB1e/0zV8P6FQeb+OzU4/8W0Dv6WvDD65WYU+Wu0dv4YVYD8von6/m7h0PwbsQ78P++c+VQWNvYoSp74KbSs/XxNovxrZfz8x926/Zhw4P1MAyL6cV1OoUwDIPmYcOL8x924/Gtl/v18TaD8KbSu/ihKnPlUFjT0P++e+BuxDP5u4dL8von4/hhVgv1rtHT+5WYW+pa8MvvFtAz+OzU6/oVB5P9M1fL9dB1c/v60Pv7T9RT6oMVI+oj4Sv8WzWD+tuXy/+ZZ4P+TzTL+KvwA/W1cAvh1ai76bXSA/o5Jhv5nvfj8FynO/WedBP7xp4r4rVGg9DvKsPrG5Lb9iX2k/tu9/v8/UbT8r7zW/QEHCPrE9RzzUt82+qUI6P4YQcL/OuH8/k75mv+UZKT+zLKG+PdulvZqD7T5I6UW/7p11PyFLfr/uj14/H3cbv5Cofj6bAhk+XhcGv2OfUD/ZAHq/bqh7P9FSVb9rFw0/QcI5vqZdXr78yRQ/+Fdav/UzfT/n03e/dxJLP4UY/L5q9Oc9O1WRPsnHIr82B2M/XDN/vzXScj9V2z+/18/cPuCUNr0Gy7K+xf8vP4+iar+i/H8/bKlsvwy7Mz/Sery+6znHvIpn0z7fYTy/xSBxP9OOf78KYWU/WcAmv8FAmz7fqr49JgPzvgvfRz/zeXa/c+p9P+gBXb8B+xg/CpRyvsdPJb64uwg/U2lSv5unej+BEXu/MpZTP8B7Cr/Gfy0+OoFqPrRPF7/o81s/p6R9v3MHdz9aKUm/a6j2PlYxz73ZSpe+zislPzBzZL92bX8/MtFxvw7IPT+VLde+rM4EPTmduD4vPzK/2txrP97/f78UdWs/IIAxv0Kttj65ZhU9QA/ZvvN5Pj/jJ3K/K1t/P9L6Y799YCQ/706Vvkhz172Aefg+Ps1Jv6RMdz8ngH2/hGtbPxh5Fr9VdmY+sJYxPuVaC79LK1Q/3kR7vxJxej+Q0VG/19oHP7o2Ib7sm3a+sc8ZP4OHXb++C34/pTF2v6A4Rz/7LvG+ama2Pbw6nT6RiSe/hdZlP+Sdf78Ix3A/l607vy6D0T7hBqa8b2i+vtl3ND83Dm2/Z/l/P9I3ar97Pi8/x9iwvtUqR72+rt4+0YpAv9Ylcz/ZHX+/+YtiP2j6Ib92V48+iTPwPXHm/b7Ms0s/+BV4v0MMfT/RzFm/ffETP+ZPWr7g1j2+y/QNPzzlVb+f2Hs/Kcd5v/wEUD/JNAW/k+cUPqRWgT7bSRy/vBJfPzhpfr+FUnU/W0BFv2ms6z6XlJ29qySjvv7gKT8lMWe/pcR/P8Gzb78FjDk/2dDLvkLUBDxwLMQ+rqk2v5s2bj9A6X+/sfFoPzP2LL+a/ao+Z+d4Pc5F5L5klEI/lBp0v93Wfj+MFGG/MY4fP49aib5ZdQS+46QBP6SSTb/o1Xg/yo58v+AlWD8=\" type=\"audio/x-wav\" />\n",
       "                    Your browser does not support the audio element.\n",
       "                </audio>\n",
       "              "
      ],
      "text/plain": [
       "<IPython.lib.display.Audio object>"
      ]
     },
     "execution_count": 8,
     "metadata": {},
     "output_type": "execute_result"
    }
   ],
   "source": [
    "dd = array(sin(x),dtype='float32')\n",
    "wavfile.write('a.wav',sr,dd)\n",
    "Audio('a.wav')"
   ]
  },
  {
   "cell_type": "code",
   "execution_count": 18,
   "metadata": {},
   "outputs": [],
   "source": [
    "ns = 2.0     # length of tone in sec\n",
    "fr = 446.16   # frequency in Hz = s**-1\n",
    "sr = 2*4096    # sample rate\n",
    "x= linspace(0,ns*2*pi*fr,ns*sr)\n",
    "# close(33);figure(33)\n",
    "# plot(x,sin(x))"
   ]
  },
  {
   "cell_type": "code",
   "execution_count": 16,
   "metadata": {},
   "outputs": [
    {
     "data": {
      "text/html": [
       "\n",
       "                <audio  controls=\"controls\" >\n",
       "                    <source src=\"data:audio/x-wav;base64,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\" type=\"audio/x-wav\" />\n",
       "                    Your browser does not support the audio element.\n",
       "                </audio>\n",
       "              "
      ],
      "text/plain": [
       "<IPython.lib.display.Audio object>"
      ]
     },
     "execution_count": 16,
     "metadata": {},
     "output_type": "execute_result"
    }
   ],
   "source": [
    "dd = array(sin(x),dtype='float32')\n",
    "wavfile.write('a.wav',sr,dd)\n",
    "Audio('a.wav')"
   ]
  },
  {
   "cell_type": "markdown",
   "metadata": {},
   "source": [
    "#### Make several tones"
   ]
  },
  {
   "cell_type": "code",
   "execution_count": 19,
   "metadata": {},
   "outputs": [
    {
     "data": {
      "text/plain": [
       "[446.16, 669.24, 1003.86, 1505.7900000000002, 2258.685]"
      ]
     },
     "execution_count": 19,
     "metadata": {},
     "output_type": "execute_result"
    }
   ],
   "source": [
    "[fr*1.5**i for i in range(5)]"
   ]
  },
  {
   "cell_type": "code",
   "execution_count": null,
   "metadata": {},
   "outputs": [],
   "source": [
    "sr = 2*4096  # sample rate corresponding to one sec\n",
    "f0 = 466.16   # frequency of lowest tone in Hz, \n",
    "             # corresponding to integer value 1\n",
    "ns = 1.     # length of tone in sec\n",
    "\n",
    "dd = []\n",
    "for i in range(5):\n",
    "    ff = 1.5**i*f0\n",
    "    x= linspace(0,ns*2*pi*ff,ns*sr)\n",
    "    dd.append(array(sin(x),dtype='float32'))\n",
    "dd = array(dd)\n",
    "dd = dd.flatten()\n",
    "wavfile.write('a.wav',sr,dd)\n",
    "Audio('a.wav')"
   ]
  },
  {
   "cell_type": "markdown",
   "metadata": {
    "deletable": true,
    "editable": true
   },
   "source": [
    "\n",
    "\n",
    "## LIGO the GW150914 gravitational wave signal\n",
    "\n",
    "### LIGO science introduction\n",
    "* [Brian Greene Explains The Discovery Of Gravitational Waves](https://www.youtube.com/watch?v=s06_jRK939I)\n",
    "* [LIGO Detects Gravitational Waves](https://www.youtube.com/watch?v=B4XzLDM3Py8)\n",
    "* [Warped Space and Time Around Colliding Black Holes](https://www.youtube.com/watch?v=1agm33iEAuo)\n",
    "* The [GW150914 detection paper](https://dcc.ligo.org/P150914/public)\n",
    "\n",
    "\n",
    "\n",
    "## LIGO data analysis\n",
    "This notebook is adopted from a [previous version](https://losc.ligo.org/s/events/GW150914/GW150914_tutorial.html) of the [official LIGO notebook for GW150914](https://www.gw-openscience.org/GW150914data/LOSC_Event_tutorial_GW150914.html) contains lots of additional useful information and links to some of the background knowledge needed to fully comprehend the data analysis and science going on here. It is available at the [LIGO Open Science](https://www.gw-openscience.org/tutorials) web page along with many other examples and resources.\n",
    "\n",
    "\n",
    "We have downloaded the data of the GW150914 event. They are made available in the filetype _hdf5_, meaning the data are in [hdf5 format](https://www.hdfgroup.org/HDF5)."
   ]
  },
  {
   "cell_type": "code",
   "execution_count": 25,
   "metadata": {
    "collapsed": false,
    "deletable": true,
    "editable": true,
    "jupyter": {
     "outputs_hidden": false
    }
   },
   "outputs": [
    {
     "name": "stdout",
     "output_type": "stream",
     "text": [
      "Populating the interactive namespace from numpy and matplotlib\n"
     ]
    }
   ],
   "source": [
    "# Standard python numerical analysis imports:\n",
    "import numpy as np\n",
    "from scipy import signal\n",
    "from scipy.interpolate import interp1d\n",
    "from scipy.signal import butter, filtfilt, iirdesign, zpk2tf, freqz\n",
    "\n",
    "# the ipython magic below must be commented out in the .py file, since it doesn't work.\n",
    "%pylab ipympl\n",
    "import h5py # read hdf5\n",
    "\n",
    "# LIGO-specific readligo.py \n",
    "import readligo as rl"
   ]
  },
  {
   "cell_type": "code",
   "execution_count": 24,
   "metadata": {},
   "outputs": [
    {
     "name": "stdout",
     "output_type": "stream",
     "text": [
      "12.2_Audification_LIGO.ipynb       \u001b[0m\u001b[01;34m__pycache__\u001b[0m/\n",
      "GW150914_4_NR_waveform.txt         a.wav\n",
      "H-H1_LOSC_4_V1-1126259446-32.hdf5  readligo.py\n",
      "L-L1_LOSC_4_V1-1126259446-32.hdf5\n"
     ]
    }
   ],
   "source": [
    "ls"
   ]
  },
  {
   "cell_type": "markdown",
   "metadata": {
    "deletable": true,
    "editable": true
   },
   "source": [
    "## Adding a numerical relativity template\n",
    "\n",
    "Now let's also read in a theoretical (numerical relativity) template, \n",
    "generated with parameters favored by the output from the GW150914 parameter estimation (see the GW150914 detection paper, https://dcc.ligo.org/P150914/public ).\n",
    "\n",
    "This NR template corresponds to the signal expected from a pair of black holes with masses of around 36 and 29 solar masses, merging into a single black hole of 62 solar masses, at a distance of around 410 Mpc. \n",
    "\n",
    "You can fetch the template time series from the following URL, and put it in your working directory / folder:\n",
    "* https://losc.ligo.org/s/events/GW150914/GW150914_4_NR_waveform.txt\n"
   ]
  },
  {
   "cell_type": "code",
   "execution_count": 26,
   "metadata": {
    "collapsed": false,
    "deletable": true,
    "editable": true,
    "jupyter": {
     "outputs_hidden": false
    }
   },
   "outputs": [],
   "source": [
    "# read in the NR template\n",
    "NRtime, NR_H1 = np.genfromtxt('GW150914_4_NR_waveform.txt').transpose()"
   ]
  },
  {
   "cell_type": "code",
   "execution_count": 27,
   "metadata": {
    "collapsed": false,
    "deletable": true,
    "editable": true,
    "jupyter": {
     "outputs_hidden": false
    }
   },
   "outputs": [
    {
     "data": {
      "application/vnd.jupyter.widget-view+json": {
       "model_id": "adb21adb70b14c83838dfb8ef614ac72",
       "version_major": 2,
       "version_minor": 0
      },
      "text/plain": [
       "Canvas(toolbar=Toolbar(toolitems=[('Home', 'Reset original view', 'home', 'home'), ('Back', 'Back to previous …"
      ]
     },
     "metadata": {},
     "output_type": "display_data"
    },
    {
     "data": {
      "text/plain": [
       "Text(0, 0.5, 'strain')"
      ]
     },
     "execution_count": 27,
     "metadata": {},
     "output_type": "execute_result"
    }
   ],
   "source": [
    "close(13),figure(13)\n",
    "plot(NRtime,NR_H1)\n",
    "xlabel('time') \n",
    "ylabel('strain')"
   ]
  },
  {
   "cell_type": "markdown",
   "metadata": {},
   "source": [
    "### Strain\n",
    " Strain is the instrument’s ability to detect a space change within an arm in comparison to the total space (length) of the arm."
   ]
  },
  {
   "cell_type": "code",
   "execution_count": 28,
   "metadata": {},
   "outputs": [],
   "source": [
    "from astropy import units as u"
   ]
  },
  {
   "cell_type": "code",
   "execution_count": 29,
   "metadata": {},
   "outputs": [],
   "source": [
    "r_proton = 0.85*u.fm "
   ]
  },
  {
   "cell_type": "code",
   "execution_count": 30,
   "metadata": {},
   "outputs": [
    {
     "data": {
      "text/latex": [
       "$0.0047058824 \\; \\mathrm{}$"
      ],
      "text/plain": [
       "<Quantity 0.00470588>"
      ]
     },
     "execution_count": 30,
     "metadata": {},
     "output_type": "execute_result"
    }
   ],
   "source": [
    "(1.e-21*4*u.km/r_proton).to('')"
   ]
  },
  {
   "cell_type": "markdown",
   "metadata": {
    "deletable": true,
    "editable": true,
    "jupyter": {
     "outputs_hidden": false
    }
   },
   "source": [
    "#### Load LIGO data from a single file\n"
   ]
  },
  {
   "cell_type": "code",
   "execution_count": 31,
   "metadata": {
    "collapsed": false,
    "deletable": true,
    "editable": true,
    "jupyter": {
     "outputs_hidden": false
    }
   },
   "outputs": [
    {
     "name": "stdout",
     "output_type": "stream",
     "text": [
      "Warning: Failed to calculate DEFAULT data quality channel\n",
      "Warning: Failed to calculate DEFAULT data quality channel\n"
     ]
    },
    {
     "name": "stderr",
     "output_type": "stream",
     "text": [
      "/home/user/mp248-course-notes/12.2_Audification_LIGO/readligo.py:125: H5pyDeprecationWarning: dataset.value has been deprecated. Use dataset[()] instead.\n",
      "  shortnameArray = dqInfo['DQShortnames'].value\n",
      "/home/user/mp248-course-notes/12.2_Audification_LIGO/readligo.py:131: H5pyDeprecationWarning: dataset.value has been deprecated. Use dataset[()] instead.\n",
      "  injnameArray = injInfo['InjShortnames'].value\n",
      "/home/user/mp248-course-notes/12.2_Audification_LIGO/readligo.py:136: H5pyDeprecationWarning: dataset.value has been deprecated. Use dataset[()] instead.\n",
      "  gpsStart = meta['GPSstart'].value\n"
     ]
    }
   ],
   "source": [
    "# First from H1\n",
    "fn_H1 = 'H-H1_LOSC_4_V1-1126259446-32.hdf5'\n",
    "strain_H1, time_H1, chan_dict_H1 = rl.loaddata(fn_H1, 'H1')\n",
    "# and then from L1\n",
    "fn_L1 = 'L-L1_LOSC_4_V1-1126259446-32.hdf5'\n",
    "strain_L1, time_L1, chan_dict_L1 = rl.loaddata(fn_L1, 'L1')\n",
    "\n",
    "# sampling rate:\n",
    "fs = 4096\n",
    "# both H1 and L1 will have the same time vector, so:\n",
    "time = time_H1\n",
    "# the time sample interval (uniformly sampled!)\n",
    "dt = time[1] - time[0]"
   ]
  },
  {
   "cell_type": "code",
   "execution_count": 71,
   "metadata": {
    "collapsed": false,
    "deletable": true,
    "editable": true,
    "jupyter": {
     "outputs_hidden": false
    }
   },
   "outputs": [],
   "source": [
    "# let's have a look what this data looks like"
   ]
  },
  {
   "cell_type": "code",
   "execution_count": 32,
   "metadata": {
    "collapsed": false,
    "deletable": true,
    "editable": true,
    "jupyter": {
     "outputs_hidden": false
    }
   },
   "outputs": [
    {
     "data": {
      "text/plain": [
       "2.2089154601649234e-19"
      ]
     },
     "execution_count": 32,
     "metadata": {},
     "output_type": "execute_result"
    }
   ],
   "source": [
    "#time, strain_H1\n",
    "sqrt(average(strain_H1**2))"
   ]
  },
  {
   "cell_type": "code",
   "execution_count": 33,
   "metadata": {
    "collapsed": false,
    "deletable": true,
    "editable": true,
    "jupyter": {
     "outputs_hidden": false
    }
   },
   "outputs": [
    {
     "data": {
      "application/vnd.jupyter.widget-view+json": {
       "model_id": "1594f468b1c04c06b0cb0b5dfd572494",
       "version_major": 2,
       "version_minor": 0
      },
      "text/plain": [
       "Canvas(toolbar=Toolbar(toolitems=[('Home', 'Reset original view', 'home', 'home'), ('Back', 'Back to previous …"
      ]
     },
     "metadata": {},
     "output_type": "display_data"
    },
    {
     "data": {
      "text/plain": [
       "[<matplotlib.lines.Line2D at 0x7f17ec7de748>]"
      ]
     },
     "execution_count": 33,
     "metadata": {},
     "output_type": "execute_result"
    }
   ],
   "source": [
    "close(1);figure(1)\n",
    "plot(time_H1-time_H1[0],strain_H1)\n",
    "# plot(time_H1-time_H1[0],strain_L1)"
   ]
  },
  {
   "cell_type": "code",
   "execution_count": 75,
   "metadata": {},
   "outputs": [],
   "source": [
    "#chan_dict_H1"
   ]
  },
  {
   "cell_type": "markdown",
   "metadata": {
    "deletable": true,
    "editable": true
   },
   "source": [
    "## First look at the data from H1 and L1"
   ]
  },
  {
   "cell_type": "code",
   "execution_count": 34,
   "metadata": {
    "deletable": true,
    "editable": true
   },
   "outputs": [],
   "source": [
    "# plot +- 5 seconds around the event:\n",
    "tevent = 1126259462.422         # Mon Sep 14 09:50:45 GMT 2015 \n",
    "deltat = 5.                     # seconds around the event\n",
    "# index into the strain time series for this time interval:\n",
    "indxt = np.where((time_H1 >= tevent-deltat) & (time_H1 < tevent+deltat))"
   ]
  },
  {
   "cell_type": "code",
   "execution_count": 35,
   "metadata": {
    "collapsed": false,
    "deletable": true,
    "editable": true,
    "jupyter": {
     "outputs_hidden": false
    }
   },
   "outputs": [
    {
     "data": {
      "text/plain": [
       "131072"
      ]
     },
     "execution_count": 35,
     "metadata": {},
     "output_type": "execute_result"
    }
   ],
   "source": [
    "len(time_H1)"
   ]
  },
  {
   "cell_type": "code",
   "execution_count": 83,
   "metadata": {
    "collapsed": false,
    "deletable": true,
    "editable": true,
    "jupyter": {
     "outputs_hidden": false
    }
   },
   "outputs": [
    {
     "data": {
      "text/plain": [
       "40960"
      ]
     },
     "execution_count": 83,
     "metadata": {},
     "output_type": "execute_result"
    }
   ],
   "source": [
    "len(indxt[0])"
   ]
  },
  {
   "cell_type": "code",
   "execution_count": 36,
   "metadata": {
    "collapsed": false,
    "deletable": true,
    "editable": true,
    "jupyter": {
     "outputs_hidden": false
    }
   },
   "outputs": [
    {
     "data": {
      "application/vnd.jupyter.widget-view+json": {
       "model_id": "1ffbdcfab94d4503a8564251aec2d09f",
       "version_major": 2,
       "version_minor": 0
      },
      "text/plain": [
       "Canvas(toolbar=Toolbar(toolitems=[('Home', 'Reset original view', 'home', 'home'), ('Back', 'Back to previous …"
      ]
     },
     "metadata": {},
     "output_type": "display_data"
    }
   ],
   "source": [
    "plt.figure()\n",
    "plt.plot(time_H1[indxt]-tevent,strain_H1[indxt],'r',label='H1 strain')\n",
    "plt.plot(time_L1[indxt]-tevent,strain_L1[indxt],'g',label='L1 strain')\n",
    "plt.xlabel('time (s) since '+str(tevent))\n",
    "plt.ylabel('strain')\n",
    "plt.legend(loc='lower right')\n",
    "plt.title('Advanced LIGO strain data near GW150914')\n",
    "plt.savefig('GW150914_strain.png')"
   ]
  },
  {
   "cell_type": "markdown",
   "metadata": {
    "deletable": true,
    "editable": true
   },
   "source": [
    "The data are dominated by **low frequency noise**; there is no way to see a signal here, without some signal processing.\n",
    "\n",
    "There are very low frequency oscillations that are putting the mean of the L1 strain at -2.0e-18 at the time around this event, so it appears offset from the H1 strain. These low frequency oscillations are essentially ignored in LIGO data analysis (see bandpassing, below).\n",
    "\n",
    "We will be _whitening_ the data, below. "
   ]
  },
  {
   "cell_type": "markdown",
   "metadata": {
    "deletable": true,
    "editable": true
   },
   "source": [
    "## Data in the Fourier domain - ASDs\n",
    "\n",
    "Plotting these data in the Fourier domain gives us an idea of the frequency content of the data. ***A way to visualize the frequency content of the data is to plot the amplitude spectral density, ASD.***\n",
    "\n",
    "***The ASDs are the square root of the power spectral densities (PSDs), which are averages of the square of the fast fourier transforms (FFTs) of the data.***\n",
    "\n",
    "### PSD and ASD\n",
    "Consulting [Spectral density](https://en.wikipedia.org/wiki/Spectral_density) Wikipedia page:\n",
    "\n",
    "\n",
    "* _According to Fourier analysis any physical signal can be decomposed into a number of discrete frequencies, or a spectrum of frequencies over a continuous range._ Let's have a look at a [simple example](https://georgemdallas.wordpress.com/2014/05/14/wavelets-4-dummies-signal-processing-fourier-transforms-and-heisenberg), and then look at this cool [animation of a square wave Fourier expansion](https://www.youtube.com/watch?v=k8FXF1KjzY0). You can find more details at the [Fourier transform Wikipedia page](https://en.wikipedia.org/wiki/Fourier_transform).\n",
    "* _The power spectrum $S_{xx}(f)$ of a time series $x(t)$ describes the distribution of power into frequency components composing that signal._\n",
    "\n",
    "#### How do we get the PSD?\n",
    "This would be very similar to the energy spectral density:\n",
    "\n",
    "* the energy of a signal $x(t)$ is  $$\\int\\limits_{-\\infty}^\\infty |x(t)|^2\\, dt$$\n",
    "* the Fourier transform is $$\\hat{x}(f)=\\int\\limits_{-\\infty}^\\infty e^{-2\\pi ift}x(t) dt$$\n",
    "* the energy of the signal is same if integrated over time or frequency [Parseval's theorem](https://en.wikipedia.org/wiki/Parseval%27s_theorem) $$\\int\\limits_{-\\infty}^\\infty |x(t)|^2\\, dt = \\int\\limits_{-\\infty}^\\infty |\\hat{x}(f)|^2\\, df$$\n",
    "* the energy spectral density of a signal x(t) is defined as $$S_{xx}(f) = |\\hat{x}(f)|^2 $$\n",
    "* the PSD is essentially the same but for stationary processes and is applicable to account for the noise"
   ]
  },
  {
   "cell_type": "markdown",
   "metadata": {
    "deletable": true,
    "editable": true
   },
   "source": [
    "### Application to the GW problem\n",
    "ASDs are an estimate of the \"strain-equivalent noise\" of the detectors versus frequency,\n",
    "which limit the ability of the detectors to identify GW signals.\n",
    "\n",
    "They are in units of strain/rt(Hz).\n",
    "So, if you want to know the root-mean-square (rms) strain noise in a frequency band,\n",
    "integrate (sum) the squares of the ASD over that band, then take the square-root.\n",
    "\n",
    "There's a signal in these data! \n",
    "For the moment, let's ignore that, and assume it's all noise."
   ]
  },
  {
   "cell_type": "code",
   "execution_count": 38,
   "metadata": {},
   "outputs": [],
   "source": [
    "# mlab.psd?"
   ]
  },
  {
   "cell_type": "code",
   "execution_count": 39,
   "metadata": {
    "collapsed": false,
    "deletable": true,
    "editable": true,
    "jupyter": {
     "outputs_hidden": false
    }
   },
   "outputs": [
    {
     "data": {
      "application/vnd.jupyter.widget-view+json": {
       "model_id": "949dff409e664c73bb3158d5eb363f62",
       "version_major": 2,
       "version_minor": 0
      },
      "text/plain": [
       "Canvas(toolbar=Toolbar(toolitems=[('Home', 'Reset original view', 'home', 'home'), ('Back', 'Back to previous …"
      ]
     },
     "metadata": {},
     "output_type": "display_data"
    }
   ],
   "source": [
    "# number of sample for the fast fourier transform:\n",
    "NFFT = 1*fs\n",
    "fmin = 10\n",
    "fmax = 2000\n",
    "Pxx_H1, freqs = mlab.psd(strain_H1, Fs = fs, NFFT = NFFT)\n",
    "Pxx_L1, freqs = mlab.psd(strain_L1, Fs = fs, NFFT = NFFT)\n",
    "\n",
    "# We will use interpolations of the ASDs computed above for whitening:\n",
    "psd_H1 = interp1d(freqs, Pxx_H1)\n",
    "psd_L1 = interp1d(freqs, Pxx_L1)\n",
    "\n",
    "# plot the ASDs:\n",
    "plt.figure()\n",
    "plt.loglog(freqs, np.sqrt(Pxx_H1),'r',label='H1 strain')\n",
    "plt.loglog(freqs, np.sqrt(Pxx_L1),'g',label='L1 strain')\n",
    "plt.axis([fmin, fmax, 1e-24, 1e-19])\n",
    "plt.grid('on')\n",
    "plt.ylabel('ASD (strain/rtHz)')\n",
    "plt.xlabel('Freq (Hz)')\n",
    "plt.legend(loc='upper center')\n",
    "plt.title('Advanced LIGO strain data near GW150914')\n",
    "plt.savefig('GW150914_ASDs.png')"
   ]
  },
  {
   "cell_type": "markdown",
   "metadata": {
    "deletable": true,
    "editable": true
   },
   "source": [
    "NOTE that we only plot the data between fmin = 10 Hz and fmax = 2000 Hz.\n",
    "\n",
    "Below fmin, the data **are not properly calibrated**. That's OK, because the noise is so high below fmin that LIGO cannot sense gravitational wave strain from astrophysical sources in that band.\n",
    "\n",
    "The sample rate is fs = 4096 Hz (2^12 Hz), so the data cannot capture frequency content above the Nyquist frequency = fs/2 = 2048 Hz. That's OK, because GW150914 only has detectable frequency content in the range 20 Hz - 300 Hz.\n",
    "\n",
    "You can see strong spectral lines in the data; they are all of instrumental origin. Some are engineered into the detectors (mirror suspension resonances at ~500 Hz and harmonics, calibration lines, control dither lines, etc) and some (60 Hz and harmonics) are unwanted. We'll return to these, later.\n",
    "\n",
    "You can't see the signal in this plot, since it is relatively weak and less than a second long, while this plot averages over 32 seconds of data. So this plot is entirely dominated by instrumental noise."
   ]
  },
  {
   "cell_type": "markdown",
   "metadata": {
    "deletable": true,
    "editable": true
   },
   "source": [
    "## Whitening\n",
    "\n",
    "From the ASD above, we can see that the data are very strongly \"colored\" - noise fluctuations are much larger at low and high frequencies and near spectral lines, reaching a roughly flat (\"white\") minimum in the band around 80 to 300 Hz. [White noise](https://en.wikipedia.org/wiki/White_noise) is a random signal with a constant PSD.\n",
    "\n",
    "We can \"whiten\" the data (dividing it by the noise amplitude spectrum, in the fourier domain), suppressing the extra noise at low frequencies and at the spectral lines, to better see the weak signals in the most sensitive band.\n",
    "\n",
    "Whitening is always one of the first steps in astrophysical data analysis (searches, parameter estimation).\n",
    "Whitening requires no prior knowledge of spectral lines, etc; only the data are needed.\n",
    "\n",
    "The resulting time series is no longer in units of strain; now in units of \"sigmas\" away from the mean."
   ]
  },
  {
   "cell_type": "code",
   "execution_count": 40,
   "metadata": {
    "deletable": true,
    "editable": true
   },
   "outputs": [],
   "source": [
    "# function to writen data\n",
    "def whiten(strain, interp_psd, dt):\n",
    "    Nt = len(strain)\n",
    "    freqs = np.fft.rfftfreq(Nt, dt)\n",
    "\n",
    "    # whitening: transform to freq domain, divide by asd, then transform back, \n",
    "    # taking care to get normalization right.\n",
    "    hf = np.fft.rfft(strain)\n",
    "    white_hf = hf / (np.sqrt(interp_psd(freqs) /dt/2.))\n",
    "    white_ht = np.fft.irfft(white_hf, n=Nt)\n",
    "    return white_ht\n",
    "\n",
    "# now whiten the data from H1 and L1, and also the NR template:\n",
    "strain_H1_whiten = whiten(strain_H1,psd_H1,dt)\n",
    "strain_L1_whiten = whiten(strain_L1,psd_L1,dt)\n",
    "NR_H1_whiten = whiten(NR_H1,psd_H1,dt)"
   ]
  },
  {
   "cell_type": "markdown",
   "metadata": {
    "deletable": true,
    "editable": true
   },
   "source": [
    "Now plot the whitened strain data, along with the best-fit numerical relativity (NR) template.\n",
    "\n",
    "To get rid of remaining high frequency noise, we will also bandpass the data (see bandpassing, below)."
   ]
  },
  {
   "cell_type": "code",
   "execution_count": 41,
   "metadata": {
    "collapsed": false,
    "deletable": true,
    "editable": true,
    "jupyter": {
     "outputs_hidden": false
    }
   },
   "outputs": [
    {
     "data": {
      "application/vnd.jupyter.widget-view+json": {
       "model_id": "cffb1d14f3fe43b7b654c04730bb7a6f",
       "version_major": 2,
       "version_minor": 0
      },
      "text/plain": [
       "Canvas(toolbar=Toolbar(toolitems=[('Home', 'Reset original view', 'home', 'home'), ('Back', 'Back to previous …"
      ]
     },
     "metadata": {},
     "output_type": "display_data"
    }
   ],
   "source": [
    "# We need to suppress the high frequencies with some bandpassing:\n",
    "bb, ab = butter(4, [20.*2./fs, 300.*2./fs], btype='band')\n",
    "strain_H1_whitenbp = filtfilt(bb, ab, strain_H1_whiten)\n",
    "strain_L1_whitenbp = filtfilt(bb, ab, strain_L1_whiten)\n",
    "NR_H1_whitenbp = filtfilt(bb, ab, NR_H1_whiten)\n",
    "\n",
    "# plot the data after whitening:\n",
    "# first, shift L1 by 7 ms, and invert. See the GW150914 detection paper for why!\n",
    "strain_L1_shift = -np.roll(strain_L1_whitenbp,int(0.007*fs))\n",
    "\n",
    "plt.figure()\n",
    "plt.plot(time-tevent,strain_H1_whitenbp,'r',label='H1 strain')\n",
    "plt.plot(time-tevent,strain_L1_shift,'g',label='L1 strain')\n",
    "plt.plot(NRtime+0.002,NR_H1_whitenbp,'k',label='matched NR waveform')\n",
    "plt.xlim([-0.1,0.05])\n",
    "plt.ylim([-4,4])\n",
    "plt.xlabel('time (s) since '+str(tevent))\n",
    "plt.ylabel('whitented strain')\n",
    "plt.legend(loc='lower left')\n",
    "plt.title('Advanced LIGO WHITENED strain data near GW150914')\n",
    "plt.savefig('GW150914_strain_whitened.png')"
   ]
  },
  {
   "cell_type": "markdown",
   "metadata": {
    "deletable": true,
    "editable": true
   },
   "source": [
    "The signal is now clearly visible in the whitened and bandpassed data. The \"DC\" offset between H1 and L1 data visible in the first plot is no longer visible here; the bandpassing cuts off frequency components below around 20 Hz and above 300 Hz. \n",
    "\n",
    "The signal is visible as an oscillation sweeping from low to high frequency from -0.10 seconds to 0, then damping down into the random noise. \n",
    "\n",
    "The signal looks roughly the same in both detectors. We had to shift the L1 data by 7 ms to get it to line up with the data from H1, because the source is roughly in the direction of the line connecting H1 to L1, and the wave travels at the speed of light, so it hits L1 7 ms earlier. Also, the orientation of L1 with respect to H1 means that we have to flip the sign of the signal in L1 for it to match the signal in H1.\n",
    "\n",
    "It's exactly the kind of signal we expect from the inspiral, merger and ringdown of two massive black holes, as evidenced by the good match with the numerical relativity (NR) waveform, in black.\n",
    "\n",
    "LIGO uses a rather elaborate software suite to match the data against a family of such signal waveforms (\"templates\"), to find the best match. This procedure helps LIGO to \"optimally\" separate signals from instrumental noise, and to infer the parameters of the source (masses, spins, sky location, orbit orientation, etc) from the best match templates."
   ]
  },
  {
   "cell_type": "markdown",
   "metadata": {
    "deletable": true,
    "editable": true
   },
   "source": [
    "## Spectrograms\n",
    "\n",
    "Now let's plot a short time-frequency [spectrogram](https://en.wikipedia.org/wiki/Spectrogram) around GW150914:"
   ]
  },
  {
   "cell_type": "code",
   "execution_count": 15,
   "metadata": {},
   "outputs": [],
   "source": [
    "#plt.specgram?"
   ]
  },
  {
   "cell_type": "code",
   "execution_count": 42,
   "metadata": {
    "collapsed": false,
    "deletable": true,
    "editable": true,
    "jupyter": {
     "outputs_hidden": false
    }
   },
   "outputs": [
    {
     "data": {
      "application/vnd.jupyter.widget-view+json": {
       "model_id": "3048531e3c1140f4b7dfc537f37f8a50",
       "version_major": 2,
       "version_minor": 0
      },
      "text/plain": [
       "Canvas(toolbar=Toolbar(toolitems=[('Home', 'Reset original view', 'home', 'home'), ('Back', 'Back to previous …"
      ]
     },
     "metadata": {},
     "output_type": "display_data"
    },
    {
     "data": {
      "application/vnd.jupyter.widget-view+json": {
       "model_id": "f3dc5c90720645978ec7d0dc9c5aac93",
       "version_major": 2,
       "version_minor": 0
      },
      "text/plain": [
       "Canvas(toolbar=Toolbar(toolitems=[('Home', 'Reset original view', 'home', 'home'), ('Back', 'Back to previous …"
      ]
     },
     "metadata": {},
     "output_type": "display_data"
    }
   ],
   "source": [
    "tevent = 1126259462.422         # Mon Sep 14 09:50:45 GMT 2015 \n",
    "deltat = 10.                    # seconds around the event\n",
    "# index into the strain time series for this time interval:\n",
    "indxt = np.where((time_H1 >= tevent-deltat) & (time_H1 < tevent+deltat))\n",
    "\n",
    "# pick a shorter FTT time interval, like 1/8 of a second:\n",
    "NFFT = int(fs/8)\n",
    "# and with a lot of overlap, to resolve short-time features:\n",
    "NOVL = int(NFFT*15./16)\n",
    "# and choose a window that minimizes \"spectral leakage\" \n",
    "# (https://en.wikipedia.org/wiki/Spectral_leakage)\n",
    "window = np.blackman(NFFT)\n",
    "\n",
    "# the right colormap is all-important! See:\n",
    "# http://matplotlib.org/examples/color/colormaps_reference.html\n",
    "# viridis seems to be the best for our purposes, but it's new; if you don't have it, you can settle for ocean.\n",
    "spec_cmap='viridis'\n",
    "spec_cmap='ocean'\n",
    "\n",
    "# Plot the H1 spectrogram:\n",
    "plt.figure()\n",
    "spec_H1, freqs, bins, im = plt.specgram(strain_H1[indxt], NFFT=NFFT, Fs=fs, window=window, \n",
    "                                        noverlap=NOVL, cmap=spec_cmap, xextent=[-deltat,deltat])\n",
    "\n",
    "plt.xlabel('time (s) since '+str(tevent))\n",
    "plt.ylabel('Frequency (Hz)')\n",
    "plt.colorbar()\n",
    "plt.axis([-deltat, deltat, 0, 2000])\n",
    "plt.title('aLIGO H1 strain data near GW150914')\n",
    "plt.savefig('GW150914_H1_spectrogram.png')\n",
    "\n",
    "# Plot the L1 spectrogram:\n",
    "plt.figure()\n",
    "spec_H1, freqs, bins, im = plt.specgram(strain_L1[indxt], NFFT=NFFT, Fs=fs, window=window, \n",
    "                                        noverlap=NOVL, cmap=spec_cmap, xextent=[-deltat,deltat])\n",
    "plt.xlabel('time (s) since '+str(tevent))\n",
    "plt.ylabel('Frequency (Hz)')\n",
    "plt.colorbar()\n",
    "plt.axis([-deltat, deltat, 0, 2000])\n",
    "plt.title('aLIGO L1 strain data near GW150914')\n",
    "plt.savefig('GW150914_L1_spectrogram.png')"
   ]
  },
  {
   "cell_type": "markdown",
   "metadata": {
    "deletable": true,
    "editable": true
   },
   "source": [
    "In the above spectrograms, you can see lots of excess power below ~20 Hz, as well as strong spectral lines at 500, 1000, 1500 Hz (also evident in the ASDs above). The lines at multiples of 500 Hz are the harmonics of the \"violin modes\" of the fibers holding up the mirrors of the LIGO interferometers.\n",
    "\n",
    "The signal is just bately visible here, at time=0 and below 500 Hz. We need to zoom in around the event time, and to the frequency range from [20, 400] Hz, and use the whitened data generated above."
   ]
  },
  {
   "cell_type": "code",
   "execution_count": 43,
   "metadata": {
    "collapsed": false,
    "deletable": true,
    "editable": true,
    "jupyter": {
     "outputs_hidden": false
    }
   },
   "outputs": [
    {
     "data": {
      "application/vnd.jupyter.widget-view+json": {
       "model_id": "eabe6f4d110d43dab04825f2809539bb",
       "version_major": 2,
       "version_minor": 0
      },
      "text/plain": [
       "Canvas(toolbar=Toolbar(toolitems=[('Home', 'Reset original view', 'home', 'home'), ('Back', 'Back to previous …"
      ]
     },
     "metadata": {},
     "output_type": "display_data"
    },
    {
     "data": {
      "application/vnd.jupyter.widget-view+json": {
       "model_id": "15df951b4b92416fa75e32b44c78a59c",
       "version_major": 2,
       "version_minor": 0
      },
      "text/plain": [
       "Canvas(toolbar=Toolbar(toolitems=[('Home', 'Reset original view', 'home', 'home'), ('Back', 'Back to previous …"
      ]
     },
     "metadata": {},
     "output_type": "display_data"
    }
   ],
   "source": [
    "#  plot the whitened data, zooming in on the signal region:\n",
    "tevent = 1126259462.422          # Mon Sep 14 09:50:45 GMT 2015 \n",
    "deltat = 10.                      # seconds around the event\n",
    "# index into the strain time series for this time interval:\n",
    "indxt = np.where((time_H1 >= tevent-deltat) & (time_H1 < tevent+deltat))\n",
    "\n",
    "# pick a shorter FTT time interval, like 1/16 of a second:\n",
    "NFFT = int(fs/16)\n",
    "# and with a lot of overlap, to resolve short-time features:\n",
    "NOVL = int(NFFT*15/16)\n",
    "# and choose a window that minimizes \"spectral leakage\" \n",
    "# (https://en.wikipedia.org/wiki/Spectral_leakage)\n",
    "window = np.blackman(NFFT)\n",
    "\n",
    "# Plot the H1 whitened spectrogram around the signal\n",
    "plt.figure()\n",
    "spec_H1, freqs, bins, im = plt.specgram(strain_H1_whiten[indxt], NFFT=NFFT, Fs=fs, window=window, \n",
    "                                        noverlap=NOVL, cmap=spec_cmap, xextent=[-deltat,deltat])\n",
    "plt.xlabel('time (s) since '+str(tevent))\n",
    "plt.ylabel('Frequency (Hz)')\n",
    "plt.colorbar()\n",
    "plt.axis([-0.5, 0.5, 0, 500])\n",
    "plt.title('aLIGO H1 strain data near GW150914')\n",
    "plt.savefig('GW150914_H1_spectrogram_whitened.png')\n",
    "\n",
    "# Plot the L1 whitened spectrogram around the signal\n",
    "plt.figure()\n",
    "spec_H1, freqs, bins, im = plt.specgram(strain_L1_whiten[indxt], NFFT=NFFT, Fs=fs, window=window, \n",
    "                                        noverlap=NOVL, cmap=spec_cmap, xextent=[-deltat,deltat])\n",
    "plt.xlabel('time (s) since '+str(tevent))\n",
    "plt.ylabel('Frequency (Hz)')\n",
    "plt.colorbar()\n",
    "plt.axis([-0.5, 0.5, 0, 500])\n",
    "plt.title('aLIGO L1 strain data near GW150914')\n",
    "plt.savefig('GW150914_L1_spectrogram_whitened.png')\n"
   ]
  },
  {
   "cell_type": "markdown",
   "metadata": {
    "deletable": true,
    "editable": true
   },
   "source": [
    "See the smudge between -0.2 and 0 seconds? That's our signal!\n",
    "You can see it 'chirping' from lower to higher frequency over a small fraction of a second."
   ]
  },
  {
   "cell_type": "markdown",
   "metadata": {
    "deletable": true,
    "editable": true
   },
   "source": [
    "## Time-domain filtering - Bandpassing+notching\n",
    "\n",
    "Now let's filter the signal in the time domain, using bandpassing to reveal the signal in the frequency band [40 , 300 Hz], and notching of spectral lines to remove those noise sources from the data."
   ]
  },
  {
   "cell_type": "code",
   "execution_count": 44,
   "metadata": {
    "collapsed": false,
    "deletable": true,
    "editable": true,
    "jupyter": {
     "outputs_hidden": false
    }
   },
   "outputs": [],
   "source": [
    "# generate linear time-domain filter coefficients, common to both H1 and L1.\n",
    "# First, define some functions:\n",
    "\n",
    "# This function will generate digital filter coefficients for bandstops (notches).\n",
    "# Understanding it requires some signal processing expertise, which we won't get into here.\n",
    "def iir_bandstops(fstops, fs, order=4):\n",
    "    \"\"\"ellip notch filter\n",
    "    fstops is a list of entries of the form [frequency (Hz), df, df2]                           \n",
    "    where df is the pass width and df2 is the stop width (narrower                              \n",
    "    than the pass width). Use caution if passing more than one freq at a time,                  \n",
    "    because the filter response might behave in ways you don't expect.\n",
    "    \"\"\"\n",
    "    nyq = 0.5 * fs\n",
    "\n",
    "    # Zeros zd, poles pd, and gain kd for the digital filter\n",
    "    zd = np.array([])\n",
    "    pd = np.array([])\n",
    "    kd = 1\n",
    "\n",
    "    # Notches\n",
    "    for fstopData in fstops:\n",
    "        fstop = fstopData[0]\n",
    "        df = fstopData[1]\n",
    "        df2 = fstopData[2]\n",
    "        low = (fstop - df) / nyq\n",
    "        high = (fstop + df) / nyq\n",
    "        low2 = (fstop - df2) / nyq\n",
    "        high2 = (fstop + df2) / nyq\n",
    "        z, p, k = iirdesign([low,high], [low2,high2], gpass=1, gstop=6,\n",
    "                            ftype='ellip', output='zpk')\n",
    "        zd = np.append(zd,z)\n",
    "        pd = np.append(pd,p)\n",
    "\n",
    "    # Set gain to one at 100 Hz...better not notch there                                        \n",
    "    bPrelim,aPrelim = zpk2tf(zd, pd, 1)\n",
    "    outFreq, outg0 = freqz(bPrelim, aPrelim, 100/nyq)\n",
    "\n",
    "    # Return the numerator and denominator of the digital filter                                \n",
    "    b,a = zpk2tf(zd,pd,k)\n",
    "    return b, a\n",
    "\n",
    "def get_filter_coefs(fs):\n",
    "    \n",
    "    # assemble the filter b,a coefficients:\n",
    "    coefs = []\n",
    "\n",
    "    # bandpass filter parameters\n",
    "    lowcut=43\n",
    "    highcut=260\n",
    "    order = 4\n",
    "\n",
    "    # bandpass filter coefficients \n",
    "    nyq = 0.5*fs\n",
    "    low = lowcut / nyq\n",
    "    high = highcut / nyq\n",
    "    bb, ab = butter(order, [low, high], btype='band')\n",
    "    coefs.append((bb,ab))\n",
    "\n",
    "    # Frequencies of notches at known instrumental spectral line frequencies.\n",
    "    # You can see these lines in the ASD above, so it is straightforward to make this list.\n",
    "    notchesAbsolute = np.array(\n",
    "        [14.0,34.70, 35.30, 35.90, 36.70, 37.30, 40.95, 60.00, \n",
    "         120.00, 179.99, 304.99, 331.49, 510.02, 1009.99])\n",
    "\n",
    "    # notch filter coefficients:\n",
    "    for notchf in notchesAbsolute:                      \n",
    "        bn, an = iir_bandstops(np.array([[notchf,1,0.1]]), fs, order=4)\n",
    "        coefs.append((bn,an))\n",
    "\n",
    "    # Manually do a wider notch filter around 510 Hz etc.          \n",
    "    bn, an = iir_bandstops(np.array([[510,200,20]]), fs, order=4)\n",
    "    coefs.append((bn, an))\n",
    "\n",
    "    # also notch out the forest of lines around 331.5 Hz\n",
    "    bn, an = iir_bandstops(np.array([[331.5,10,1]]), fs, order=4)\n",
    "    coefs.append((bn, an))\n",
    "    \n",
    "    return coefs\n",
    "\n",
    "# and then define the filter function:\n",
    "def filter_data(data_in,coefs):\n",
    "    data = data_in.copy()\n",
    "    for coef in coefs:\n",
    "        b,a = coef\n",
    "        # filtfilt applies a linear filter twice, once forward and once backwards.\n",
    "        # The combined filter has linear phase.\n",
    "        data = filtfilt(b, a, data)\n",
    "    return data\n"
   ]
  },
  {
   "cell_type": "markdown",
   "metadata": {
    "deletable": true,
    "editable": true
   },
   "source": [
    "To visualize the effect of this filter, let's generate \"white\" gaussian noise, and filter it."
   ]
  },
  {
   "cell_type": "code",
   "execution_count": 45,
   "metadata": {
    "collapsed": false,
    "deletable": true,
    "editable": true,
    "jupyter": {
     "outputs_hidden": false
    }
   },
   "outputs": [
    {
     "data": {
      "application/vnd.jupyter.widget-view+json": {
       "model_id": "f31e8ea1e234467980df5a249570cfd5",
       "version_major": 2,
       "version_minor": 0
      },
      "text/plain": [
       "Canvas(toolbar=Toolbar(toolitems=[('Home', 'Reset original view', 'home', 'home'), ('Back', 'Back to previous …"
      ]
     },
     "metadata": {},
     "output_type": "display_data"
    }
   ],
   "source": [
    "# get filter coefficients\n",
    "coefs = get_filter_coefs(fs)\n",
    "\n",
    "# generate random gaussian \"data\"\n",
    "data = np.random.randn(128*fs)\n",
    "\n",
    "# filter it:\n",
    "resp = filter_data(data,coefs)\n",
    "\n",
    "# compute the amplitude spectral density (ASD) of the original data, and the filtered data:\n",
    "NFFT = int(fs/2)\n",
    "Pxx_data, freqs = mlab.psd(data, Fs = fs, NFFT = NFFT)\n",
    "Pxx_resp, freqs = mlab.psd(resp, Fs = fs, NFFT = NFFT)\n",
    "\n",
    "# The asd is the square root; and let's normalize it to 1:\n",
    "norm = np.sqrt(Pxx_data).mean()\n",
    "asd_data = np.sqrt(Pxx_data)/norm\n",
    "asd_resp = np.sqrt(Pxx_resp)/norm\n",
    "\n",
    "# get the predicted filter frequency response using signal.freqz:\n",
    "Nc = 2000\n",
    "filt_resp = np.ones(Nc)\n",
    "for coef in coefs:\n",
    "    b,a = coef\n",
    "    w,r = signal.freqz(b,a,worN=Nc)\n",
    "    filt_resp = filt_resp*np.abs(r)\n",
    "freqf = (fs * 0.5 / np.pi) * w\n",
    "# We \"double pass\" the filtering using filtfilt, so we square the filter response\n",
    "filt_resp = filt_resp**2\n",
    "\n",
    "# plot the ASDs\n",
    "plt.figure()\n",
    "plt.plot(freqs,  asd_data,'b',label='white noise')\n",
    "plt.plot(freqs,  asd_resp,'m',label='filtered white noise')\n",
    "plt.plot(freqf, filt_resp,'k--',label='filter response')\n",
    "plt.xlim([0,600])\n",
    "plt.grid('on')\n",
    "plt.ylabel('ASD (strain/rtHz)')\n",
    "plt.xlabel('Freq (Hz)')\n",
    "plt.legend(loc='center right')\n",
    "plt.savefig('GW150914_filter.png')"
   ]
  },
  {
   "cell_type": "markdown",
   "metadata": {
    "deletable": true,
    "editable": true
   },
   "source": [
    "From the above, you can see that the gaussian noise (blue) is \"white\" - it is flat in frequency (all the way up to Nyquist frequency of 2048 Hz, but we'lve cut it off at 600 Hz to see the effect of filtering). You can see in the filtered data (magenta) the effects of the bandpassing and the notches.\n",
    "\n",
    "Now let's filter the data, and plot the results:"
   ]
  },
  {
   "cell_type": "code",
   "execution_count": 46,
   "metadata": {
    "collapsed": false,
    "deletable": true,
    "editable": true,
    "jupyter": {
     "outputs_hidden": false
    }
   },
   "outputs": [
    {
     "data": {
      "application/vnd.jupyter.widget-view+json": {
       "model_id": "d43459e098e24c3eac2bab35f6744cc3",
       "version_major": 2,
       "version_minor": 0
      },
      "text/plain": [
       "Canvas(toolbar=Toolbar(toolitems=[('Home', 'Reset original view', 'home', 'home'), ('Back', 'Back to previous …"
      ]
     },
     "metadata": {},
     "output_type": "display_data"
    },
    {
     "data": {
      "application/vnd.jupyter.widget-view+json": {
       "model_id": "41fb00f443c845818c1bcec23a898717",
       "version_major": 2,
       "version_minor": 0
      },
      "text/plain": [
       "Canvas(toolbar=Toolbar(toolitems=[('Home', 'Reset original view', 'home', 'home'), ('Back', 'Back to previous …"
      ]
     },
     "metadata": {},
     "output_type": "display_data"
    }
   ],
   "source": [
    "# filter the data:\n",
    "strain_H1_filt = filter_data(strain_H1, coefs)\n",
    "strain_L1_filt = filter_data(strain_L1, coefs)\n",
    "\n",
    "# filter NR template as we do with the data:\n",
    "NR_H1_filt = filter_data(NR_H1, coefs)\n",
    "\n",
    "# plot the data prior to filtering:\n",
    "plt.figure()\n",
    "plt.plot(time-tevent,strain_H1,'r',label='H1 strain')\n",
    "plt.plot(time-tevent,strain_L1,'g',label='L1 strain')\n",
    "plt.xlim([-0.2,0.1])\n",
    "plt.xlabel('time (s) since '+str(tevent))\n",
    "plt.ylabel('strain')\n",
    "plt.legend(loc='lower right')\n",
    "plt.title('aLIGO strain data near GW150914')\n",
    "plt.savefig('GW150914_H1_strain_unfiltered.png')\n",
    "\n",
    "# plot the data after filtering:\n",
    "# first, shift L1 by 7 ms, and invert. See the GW150914 detection paper for why!\n",
    "strain_L1_fils = -np.roll(strain_L1_filt,int(0.007*fs))\n",
    "# We also have to shift the NR template by 2 ms to get it to line up properly with the data\n",
    "plt.figure()\n",
    "plt.plot(time-tevent,strain_H1_filt,'r',label='H1 strain')\n",
    "plt.plot(time-tevent,strain_L1_fils,'g',label='L1 strain')\n",
    "plt.plot(NRtime+0.002,NR_H1_filt,'k',label='matched NR waveform')\n",
    "plt.xlim([-0.2,0.1])\n",
    "plt.ylim([-1.5e-21,1.5e-21])\n",
    "plt.xlabel('time (s) since '+str(tevent))\n",
    "plt.ylabel('strain')\n",
    "plt.legend(loc='lower left')\n",
    "plt.title('aLIGO FILTERED strain data near GW150914')\n",
    "plt.savefig('GW150914_H1_strain_filtered.png')"
   ]
  },
  {
   "cell_type": "markdown",
   "metadata": {
    "deletable": true,
    "editable": true
   },
   "source": [
    "The filtered data peak at around 1.e-21, 1000 times smaller than the scale in the first plot. The \"DC\" offset between H1 and L1 data visible in the first plot is no longer visible here; the bandpassing cuts off frequency components below around 40 Hz. \n",
    "\n",
    "Now, as with whitening, the signal is visible as an oscillation sweeping from low to high frequency from -0.10 seconds to 0, then damping down into the random noise. Again, it looks roughly the same in both detectors, after shifting and flipping the L1 data with respect to H1. It's exactly the kind of signal we expect from the inspiral, merger and ringdown of two massive black holes.\n",
    "\n",
    "And as with whitening, the NR waveform looks, by eye, to be a good match to the data in both detectors; the signal is consistent with the waveform predicted from General Relativity."
   ]
  },
  {
   "cell_type": "markdown",
   "metadata": {
    "deletable": true,
    "editable": true
   },
   "source": [
    "## Make sound files\n",
    "\n",
    "Make wav (sound) files from the filtered, downsampled data, +-2s around the event."
   ]
  },
  {
   "cell_type": "code",
   "execution_count": 47,
   "metadata": {
    "collapsed": false,
    "deletable": true,
    "editable": true,
    "jupyter": {
     "outputs_hidden": false
    }
   },
   "outputs": [],
   "source": [
    "# make wav (sound) files from the whitened data, +-2s around the event.\n",
    "\n",
    "from scipy.io import wavfile\n",
    "\n",
    "# function to keep the data within integer limits, and write to wavfile:\n",
    "def write_wavfile(filename,fs,data):\n",
    "    d = np.int16(data/np.max(np.abs(data)) * 32767 * 0.9)\n",
    "    wavfile.write(filename,int(fs), d)\n",
    "\n",
    "tevent = 1126259462.422         # Mon Sep 14 09:50:45 GMT 2015 \n",
    "deltat = 2.                     # seconds around the event\n",
    "\n",
    "# index into the strain time series for this time interval:\n",
    "indxt = np.where((time >= tevent-deltat) & (time < tevent+deltat))\n",
    "\n",
    "# write the files:\n",
    "write_wavfile(\"GW150914_H1_whitenbp.wav\",int(fs), strain_H1_whitenbp[indxt])\n",
    "write_wavfile(\"GW150914_L1_whitenbp.wav\",int(fs), strain_L1_whitenbp[indxt])\n",
    "write_wavfile(\"GW150914_NR_whitenbp.wav\",int(fs), NR_H1_whitenbp)\n"
   ]
  },
  {
   "cell_type": "code",
   "execution_count": 50,
   "metadata": {},
   "outputs": [
    {
     "name": "stdout",
     "output_type": "stream",
     "text": [
      "GW150914_L1_whitenbp.wav\n"
     ]
    },
    {
     "data": {
      "text/html": [
       "\n",
       "                <audio  controls=\"controls\" >\n",
       "                    <source src=\"data:audio/x-wav;base64,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\" type=\"audio/x-wav\" />\n",
       "                    Your browser does not support the audio element.\n",
       "                </audio>\n",
       "              "
      ],
      "text/plain": [
       "<IPython.lib.display.Audio object>"
      ]
     },
     "execution_count": 50,
     "metadata": {},
     "output_type": "execute_result"
    }
   ],
   "source": [
    "fss = [\"GW150914_H1_whitenbp.wav\",\"GW150914_L1_whitenbp.wav\",\"GW150914_NR_whitenbp.wav\"]\n",
    "\n",
    "thisfile = fss[1]\n",
    "print(thisfile)\n",
    "Audio(thisfile)"
   ]
  },
  {
   "cell_type": "markdown",
   "metadata": {
    "deletable": true,
    "editable": true
   },
   "source": [
    "With good headphones, you'll hear a faint thump in the middle.\n",
    "\n",
    "We can enhance this by increasing the frequency; \n",
    "this is the \"audio\" equivalent of the enhanced visuals that NASA employs on telescope images with \"false color\".\n",
    "\n",
    "The code below will shift the data up by 400 Hz (by taking an FFT, shifting/rolling the frequency series, then inverse fft-ing). The resulting sound file will be noticibly more high-pitched, and the signal will be easier to hear."
   ]
  },
  {
   "cell_type": "code",
   "execution_count": 52,
   "metadata": {
    "collapsed": false,
    "deletable": true,
    "editable": true,
    "jupyter": {
     "outputs_hidden": false
    }
   },
   "outputs": [],
   "source": [
    "# function that shifts frequency of a band-passed signal\n",
    "def reqshift(data,fshift=100,sample_rate=4096):\n",
    "    \"\"\"Frequency shift the signal by constant\n",
    "    \"\"\"\n",
    "    x = np.fft.rfft(data)\n",
    "    T = len(data)/float(sample_rate)\n",
    "    df = 1.0/T\n",
    "    nbins = int(fshift/df)\n",
    "    # print T,df,nbins,x.real.shape\n",
    "    y = np.roll(x.real,nbins) + 1j*np.roll(x.imag,nbins)\n",
    "    z = np.fft.irfft(y)\n",
    "    return z\n",
    "\n",
    "# parameters for frequency shift\n",
    "fs = 4096\n",
    "fshift = 400.\n",
    "speedup = 1.\n",
    "fss = int(float(fs)*float(speedup))\n",
    "\n",
    "# shift frequency of the data\n",
    "strain_H1_shifted = reqshift(strain_H1_whitenbp,fshift=fshift,sample_rate=fs)\n",
    "strain_L1_shifted = reqshift(strain_L1_whitenbp,fshift=fshift,sample_rate=fs)\n",
    "NR_H1_shifted = reqshift(NR_H1_whitenbp,fshift=fshift,sample_rate=fs)\n",
    "\n",
    "# write the files:\n",
    "write_wavfile(\"GW150914_H1_shifted.wav\",int(fs), strain_H1_shifted[indxt])\n",
    "write_wavfile(\"GW150914_L1_shifted.wav\",int(fs), strain_L1_shifted[indxt])\n",
    "write_wavfile(\"GW150914_NR_shifted.wav\",int(fs), NR_H1_shifted)\n"
   ]
  },
  {
   "cell_type": "markdown",
   "metadata": {},
   "source": [
    "### Listen to the whitened template and data\n",
    "\n",
    "With good headphones, you may be able to hear a faint thump in the middle; that's our signal!"
   ]
  },
  {
   "cell_type": "code",
   "execution_count": 26,
   "metadata": {
    "collapsed": false,
    "jupyter": {
     "outputs_hidden": false
    }
   },
   "outputs": [
    {
     "name": "stdout",
     "output_type": "stream",
     "text": [
      "GW150914_H1_shifted.wav\n"
     ]
    },
    {
     "data": {
      "text/html": [
       "\n",
       "                <audio  controls=\"controls\" >\n",
       "                    <source src=\"data:audio/x-wav;base64,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\" type=\"audio/x-wav\" />\n",
       "                    Your browser does not support the audio element.\n",
       "                </audio>\n",
       "              "
      ],
      "text/plain": [
       "<IPython.lib.display.Audio object>"
      ]
     },
     "execution_count": 26,
     "metadata": {},
     "output_type": "execute_result"
    }
   ],
   "source": [
    "from IPython.display import Audio\n",
    "\n",
    "fna = \"GW150914_H1_shifted.wav\"\n",
    "print(fna)\n",
    "Audio(fna)"
   ]
  },
  {
   "cell_type": "code",
   "execution_count": 27,
   "metadata": {
    "deletable": true,
    "editable": true
   },
   "outputs": [
    {
     "data": {
      "text/html": [
       "\n",
       "                <audio  controls=\"controls\" >\n",
       "                    <source src=\"data:audio/x-wav;base64,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\" type=\"audio/x-wav\" />\n",
       "                    Your browser does not support the audio element.\n",
       "                </audio>\n",
       "              "
      ],
      "text/plain": [
       "<IPython.lib.display.Audio object>"
      ]
     },
     "execution_count": 27,
     "metadata": {},
     "output_type": "execute_result"
    }
   ],
   "source": [
    "fnb = \"GW150914_L1_shifted.wav\"\n",
    "Audio(fnb)"
   ]
  },
  {
   "cell_type": "code",
   "execution_count": 30,
   "metadata": {
    "editable": true
   },
   "outputs": [
    {
     "data": {
      "text/html": [
       "\n",
       "                <audio  controls=\"controls\" >\n",
       "                    <source src=\"data:audio/x-wav;base64,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\" type=\"audio/x-wav\" />\n",
       "                    Your browser does not support the audio element.\n",
       "                </audio>\n",
       "              "
      ],
      "text/plain": [
       "<IPython.lib.display.Audio object>"
      ]
     },
     "execution_count": 30,
     "metadata": {},
     "output_type": "execute_result"
    }
   ],
   "source": [
    "fnc = \"GW150914_NR_shifted.wav\"\n",
    "Audio(fnc)"
   ]
  },
  {
   "cell_type": "code",
   "execution_count": null,
   "metadata": {
    "collapsed": true,
    "deletable": true,
    "editable": true,
    "jupyter": {
     "outputs_hidden": true
    }
   },
   "outputs": [],
   "source": []
  },
  {
   "cell_type": "code",
   "execution_count": null,
   "metadata": {},
   "outputs": [],
   "source": []
  }
 ],
 "metadata": {
  "kernelspec": {
   "display_name": "Python 3",
   "language": "python",
   "name": "python3"
  },
  "language_info": {
   "codemirror_mode": {
    "name": "ipython",
    "version": 3
   },
   "file_extension": ".py",
   "mimetype": "text/x-python",
   "name": "python",
   "nbconvert_exporter": "python",
   "pygments_lexer": "ipython3",
   "version": "3.6.9"
  }
 },
 "nbformat": 4,
 "nbformat_minor": 4
}
