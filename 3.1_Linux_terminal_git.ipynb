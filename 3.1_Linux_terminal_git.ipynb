{
 "cells": [
  {
   "cell_type": "markdown",
   "metadata": {},
   "source": [
    "# 3.1 Linux/Unix Operating System, GNU, editors, git\n",
    "This week we will get to know the underlying computational architecture that makes applications such as JupyterLab and in fact any other application that a user accesses possible. \n",
    "\n",
    "The goal of this week is that students\n",
    "* have an understanding of the different layers of the computing infrastructure\n",
    "* can perform simple system tasks using the terminal command line\n",
    "* can use a command line editor to edit text files\n",
    "* understand the basic concepts of the distributed version control system git and use git on the command line to work with course repositories"
   ]
  },
  {
   "cell_type": "markdown",
   "metadata": {},
   "source": [
    "## Before we start:\n",
    "* Discuss quiz 1\n",
    "* Discuss soln Lab 2.2 Activity 1.2 - how to do that without `for` loop\n"
   ]
  },
  {
   "cell_type": "markdown",
   "metadata": {},
   "source": [
    "## JupyterLab\n",
    "\n",
    "The JupyterLab Abacus server is an implementation of the [CyberHubs software stack](https://iopscience.iop.org/article/10.3847/1538-4365/aab777).\n",
    "\n",
    "### Notebooks\n",
    "\n",
    "#### Keyboard shortcuts\n",
    "\n",
    "At this point we will review once more how to quickly move around in notebooks. This summary is [adapted from yoursdata.net](https://yoursdata.net/jupyter-lab-shortcut-and-magic-functions-tips/). \n",
    "1. **ESC**  takes users into command mode view while **ENTER** takes users into cell mode view. All of the following commands work only in command mode.\n",
    "2. **A**  inserts a cell above the currently selected cell. \n",
    "3. **B** inserts a cell below the currently selected cell.\n",
    "4. **D,D** = Pressing D two times in a quick succession in command mode deletes the currently selected cell. \n",
    "5. Jupyter Lab gives you an option to change your cell into Code cell or Markdown cell. You can use **M** to change current cell to a markdown cell and **Y** to change it to a code cell.\n",
    "6.    **CTRL+B** or **Cmnd+B** on Mac = toggling the file/menu view column.\n",
    "8.    **CTRL+SHIFT+–** = split the current cell into two cells from where your cursor is. \n",
    "9.     **SHIFT+J** or **SHIFT + DOWN** =  selects the next cell in a downward direction.  It will help in making multiple selections of cells.\n",
    "10.    **SHIFT + K** or **SHIFT + UP** = selects the next cell in an upwards direction. It will help in making multiple selections of cells.\n",
    "11.    **CTRL + /** or **Cmnd + /** = commenting or uncommenting present line or selection of lines in edit mode.\n",
    "12. **CTRL + ]** or **Cmnd + ]**  indents selected lines while **CTRL + [** or **Cmnd + [** on a Mac outdents selected lines."
   ]
  },
  {
   "cell_type": "markdown",
   "metadata": {},
   "source": [
    "#### Magic functions\n",
    "\n",
    "There are a number of so-called _magic functions_ that do useful things in JupyterLab (actuall in the underlying ipython framework).\n",
    "\n",
    "The most often used is `%pylab ipympl` which loads numpy and matlplotlib into the current namespace. Then numpy functions and matplotlib commands appear without prefix in the current namespace. This is convenient, but must be kept in mind!\n",
    "\n",
    "This  [yoursdata.net page](https://yoursdata.net/jupyter-lab-shortcut-and-magic-functions-tips/) also contains a number of useful magic functions. You will find more when you search for them. "
   ]
  },
  {
   "cell_type": "code",
   "execution_count": null,
   "metadata": {},
   "outputs": [],
   "source": [
    "%pylab ipympl"
   ]
  },
  {
   "cell_type": "code",
   "execution_count": null,
   "metadata": {},
   "outputs": [],
   "source": [
    "sqrt(2.)"
   ]
  },
  {
   "cell_type": "markdown",
   "metadata": {},
   "source": [
    "#### Markdown cells and Latex\n",
    "In this section we will introduce [Markdown](https://www.markdownguide.org/cheat-sheet) and [Latex](https://www.latex-project.org/) editing in text cells. The introduction will be short, and more information can be found in this [Latex Tutorial](https://www.latex-tutorial.com/tutorials/beginners/latex-amsmath), or any other of the many resources available online. \n",
    "\n",
    "Both Markdown and Latex (as well as html) are _markup_ typesetting languages as opposed to Word, Pages or OpenOffice which are WYSIWYG _word processing_ programs. This can be a long discussion, the bottom line is: _Learn Markdown!_.\n",
    "\n",
    "\n",
    "**Markdown by example:**"
   ]
  },
  {
   "cell_type": "markdown",
   "metadata": {},
   "source": [
    "##### Latex\n",
    "\n",
    "This is in line formula, $\\nu = \\sum x_i$ in a floating text, while this is a set out formula:\n",
    "$$\\mu = \\int x_i$$  \n",
    "This is a matrix:\n",
    "$$\n",
    "\\begin{matrix}\n",
    "a_{11} & a_{12}\\\\\n",
    "a_{21} & a_{22}\n",
    "\\end{matrix}\n",
    "$$\n"
   ]
  },
  {
   "cell_type": "markdown",
   "metadata": {},
   "source": [
    "##### Links \n",
    "![example figure](Figs/fig_circle_pi.jpg)\n",
    "\n",
    "[This is a link](http://csa.phys.uvic.ca)\n",
    "\n",
    "##### Type setting code\n",
    "\n",
    "Here is the type setting for code: `for i in range(5):` and now follows some code block:\n",
    "\n",
    "```Python\n",
    "# comment: list example\n",
    "mylist = ['zero','one','two','three']\n",
    "for i,thing in enumerate(mylist):\n",
    "    print(i,thing)\n",
    "```"
   ]
  },
  {
   "cell_type": "markdown",
   "metadata": {},
   "source": [
    "##### Lists and tables\n",
    "Here is a list:\n",
    "\n",
    "1. item 1\n",
    "1. item 2\n",
    "    - item 2.1\n",
    "    - item 2.2\n",
    "2. item 3\n",
    "\n",
    "Here is a table:\n",
    "\n",
    "Name | Age | town\n",
    "-----|-----|-----\n",
    "Paul | 23  | Frankfurt\n",
    "Marco| 12  | Milano"
   ]
  },
  {
   "cell_type": "markdown",
   "metadata": {},
   "source": [
    "Markdown cells allow you to combine formatted text and even math equations with code cells that contain python code to calculate results and make plots. For example, these are the typical steps in solving a simple problem:\n",
    "\n",
    "\n",
    "1. Create a code cell and define a few constants, such as $\\pi$ and the speed of light.\n",
    "2. Create Markdown cell and **describe** how you can use these constants to calculate the time delay for a long-wave radio transmission from the aequator to the north pole. Use $\\LaTeX$ in markdown cells for type setting math formulas.\n",
    "3. Create a code cell to carry out your calculation. Add reasonable comments.\n",
    "4. Add a final markdown cell to summarize your finding.\n",
    "\n",
    "**Example:**\n",
    "\n",
    "Estimate the time it takes a radio wave to travel from the equator to the North Pole.\n",
    "\n",
    "---\n"
   ]
  },
  {
   "cell_type": "code",
   "execution_count": null,
   "metadata": {},
   "outputs": [],
   "source": [
    "import numpy as np\n",
    "from astropy import constants"
   ]
  },
  {
   "cell_type": "code",
   "execution_count": null,
   "metadata": {},
   "outputs": [],
   "source": [
    "c = constants.c\n",
    "pi = np.pi\n",
    "R_earth = constants.R_earth"
   ]
  },
  {
   "cell_type": "markdown",
   "metadata": {},
   "source": [
    "Starting with the earth radius of approximately $r = 6000\\mathrm{km}$ the circumference of the earth can be estimate. The distance from the equator to the north pole is 1/4 of that. Dividing the distance by the speed of light gives the desired estimate.\n",
    "\n",
    "$$\n",
    "\\Delta t = \\frac{d}{c}\n",
    "$$\n",
    "where $c$ is the speed of light and $d$ is the distance from the equator to the North pole. It is calculate with\n",
    "$$\n",
    "d = \\frac{2\\pi r}{4}\n",
    "$$\n"
   ]
  },
  {
   "cell_type": "code",
   "execution_count": null,
   "metadata": {},
   "outputs": [],
   "source": [
    "d = 2*pi*R_earth/4\n",
    "delta_t = d/c\n",
    "print(\"The distance is   {:.1f}\".format(d.to('km')))\n",
    "print(\"The time delay is {:.3g}\".format(delta_t.to('s')))"
   ]
  },
  {
   "cell_type": "markdown",
   "metadata": {},
   "source": [
    "**Discussion:** Radio waves may zigzag some longer path bouncing at the [ionosphere](https://en.wikipedia.org/wiki/Ionosphere).  So this is just an approximation. \n",
    "\n",
    "---"
   ]
  },
  {
   "cell_type": "markdown",
   "metadata": {},
   "source": [
    "### Terminal, Markdown documents and text editor\n",
    "Explore the other features of the JupyterLab environment. \n",
    "* Open a terminal, a Markdown document and a text editor. \n",
    "* Change the notebook kernel.\n"
   ]
  },
  {
   "cell_type": "markdown",
   "metadata": {},
   "source": [
    "### Restarting the JupyterLab application\n",
    "Sometimes you may want to restart the JupyterLab application. You can do that by going to the _File_ menu and select _Hub Control Panel_. Then _Stop Server_ and wait until you see just the _Start Server_ button. Then you get back to the Spawner menu and can restart. \n",
    "\n",
    "* Save and shutdown notebooks, restart your application now, meanwhile instructor will rename your `mp248-course-notes` directory to `mp248-course-notes.week_1and2`"
   ]
  },
  {
   "cell_type": "markdown",
   "metadata": {},
   "source": [
    "## Software and hardware\n",
    "\n",
    "\n",
    "_Computer software, or simply [software](https://en.wikipedia.org/wiki/Software), is a collection of data or computer instructions that tell the computer how to work._ \n",
    "\n",
    "The software is executed on [computer hardware](https://en.wikipedia.org/wiki/Computer_hardware). Computer hardware examples:\n",
    "#### Desktop\n",
    "![Desktop](https://upload.wikimedia.org/wikipedia/commons/thumb/a/ac/Computer_from_inside_018.jpg/1280px-Computer_from_inside_018.jpg)\n",
    "\n",
    "The core computing engine of the Desktop is the [central processing unit (CPU)](https://en.wikipedia.org/wiki/Central_processing_unit). Today, all CPUs have multiple cores.\n",
    "Here is an example of an 8-core Haswell-E processor from Intel:\n",
    "\n",
    "![8-core Haswell-E processor](https://images.techhive.com/images/article/2014/08/hsw-e-die-mapping-hi-res-100410981-large.png)\n",
    "\n",
    "\n",
    "\n",
    "#### Supercomputer\n",
    "As an example, below is a picture of one of _many_ rows of the [5th-fastest supercomputer Frontera](https://www.tacc.utexas.edu/-/frontera-named-5th-fastest-supercomputer-in-the-world) at [Texas Advanced Computing Center](https://www.tacc.utexas.edu)\n",
    "![Frontera](https://www.tacc.utexas.edu/image/journal/article?img_id=1747246&t=1560793176497).\n",
    "\n",
    "You can think of a supercomputer as a very large room with racks with thousands of desktop computers (called nodes) that are all connected via [network cable connections](https://media.wired.com/photos/5c5241d895d28a2cb5b76db3/master/w_2560%2Cc_limit/Ai-Computer-MAIN.jpg). Each node has [dozens of CPU cores](https://en.wikipedia.org/wiki/Multi-core_processor). \n",
    "Canada's fastest academic supercomputer is [Niagara](https://docs.computecanada.ca/wiki/Niagara) operated by [SciNet](https://www.scinethpc.ca/) and [Compute Canada](https://www.computecanada.ca)."
   ]
  },
  {
   "cell_type": "markdown",
   "metadata": {},
   "source": [
    "#### Using a supercomputer like Frontera\n",
    "In order to use the combined computing power of a supercomputer like Frontera or Niagara one needs to write programs that execute many floating point operations and program parts _in parallel_. This approach is called [parallel computing](https://en.wikipedia.org/wiki/Parallel_computing). Parallel computing has various layers and technical implementations. At the lowest level is a parallism that is called [SIMD](https://en.wikipedia.org/wiki/SIMD) which stands for _single instruction multiple data_. It is the core idea of vector processing, and this is helped by avoiding loops in your programming.  \n",
    "\n",
    "Here is a screenshot of the terminal output of the `sbatch` terminal command on the Frontera supercomputer on October 27, 2019. The command line options are such that the output contains certain quantities, formatted in a certain way. The command line options also ensure that **all** jobs running at the time are shown.\n",
    "\n",
    "![Frontera run queue](./Figs/Frontera-run-queue-Oct27-2019.png)\n",
    "\n",
    "\n",
    "#### Software layers on top of the hardware\n",
    "We can distringuish different layers in the computer infrastructure which together deliver an application to the user. The bottom layer is the hardware. It is controlled and interacted with via the operating system. On top of the operating system are one or more layers of application software. Finally the user is interacting with the _user-facing_ software application layer. \n",
    "\n",
    "![computer_layers](./Figs//1024px-Operating_system_placement_%28software%29.svg.png)\n",
    "\n",
    "#### The terminal\n",
    "In order to install, configure, create and modify application software we need to access the operating system layer. This is done via a command line interface, the terminal. There are commands that can be typed on the command line. These commands will execute programs that perform the various tasks. Commands have _command line options_ that modify the behaviour to these commands.`"
   ]
  },
  {
   "cell_type": "markdown",
   "metadata": {},
   "source": [
    "## Introduction to the command line\n",
    "In this section we will cover the most basic terminal commands of the [GNU/Linux](https://www.gnu.org/gnu/linux-and-gnu.en.html). More advanced commands will be covered in the next class.\n",
    "\n",
    "### Shell\n",
    "The program that provides the command line (not all of the commands) is the shell. A common shell is `bash`. Each command has a _manual_ page that provides detailed information of the command. You can access the the manual page with the `man` command, or via your web browser, such as the [man page for bash](http://manpages.ubuntu.com/manpages/bionic/en/man1/bash.1.html).\n",
    "\n",
    "**Note:** You will have to restart your application in order to get the `man` command on the command line, as this required and update to the underlying JupyterLab (Docker) image. \n",
    "\n",
    "The _shell_ `bash` really is a sophisticated programming language in itself. Check the `bash` manual page to get an idea what the scope is. Fortunately, we only need a very small subset of capabilities! \n",
    "\n",
    "The command line is a Linux process. Launching a command on the command line interface (CLI) spawns a child process. You can see a self-updating list of processes in your instance by using the `top` command, leave that program by hitting the `q` key. Each process as a process ID (PID) and top shows you the CPU and memory usage as well as the time a process has run.  "
   ]
  },
  {
   "cell_type": "markdown",
   "metadata": {},
   "source": [
    "### Basic file system commands\n",
    "\n",
    "Files are organized in a [hierachical tree structure](https://docstore.mik.ua/orelly/unix/upt/ch01_19.htm).\n",
    "\n",
    "command | what it does\n",
    "--------|--------------\n",
    "  `pwd` | present working directory\n",
    "  `ls`  | list directory content\n",
    "  `cd`  | change working directory\n",
    "  `mkdir` | make directory\n",
    "  `cp`  | copy\n",
    "  `mv`  | move\n",
    "  `rm`  | remove\n",
    "  `du`  | disk usage\n",
    "  `cat` | concatenate, with just one file as argument: show content of file\n",
    "\n",
    "Notice how the name are memnonic. \n",
    "\n",
    "Tip 1: In a Python notebook individual cells can be turned into a bash shell with `%%bash` magic command."
   ]
  },
  {
   "cell_type": "code",
   "execution_count": null,
   "metadata": {},
   "outputs": [],
   "source": [
    "%%bash\n",
    "pwd"
   ]
  },
  {
   "cell_type": "markdown",
   "metadata": {},
   "source": [
    "Executing just one shell command in a Python notebook can often be done with a preceding exclamation mark:"
   ]
  },
  {
   "cell_type": "code",
   "execution_count": null,
   "metadata": {},
   "outputs": [],
   "source": [
    "!pwd"
   ]
  },
  {
   "cell_type": "markdown",
   "metadata": {},
   "source": [
    "For the rest of this notebook we will switch the kernel of this notebook to `bash`. "
   ]
  },
  {
   "cell_type": "code",
   "execution_count": null,
   "metadata": {},
   "outputs": [],
   "source": [
    "ls /"
   ]
  },
  {
   "cell_type": "code",
   "execution_count": null,
   "metadata": {},
   "outputs": [],
   "source": [
    "ls /home/user\n"
   ]
  },
  {
   "cell_type": "code",
   "execution_count": null,
   "metadata": {},
   "outputs": [],
   "source": [
    "cd"
   ]
  },
  {
   "cell_type": "code",
   "execution_count": null,
   "metadata": {},
   "outputs": [],
   "source": [
    "pwd"
   ]
  },
  {
   "cell_type": "code",
   "execution_count": null,
   "metadata": {},
   "outputs": [],
   "source": [
    "cd mp248-course-notes"
   ]
  },
  {
   "cell_type": "code",
   "execution_count": null,
   "metadata": {},
   "outputs": [],
   "source": [
    "ls -1 [12].*"
   ]
  },
  {
   "cell_type": "code",
   "execution_count": null,
   "metadata": {},
   "outputs": [],
   "source": [
    "cd ..;pwd"
   ]
  },
  {
   "cell_type": "code",
   "execution_count": null,
   "metadata": {},
   "outputs": [],
   "source": [
    "cd mp248-course-notes"
   ]
  },
  {
   "cell_type": "code",
   "execution_count": null,
   "metadata": {},
   "outputs": [],
   "source": [
    "pwd"
   ]
  },
  {
   "cell_type": "code",
   "execution_count": null,
   "metadata": {},
   "outputs": [],
   "source": [
    "cd ; pwd"
   ]
  },
  {
   "cell_type": "code",
   "execution_count": null,
   "metadata": {},
   "outputs": [],
   "source": [
    "!pwd"
   ]
  },
  {
   "cell_type": "code",
   "execution_count": null,
   "metadata": {},
   "outputs": [],
   "source": [
    "mkdir testdir"
   ]
  },
  {
   "cell_type": "code",
   "execution_count": null,
   "metadata": {},
   "outputs": [],
   "source": [
    "ls"
   ]
  },
  {
   "cell_type": "code",
   "execution_count": null,
   "metadata": {},
   "outputs": [],
   "source": [
    "cd testdir"
   ]
  },
  {
   "cell_type": "code",
   "execution_count": null,
   "metadata": {},
   "outputs": [],
   "source": [
    "pwd"
   ]
  },
  {
   "cell_type": "code",
   "execution_count": null,
   "metadata": {},
   "outputs": [],
   "source": [
    "cp ../mp248-course-notes/1.1_Lab.ipynb ."
   ]
  },
  {
   "cell_type": "code",
   "execution_count": null,
   "metadata": {},
   "outputs": [],
   "source": [
    "ls"
   ]
  },
  {
   "cell_type": "code",
   "execution_count": null,
   "metadata": {},
   "outputs": [],
   "source": [
    "cp 1.1_Lab.ipynb 1.1_Lab.ipynb.bak"
   ]
  },
  {
   "cell_type": "code",
   "execution_count": null,
   "metadata": {},
   "outputs": [],
   "source": [
    "rm 1.1_Lab.ipynb"
   ]
  },
  {
   "cell_type": "code",
   "execution_count": null,
   "metadata": {},
   "outputs": [],
   "source": [
    "pwd"
   ]
  },
  {
   "cell_type": "code",
   "execution_count": null,
   "metadata": {},
   "outputs": [],
   "source": [
    "cd .."
   ]
  },
  {
   "cell_type": "code",
   "execution_count": null,
   "metadata": {},
   "outputs": [],
   "source": [
    "cp -rf testdir testdir.bak"
   ]
  },
  {
   "cell_type": "code",
   "execution_count": null,
   "metadata": {},
   "outputs": [],
   "source": [
    "rm -rf testdir    # -r recursively, -f force (don't ask for confirmation)\n",
    "                  #  THIS COMBINATION IS DANGEROUS - SIT ON YOUR HANDS BEFORE HITTING RETURN"
   ]
  },
  {
   "cell_type": "code",
   "execution_count": null,
   "metadata": {},
   "outputs": [],
   "source": [
    "ls"
   ]
  },
  {
   "cell_type": "markdown",
   "metadata": {},
   "source": [
    "#### The home directory\n",
    "Every user has a user name on a Linux/GNU system. Normally the user name is some variation of your name, e.g. my username on most systems is `fherwig`. In the JupyterLab session everybody is operating in a Docker container which is an instance (or clone) of the same Docker image. Due to the particular way the JupyterLab server is configured, every user has the user name `user`. \n",
    "\n",
    "The home directory is a directory in the top-level directory `/home` in which the user _lives_ and has their own files. You can always get to your home directory with the command `cd` without arguments."
   ]
  },
  {
   "cell_type": "code",
   "execution_count": null,
   "metadata": {},
   "outputs": [],
   "source": [
    "cd"
   ]
  },
  {
   "cell_type": "code",
   "execution_count": null,
   "metadata": {},
   "outputs": [],
   "source": [
    "pwd"
   ]
  },
  {
   "cell_type": "markdown",
   "metadata": {},
   "source": [
    "### Networking and compressing data\n",
    "We will introduce just two of the many more advanced command-line programs available.\n",
    "\n",
    "A key element of computing is to work accross different computers using the internet network. You do that all the time with specific applications, such as the web browser and most apps on your phone. \n",
    "\n",
    "#### ssh\n",
    "`ssh` stands for _secure shell_ and is a program that allows you to login to or visit a different, remote compute via the terminal. The ssh program is also used by various applications to facilitate authenticated exchange of information. To be _secure_ ssh uses encryption, and in order to facilitate that the user needs to setup a public and a private _key_. \n",
    "\n",
    "#### Compression\n",
    "Data can often be compressed to save disk space. For example, imagine you have a large file that contains ~1000 times the number `0` and only a couple times the number `1`. You can imagine that there are ways to store that information that are more efficient than actually saving 1000 numbers. [Data compression](https://en.wikipedia.org/wiki/Data_compression) is a whole topic in its own right. \n",
    "\n",
    "`zip` is a program to compress files or entire directories. Check the syntax in the man page. The compressed file can be uncompressed with the `unzip` program.\n",
    "\n",
    "**Example:**\n",
    "```bash\n",
    " ls -laRt / > dirs.txt\n",
    " zip dirs.zip dirs.txt\n",
    "```\n",
    "\n",
    "The `>` means that the output of the first command `ls -laRt /` is redirected into the file with the following name. The `ls` command-line options `-laRt` stand for long output, all files (including the otherwise hidden files starting with a dot), recursive, sorted by creation time. You can find detailed information about these and many other arguments in the `man` page. \n",
    "\n",
    "The size of a file can be determined and shown with the program `du` (disk usage):\n",
    "```bash\n",
    "du -sh dir*\n",
    "```"
   ]
  },
  {
   "cell_type": "markdown",
   "metadata": {},
   "source": [
    "### Command line editor\n",
    "\n",
    "You have to pick one of these CLI editors: `nano` is the easiest for beginners, `emacs` and `vi` are more powerful but initially more difficult to learn. Find a tutorial, for example [this for emacs](https://www.digitalocean.com/community/tutorials/how-to-use-the-emacs-editor-in-linux), [this one for vi](https://www.tutorialspoint.com/unix/unix-vi-editor.htm) or [this for nano](https://www.howtogeek.com/howto/42980/the-beginners-guide-to-nano-the-linux-command-line-text-editor/) (although nano is self-guided). Take an hour to familiarize yourself with one of these. "
   ]
  },
  {
   "cell_type": "markdown",
   "metadata": {},
   "source": [
    "## Distributed version control - Git"
   ]
  },
  {
   "cell_type": "markdown",
   "metadata": {},
   "source": [
    "In this class we  share lecture notes, assignments, lab notebooks, examples, exams etc. in the same way software development teams would. In any such team it would be important not only to share pieces of code and other information but to attribute it, and to document when and where work has been added and changes have been made. In this way the team can review changes to a previous version, find bugs and easily use and relate to previous versions. Another advantage is that everybody can make changes to their own copy and later merge the changes back to a common code base. We will adopt the _distributed version control system_ [git](https://en.wikipedia.org/wiki/Git).\n",
    "\n",
    "**IMPORTANT: DO NOT YET DO ANYTHING REGARDING GIT CONFIGURATION - WE WILL DO THIS TOGETHER IN THE LAB**\n",
    "\n",
    "### Basic concepts\n",
    "Explain basic concept along figures in intro chapters in the [Pro Git book](http://www.git-scm.com/book/en/v2), including\n",
    "\n",
    "* [Chapter 1.1: The basic idea of a distributed version control system](https://git-scm.com/book/en/v2/Getting-Started-About-Version-Control)\n",
    "* [Chapter 1.3: How Git works](https://git-scm.com/book/en/v2/Getting-Started-What-is-Git%3F)\n",
    "* Follow [1.6 Getting Started - First-Time Git Setup](https://git-scm.com/book/en/v2/Getting-Started-First-Time-Git-Setup) to configure your git installation.\n",
    "* Follow [Chapter 2.1 Git Basics - Getting a Git Repository](https://git-scm.com/book/en/v2/Git-Basics-Getting-a-Git-Repository) to create the repo\n",
    "* Chatper 2.2: [Git: recording changes](https://git-scm.com/book/en/v2/Git-Basics-Recording-Changes-to-the-Repository)\n"
   ]
  },
  {
   "cell_type": "markdown",
   "metadata": {},
   "source": [
    "#### Recall the most important concepts\n",
    "A repository of files is simply a collection of files, e.g. of notebooks, text files, program files, picture files, data files. These files belong to a common project or theme. \n",
    "\n",
    "##### Distributed version control\n",
    "A DVC system keeps independent clones of the same _repository of files_ in sync. It allows to make changes to one clone and update the other clones in a systematic non-destructive fashion.\n",
    "![DVC](./Figs/Distributed-version-control.png)\n",
    "\n",
    "##### Git snapshots\n",
    "Git thinks about its data or files like a stream of snapshots.\n",
    "![Git-snapshots.png](./Figs/Git-snapshots.png)\n",
    "\n",
    "##### Three states of git\n",
    "Git has three main states that your files can reside in: _modified_, _staged_, and _committed_:\n",
    "![Git-three-stages.png](./Figs/Git-three-stages.png)\n",
    "\n",
    "##### The life cycle of a document/file in git\n",
    "Each file in your working directory can be in one of two states: tracked or untracked. If the file is _tracked_ then it is either _modified_, _staged_, or _committed_\n",
    "\n",
    "![Git-lifecycle.png](./Figs/Git-lifecycle.png)\n"
   ]
  },
  {
   "cell_type": "markdown",
   "metadata": {},
   "source": [
    "### The most important git commands\n",
    "\n",
    "#### Initialize your git identity\n",
    "\n",
    "This is only done once:\n",
    "\n",
    "* `git config --global user.name \"John Doe\" `\n",
    "* `git config --global user.email johndoe@example.com`\n",
    "\n",
    "\n",
    "#### Make a new repository\n",
    "\n",
    "Log in to the GitLab server, and create a new project:\n",
    "\n",
    "![create-new-project](./Figs/GitLab-new-project.png)\n",
    "\n",
    "Enter for the name of the project: `mp248`. Leave the Visibility level to _Private_. Select the option _Initialize repository with a README_.\n",
    "\n",
    "![initialize_new_project](./Figs/GitLab-initialize-project.png)\n",
    "\n",
    "Ignore/dismiss any warnings at the top. \n",
    "\n",
    "Your repo is now created on the server. Next, clone it into your JupyterLab session. \n",
    "\n",
    "\n",
    "#### Clone an existing repo\n",
    "\n",
    "Select the _Clone_ menu on the right. Copy the clone url, use the _ssh_ option after you have done the ssh key configuration in the lab!\n",
    "\n",
    "![clone menu](./Figs/Git-copy-clone-url.png)\n",
    "\n",
    "\n",
    "Back to the terminal in the JupyterLab session: \n",
    "`git clone ssh://git@abacus.phys.uvic.ca:2233/username/name-of-repo.git`\n",
    "\n",
    "This will create a directory with the name `name-of-repo` that  contains the repository files.\n",
    "\n",
    "#### Commands to interact with an existing git repository\n",
    "In order to launch these commands you must be inside a directory that is a git repository.\n",
    "\n",
    "Command | Comment\n",
    "--------|--------\n",
    "`git status` | show the status of a repository\n",
    "`git add` | add file to be stagged for next commit, will add file to be tracked if previously untracked\n",
    "`git commit -m  \"commit message\"`| commit files that are stagged to next versioned snapshot (called a _commit_)\n",
    "`git push` | synchronize with the remote repository clone\n",
    "`git pull` | fetch the latest version of the remote repository and merge it with your version\n",
    "\n",
    "**Note:** `git pull` is a combination of `git fetch` and `git merge`. `git pull` will fail if you have made uncommitted changes to one or several of the tracked files. You will then have to `git checkout` the respective file, or you will have to `add/commit` the file so that it can then be merged with the version on the repository. In some cases the merge cannot be completed automatically, e.g. if the remote and the local commit have changed the same part of the file. In that case a manual resolution of the conflict is required. This is an advanced topic. "
   ]
  },
  {
   "cell_type": "code",
   "execution_count": null,
   "metadata": {},
   "outputs": [],
   "source": []
  },
  {
   "cell_type": "code",
   "execution_count": null,
   "metadata": {},
   "outputs": [],
   "source": []
  }
 ],
 "metadata": {
  "kernelspec": {
   "display_name": "Bash",
   "language": "bash",
   "name": "bash"
  },
  "language_info": {
   "codemirror_mode": "shell",
   "file_extension": ".sh",
   "mimetype": "text/x-sh",
   "name": "bash"
  }
 },
 "nbformat": 4,
 "nbformat_minor": 4
}
