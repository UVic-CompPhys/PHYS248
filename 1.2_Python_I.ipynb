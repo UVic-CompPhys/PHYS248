{
 "cells": [
  {
   "cell_type": "markdown",
   "metadata": {},
   "source": [
    "# 1.2 Intro to Python I\n",
    "This is the second part of _Intro to Python I_.\n",
    "\n",
    "Start with review of last lecture.\n",
    "\n",
    "In this lecture we will cover\n",
    "* Data types II\n",
    "    - Type of a variable and type conversion\n",
    "    - Boolean\n",
    "    - Array review: slicing, index arrays, masks\n",
    "* Intro to libraries\n",
    "    - Loading libraries, Python name space and the doc string\n",
    "    - Four different ways to do `sqrt`\n",
    "* Flow control \n",
    "    - `if`, `for` loop, `while`, `try`\n",
    "    - Avoiding loops\n",
    "* Example\n",
    "    - Fahrenheit-Celsius temperature table\n",
    "* JupyterLab\n",
    "    - Keyboard shortcuts and magic functions\n",
    "    - Terminal, Markdown documents and text editor\n"
   ]
  },
  {
   "cell_type": "markdown",
   "metadata": {},
   "source": [
    "## Data types II\n",
    "\n",
    "#### Review"
   ]
  },
  {
   "cell_type": "code",
   "execution_count": null,
   "metadata": {},
   "outputs": [],
   "source": [
    "a = 5.6                      # float\n",
    "i = 2                        # integer\n",
    "name  = 'Paul'               # string \n",
    "things = [name,5,True,(2,4)] # list of different things"
   ]
  },
  {
   "cell_type": "code",
   "execution_count": null,
   "metadata": {},
   "outputs": [],
   "source": [
    "var1 = 20\n",
    "var2 = [20, 21, 29, 4.0]"
   ]
  },
  {
   "cell_type": "markdown",
   "metadata": {},
   "source": [
    "This diagram illustrates how these variables are pointing to slots in memory (from [Langtangen](https://link.springer.com/content/pdf/10.1007%2F978-3-662-49887-3.pdf)):\n",
    "![Langtangen_Fig2.1](Figs/Langtangen_Fig2.1.png)"
   ]
  },
  {
   "cell_type": "code",
   "execution_count": null,
   "metadata": {},
   "outputs": [],
   "source": [
    "things[2:4]                  # slicing"
   ]
  },
  {
   "cell_type": "markdown",
   "metadata": {},
   "source": [
    "That last element is a tuple, with round brackets. It is similar to a list, but ..."
   ]
  },
  {
   "cell_type": "code",
   "execution_count": null,
   "metadata": {},
   "outputs": [],
   "source": [
    "tt = (1,4,6,7); ll = [1,4,6,7]"
   ]
  },
  {
   "cell_type": "code",
   "execution_count": null,
   "metadata": {},
   "outputs": [],
   "source": [
    "print(tt[2],ll[2])"
   ]
  },
  {
   "cell_type": "code",
   "execution_count": null,
   "metadata": {},
   "outputs": [],
   "source": [
    "ll[2] = 1\n",
    "print(tt[2],ll[2])"
   ]
  },
  {
   "cell_type": "code",
   "execution_count": null,
   "metadata": {},
   "outputs": [],
   "source": [
    "tt[2] = 1  # tuples are immutable!!!"
   ]
  },
  {
   "cell_type": "markdown",
   "metadata": {},
   "source": [
    "### Type of a variable and type conversion\n",
    "The `type` function returns what type a given variable is. "
   ]
  },
  {
   "cell_type": "code",
   "execution_count": null,
   "metadata": {},
   "outputs": [],
   "source": [
    "print(type(name), type(things))"
   ]
  },
  {
   "cell_type": "markdown",
   "metadata": {},
   "source": [
    "You can convert one type into another.\n",
    "\n",
    "Convert float to integer:"
   ]
  },
  {
   "cell_type": "code",
   "execution_count": null,
   "metadata": {},
   "outputs": [],
   "source": [
    "int(2.9)"
   ]
  },
  {
   "cell_type": "markdown",
   "metadata": {},
   "source": [
    "#### round\n",
    "\n",
    "The `round` function does just that:"
   ]
  },
  {
   "cell_type": "code",
   "execution_count": null,
   "metadata": {},
   "outputs": [],
   "source": [
    "# round?"
   ]
  },
  {
   "cell_type": "code",
   "execution_count": null,
   "metadata": {},
   "outputs": [],
   "source": [
    "print(round(2.9),round(2.222),round(2.222,1))"
   ]
  },
  {
   "cell_type": "code",
   "execution_count": null,
   "metadata": {},
   "outputs": [],
   "source": [
    "print(round(2.9876),type(round(2.9876)))"
   ]
  },
  {
   "cell_type": "code",
   "execution_count": null,
   "metadata": {},
   "outputs": [],
   "source": [
    "print(round(2.9876,2),type(round(2.9876,2)))"
   ]
  },
  {
   "cell_type": "code",
   "execution_count": null,
   "metadata": {},
   "outputs": [],
   "source": [
    "a = 2.494                               # round and formatted printing have \n",
    "print(round(a,2),\"{:.2f}\".format(a))    # the same outcome"
   ]
  },
  {
   "cell_type": "markdown",
   "metadata": {},
   "source": [
    "Convert integer to float:"
   ]
  },
  {
   "cell_type": "code",
   "execution_count": null,
   "metadata": {},
   "outputs": [],
   "source": [
    "i = 5\n",
    "x = float(i); print(x)"
   ]
  },
  {
   "cell_type": "markdown",
   "metadata": {},
   "source": [
    "Convert float to string:"
   ]
  },
  {
   "cell_type": "code",
   "execution_count": null,
   "metadata": {},
   "outputs": [],
   "source": [
    "str(2.4)"
   ]
  },
  {
   "cell_type": "markdown",
   "metadata": {},
   "source": [
    "Reminder: adding strings will create new strings:"
   ]
  },
  {
   "cell_type": "code",
   "execution_count": null,
   "metadata": {},
   "outputs": [],
   "source": [
    "import numpy as np\n",
    "str(i)+\" Hello \"+str(np.pi)"
   ]
  },
  {
   "cell_type": "markdown",
   "metadata": {},
   "source": [
    "Reminder formatted printing:"
   ]
  },
  {
   "cell_type": "code",
   "execution_count": null,
   "metadata": {},
   "outputs": [],
   "source": [
    "num_students = 65\n",
    "print(\"There are {num:3d} students in this class.\".format(num=num_students))"
   ]
  },
  {
   "cell_type": "markdown",
   "metadata": {},
   "source": [
    "### Boolean\n",
    "Booleans can be combined with operators into expressions which are key to the `if` statement."
   ]
  },
  {
   "cell_type": "code",
   "execution_count": null,
   "metadata": {},
   "outputs": [],
   "source": [
    "istrue = True           # boolean\n",
    "isfalse = False"
   ]
  },
  {
   "cell_type": "markdown",
   "metadata": {},
   "source": [
    "There are three logical operators: \n",
    "```Python\n",
    "and, or, not\n",
    "```"
   ]
  },
  {
   "cell_type": "code",
   "execution_count": null,
   "metadata": {},
   "outputs": [],
   "source": [
    "istrue or isfalse\n",
    "# not istrue or isfalse"
   ]
  },
  {
   "cell_type": "code",
   "execution_count": null,
   "metadata": {},
   "outputs": [],
   "source": [
    "isfalse and isfalse"
   ]
  },
  {
   "cell_type": "code",
   "execution_count": null,
   "metadata": {},
   "outputs": [],
   "source": [
    "istrue and 'Hello World!'"
   ]
  },
  {
   "cell_type": "markdown",
   "metadata": {},
   "source": [
    "[Langtangen, section 2.1.3](https://link.springer.com/content/pdf/10.1007%2F978-3-662-49887-3.pdf#page=85) on Boolean expressions ![mp248-planning-2020/Figs/Langtangen_Remark_Boolean.png](Figs/Langtangen_Remark_Boolean.png)\n",
    "\n",
    "**Boolean evaluation of an object:**\n",
    "All objects in Python can in fact be evaluated in a boolean context, and all are True except False, zero numbers, and empty strings, lists, and dictionaries"
   ]
  },
  {
   "cell_type": "code",
   "execution_count": null,
   "metadata": {},
   "outputs": [],
   "source": [
    "a = []\n",
    "bool(a)"
   ]
  },
  {
   "cell_type": "code",
   "execution_count": null,
   "metadata": {},
   "outputs": [],
   "source": [
    "a or 'Hello World!'"
   ]
  },
  {
   "cell_type": "code",
   "execution_count": null,
   "metadata": {},
   "outputs": [],
   "source": [
    "'Hello World!' or isTrue "
   ]
  },
  {
   "cell_type": "code",
   "execution_count": null,
   "metadata": {},
   "outputs": [],
   "source": [
    "istrue or 'Hello World!'  "
   ]
  },
  {
   "cell_type": "markdown",
   "metadata": {},
   "source": [
    "Look again at list of [Python operators](https://www.w3schools.com/python/python_operators.asp)."
   ]
  },
  {
   "cell_type": "code",
   "execution_count": null,
   "metadata": {},
   "outputs": [],
   "source": [
    "x = 5\n",
    "6 > x # and not x < 4 "
   ]
  },
  {
   "cell_type": "code",
   "execution_count": null,
   "metadata": {},
   "outputs": [],
   "source": [
    "x >= 5 and \"Hello World!\""
   ]
  },
  {
   "cell_type": "code",
   "execution_count": null,
   "metadata": {},
   "outputs": [],
   "source": [
    "np.pi"
   ]
  },
  {
   "cell_type": "code",
   "execution_count": null,
   "metadata": {},
   "outputs": [],
   "source": [
    "sin(np.pi) == 0."
   ]
  },
  {
   "cell_type": "markdown",
   "metadata": {},
   "source": [
    "Further [reading 1](https://linuxconfig.org/python-boolean-operators) and [reading 2](https://www.digitalocean.com/community/tutorials/understanding-boolean-logic-in-python-3)."
   ]
  },
  {
   "cell_type": "markdown",
   "metadata": {},
   "source": [
    "### Array review: slicing, index arrays, masks, resize\n",
    "\n",
    "Slicing means to cut out part of an array:"
   ]
  },
  {
   "cell_type": "code",
   "execution_count": null,
   "metadata": {},
   "outputs": [],
   "source": [
    "a = linspace(1,10,10)\n",
    "print(a)\n",
    "print(a[3:9])"
   ]
  },
  {
   "cell_type": "markdown",
   "metadata": {},
   "source": [
    "This can be combined with striding, meaning to skip elements:"
   ]
  },
  {
   "cell_type": "code",
   "execution_count": null,
   "metadata": {},
   "outputs": [],
   "source": [
    "a[3:9:2]"
   ]
  },
  {
   "cell_type": "markdown",
   "metadata": {},
   "source": [
    "Shaping an array with an index array:"
   ]
  },
  {
   "cell_type": "code",
   "execution_count": null,
   "metadata": {},
   "outputs": [],
   "source": [
    "b = array([2,7,7,1]); print(\"b:    \",b)\n",
    "print(\"a[b]: \",a[b])"
   ]
  },
  {
   "cell_type": "markdown",
   "metadata": {},
   "source": [
    "A list of booleans can be used as a mask to access only certain elements of an array."
   ]
  },
  {
   "cell_type": "code",
   "execution_count": null,
   "metadata": {},
   "outputs": [],
   "source": [
    "ind_bol = [True, True, False, True, False, True]"
   ]
  },
  {
   "cell_type": "code",
   "execution_count": null,
   "metadata": {},
   "outputs": [],
   "source": [
    "print(a[3:9][ind_bol])"
   ]
  },
  {
   "cell_type": "markdown",
   "metadata": {},
   "source": [
    "Change the size of an array, if needed by repeating it:"
   ]
  },
  {
   "cell_type": "code",
   "execution_count": null,
   "metadata": {},
   "outputs": [],
   "source": [
    "np.resize([1,-1], 10)"
   ]
  },
  {
   "cell_type": "code",
   "execution_count": null,
   "metadata": {},
   "outputs": [],
   "source": [
    "#resize?"
   ]
  },
  {
   "cell_type": "markdown",
   "metadata": {},
   "source": [
    "**Important concepts in this section:**\n",
    "* The data type of variables can be converted to other types.\n",
    "* Booleans are used to construct expressions that can be used for flow control (see below).\n",
    "* In addition to slicing and striding arrays can be shaped with index arrays or boolean masks."
   ]
  },
  {
   "cell_type": "markdown",
   "metadata": {},
   "source": [
    "## Intro to Libraries "
   ]
  },
  {
   "cell_type": "markdown",
   "metadata": {},
   "source": [
    "**Example:**\n",
    "Caluclate the hypotenuse $c$ from the catheti $a=3$ and $b=4$ in a right triangle."
   ]
  },
  {
   "cell_type": "code",
   "execution_count": null,
   "metadata": {},
   "outputs": [],
   "source": [
    "a=3; b=4\n",
    "c = sqrt(a**2 + b**2) # note syntax of exponent\n",
    "print(c)"
   ]
  },
  {
   "cell_type": "markdown",
   "metadata": {},
   "source": [
    "Many things are missing from basic Python, e.g. you can't do `sqrt` natively in Python.\n",
    "* A key Python feature: libraries are providing additional functionality\n",
    "* A library is a collection of generally useful program pieces that can be applied in many different contexts. \n",
    "* Libraries are composed of modules and packages\n",
    "* Examples: `numpy`, `scipy`, `math`, `astropy`, `sympy`\n",
    "\n",
    "### Loading libraries, Python name space and the doc string\n",
    "Load libraries such as numpy: `import numpy as np`"
   ]
  },
  {
   "cell_type": "code",
   "execution_count": null,
   "metadata": {},
   "outputs": [],
   "source": [
    "import numpy as np\n",
    "np.sqrt(4)"
   ]
  },
  {
   "cell_type": "markdown",
   "metadata": {},
   "source": [
    "Each (proper) python function, method or - more generally - object has a **doc string**. This is a documentation text that is directly attched to the object. \n",
    "Get help from the doc string, and the location of the routine by adding a `?` to any object (commands, functions, variables, etc):"
   ]
  },
  {
   "cell_type": "code",
   "execution_count": null,
   "metadata": {},
   "outputs": [],
   "source": [
    "a = 5\n",
    "# a?"
   ]
  },
  {
   "cell_type": "code",
   "execution_count": null,
   "metadata": {},
   "outputs": [],
   "source": [
    "# np?\n",
    "# np.linalg?"
   ]
  },
  {
   "cell_type": "code",
   "execution_count": null,
   "metadata": {},
   "outputs": [],
   "source": [
    "from numpy import linalg"
   ]
  },
  {
   "cell_type": "code",
   "execution_count": null,
   "metadata": {},
   "outputs": [],
   "source": [
    "# linalg?\n",
    "# linalg.det?"
   ]
  },
  {
   "cell_type": "code",
   "execution_count": null,
   "metadata": {},
   "outputs": [],
   "source": [
    "from numpy import linalg as npla"
   ]
  },
  {
   "cell_type": "code",
   "execution_count": null,
   "metadata": {},
   "outputs": [],
   "source": [
    "# npla.det?"
   ]
  },
  {
   "cell_type": "code",
   "execution_count": null,
   "metadata": {},
   "outputs": [],
   "source": [
    "from numpy import *"
   ]
  },
  {
   "cell_type": "code",
   "execution_count": null,
   "metadata": {},
   "outputs": [],
   "source": [
    "# linalg?"
   ]
  },
  {
   "cell_type": "markdown",
   "metadata": {},
   "source": [
    "### Four different ways to do `sqrt`"
   ]
  },
  {
   "cell_type": "code",
   "execution_count": null,
   "metadata": {},
   "outputs": [],
   "source": [
    "np.sqrt(2)"
   ]
  },
  {
   "cell_type": "code",
   "execution_count": null,
   "metadata": {},
   "outputs": [],
   "source": [
    "import math \n",
    "math.sqrt(4.)"
   ]
  },
  {
   "cell_type": "code",
   "execution_count": null,
   "metadata": {},
   "outputs": [],
   "source": [
    "import mpmath as mp\n",
    "mp.sqrt(4.)"
   ]
  },
  {
   "cell_type": "code",
   "execution_count": null,
   "metadata": {},
   "outputs": [],
   "source": [
    "import scipy as sp\n",
    "sp.sqrt(4.)"
   ]
  },
  {
   "cell_type": "markdown",
   "metadata": {},
   "source": [
    "Note that at this point we have three different ways to do a sqrt. Use one of them **now** to finish the hypothenuse example!!\n",
    "\n",
    "\n"
   ]
  },
  {
   "cell_type": "markdown",
   "metadata": {},
   "source": [
    "So, who cares? Well, the sqrt functions are really different. Try how they respond to a negative argument:"
   ]
  },
  {
   "cell_type": "code",
   "execution_count": null,
   "metadata": {},
   "outputs": [],
   "source": [
    "np.sqrt(-1)"
   ]
  },
  {
   "cell_type": "code",
   "execution_count": null,
   "metadata": {},
   "outputs": [],
   "source": [
    "sp.sqrt(-1)"
   ]
  },
  {
   "cell_type": "code",
   "execution_count": null,
   "metadata": {},
   "outputs": [],
   "source": [
    "math.sqrt(-1)"
   ]
  },
  {
   "cell_type": "code",
   "execution_count": null,
   "metadata": {},
   "outputs": [],
   "source": [
    "mp.sqrt(-1)"
   ]
  },
  {
   "cell_type": "markdown",
   "metadata": {},
   "source": [
    "**Important concepts in this section:**\n",
    "* Most useful things you can do with Python come via an additional liberary\n",
    "* Python has a powerful namespace concept which allows you to keep different options of the same functionality separated\n",
    "* The built-in help function: doc strings provide immediate, inline reference"
   ]
  },
  {
   "cell_type": "markdown",
   "metadata": {},
   "source": [
    "## Flow control\n",
    "This section is about conditional execution, loops and how to tell the program what to do in which order. It is about the `if` statement, the `for` loop and similar constructs.\n",
    "\n",
    "### if\n",
    "\n",
    "The basic syntax of the **if** condition statement is:\n",
    "```python\n",
    "if condition:\n",
    "    # Python code here\n",
    "    # do something\n",
    "```\n",
    "\n",
    "\n",
    "The basic syntax of the **if...else** condition statement is:\n",
    "\n",
    "\n",
    "```python\n",
    "if condition:\n",
    "    # Python code here\n",
    "    # do something\n",
    "else:\n",
    "    # Python code here\n",
    "    # do something else if first not true\n",
    "```\n",
    "\n",
    "If *condition* is **True**, the first block of code will be executed. If *condition* is **False**, the second block of code will be executed. \n",
    "\n",
    "You could also have multiple conditions instead of simply **True** or **False**. Multiple conditions are known as **else-if** statements. In Python, they have the syntax:\n",
    "\n",
    "```python\n",
    "if condition:\n",
    "    # Do something if condition True\n",
    "elif other_condition:\n",
    "    # Do something if another condition is True\n",
    "elif other_condition2:\n",
    "    # Do something if another condition is True\n",
    "else:\n",
    "    # Do something if none of the above are True\n",
    "```\n"
   ]
  },
  {
   "cell_type": "code",
   "execution_count": null,
   "metadata": {},
   "outputs": [],
   "source": [
    "print(istrue)"
   ]
  },
  {
   "cell_type": "code",
   "execution_count": null,
   "metadata": {},
   "outputs": [],
   "source": [
    "# check if expression is true, and if so execute the following code block\n",
    "if istrue:\n",
    "    print('It is true!')"
   ]
  },
  {
   "cell_type": "markdown",
   "metadata": {},
   "source": [
    "Note, that identation is the defining syntax in Python! The code block is indented, there is no explicit `end if`."
   ]
  },
  {
   "cell_type": "code",
   "execution_count": null,
   "metadata": {},
   "outputs": [],
   "source": [
    "if np.pi > 3.: \n",
    "    print(\"Pi is larger than 3.\")\n",
    "#     if np.pi < 4.:\n",
    "#         print(\"Pi is also smaller than 4.\")"
   ]
  },
  {
   "cell_type": "code",
   "execution_count": null,
   "metadata": {},
   "outputs": [],
   "source": [
    "if np.pi > 3.: print(\"Pi is larger than 3.\")"
   ]
  },
  {
   "cell_type": "code",
   "execution_count": null,
   "metadata": {},
   "outputs": [],
   "source": [
    "np.pi > 3. and print(\"Pi is larger than 3.\")"
   ]
  },
  {
   "cell_type": "markdown",
   "metadata": {},
   "source": [
    "**Example:** Check which of the following variables is of type `float`:\n",
    "```python\n",
    "i = 5\n",
    "a = 3.4\n",
    "name = \"Fred\"\n",
    "```"
   ]
  },
  {
   "cell_type": "code",
   "execution_count": null,
   "metadata": {},
   "outputs": [],
   "source": [
    "print(type(i), type(a), type(name))"
   ]
  },
  {
   "cell_type": "code",
   "execution_count": null,
   "metadata": {},
   "outputs": [],
   "source": [
    "if type(a) == \"float\":\n",
    "    print('Variable a is a float!')"
   ]
  },
  {
   "cell_type": "code",
   "execution_count": null,
   "metadata": {},
   "outputs": [],
   "source": [
    "# why did this not work? type is not of type string!\n",
    "if type(a) == float:\n",
    "    print('Variable a is a float!')"
   ]
  },
  {
   "cell_type": "markdown",
   "metadata": {},
   "source": [
    "### for loop\n",
    "The `for` loop is a classic structure of all programming languages. We will introduce it here, and then explain why we don't want to use it most of the time, and how we can almost always replace it by vector expressions."
   ]
  },
  {
   "cell_type": "code",
   "execution_count": null,
   "metadata": {},
   "outputs": [],
   "source": [
    "things = ['abc','aab','gac','baa','hab']\n",
    "for thing in things:\n",
    "    print(thing)"
   ]
  },
  {
   "cell_type": "markdown",
   "metadata": {},
   "source": [
    "Create a sum of the _things_:"
   ]
  },
  {
   "cell_type": "code",
   "execution_count": null,
   "metadata": {},
   "outputs": [],
   "source": []
  },
  {
   "cell_type": "markdown",
   "metadata": {},
   "source": [
    "Create a sum of the first character of each _thing_:"
   ]
  },
  {
   "cell_type": "code",
   "execution_count": null,
   "metadata": {},
   "outputs": [],
   "source": []
  },
  {
   "cell_type": "markdown",
   "metadata": {},
   "source": [
    "The  [range](https://docs.python.org/2/library/functions.html#range) function is a list generator that comes in handy for a loop over a sequence of integers:"
   ]
  },
  {
   "cell_type": "code",
   "execution_count": null,
   "metadata": {},
   "outputs": [],
   "source": [
    "for i in range(3,7):\n",
    "    print(i)"
   ]
  },
  {
   "cell_type": "markdown",
   "metadata": {},
   "source": [
    "Often we need a numbered sequence of elements:"
   ]
  },
  {
   "cell_type": "code",
   "execution_count": null,
   "metadata": {},
   "outputs": [],
   "source": [
    "things = ['abc','aab','gac','baa','hab']\n",
    "for i,thing in enumerate(things):\n",
    "    print(i,thing)"
   ]
  },
  {
   "cell_type": "markdown",
   "metadata": {},
   "source": [
    "**Example:** Create a list that contains the last two characters of each string in `things`."
   ]
  },
  {
   "cell_type": "code",
   "execution_count": null,
   "metadata": {},
   "outputs": [],
   "source": [
    "nlist = [] # create new empty list\n",
    "for thing in things:\n",
    "    nlist.append(thing[-3:-1])\n",
    "print(nlist)"
   ]
  },
  {
   "cell_type": "markdown",
   "metadata": {},
   "source": [
    "**Example:** Advanced list generation"
   ]
  },
  {
   "cell_type": "markdown",
   "metadata": {},
   "source": [
    "An effective way to generate a list with an integer sequence of number is with "
   ]
  },
  {
   "cell_type": "code",
   "execution_count": null,
   "metadata": {},
   "outputs": [],
   "source": [
    "jlist = list(range(0,6))\n",
    "jlist"
   ]
  },
  {
   "cell_type": "markdown",
   "metadata": {},
   "source": [
    "![fabulous image](https://mymodernmet.com/wp/wp-content/uploads/2019/06/nasa-free-photos-online-5.jpg)\n",
    "\n",
    "The same and more can be accomplished with an implicit or implied `for` loop, also refered to as **list comprehension**:"
   ]
  },
  {
   "cell_type": "code",
   "execution_count": null,
   "metadata": {},
   "outputs": [],
   "source": [
    "ilist = [i for i in range(0,21,3)]\n",
    "ilist"
   ]
  },
  {
   "cell_type": "markdown",
   "metadata": {},
   "source": [
    "In the above example, what is the role of the third argument of `range`?\n",
    "\n",
    "![Another fabulous image](https://mymodernmet.com/wp/wp-content/uploads/2019/06/nasa-free-photos-online-1.jpg)"
   ]
  },
  {
   "cell_type": "markdown",
   "metadata": {},
   "source": [
    "Often we have objects in two lists or arrays and we need to operate on them pair-wise. Use `zip` for that:"
   ]
  },
  {
   "cell_type": "code",
   "execution_count": null,
   "metadata": {},
   "outputs": [],
   "source": [
    "clist = ['a','f',\"go\",'tot']\n",
    "alist = [3.,2.35456,7.1,6]\n",
    "for c,a in zip(clist,alist):\n",
    "    print(\"%2s = %4.2f\" % (c,a))  # what is wrong with this so that the equations are not \n",
    "                                  # aligned?"
   ]
  },
  {
   "cell_type": "markdown",
   "metadata": {},
   "source": [
    "\n",
    "**Example:**  A [geometric series](https://en.wikipedia.org/wiki/Geometric_series) is a series with a constant ratio between successive terms. Show numerically that the geometric series with a common ration $r=2/3$ and start term $a = 1$ is equal to $3$. Include the first 25 terms of the series. What is the approximation error $\\zeta (N=25)$?"
   ]
  },
  {
   "cell_type": "code",
   "execution_count": null,
   "metadata": {},
   "outputs": [],
   "source": [
    "r = 2./3; a = 1.\n",
    "s = 0\n",
    "for i in range(3):\n",
    "    s = s + a \n",
    "    a = a*r\n",
    "print(s)"
   ]
  },
  {
   "cell_type": "code",
   "execution_count": null,
   "metadata": {},
   "outputs": [],
   "source": [
    "1+2./3+4./9"
   ]
  },
  {
   "cell_type": "markdown",
   "metadata": {},
   "source": [
    "**Avoiding the loop**"
   ]
  },
  {
   "cell_type": "markdown",
   "metadata": {},
   "source": [
    "#### For loop with strings"
   ]
  },
  {
   "cell_type": "code",
   "execution_count": null,
   "metadata": {},
   "outputs": [],
   "source": [
    "# for loop\n",
    "things = ['abc', 'def', 'ghi']\n",
    "modified_things = []\n",
    "for thing in things:\n",
    "    mod_thing = thing[0]\n",
    "    modified_things.append(mod_thing+\"_label\")  "
   ]
  },
  {
   "cell_type": "code",
   "execution_count": null,
   "metadata": {},
   "outputs": [],
   "source": [
    "modified_things"
   ]
  },
  {
   "cell_type": "markdown",
   "metadata": {},
   "source": [
    "### while loop"
   ]
  },
  {
   "cell_type": "code",
   "execution_count": null,
   "metadata": {},
   "outputs": [],
   "source": [
    "i = 1\n",
    "while i < 5:    # Repeat the code block while conditional \n",
    "    print(i)    # expresion is true\n",
    "    i += 1"
   ]
  },
  {
   "cell_type": "markdown",
   "metadata": {},
   "source": [
    "**Example:** Write a program for the polynomial approximation of $\\sin(x)$\n",
    "$$\n",
    "\\sin (x) \\approx x - \\frac{x^3}{3!} + \\frac{x^5}{5!} - \\frac{x^7}{7!} + ...\n",
    "$$\n",
    "where $k! = k(k-1)(k-2) ... 2 \\cdot 1$ is the factorial that is provided by `math.factorial`."
   ]
  },
  {
   "cell_type": "code",
   "execution_count": null,
   "metadata": {},
   "outputs": [],
   "source": [
    "import math\n",
    "math.factorial(3)"
   ]
  },
  {
   "cell_type": "code",
   "execution_count": null,
   "metadata": {},
   "outputs": [],
   "source": [
    "# check it!\n",
    "..."
   ]
  },
  {
   "cell_type": "markdown",
   "metadata": {},
   "source": [
    "This is the solution from [Langtangen, Section 2.1.](https://link.springer.com/content/pdf/10.1007%2F978-3-662-49887-3.pdf#page=87):"
   ]
  },
  {
   "cell_type": "code",
   "execution_count": null,
   "metadata": {},
   "outputs": [],
   "source": [
    "x= 1.2    # assign some value\n",
    "N=2*4     # maximum power in sum\n",
    "k=1\n",
    "\n",
    "s=x\n",
    "sign= 1.0\n",
    "while k<N:\n",
    "    sign=-sign\n",
    "    k=k+2\n",
    "    term=sign*x**k/math.factorial(k)\n",
    "    s=s+term\n",
    "\n",
    "print(\"sin({:.3f}) = {:.3f} (approximation with {:2d} terms)\".format(x,s,N))"
   ]
  },
  {
   "cell_type": "code",
   "execution_count": null,
   "metadata": {},
   "outputs": [],
   "source": [
    "s"
   ]
  },
  {
   "cell_type": "code",
   "execution_count": null,
   "metadata": {},
   "outputs": [],
   "source": [
    "round(np.sin(x),3)"
   ]
  },
  {
   "cell_type": "markdown",
   "metadata": {},
   "source": [
    "### Avoiding loops\n",
    "Express a loop as a vector operation, using index arrays or masks if needed.\n",
    "\n",
    "First we take the geometric series example from above:"
   ]
  },
  {
   "cell_type": "code",
   "execution_count": null,
   "metadata": {},
   "outputs": [],
   "source": [
    "import numpy as np\n",
    "r = 2./3; a = 1.\n",
    "nexp = np.array(range(3))\n",
    "sum(a*r**nexp)"
   ]
  },
  {
   "cell_type": "markdown",
   "metadata": {},
   "source": [
    "Next we take the polynomial approximation of $\\sin(x)$:"
   ]
  },
  {
   "cell_type": "code",
   "execution_count": null,
   "metadata": {},
   "outputs": [],
   "source": [
    "nterms = 5\n",
    "x = 1.2\n",
    "xa=np.ones(nterms)*x\n",
    "n = np.arange(1,2*nterms,2)\n",
    "facts = np.array([math.factorial(thisn) for thisn in n])\n",
    "signs = np.resize([1,-1],nterms)\n",
    "terms = signs * xa**n / facts"
   ]
  },
  {
   "cell_type": "code",
   "execution_count": null,
   "metadata": {},
   "outputs": [],
   "source": [
    "print(sum(terms))"
   ]
  }
 ],
 "metadata": {
  "kernelspec": {
   "display_name": "Python 3",
   "language": "python",
   "name": "python3"
  },
  "language_info": {
   "codemirror_mode": {
    "name": "ipython",
    "version": 3
   },
   "file_extension": ".py",
   "mimetype": "text/x-python",
   "name": "python",
   "nbconvert_exporter": "python",
   "pygments_lexer": "ipython3",
   "version": "3.6.9"
  }
 },
 "nbformat": 4,
 "nbformat_minor": 4
}
