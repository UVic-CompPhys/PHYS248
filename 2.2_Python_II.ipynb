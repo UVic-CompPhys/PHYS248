{
 "cells": [
  {
   "cell_type": "markdown",
   "metadata": {},
   "source": [
    "# 2.2 Intro to Python language II\n",
    "\n",
    "* Advanced plotting\n",
    "    - Bar plots, scatter plots\n",
    "    - 2D plots\n",
    "* Basic I/O\n",
    "    - Interactive input\n",
    "    - Writing and reading ASCII tables\n"
   ]
  },
  {
   "cell_type": "markdown",
   "metadata": {},
   "source": [
    "## Advanced plotting\n",
    "### Additional 1D plot\n",
    "* [scatterplot](https://matplotlib.org/3.1.1/gallery/shapes_and_collections/scatter.html)\n",
    "* [histogram](https://docs.scipy.org/doc/numpy/reference/generated/numpy.histogram.html)\n",
    "* [bar plot](https://matplotlib.org/3.1.1/api/_as_gen/matplotlib.pyplot.bar.html)"
   ]
  },
  {
   "cell_type": "code",
   "execution_count": null,
   "metadata": {},
   "outputs": [],
   "source": [
    "%pylab ipympl"
   ]
  },
  {
   "cell_type": "code",
   "execution_count": null,
   "metadata": {},
   "outputs": [],
   "source": [
    "random.random(10)"
   ]
  },
  {
   "cell_type": "code",
   "execution_count": null,
   "metadata": {},
   "outputs": [],
   "source": [
    "ifig=1; close(ifig); figure(ifig)\n",
    "n=500\n",
    "x = random.random(n)\n",
    "y = random.random(n)\n",
    "y = y**2\n",
    "plot(x,y,'o',markevery=10)  # 'o' is the marker\n",
    "xlabel('x');ylabel(\"y**2\")"
   ]
  },
  {
   "cell_type": "markdown",
   "metadata": {},
   "source": [
    "The `scatter` functions allows to encode two additional values of points by the size of the dot and the colour of the dot using one of many [colour maps](https://matplotlib.org/tutorials/colors/colormaps.html)."
   ]
  },
  {
   "cell_type": "code",
   "execution_count": null,
   "metadata": {},
   "outputs": [],
   "source": [
    "# scatter?"
   ]
  },
  {
   "cell_type": "code",
   "execution_count": null,
   "metadata": {},
   "outputs": [],
   "source": [
    "ifig=2; close(ifig); figure(ifig)\n",
    "fac = 65; area = fac*y/y.max()\n",
    "# colours = random.random(len(x))\n",
    "colours = x/x.max()\n",
    "scatter(x,y,s=area,c=colours, alpha=0.5, cmap=\"spring\")  # 'o' is the markery"
   ]
  },
  {
   "cell_type": "markdown",
   "metadata": {},
   "source": [
    "The `histogram` function creates just that out of a value distribution:"
   ]
  },
  {
   "cell_type": "code",
   "execution_count": null,
   "metadata": {},
   "outputs": [],
   "source": [
    "# histogram?"
   ]
  },
  {
   "cell_type": "code",
   "execution_count": null,
   "metadata": {},
   "outputs": [],
   "source": [
    "nbins = 10\n",
    "a,b = histogram(y, bins=nbins,range=(0.,1.),density=True)"
   ]
  },
  {
   "cell_type": "markdown",
   "metadata": {},
   "source": [
    "In order to plot the histogram of the distribution of the function of the randomly distributed $y$ values calculate bin width from the bin edges return by `histogram`, and offset that by $\\frac{1}{2}$ bin width:"
   ]
  },
  {
   "cell_type": "code",
   "execution_count": null,
   "metadata": {},
   "outputs": [],
   "source": [
    "delta_x = diff(b)[0]\n",
    "delta_x"
   ]
  },
  {
   "cell_type": "code",
   "execution_count": null,
   "metadata": {},
   "outputs": [],
   "source": [
    "ifig=2; close(ifig); figure(ifig)\n",
    "bar(b[:-1]+0.5*delta_x,a,delta_x)\n",
    "# x1 = linspace(delta_x,1.,nbins)\n",
    "# plot(x1-0.5*delta_x,1./(2*sqrt(x1-0.5*delta_x)),'y-o')"
   ]
  },
  {
   "cell_type": "markdown",
   "metadata": {},
   "source": [
    "The matplotlib `hist` function combines the numpy `histogram` and matplotlib `bar` functions:"
   ]
  },
  {
   "cell_type": "code",
   "execution_count": null,
   "metadata": {},
   "outputs": [],
   "source": [
    "ifig=3; close(ifig); figure(ifig)\n",
    "his = hist(y,bins=3*nbins,density=True)"
   ]
  },
  {
   "cell_type": "code",
   "execution_count": null,
   "metadata": {},
   "outputs": [],
   "source": [
    "ifig=4; close(ifig); figure(ifig)\n",
    "\n",
    "n=20\n",
    "x = linspace(0,2*pi,n)\n",
    "delta_x = 2*np.pi/(n-1)\n",
    "\n",
    "bar(x,sin(x),delta_x)\n",
    "plot(x,sin(x),'--',color='orange')"
   ]
  },
  {
   "cell_type": "markdown",
   "metadata": {},
   "source": [
    "### 2D plotting\n",
    "In this section we learn to make 2D plots of 3D arrays. "
   ]
  },
  {
   "cell_type": "markdown",
   "metadata": {},
   "source": [
    "Plot\n",
    "$$ z(x,y) = \\sin(x y)\\cos(y) $$"
   ]
  },
  {
   "cell_type": "code",
   "execution_count": null,
   "metadata": {},
   "outputs": [],
   "source": [
    "n = 4\n",
    "x=linspace(-4.,4.,n)\n",
    "sin(x)"
   ]
  },
  {
   "cell_type": "code",
   "execution_count": null,
   "metadata": {},
   "outputs": [],
   "source": [
    "# can x be matrix?\n",
    "xy=array([[1,2],[0,1]])\n",
    "sin(xy)"
   ]
  },
  {
   "cell_type": "markdown",
   "metadata": {},
   "source": [
    "How to build a 2D array out of x and y vectors that represent the x and y axis? [numpy.meshgrid](https://docs.scipy.org/doc/numpy/reference/generated/numpy.meshgrid.html)"
   ]
  },
  {
   "cell_type": "code",
   "execution_count": null,
   "metadata": {},
   "outputs": [],
   "source": [
    "n = 50   # change to 50 for real plot\n",
    "x=linspace(-2.,3.,n)\n",
    "y=linspace(-1.5,3.,n)\n",
    "x"
   ]
  },
  {
   "cell_type": "code",
   "execution_count": null,
   "metadata": {},
   "outputs": [],
   "source": [
    "xv,yv = meshgrid(x,y)\n",
    "xv"
   ]
  },
  {
   "cell_type": "code",
   "execution_count": null,
   "metadata": {},
   "outputs": [],
   "source": [
    "yv"
   ]
  },
  {
   "cell_type": "code",
   "execution_count": null,
   "metadata": {},
   "outputs": [],
   "source": [
    "z=sin(xv*yv)*cos(yv)\n",
    "shape(z)\n",
    "z"
   ]
  },
  {
   "cell_type": "markdown",
   "metadata": {},
   "source": [
    "#### Image"
   ]
  },
  {
   "cell_type": "code",
   "execution_count": null,
   "metadata": {},
   "outputs": [],
   "source": [
    "ifig = 10; close(ifig); figure(ifig)\n",
    "imshow(z)"
   ]
  },
  {
   "cell_type": "markdown",
   "metadata": {},
   "source": [
    "`imshow` allows for a variety of interpolations, see [images example](http://matplotlib.org/examples/images_contours_and_fields/interpolation_methods.html):"
   ]
  },
  {
   "cell_type": "code",
   "execution_count": null,
   "metadata": {},
   "outputs": [],
   "source": [
    "#imshow?"
   ]
  },
  {
   "cell_type": "code",
   "execution_count": null,
   "metadata": {},
   "outputs": [],
   "source": [
    "ifig = 11; close(ifig); figure(ifig)\n",
    "imshow(z,interpolation='gaussian')"
   ]
  },
  {
   "cell_type": "markdown",
   "metadata": {},
   "source": [
    "#### Surface plot"
   ]
  },
  {
   "cell_type": "code",
   "execution_count": null,
   "metadata": {},
   "outputs": [],
   "source": [
    "from mpl_toolkits.mplot3d import Axes3D\n",
    "import matplotlib.pyplot as plt\n",
    "from matplotlib import cm\n",
    "close(7);fig = plt.figure(7)\n",
    "ax = Axes3D(fig)\n",
    "ax.plot_surface(xv,yv,z, rstride=1, cstride=1, cmap=cm.viridis)\n",
    "plt.show()"
   ]
  },
  {
   "cell_type": "markdown",
   "metadata": {},
   "source": [
    "#### Contour plot"
   ]
  },
  {
   "cell_type": "code",
   "execution_count": null,
   "metadata": {},
   "outputs": [],
   "source": [
    "close(12);fig = plt.figure(8)\n",
    "CS = plt.contour(xv, yv, z,cmap='twilight')\n",
    "plt.clabel(CS, inline=1, fontsize=8)"
   ]
  },
  {
   "cell_type": "markdown",
   "metadata": {},
   "source": [
    "## Basic input/output (I/O)\n",
    "\n",
    "### Interactive input"
   ]
  },
  {
   "cell_type": "code",
   "execution_count": null,
   "metadata": {},
   "outputs": [],
   "source": [
    "# ask for user input:\n",
    "user_input = input(\"Voltage: [V]\")"
   ]
  },
  {
   "cell_type": "code",
   "execution_count": null,
   "metadata": {},
   "outputs": [],
   "source": [
    "print('User voltage is %gV.' % float(user_input))"
   ]
  },
  {
   "cell_type": "markdown",
   "metadata": {},
   "source": [
    "### Reading an ASCII table\n",
    "We will limit this introduction to reading [ASCII](http://www.asciitable.com) tables. These are essentially data files containing plain text. They usually end with the suffix `.txt` or `.dat`. This is a good data format for data amounts that are not too large. The big advantage is that you can just look at the file content with an editor. For larger data sets a binary format is used.\n",
    "\n",
    "There are many ways how to read an ASCII file. How to read it depends on what is in it."
   ]
  },
  {
   "cell_type": "code",
   "execution_count": null,
   "metadata": {},
   "outputs": [],
   "source": [
    "# writing a file and looking at output with JupyterLab text editor\n",
    "\n",
    "f = open('test.txt',mode='w')\n",
    "f.write(\"1 2 3\\n4 5 6\\n7 8 9\")\n",
    "f.close()"
   ]
  },
  {
   "cell_type": "code",
   "execution_count": null,
   "metadata": {},
   "outputs": [],
   "source": [
    "# reading a file\n",
    "\n",
    "g = open('test.txt','r')  # g is a file handle\n",
    "g.readlines()             # which has reading methods attached to it"
   ]
  },
  {
   "cell_type": "code",
   "execution_count": null,
   "metadata": {},
   "outputs": [],
   "source": [
    "g.readlines()   "
   ]
  },
  {
   "cell_type": "code",
   "execution_count": null,
   "metadata": {},
   "outputs": [],
   "source": [
    "g.close()"
   ]
  },
  {
   "cell_type": "code",
   "execution_count": null,
   "metadata": {},
   "outputs": [],
   "source": [
    "g = open('test.txt','r')\n",
    "l1 = g.readline()     # Read just one line\n",
    "l1"
   ]
  },
  {
   "cell_type": "code",
   "execution_count": null,
   "metadata": {},
   "outputs": [],
   "source": [
    "l2 = g.readline()     # Read just one line\n",
    "l2.strip()"
   ]
  },
  {
   "cell_type": "markdown",
   "metadata": {},
   "source": [
    "Remove trailing newline or white space from string:"
   ]
  },
  {
   "cell_type": "code",
   "execution_count": null,
   "metadata": {},
   "outputs": [],
   "source": [
    "a,b,c = l1.strip().split()\n",
    "print(a,b,c)"
   ]
  },
  {
   "cell_type": "code",
   "execution_count": null,
   "metadata": {},
   "outputs": [],
   "source": [
    "a = int(a)"
   ]
  },
  {
   "cell_type": "code",
   "execution_count": null,
   "metadata": {},
   "outputs": [],
   "source": [
    "a+1"
   ]
  },
  {
   "cell_type": "markdown",
   "metadata": {},
   "source": [
    "What is the output of"
   ]
  },
  {
   "cell_type": "code",
   "execution_count": null,
   "metadata": {},
   "outputs": [],
   "source": [
    "g.readline()"
   ]
  },
  {
   "cell_type": "code",
   "execution_count": null,
   "metadata": {},
   "outputs": [],
   "source": [
    "g.readline().strip()[-1]"
   ]
  },
  {
   "cell_type": "code",
   "execution_count": null,
   "metadata": {},
   "outputs": [],
   "source": [
    "g.close()"
   ]
  },
  {
   "cell_type": "code",
   "execution_count": null,
   "metadata": {},
   "outputs": [],
   "source": [
    "for line in open('test.txt','r'):\n",
    "    print(line.strip().split())\n"
   ]
  },
  {
   "cell_type": "code",
   "execution_count": null,
   "metadata": {},
   "outputs": [],
   "source": [
    "# numpy method to read text files with data tables\n",
    "g_array = np.loadtxt('test.txt')"
   ]
  },
  {
   "cell_type": "code",
   "execution_count": null,
   "metadata": {},
   "outputs": [],
   "source": [
    "g_array"
   ]
  },
  {
   "cell_type": "code",
   "execution_count": null,
   "metadata": {},
   "outputs": [],
   "source": [
    "print(g_array)"
   ]
  },
  {
   "cell_type": "code",
   "execution_count": null,
   "metadata": {},
   "outputs": [],
   "source": [
    "f = open('test.txt',mode='w')\n",
    "f.write(\"A B C\\n-----\\n1 2 3 \\n4 5 6 \\n7 8 9\")\n",
    "f.close()"
   ]
  },
  {
   "cell_type": "code",
   "execution_count": null,
   "metadata": {},
   "outputs": [],
   "source": [
    "# numpy method to read text files with data tables\n",
    "g_array = np.loadtxt('test.txt',skiprows=2)"
   ]
  },
  {
   "cell_type": "code",
   "execution_count": null,
   "metadata": {},
   "outputs": [],
   "source": [
    "g_array"
   ]
  }
 ],
 "metadata": {
  "kernelspec": {
   "display_name": "Python 3",
   "language": "python",
   "name": "python3"
  },
  "language_info": {
   "codemirror_mode": {
    "name": "ipython",
    "version": 3
   },
   "file_extension": ".py",
   "mimetype": "text/x-python",
   "name": "python",
   "nbconvert_exporter": "python",
   "pygments_lexer": "ipython3",
   "version": "3.6.9"
  }
 },
 "nbformat": 4,
 "nbformat_minor": 4
}
