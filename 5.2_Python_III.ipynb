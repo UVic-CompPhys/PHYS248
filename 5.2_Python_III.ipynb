{
 "cells": [
  {
   "cell_type": "markdown",
   "metadata": {},
   "source": [
    "# 5.2 Python programming III: program organization\n",
    "\n",
    "#### Before we start:\n",
    "\n",
    "* Lab 4.2A2.3\n",
    "* Grading key\n",
    "* Review Assignment 1\n",
    "\n",
    "#### Today's class:\n",
    "* Review:\n",
    "    - Units\n",
    "    - Dictionaries\n",
    "    - An example where Monte-Carlo integration wins\n",
    "* Integration with libraries\n",
    "* Miscellaneous\n",
    "     - sort, join, split, strip\n"
   ]
  },
  {
   "cell_type": "code",
   "execution_count": null,
   "metadata": {},
   "outputs": [],
   "source": [
    "%pylab ipympl"
   ]
  },
  {
   "cell_type": "markdown",
   "metadata": {},
   "source": [
    "## Review"
   ]
  },
  {
   "cell_type": "markdown",
   "metadata": {},
   "source": [
    "\n",
    "### Where Monte-Carlo integration wins\n",
    "First, recall Quiz Part 2: Solve this integral\n",
    " $\\int_0^3 x^2 dx$."
   ]
  },
  {
   "cell_type": "code",
   "execution_count": null,
   "metadata": {},
   "outputs": [],
   "source": [
    "n = 100000\n",
    "xmin,xmax=(0,3)\n",
    "ff = lambda x: x**2\n",
    "x = xmax*random.rand(n)\n",
    "y = xmax**2 * random.rand(n)\n",
    "yx = ff(x)\n",
    "A = xmax * xmax**2 \n",
    "P = sum((y<yx))/n\n",
    "I = A * P; print(I)"
   ]
  },
  {
   "cell_type": "markdown",
   "metadata": {},
   "source": [
    "One can show that the error goes with $1/\\sqrt{n}$ whereas for trapezoidal Riemann sum the error goes with $1/n^2$. But there is one small improvement we can make: $I  = <f> (b-a)$ where $<f>$ is the average of the function $f$ to be integrated in the interval $[a,b]$. This is called the **MC mean-value method**:"
   ]
  },
  {
   "cell_type": "code",
   "execution_count": null,
   "metadata": {},
   "outputs": [],
   "source": [
    "n = 100000\n",
    "xrange = array((0,3))\n",
    "x = xmax*random.rand(n)\n",
    "favg = ff(x).mean()\n",
    "I = favg * diff(xrange); print(I)"
   ]
  },
  {
   "cell_type": "markdown",
   "metadata": {},
   "source": [
    "Let's encapsulate that into a function, and then add it to our pylib module:"
   ]
  },
  {
   "cell_type": "code",
   "execution_count": null,
   "metadata": {},
   "outputs": [],
   "source": [
    "def mcint(func,xrange,n):\n",
    "    '''MC integration of function func over xrange'''\n",
    "    dx = diff(xrange)[0]\n",
    "    x = dx*random.rand(n)-xrange[0]\n",
    "    favg = func(x).mean()\n",
    "    I = favg * dx\n",
    "    return I"
   ]
  },
  {
   "cell_type": "markdown",
   "metadata": {},
   "source": [
    "Here is in summary how we apply the function:"
   ]
  },
  {
   "cell_type": "code",
   "execution_count": null,
   "metadata": {},
   "outputs": [],
   "source": [
    "ff = lambda x: x**2\n",
    "n = 100000\n",
    "xrange = array((0,3))\n",
    "mcint(ff,xrange,n)"
   ]
  },
  {
   "cell_type": "markdown",
   "metadata": {},
   "source": [
    "#### Here is an example where MC integration will win"
   ]
  },
  {
   "cell_type": "code",
   "execution_count": null,
   "metadata": {},
   "outputs": [],
   "source": [
    "%pylab ipympl"
   ]
  },
  {
   "cell_type": "code",
   "execution_count": null,
   "metadata": {},
   "outputs": [],
   "source": [
    "func = lambda x: sin(1/(x*(2-x)))**2"
   ]
  },
  {
   "cell_type": "code",
   "execution_count": null,
   "metadata": {},
   "outputs": [],
   "source": [
    "xrange=(0,2); n = 1001   # nmax = 1e6\n",
    "x = linspace(*xrange,n)"
   ]
  },
  {
   "cell_type": "code",
   "execution_count": null,
   "metadata": {},
   "outputs": [],
   "source": [
    "ifig=1; close(ifig);figure(ifig)\n",
    "plot(x,func(x))"
   ]
  },
  {
   "cell_type": "code",
   "execution_count": null,
   "metadata": {},
   "outputs": [],
   "source": [
    "xrange=(0,2); nmax = 10000001\n",
    "mcint(func,xrange,n)"
   ]
  },
  {
   "cell_type": "code",
   "execution_count": null,
   "metadata": {},
   "outputs": [],
   "source": [
    "nruns=1000\n",
    "ints = {}\n",
    "nmc = 10**arange(2,7,2)\n",
    "for n in nmc:\n",
    "    ints[n] = []\n",
    "    for i in range(nruns):\n",
    "        ints[n].append(mcint(func,xrange,n))"
   ]
  },
  {
   "cell_type": "code",
   "execution_count": null,
   "metadata": {},
   "outputs": [],
   "source": [
    "ifig=2; close(ifig);figure(ifig)\n",
    "hist(ints[100], alpha=0.5)\n",
    "hist(ints[10000], alpha=0.5)\n",
    "hist(ints[1000000], alpha=0.5)\n"
   ]
  },
  {
   "cell_type": "code",
   "execution_count": null,
   "metadata": {},
   "outputs": [],
   "source": [
    "%%time\n",
    "ints2 = []\n",
    "nruns = 10**6\n",
    "nmc=1000\n",
    "for n in range(nruns):\n",
    "    ints2.append(mcint(func,xrange,nmc))"
   ]
  },
  {
   "cell_type": "code",
   "execution_count": null,
   "metadata": {},
   "outputs": [],
   "source": [
    "ifig=3; close(ifig);figure(ifig)\n",
    "nbin = 10; density = True\n",
    "hist(ints2[0:100], alpha=0.5,density=density,bins=nbin,label='$10^2$')\n",
    "hist(ints2[0:10000], alpha=0.5,density=density,bins=nbin,label='$10^4$')\n",
    "hist(ints2[0:1000000], alpha=0.5,density=density,bins=nbin,label='$10^6$')\n",
    "legend()"
   ]
  },
  {
   "cell_type": "markdown",
   "metadata": {},
   "source": [
    "## Integration with libraries\n",
    "Let's recall again the Riemann sum integral from class notebook 4.1:\n"
   ]
  },
  {
   "cell_type": "code",
   "execution_count": null,
   "metadata": {},
   "outputs": [],
   "source": [
    "ifig=11; close(ifig); figure(ifig)\n",
    "n=10\n",
    "x = linspace(0,3.0,n+1)\n",
    "delta_x = diff(x)[0]\n",
    "xb = x[:-1]+0.5*delta_x\n",
    "bar(xb,xb**2,delta_x)\n",
    "x = linspace(0,3.,10*n+1)\n",
    "plot(x,x**2,'--',color='orange',label='$f(x) = x^2$')\n",
    "xlabel('x'),ylabel('y');legend()\n",
    "sin_int = sum(xb**2*delta_x)\n",
    "print(\"int(sin(x)) for x in [0,pi] = {:6.4f}\".format(sin_int))"
   ]
  },
  {
   "cell_type": "markdown",
   "metadata": {},
   "source": [
    "The array function `cumsum` creates a cumulative sum. We can use that as well for expressing the integration: "
   ]
  },
  {
   "cell_type": "code",
   "execution_count": null,
   "metadata": {},
   "outputs": [],
   "source": [
    "ifig=12; close(ifig); figure(ifig)\n",
    "n = 100; x = linspace(0,3.,n+1)\n",
    "plot(x,x**2,'--',color='orange',label='$f(x) = x^2$')\n",
    "plot(x,(1./3)*x**3,':',color='blue',label='$f(x) = x^2$')\n",
    "\n",
    "xmax = 3.; n = 100\n",
    "x = linspace(0,xmax,n+1)\n",
    "y = x**2\n",
    "plot(x,y.cumsum()*xmax/n)"
   ]
  },
  {
   "cell_type": "code",
   "execution_count": null,
   "metadata": {},
   "outputs": [],
   "source": [
    "f2 = lambda x: x**2"
   ]
  },
  {
   "cell_type": "code",
   "execution_count": null,
   "metadata": {},
   "outputs": [],
   "source": [
    "def cumint(ff, xmax=3., n=100):\n",
    "    '''Integration with cumsum'''\n",
    "    x = linspace(0,xmax,n+1)\n",
    "    fint = ff(x).cumsum()*xmax/n\n",
    "    return fint[-1]"
   ]
  },
  {
   "cell_type": "code",
   "execution_count": null,
   "metadata": {},
   "outputs": [],
   "source": [
    "cumint(f2)"
   ]
  },
  {
   "cell_type": "markdown",
   "metadata": {},
   "source": [
    "#### Using a library for integration"
   ]
  },
  {
   "cell_type": "code",
   "execution_count": null,
   "metadata": {},
   "outputs": [],
   "source": [
    "from scipy import integrate\n",
    "#integrate.cumtrapz?"
   ]
  },
  {
   "cell_type": "code",
   "execution_count": null,
   "metadata": {},
   "outputs": [],
   "source": [
    "F=integrate.cumtrapz(y,x)\n",
    "# print (len(x),len(F))"
   ]
  },
  {
   "cell_type": "code",
   "execution_count": null,
   "metadata": {},
   "outputs": [],
   "source": [
    "F[-1]"
   ]
  },
  {
   "cell_type": "code",
   "execution_count": null,
   "metadata": {},
   "outputs": [],
   "source": [
    "plot(x[1:],F, label=\"integrate.cumtrapz(f(x),x)\")\n",
    "legend()\n",
    "print(\"The integral with the scipy.integrate.cumtrapz method is: %5.2f\" % F[-1])"
   ]
  },
  {
   "cell_type": "code",
   "execution_count": null,
   "metadata": {},
   "outputs": [],
   "source": [
    "f2 = lambda x: x**2\n",
    "x = linspace(0,3,100+1)\n",
    "integrate.cumtrapz(f2(x),x)[-1]\n",
    "integrate.trapz(f2(x),x)"
   ]
  },
  {
   "cell_type": "markdown",
   "metadata": {},
   "source": [
    "Now, let's see how our function `func` from above does that we could easily integrate with Monte-Carlo."
   ]
  },
  {
   "cell_type": "code",
   "execution_count": null,
   "metadata": {},
   "outputs": [],
   "source": [
    "x = linspace(0.,2.,100+1)\n",
    "# x = linspace(0.25,1.75,100+1)\n",
    "integrate.cumtrapz(func(x),x)[-1]"
   ]
  },
  {
   "cell_type": "markdown",
   "metadata": {},
   "source": [
    "`cumtrapz` has no chance in this case."
   ]
  },
  {
   "cell_type": "markdown",
   "metadata": {},
   "source": [
    "## Miscellaneous\n",
    "### sort, join, split, strip"
   ]
  },
  {
   "cell_type": "code",
   "execution_count": null,
   "metadata": {},
   "outputs": [],
   "source": [
    "%pylab "
   ]
  },
  {
   "cell_type": "code",
   "execution_count": null,
   "metadata": {},
   "outputs": [],
   "source": [
    "a = ['aav\\n',987,'F0*','$4f']\n",
    "sort(a)"
   ]
  },
  {
   "cell_type": "code",
   "execution_count": null,
   "metadata": {},
   "outputs": [],
   "source": [
    "print(a[0]+\"***\")"
   ]
  },
  {
   "cell_type": "code",
   "execution_count": null,
   "metadata": {},
   "outputs": [],
   "source": [
    "print(a[2]+\"***\")"
   ]
  },
  {
   "cell_type": "code",
   "execution_count": null,
   "metadata": {},
   "outputs": [],
   "source": [
    "print(a[0].strip()+\"***\")"
   ]
  },
  {
   "cell_type": "code",
   "execution_count": null,
   "metadata": {},
   "outputs": [],
   "source": [
    "a=':'.join(['a','b','f'])"
   ]
  },
  {
   "cell_type": "code",
   "execution_count": null,
   "metadata": {},
   "outputs": [],
   "source": [
    "a"
   ]
  },
  {
   "cell_type": "code",
   "execution_count": null,
   "metadata": {},
   "outputs": [],
   "source": [
    "a.split(':')"
   ]
  },
  {
   "cell_type": "code",
   "execution_count": null,
   "metadata": {},
   "outputs": [],
   "source": []
  }
 ],
 "metadata": {
  "kernelspec": {
   "display_name": "Python 3",
   "language": "python",
   "name": "python3"
  },
  "language_info": {
   "codemirror_mode": {
    "name": "ipython",
    "version": 3
   },
   "file_extension": ".py",
   "mimetype": "text/x-python",
   "name": "python",
   "nbconvert_exporter": "python",
   "pygments_lexer": "ipython3",
   "version": "3.6.9"
  }
 },
 "nbformat": 4,
 "nbformat_minor": 4
}
