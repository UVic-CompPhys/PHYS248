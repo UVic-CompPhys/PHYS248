{
 "cells": [
  {
   "cell_type": "markdown",
   "metadata": {},
   "source": [
    "# 6.1 Numerical Analysis: Integration and differentiation with libraries\n",
    "\n",
    "#### Before we start:\n",
    "* Comments regarding midterm\n",
    "* Review integration with library end of class 5.2\n",
    "\n",
    "#### Today's class:\n",
    "\n",
    "* Derivatives\n",
    "    - Derivative of numerical data\n",
    "    - Non-equidistant and noisy data\n",
    "    - Gradient of 2D function\n",
    "* Miscellaneous\n",
    "    - `map`\n",
    "    - Multi-threaded processing\n",
    "    - Animation, make movie with ffmpeg\n"
   ]
  },
  {
   "cell_type": "code",
   "execution_count": null,
   "metadata": {},
   "outputs": [],
   "source": [
    "%pylab ipympl"
   ]
  },
  {
   "cell_type": "markdown",
   "metadata": {},
   "source": [
    "## Derivatives\n",
    "We want to take a closer look at derivatives, both from analytical function, from noisy data, from unevenly-spaced data and the gradient of 2D functions. We want to start using libraries for these tasks. \n",
    "\n",
    "Let's start with the polynomial `fpoly` first introduduced in class 4.2. There we developed a 2nd-order accurate function for the derivative, `deriv2`.\n"
   ]
  },
  {
   "cell_type": "code",
   "execution_count": null,
   "metadata": {},
   "outputs": [],
   "source": [
    "def fpoly(x,a=-1.,b=1.,c=1.,d=1.):\n",
    "    '''Return 3rd-order polynomial\n",
    "    '''\n",
    "    ff = a*x**3 + b*x**2 + c*x + d\n",
    "    return ff"
   ]
  },
  {
   "cell_type": "code",
   "execution_count": null,
   "metadata": {},
   "outputs": [],
   "source": [
    "def fpoly_deriv(x,a=-1.,b=1.,c=1.,d=1.):\n",
    "    '''Return derivative of 3rd-order polynomial\n",
    "    '''\n",
    "    ff = 3.*a*x**2 + 2*b*x + c\n",
    "    return ff"
   ]
  },
  {
   "cell_type": "code",
   "execution_count": null,
   "metadata": {},
   "outputs": [],
   "source": [
    "def deriv2(func,x,h):\n",
    "    dfdx = (func(x+h) - func(x-h)) / (2*h)\n",
    "    return dfdx"
   ]
  },
  {
   "cell_type": "markdown",
   "metadata": {},
   "source": [
    "Compare one more time numerical and analytical derivative:"
   ]
  },
  {
   "cell_type": "code",
   "execution_count": null,
   "metadata": {},
   "outputs": [],
   "source": [
    "deriv2(fpoly,-0.5,0.1)"
   ]
  },
  {
   "cell_type": "code",
   "execution_count": null,
   "metadata": {},
   "outputs": [],
   "source": [
    "fpoly_deriv(-0.5)"
   ]
  },
  {
   "cell_type": "markdown",
   "metadata": {},
   "source": [
    "As it may be expected there is of course a library that essentially does the same as our `dervi2`, and a little more. Let's have a look at the doc string."
   ]
  },
  {
   "cell_type": "code",
   "execution_count": null,
   "metadata": {},
   "outputs": [],
   "source": [
    "from scipy import misc as sm"
   ]
  },
  {
   "cell_type": "code",
   "execution_count": null,
   "metadata": {},
   "outputs": [],
   "source": [
    "#sm.derivative?"
   ]
  },
  {
   "cell_type": "code",
   "execution_count": null,
   "metadata": {},
   "outputs": [],
   "source": [
    "sm.derivative(fpoly,-0.5,dx=0.1,n=1,order=3)"
   ]
  },
  {
   "cell_type": "code",
   "execution_count": null,
   "metadata": {},
   "outputs": [],
   "source": [
    "x = linspace(-2,2,101)\n",
    "ifig=11;close(ifig);figure(ifig)\n",
    "plot(x,fpoly(x),label=\"$f$\")\n",
    "plot(x,sm.derivative(fpoly,x,dx=0.001,n=1,order=3),'--',label=\"$f'$\")\n",
    "plot(x,sm.derivative(fpoly,x,dx=0.001,n=2,order=5),'-.',label=\"$f''$\")\n",
    "plot(x,sm.derivative(fpoly,x,dx=0.001,n=3,order=7),':',label=\"$f'''$\")\n",
    "legend()"
   ]
  },
  {
   "cell_type": "markdown",
   "metadata": {},
   "source": [
    "### Derivative of numerical data\n",
    "There are a couple other perfectly valid approaches. One it the numpy method `gradient`.\n"
   ]
  },
  {
   "cell_type": "code",
   "execution_count": null,
   "metadata": {},
   "outputs": [],
   "source": [
    "y = fpoly(x)"
   ]
  },
  {
   "cell_type": "markdown",
   "metadata": {},
   "source": [
    "This is one way to calculate the centre-valued derivative:"
   ]
  },
  {
   "cell_type": "code",
   "execution_count": null,
   "metadata": {},
   "outputs": [],
   "source": [
    "yy=(y[2:]-y[0:-2])/(x[2]-x[0])"
   ]
  },
  {
   "cell_type": "code",
   "execution_count": null,
   "metadata": {},
   "outputs": [],
   "source": [
    "diff(y)[0:2]"
   ]
  },
  {
   "cell_type": "markdown",
   "metadata": {},
   "source": [
    "The numpy `gradient` method is as work horse that will also calculate gradient of multi-dimensional data."
   ]
  },
  {
   "cell_type": "code",
   "execution_count": null,
   "metadata": {},
   "outputs": [],
   "source": [
    "# gradient?"
   ]
  },
  {
   "cell_type": "code",
   "execution_count": null,
   "metadata": {},
   "outputs": [],
   "source": [
    "ifig=10;close(ifig);figure(ifig)\n",
    "plot(x,y,label=\"$f$\")\n",
    "plot(x[1:-1],yy,'-.',label=\"$f'$\")\n",
    "plot(x[0:-1]+0.5*diff(x)[0],diff(y)/diff(x),'--',label=\"diff $f'$\")\n",
    "plot(x,gradient(y,x,edge_order=2),':',label=\"gradient $f'$\")\n",
    "legend()"
   ]
  },
  {
   "cell_type": "markdown",
   "metadata": {},
   "source": [
    "What if the data points are not equidistant?"
   ]
  },
  {
   "cell_type": "code",
   "execution_count": null,
   "metadata": {},
   "outputs": [],
   "source": [
    "random.rand(20)"
   ]
  },
  {
   "cell_type": "markdown",
   "metadata": {},
   "source": [
    "Note how the random data in $[0 \\dots 1]$ needs to be stretched and shifted to cover the desired range. Also, the random data needs to be sorted or the gradient library will be unhappy."
   ]
  },
  {
   "cell_type": "code",
   "execution_count": null,
   "metadata": {},
   "outputs": [],
   "source": [
    "x = 4*random.rand(10) - 2\n",
    "x.sort()\n",
    "y = fpoly(x)"
   ]
  },
  {
   "cell_type": "code",
   "execution_count": null,
   "metadata": {},
   "outputs": [],
   "source": [
    "ifig=12;close(ifig);figure(ifig)\n",
    "plot(x,y,'o-',label=\"$f$\")\n",
    "plot(x[0:-1]+0.5*diff(x),diff(y)/diff(x),'--',label=\"diff $f'$\")\n",
    "plot(x,gradient(y,x,edge_order=1),':',label=\"gradient $f'$\")\n",
    "plot(x,fpoly_deriv(x),'-.',label=\"fpoly_deriv $f'$\")\n",
    "legend()"
   ]
  },
  {
   "cell_type": "markdown",
   "metadata": {},
   "source": [
    "Explore the `edge_order=1` option in the gradient method, look at the doc string! What is the effect on the edge values?"
   ]
  },
  {
   "cell_type": "markdown",
   "metadata": {},
   "source": [
    "### Noisy data\n",
    "What if the data is noisy?"
   ]
  },
  {
   "cell_type": "code",
   "execution_count": null,
   "metadata": {},
   "outputs": [],
   "source": [
    "x = linspace(-2,2,51)"
   ]
  },
  {
   "cell_type": "markdown",
   "metadata": {},
   "source": [
    "If your data is noisy in both x and y direction you would have to sort the data in x direction first. Let's keep `x_eps = 0.` for now."
   ]
  },
  {
   "cell_type": "code",
   "execution_count": null,
   "metadata": {},
   "outputs": [],
   "source": [
    "# let's add some noise to this analytical data\n",
    "y_eps=1.7; x_eps = 0.\n",
    "d_err = y_eps*(rand(len(x))-0.5)\n",
    "y_noise = fpoly(x)+d_err\n",
    "x_noise = x+x_eps*d_err"
   ]
  },
  {
   "cell_type": "code",
   "execution_count": null,
   "metadata": {},
   "outputs": [],
   "source": [
    "ifig=13;close(ifig);figure(ifig)\n",
    "\n",
    "plot(x_noise,y_noise,'r-o',label='noisy polynomial')\n",
    "plot(x_noise,gradient(y_noise,x_noise),':',label=\"gradient $f'$\")\n",
    "\n",
    "legend(loc=0)\n",
    "xlabel('x')\n",
    "ylabel('f(x)')"
   ]
  },
  {
   "cell_type": "markdown",
   "metadata": {},
   "source": [
    "In order to differentiate this data we may first want to smooth and/or interpolate it.\n"
   ]
  },
  {
   "cell_type": "code",
   "execution_count": null,
   "metadata": {},
   "outputs": [],
   "source": [
    "from scipy import interpolate"
   ]
  },
  {
   "cell_type": "code",
   "execution_count": null,
   "metadata": {},
   "outputs": [],
   "source": [
    "# interpolate.splrep?"
   ]
  },
  {
   "cell_type": "code",
   "execution_count": null,
   "metadata": {},
   "outputs": [],
   "source": [
    "ifig=16;close(ifig);figure(ifig)\n",
    "\n",
    "plot(x_noise,fpoly(x_noise),'-',label='polynomial')\n",
    "plot(x_noise,y_noise,'o',label='noisy polynomial')\n",
    "\n",
    "# create spline representation\n",
    "tck = interpolate.splrep(x_noise,y_noise, s=15)\n",
    "x_new = linspace(-1.95,1.95,4*len(x_noise))\n",
    "\n",
    "# evaluate spline representation\n",
    "y_new = interpolate.splev(x_new, tck, der=0)\n",
    "plot(x_new,y_new,'-.',label='smoothed spline $f$')\n",
    "\n",
    "# once you have a spline representation you can also evaluate the \n",
    "# second derivative\n",
    "yy_new = interpolate.splev(x_new, tck, der=1)\n",
    "plot(x_new,yy_new,':',label=\"smoothed spline  $f'$\")\n",
    "plot(x_noise,fpoly_deriv(x_noise),'--',label='fpoly_deriv')\n",
    "\n",
    "\n",
    "legend(loc=0)\n",
    "xlabel('x')\n",
    "ylabel('f(x)')"
   ]
  },
  {
   "cell_type": "markdown",
   "metadata": {},
   "source": [
    "### Gradient of 2D function\n",
    "\n",
    "We can use the gradient function for multi-dimensional arrays as well. "
   ]
  },
  {
   "cell_type": "code",
   "execution_count": null,
   "metadata": {},
   "outputs": [],
   "source": [
    "%pylab ipympl"
   ]
  },
  {
   "cell_type": "code",
   "execution_count": null,
   "metadata": {},
   "outputs": [],
   "source": [
    "c=1; b=0\n",
    "ff = lambda x,y: exp(-(x-b)**2 / (2*c**2)) *exp(-(y-b)**2 / (2*c**2))"
   ]
  },
  {
   "cell_type": "code",
   "execution_count": null,
   "metadata": {},
   "outputs": [],
   "source": [
    "n = 25   # change to 20 for real plot\n",
    "y=x=linspace(-1.5,1.5,n+1)\n",
    "xv,yv = meshgrid(x,y)\n",
    "z= ff(xv,yv)"
   ]
  },
  {
   "cell_type": "code",
   "execution_count": null,
   "metadata": {},
   "outputs": [],
   "source": [
    "shape(z)"
   ]
  },
  {
   "cell_type": "code",
   "execution_count": null,
   "metadata": {},
   "outputs": [],
   "source": [
    "ifig = 10; close(ifig); figure(ifig)\n",
    "imshow(z)"
   ]
  },
  {
   "cell_type": "code",
   "execution_count": null,
   "metadata": {},
   "outputs": [],
   "source": [
    "close(22);fig = plt.figure(22)\n",
    "CS = plt.contour(xv, yv, z,cmap='twilight')\n",
    "plt.clabel(CS, inline=1, fontsize=8)"
   ]
  },
  {
   "cell_type": "markdown",
   "metadata": {},
   "source": [
    "Now we calculate the gradient. We should inspect the output."
   ]
  },
  {
   "cell_type": "code",
   "execution_count": null,
   "metadata": {},
   "outputs": [],
   "source": [
    "shape(gradient(z))"
   ]
  },
  {
   "cell_type": "code",
   "execution_count": null,
   "metadata": {},
   "outputs": [],
   "source": [
    "ifig = 11; close(ifig); figure(ifig)\n",
    "imshow(gradient(z)[0])  # the first array is the derivative in the y direction"
   ]
  },
  {
   "cell_type": "markdown",
   "metadata": {},
   "source": [
    "The `quiver` plot is exactly what we need to visualize the gradient."
   ]
  },
  {
   "cell_type": "code",
   "execution_count": null,
   "metadata": {},
   "outputs": [],
   "source": [
    "ifig = 12; close(ifig); figure(ifig)\n",
    "quiver(x,y,gradient(z)[1],gradient(z)[0])"
   ]
  },
  {
   "cell_type": "code",
   "execution_count": null,
   "metadata": {},
   "outputs": [],
   "source": [
    "gpx,gpy = gradient(z)[1],gradient(z)[0]\n",
    "gp_abs = sqrt(gpx**2+gpy**2)"
   ]
  },
  {
   "cell_type": "code",
   "execution_count": null,
   "metadata": {},
   "outputs": [],
   "source": [
    "amax(gp_abs)"
   ]
  },
  {
   "cell_type": "code",
   "execution_count": null,
   "metadata": {},
   "outputs": [],
   "source": [
    "i,j = where(gp_abs > 0.072)"
   ]
  },
  {
   "cell_type": "code",
   "execution_count": null,
   "metadata": {},
   "outputs": [],
   "source": [
    "plot(x[i],y[j],'ro')"
   ]
  },
  {
   "cell_type": "markdown",
   "metadata": {},
   "source": [
    "## Integration\n",
    "* see end of nb 5.2"
   ]
  },
  {
   "cell_type": "markdown",
   "metadata": {},
   "source": [
    "## Miscellaneous"
   ]
  },
  {
   "cell_type": "markdown",
   "metadata": {},
   "source": [
    "### map\n",
    "[map](https://docs.python.org/3/library/functions.html#map)\n",
    "is one of the [built-in Python functions](https://docs.python.org/3/library/functions.html) \n",
    "[map](https://www.geeksforgeeks.org/python-map-function/). It returns an iterator that applies function to every item of iterable, yielding the results. `map` in combination with the `lambda` function provides a very similar (if not the same) functionality as list comprehension.\n",
    "\n",
    "**Example 1:**"
   ]
  },
  {
   "cell_type": "code",
   "execution_count": null,
   "metadata": {},
   "outputs": [],
   "source": [
    "my_pets = ['alfred', 'tabitha', 'william', 'arla']"
   ]
  },
  {
   "cell_type": "code",
   "execution_count": null,
   "metadata": {},
   "outputs": [],
   "source": [
    "my_pets[0].upper()"
   ]
  },
  {
   "cell_type": "code",
   "execution_count": null,
   "metadata": {},
   "outputs": [],
   "source": [
    "[pet.upper() for pet in my_pets]"
   ]
  },
  {
   "cell_type": "code",
   "execution_count": null,
   "metadata": {},
   "outputs": [],
   "source": [
    "list(map(str.upper, my_pets))"
   ]
  },
  {
   "cell_type": "markdown",
   "metadata": {},
   "source": [
    "**Example 2:**"
   ]
  },
  {
   "cell_type": "code",
   "execution_count": null,
   "metadata": {},
   "outputs": [],
   "source": [
    "f = lambda x,y,z: 100*x + 10*y + z\n",
    "f(1,2,3)"
   ]
  },
  {
   "cell_type": "code",
   "execution_count": null,
   "metadata": {},
   "outputs": [],
   "source": [
    "x=linspace(1,3,3)\n",
    "y=linspace(4,6,3)\n",
    "z=linspace(7,9,3)\n",
    "print(x,y,z)"
   ]
  },
  {
   "cell_type": "code",
   "execution_count": null,
   "metadata": {},
   "outputs": [],
   "source": [
    "xx = 1\n",
    "f(xx,y,z)"
   ]
  },
  {
   "cell_type": "code",
   "execution_count": null,
   "metadata": {},
   "outputs": [],
   "source": [
    "[f(xx,y,z) for xx in range(1,3)]"
   ]
  },
  {
   "cell_type": "code",
   "execution_count": null,
   "metadata": {},
   "outputs": [],
   "source": [
    "f_ = lambda x: f(xx,y,z)"
   ]
  },
  {
   "cell_type": "code",
   "execution_count": null,
   "metadata": {},
   "outputs": [],
   "source": [
    "[f_(x) for x in range(1,3)]"
   ]
  },
  {
   "cell_type": "code",
   "execution_count": null,
   "metadata": {},
   "outputs": [],
   "source": [
    "cc = map(f_,range(2,4)) "
   ]
  },
  {
   "cell_type": "code",
   "execution_count": null,
   "metadata": {},
   "outputs": [],
   "source": [
    "cc?"
   ]
  },
  {
   "cell_type": "code",
   "execution_count": null,
   "metadata": {},
   "outputs": [],
   "source": [
    "array(list(cc))"
   ]
  },
  {
   "cell_type": "markdown",
   "metadata": {},
   "source": [
    "**Example 3:** "
   ]
  },
  {
   "cell_type": "code",
   "execution_count": null,
   "metadata": {},
   "outputs": [],
   "source": [
    "C = [39.2, 36.5, 37.3, 38, 37.8] \n",
    "F = list(map(lambda x: (float(9)/5)*x + 32, C))\n",
    "print(\"{:7s}  {:10s}\".format('Celsius','Fahrenheit'))\n",
    "for a,b, in zip(C,F): print(\"{:7.2f}  {:10.2f}\".format(a,b))"
   ]
  },
  {
   "cell_type": "markdown",
   "metadata": {},
   "source": [
    "### Multiprocessing\n",
    "In lecture 5.2 we saw that the MC integration, if done for millions of runs, starts to use measurable computing time. This is an example for a case where a particular task needs to be done over and over again, maybe in another situation with different input parameters. Such problems are called _embarissingly parallel_, essentially because it takes no or very little effort to parallelize them. The following introduces a multiprocessing approach that will use multiple cpu cores (see notebook 3.1 where we covered the hardware aspects). \n",
    "\n",
    "The following very simple code example demonstrates the use of the [multiprocessing](https://docs.python.org/2/library/multiprocessing.html) module.\n",
    "\n",
    "Note: Using the `pool` functionality requires that the `__main__` module be importable by the children. This means that `pool` will not work properly in an interactive session. Thus, the following would have to be used as a Python script:"
   ]
  },
  {
   "cell_type": "markdown",
   "metadata": {},
   "source": [
    "```Python\n",
    "from multiprocessing import Pool\n",
    "\n",
    "def f(x):\n",
    "    return x*x\n",
    "\n",
    "p = Pool(5)\n",
    "print(p.map(f, [1, 2, 3]))\n",
    "```"
   ]
  },
  {
   "cell_type": "code",
   "execution_count": null,
   "metadata": {},
   "outputs": [],
   "source": [
    "def f(x):\n",
    "    return x*x\n",
    "\n",
    "print(list(map(f, [1, 2, 3])))"
   ]
  },
  {
   "cell_type": "markdown",
   "metadata": {},
   "source": [
    "#### Example MC integration"
   ]
  },
  {
   "cell_type": "code",
   "execution_count": null,
   "metadata": {},
   "outputs": [],
   "source": [
    "%pylab ipympl"
   ]
  },
  {
   "cell_type": "code",
   "execution_count": null,
   "metadata": {},
   "outputs": [],
   "source": [
    "def mcint(func,xrange,n):\n",
    "    '''MC integration of function func over xrange'''\n",
    "    dx = diff(xrange)[0]\n",
    "    x = dx*random.rand(n)+xrange[0]\n",
    "    favg = func(x).mean()\n",
    "    I = favg * dx\n",
    "    return I"
   ]
  },
  {
   "cell_type": "code",
   "execution_count": null,
   "metadata": {},
   "outputs": [],
   "source": [
    "func = lambda x: sin(1/(x*(2-x)))**2"
   ]
  },
  {
   "cell_type": "code",
   "execution_count": null,
   "metadata": {},
   "outputs": [],
   "source": [
    "xrange=(0,2); n = 1001   # nmax = 1e6\n",
    "x = linspace(*xrange,n)\n",
    "ifig=1; close(ifig);figure(ifig)\n",
    "plot(x,func(x))"
   ]
  },
  {
   "cell_type": "code",
   "execution_count": null,
   "metadata": {},
   "outputs": [],
   "source": [
    "mcint(func,xrange,n)"
   ]
  },
  {
   "cell_type": "code",
   "execution_count": null,
   "metadata": {},
   "outputs": [],
   "source": [
    "%%time\n",
    "ints2 = []\n",
    "nruns = int(5e5)\n",
    "nmc=1000\n",
    "for n in range(nruns):\n",
    "    ints2.append(mcint(func,xrange,nmc))\n",
    "print(\"Mean: {:4.2f}  Variance: {:4.2f}\".format(mean(ints2),var(ints2)))"
   ]
  },
  {
   "cell_type": "markdown",
   "metadata": {},
   "source": [
    "`nruns` determines how many times we are going to determine the integral with a complete MC integration. Remember, each time we will get a slightly different answer because each time a different set of random numbers will be drawn. Each MC integration will use `nmc` random numbers. \n",
    "\n",
    "As we can see, doing a million MC integrals takes about a minute. However, we are only using one of our 12 cores. We can use some more with the `multiporcessing` package. \n",
    "\n",
    "```Python\n",
    "from multiprocessing import Pool\n",
    "import numpy as np\n",
    "\n",
    "nruns = int(5e6)\n",
    "\n",
    "def mc(i):\n",
    "    '''MC integration of function func over xrange'''\n",
    "    n = 1000\n",
    "    dx = 2.\n",
    "    x = dx*np.random.rand(n)\n",
    "    y = np.sin(1/(x*(2-x)))**2\n",
    "    favg = y.mean()\n",
    "    I = favg * dx\n",
    "    return I\n",
    "\n",
    "\n",
    "p = Pool(20)\n",
    "ints3 = np.array(p.map(mc,range(nruns)))\n",
    "print(ints3.mean(),ints3.var())\n",
    "```"
   ]
  },
  {
   "cell_type": "markdown",
   "metadata": {},
   "source": [
    "Run the above program and compare the performance:"
   ]
  },
  {
   "cell_type": "code",
   "execution_count": null,
   "metadata": {},
   "outputs": [],
   "source": [
    "# single process\n",
    "34.5/nruns"
   ]
  },
  {
   "cell_type": "code",
   "execution_count": null,
   "metadata": {},
   "outputs": [],
   "source": [
    "# 4 procs\n",
    "4* 74 / 5e6 "
   ]
  },
  {
   "cell_type": "code",
   "execution_count": null,
   "metadata": {},
   "outputs": [],
   "source": [
    "# 10 procs\n",
    "10* 44 / 5e6 "
   ]
  },
  {
   "cell_type": "markdown",
   "metadata": {},
   "source": [
    "### Animation, make movie with ffmpeg"
   ]
  },
  {
   "cell_type": "markdown",
   "metadata": {},
   "source": [
    "A really easy way to make an animation is to generate a sequence of numbered `.png` images and connect them with the command-line program ``ffmpeg`. "
   ]
  },
  {
   "cell_type": "markdown",
   "metadata": {},
   "source": [
    "#### Example: Oscillating sine \n",
    "We want to make a movie of an oscillating spline."
   ]
  },
  {
   "cell_type": "code",
   "execution_count": null,
   "metadata": {},
   "outputs": [],
   "source": [
    "ifig=2\n",
    "close(ifig)\n",
    "figure(ifig)"
   ]
  },
  {
   "cell_type": "code",
   "execution_count": null,
   "metadata": {},
   "outputs": [],
   "source": [
    "x = linspace(0,2*pi)\n",
    "ff = 0.25\n",
    "plot(x, sin(ff*2*pi)*sin(x),lw=0.8)\n",
    "ylabel('$\\sin x$'), xlabel('$x$')"
   ]
  },
  {
   "cell_type": "code",
   "execution_count": null,
   "metadata": {},
   "outputs": [],
   "source": [
    "ifig=3;close(ifig);figure(ifig)\n",
    "x = linspace(0,2*pi)\n",
    "fact = linspace(0,2.,32)\n",
    "for ff in fact:\n",
    "    plot(x, sin(ff*pi)*sin(x),lw=0.8)\n",
    "    ylabel('$\\sin x$'), xlabel('$x$')"
   ]
  },
  {
   "cell_type": "code",
   "execution_count": null,
   "metadata": {},
   "outputs": [],
   "source": [
    "color=['c', 'm', 'y', 'k','r','g','b']\n",
    "linestyle=['-', '--', ':', '-.']\n",
    "cl = [a+b for a in linestyle for b in color]"
   ]
  },
  {
   "cell_type": "code",
   "execution_count": null,
   "metadata": {},
   "outputs": [],
   "source": [
    "from random import shuffle\n",
    "shuffle(cl)"
   ]
  },
  {
   "cell_type": "code",
   "execution_count": null,
   "metadata": {},
   "outputs": [],
   "source": [
    "ifig=4;close(ifig);figure(ifig)\n",
    "x = linspace(0,2*pi)\n",
    "fact = linspace(0,2.,32)\n",
    "for i,ff in enumerate(fact):\n",
    "    plot(x, sin(ff*pi)*sin(x),cl[mod(i,len(cl))],lw=0.8)\n",
    "    ylabel('$\\sin x$'), xlabel('$x$')"
   ]
  },
  {
   "cell_type": "markdown",
   "metadata": {},
   "source": [
    "With the following command the plot can be saved into a png image file:"
   ]
  },
  {
   "cell_type": "code",
   "execution_count": null,
   "metadata": {},
   "outputs": [],
   "source": [
    "savefig('my_great_sin_plot.png')"
   ]
  },
  {
   "cell_type": "markdown",
   "metadata": {},
   "source": [
    "Now, make one plot per line and save the plot each time as a png image file. "
   ]
  },
  {
   "cell_type": "code",
   "execution_count": null,
   "metadata": {},
   "outputs": [],
   "source": [
    "ifig=4;close(ifig);figure(ifig)\n",
    "x = linspace(0,2*pi)\n",
    "fact = linspace(0,2.,40)\n",
    "for i,ff in enumerate(fact):\n",
    "    ifig=4;close(ifig);figure(ifig)\n",
    "    plot(x, sin(ff*pi)*sin(x),'r-',lw=0.8)\n",
    "    ylim(-1.1,1.1)\n",
    "    savefig('sin'+str(i).zfill(4)+\".png\")\n",
    "    ylabel('$\\sin x$'), xlabel('$x$')"
   ]
  },
  {
   "cell_type": "code",
   "execution_count": null,
   "metadata": {},
   "outputs": [],
   "source": [
    "!rm sin*png"
   ]
  },
  {
   "cell_type": "code",
   "execution_count": null,
   "metadata": {},
   "outputs": [],
   "source": [
    "!ls sin*png"
   ]
  },
  {
   "cell_type": "markdown",
   "metadata": {},
   "source": [
    "We can use the ffmpeg command to generate out of these frames a movie:\n",
    "```\n",
    "#!/bin/bash\n",
    "# Produces mp4 movie from series of images (e.g. png format)\n",
    "# ARG1: name base of image files that is followed by numbers, and prefix.\n",
    "#       for example if the images are named img0001.png than ARG1 is \"img\"\n",
    "\n",
    "ffmpeg  -framerate 10   -y -f image2  -pattern_type glob -i \"$1*.png\" -preset slow -crf 18  -c:v libx264 -b:v 12000k  -pix_fmt yuv420p  $1.mp4\n",
    "\n",
    "```"
   ]
  },
  {
   "cell_type": "code",
   "execution_count": null,
   "metadata": {},
   "outputs": [],
   "source": [
    "!cat ./bin/movie.sh"
   ]
  },
  {
   "cell_type": "code",
   "execution_count": null,
   "metadata": {},
   "outputs": [],
   "source": [
    "%%bash\n",
    "./bin/movie.sh sin"
   ]
  },
  {
   "cell_type": "markdown",
   "metadata": {},
   "source": [
    "This great, but the movie does not look good yet. We need more frames for better time resolution. The notebook environment is not suitable for this, and we can only make one plot at a time. So, let's use multiprocessing again. The python script would look like this:\n",
    "\n",
    "```Python\n",
    "from multiprocessing import Pool\n",
    "from matplotlib import pyplot as pl\n",
    "import numpy as np\n",
    "\n",
    "x = np.linspace(0,2*np.pi)\n",
    "fact = np.linspace(0,5,2000)\n",
    "\n",
    "def make_image(inp = (1,0.5)):\n",
    "    i,ff = inp\n",
    "    pl.plot(x, np.sin(ff*np.pi)*np.sin(x),'r-',lw=0.8)\n",
    "    pl.ylabel('$\\sin x$'), pl.xlabel('$x$')\n",
    "    pl.ylim(-1.05,1.05)\n",
    "    pl.savefig('sin'+str(i).zfill(4)+\".png\")\n",
    "\n",
    "p = Pool(10)\n",
    "p.map(make_image,enumerate(fact))\n",
    "```"
   ]
  },
  {
   "cell_type": "markdown",
   "metadata": {},
   "source": [
    "Let's try it and make a nice movie ..."
   ]
  },
  {
   "cell_type": "code",
   "execution_count": null,
   "metadata": {},
   "outputs": [],
   "source": []
  }
 ],
 "metadata": {
  "kernelspec": {
   "display_name": "Python 3",
   "language": "python",
   "name": "python3"
  },
  "language_info": {
   "codemirror_mode": {
    "name": "ipython",
    "version": 3
   },
   "file_extension": ".py",
   "mimetype": "text/x-python",
   "name": "python",
   "nbconvert_exporter": "python",
   "pygments_lexer": "ipython3",
   "version": "3.6.10"
  }
 },
 "nbformat": 4,
 "nbformat_minor": 4
}
