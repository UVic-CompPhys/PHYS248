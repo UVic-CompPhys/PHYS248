{
 "cells": [
  {
   "cell_type": "markdown",
   "metadata": {},
   "source": [
    "# 1.1 Intro to Python I\n",
    "\n",
    "In the first two weeks we will review key concepts of [CSC110](https://heat.csc.uvic.ca/coview/outline/2017/Spring/CSC/110), and how they are expressed in Python. These concept include:\n",
    "\n",
    "* Basic syntax and semantics \n",
    "* Variables, expressions, and assignment\n",
    "* Simple I/O (input/output)\n",
    "* Conditional and iterative control structures (flow control, e.g. `if` constructs)\n",
    "* Functions/methods and parameter passing\n",
    "* Arrays\n",
    "* Strings and string processing\n",
    "\n",
    "\n",
    "In the first week we will focus on language elements and basic math operations.\n",
    "\n",
    "## Covered in this class\n",
    "* Intro\n",
    "    - JupyterLab and notebooks\n",
    "    - Using a code cell like a calculator\n",
    "    - Variables\n",
    "* Algebra and statements\n",
    "    - Arithmetic operators\n",
    "    - Difference between mathematical equality and computational statment\n",
    "    - How to solve an exercise?\n",
    "* Data types\n",
    "    - Overview\n",
    "    - Strings and scalar variables \n",
    "    - Lists and arrays\n",
    "* Formatted printing\n",
    "\n"
   ]
  },
  {
   "cell_type": "markdown",
   "metadata": {},
   "source": [
    "## Intro\n",
    "The main programming environment in this class will be [Python](https://www.python.org), and specifically the interactive [ipython](http://ipython.org) environment. The latter provides in combination with the [matplotlib](http://matplotlib.org) package and further extension packages, such as [numpy](http://www.numpy.org), [scipy](http://www.scipy.org) and [sympy](http://www.sympy.org) a very powerful environment for scientific and mathematical computing. There are many, many other extension packages.\n",
    "\n",
    "The book [A Primer on Scientific Programming with Python](https://link.springer.com/book/10.1007%2F978-3-662-49887-3) by Hans Petter Langtangen is a good general reference. Tutorials/references can be found in the [Python Tutorial](https://docs.python.org/3.6/tutorial/) or in the [w3schools Python Tutorial](https://www.w3schools.com/python/default.asp)\n",
    "\n",
    "### JupyterLab and notebooks\n",
    "\n",
    "We are using [ipython](http://ipython.org) in  [JupyterLab](https://jupyterlab.readthedocs.io/en/stable/)  in this course. The typical organizational unit in a JupyterLab session is a notebook.\n",
    "\n",
    "Ipython notebook cells come mainly in two variants [ref](https://ipython.org/ipython-doc/1/interactive/notebook.html):\n",
    "* Text cells allow [basic editing with Markdown](http://nestacms.com/docs/creating-content/markdown-cheat-sheet) and are used to describe the problem, methods, results, conclusions. Markdown cells except [Latex typesetting](http://www.personal.ceu.hu/tex/cookbook.html) for fancy math. [Example.](examples/example_markdown_notebook_essentials.ipynb) examples/example_markdown_notebook_essentials.ipynb\n",
    "* _Code cells_ contain executable python code \n",
    "\n",
    "The _Help_ menu provides an overview of the _Keyboard shortcuts_ and it very useful to have nearby for frequent reference. \n",
    "\n",
    "For your homework or any other submission you will provide the corresponding notebook with all cells executable on the Abacus JupyterLab server.\n",
    "\n",
    "\n",
    "Start notebook give it the name `test1.ipynb`\n",
    "\n",
    "Different types of cells:\n",
    "- Code cells\n",
    "- Markdown cells\n",
    "For now we will focuse on code cells. The `#` character signals a comment and anything after this character in a code cell will be ignored."
   ]
  },
  {
   "cell_type": "code",
   "execution_count": null,
   "metadata": {},
   "outputs": [],
   "source": [
    "# This is a comment and the execution of this cell will do nothing."
   ]
  },
  {
   "cell_type": "markdown",
   "metadata": {},
   "source": [
    "### Using a code cell like a calculator\n",
    "For example, caluclate `(10+34)/4.5`"
   ]
  },
  {
   "cell_type": "code",
   "execution_count": null,
   "metadata": {},
   "outputs": [],
   "source": [
    "(10+34)/4.5"
   ]
  },
  {
   "cell_type": "markdown",
   "metadata": {},
   "source": [
    "Use variables in calculations:"
   ]
  },
  {
   "cell_type": "code",
   "execution_count": null,
   "metadata": {},
   "outputs": [],
   "source": [
    "i = 10\n",
    "j = 34\n",
    "a = 4.5\n",
    "\n",
    "print((i+j)/a)  # The print function prints whatever is in the argument."
   ]
  },
  {
   "cell_type": "code",
   "execution_count": null,
   "metadata": {},
   "outputs": [],
   "source": [
    "c = (i+j)/a\n",
    "print(c)"
   ]
  },
  {
   "cell_type": "markdown",
   "metadata": {},
   "source": [
    "### Variables\n",
    "Variables and choosing variable names: \n",
    "- don't use possible function names or other things as variable names that could mean something, such as `and, as, assert, break, class, continue, def, del, elif, else, except, False, finally, for, from, global, if, import, in, is, lambda, None, nonlocal, not, or, pass, raise, return, True, try, with, while,` and `yield`\n",
    "- use mnemonic names\n",
    "- be mindful of name space, more of that later"
   ]
  },
  {
   "cell_type": "code",
   "execution_count": null,
   "metadata": {},
   "outputs": [],
   "source": [
    "ifb=3               # this is not a good name\n",
    "i_frame_buffer = 3  # this is a better name, maybe a bit too long\n",
    "iframbuf = 3        # compromise"
   ]
  },
  {
   "cell_type": "markdown",
   "metadata": {},
   "source": [
    "**Important concepts in this section:**\n",
    "* Notebooks are the basic _documents_ in JupyterLab\n",
    "* At the most basic level you can use a code cell like a calculator\n",
    "* Some names can't be used, choose variable names thoughtfully"
   ]
  },
  {
   "cell_type": "markdown",
   "metadata": {},
   "source": [
    "## Algebra and statements\n",
    "As we have already seen, we can use variables we have already assigned and create new ones using algebraic expressions.\n",
    "\n",
    "### Arithmetic operators"
   ]
  },
  {
   "cell_type": "code",
   "execution_count": null,
   "metadata": {},
   "outputs": [],
   "source": [
    "g = 111"
   ]
  },
  {
   "cell_type": "code",
   "execution_count": null,
   "metadata": {},
   "outputs": [],
   "source": [
    "g = 2*a + 2\n",
    "print(g)"
   ]
  },
  {
   "cell_type": "markdown",
   "metadata": {},
   "source": [
    "Here is a list of [Python arithmetic operators](https://www.w3schools.com/python/python_operators.asp)."
   ]
  },
  {
   "cell_type": "code",
   "execution_count": null,
   "metadata": {},
   "outputs": [],
   "source": [
    "2 + 2  # int and int returns int \n",
    "       # (holds for subtraction and multiplication as well)"
   ]
  },
  {
   "cell_type": "code",
   "execution_count": null,
   "metadata": {},
   "outputs": [],
   "source": [
    "2 + 2.  # int + float is float"
   ]
  },
  {
   "cell_type": "code",
   "execution_count": null,
   "metadata": {},
   "outputs": [],
   "source": [
    "1/3  # float division"
   ]
  },
  {
   "cell_type": "code",
   "execution_count": null,
   "metadata": {},
   "outputs": [],
   "source": [
    "4//3 # floor division"
   ]
  },
  {
   "cell_type": "code",
   "execution_count": null,
   "metadata": {},
   "outputs": [],
   "source": [
    "7%5  # modulus"
   ]
  },
  {
   "cell_type": "code",
   "execution_count": null,
   "metadata": {},
   "outputs": [],
   "source": [
    "print(2+a/4)"
   ]
  },
  {
   "cell_type": "code",
   "execution_count": null,
   "metadata": {},
   "outputs": [],
   "source": [
    "print((2+a)/4)  #be careful where you place brackets"
   ]
  },
  {
   "cell_type": "markdown",
   "metadata": {},
   "source": [
    "### Difference between mathematical equality and computational statment\n",
    "In mathematics the $=$ sign means that the left and right side of $=$ are equal. In a computer program the `=` sign means an assignment. \n",
    "\n",
    "`a = a+3 ` does not make sense as a mathematical equation. In computing it means _assign to the variable on the left the evaluation of the expression on the right_. `a` has a value before this _statement_ (not _equation_) is encountered. The assignment statement says: _add 3 to what was in `a` and store that new value in the memory slot associated with the variabe `a`_."
   ]
  },
  {
   "cell_type": "markdown",
   "metadata": {},
   "source": [
    "A related peculiarity is the [augmented assignment](https://docs.python.org/2.0/ref/augassign.html) operator."
   ]
  },
  {
   "cell_type": "code",
   "execution_count": null,
   "metadata": {},
   "outputs": [],
   "source": [
    "a = 3\n",
    "a += 2\n",
    "print(a)"
   ]
  },
  {
   "cell_type": "markdown",
   "metadata": {},
   "source": [
    "### How to solve an exercise?\n",
    "1. Study the text in the exercise carefully to understand what the problem is about.\n",
    "2. Sketch the algorithm and write the program.\n",
    "3. Test the program and remove errors (debugging).\n",
    "\n",
    "**Example exercise:**\n",
    "The [life expectancy in Canada at birth in 2018](List_of_countries_by_life_expectancy) is 82.3 years. Is a baby born two years ago expected to live for more than a billion seconds?"
   ]
  },
  {
   "cell_type": "code",
   "execution_count": null,
   "metadata": {},
   "outputs": [],
   "source": [
    "t_lexp_years = 82.3\n",
    "\n",
    "t_lexp_s = t_lexp_years * 365*24*60*60\n",
    "print(t_lexp_s/1.e9)\n",
    "print(\"Yes, that two-year old is expected to life approximately 2.6 billion seconds.\")"
   ]
  },
  {
   "cell_type": "markdown",
   "metadata": {},
   "source": [
    "**Important concepts in this section:**\n",
    "* Different arithmetic operators to be used in expressions\n",
    "* The difference between a mathematical equation and a computational assignment\n",
    "* How to approach an exercise?"
   ]
  },
  {
   "cell_type": "markdown",
   "metadata": {},
   "source": [
    "## Data types\n",
    "### Overview\n",
    "Variable have a type. There are [numerous data types](https://en.wikibooks.org/wiki/Python_Programming/Data_Types) to store different types of things, such as integers or strings. A variable object may be of [mutable or immutable type](https://en.wikibooks.org/wiki/Python_Programming/Data_Types#Mutable_vs_Immutable_Objects). For example, arrays are mutable, their elements can be changed. (This can lead in practice to [unexpected results when using augmented assignments](https://gist.github.com/fherwig/48b3fc2a920833c6077891982ad122d7).) Tupples are immutable.\n",
    "\n",
    "The computer needs to know if the content of a variable is a string, an integer or a float, for example. It will provide the appropriate machine representation. We will not get into details, but you can imagine that it takes, for example, more memory space to store a real number with many digits following the decimal point compared to an integer number of similar magnitude. \n",
    "\n",
    "Here are some of the most important data types for single things (these are immutable):\n",
    "\n",
    " Type | Comment | Example\n",
    "---|---|---\n",
    "integer | can be written without a fractional component | `i = 2`\n",
    "floats | real numbers, come in different precision, i.e. `float64` | `x = 2.1145`, `np.pi`\n",
    "complex | complex numbers, e.g. scipy.sqrt(-1) | `1j`\n",
    "strings | a sequence of characters | `name='Alfred'`\n",
    "\n",
    "And these are the most important types to combine many single things (most are mutable, individual elements of objects of this type can be changed).\n",
    "\n",
    " Type | Comment | Example\n",
    "------|---------|---------\n",
    "lists | a list of any combination of data types | `mylist = [1,np.pi,name,a,'Hello World!`]\n",
    "arrays | a numpy construct, vectors or higher dimenstional, contains numbers | `b=np.array(a,dtype='float64')`\n",
    "dictionary | elements given by key | `ages = {'Anna':25,'Frank':17,'Gandalf':107}`\n",
    "tuple | immutable(!) list of numbers | `a=(1,2,3)`\n",
    "\n",
    "In the following we will experiment with these types."
   ]
  },
  {
   "cell_type": "markdown",
   "metadata": {},
   "source": [
    "### Strings and scalar variables "
   ]
  },
  {
   "cell_type": "code",
   "execution_count": null,
   "metadata": {},
   "outputs": [],
   "source": [
    "c = 'Frank'             # a string\n",
    "first_name='Charlie'"
   ]
  },
  {
   "cell_type": "code",
   "execution_count": null,
   "metadata": {},
   "outputs": [],
   "source": [
    "first_name?"
   ]
  },
  {
   "cell_type": "code",
   "execution_count": null,
   "metadata": {},
   "outputs": [],
   "source": [
    "last_name = \"Clark\""
   ]
  },
  {
   "cell_type": "markdown",
   "metadata": {},
   "source": [
    "Adding strings:"
   ]
  },
  {
   "cell_type": "code",
   "execution_count": null,
   "metadata": {},
   "outputs": [],
   "source": [
    "full_name = first_name+\" \"+last_name\n",
    "print(full_name)"
   ]
  },
  {
   "cell_type": "markdown",
   "metadata": {},
   "source": [
    "Slicing: selecting part of a data structure. Try this:\n",
    "```\n",
    "filename='aaa-report-data.dat'\n",
    "filename[2:-1]\n",
    "```\n",
    "Indices start with zero. The first element is at index `0`!! Negative indices are interpreted as counting from the end backwards. "
   ]
  },
  {
   "cell_type": "code",
   "execution_count": null,
   "metadata": {},
   "outputs": [],
   "source": [
    "print(full_name[1:5])  # another slicing example"
   ]
  },
  {
   "cell_type": "code",
   "execution_count": null,
   "metadata": {},
   "outputs": [],
   "source": [
    "print(3*full_name)"
   ]
  },
  {
   "cell_type": "code",
   "execution_count": null,
   "metadata": {},
   "outputs": [],
   "source": [
    "mylist = [1,np.pi,first_name,a,'Hello World!']"
   ]
  },
  {
   "cell_type": "code",
   "execution_count": null,
   "metadata": {},
   "outputs": [],
   "source": [
    "print(mylist)"
   ]
  },
  {
   "cell_type": "code",
   "execution_count": null,
   "metadata": {},
   "outputs": [],
   "source": [
    "abc_list = [mylist,987.]"
   ]
  },
  {
   "cell_type": "code",
   "execution_count": null,
   "metadata": {},
   "outputs": [],
   "source": [
    "abc_list[0][2], abc_list[1]"
   ]
  },
  {
   "cell_type": "code",
   "execution_count": null,
   "metadata": {},
   "outputs": [],
   "source": [
    "i = 2                   #  integer\n",
    "a = 4.2                 #  float\n",
    "print(i,a)\n",
    "print(2*i,3*a)"
   ]
  },
  {
   "cell_type": "code",
   "execution_count": null,
   "metadata": {},
   "outputs": [],
   "source": [
    "z=3+2j; y=1-4j          #  complex\n",
    "print(z*y,z-y)"
   ]
  },
  {
   "cell_type": "markdown",
   "metadata": {},
   "source": [
    "### Lists and arrays"
   ]
  },
  {
   "cell_type": "code",
   "execution_count": null,
   "metadata": {},
   "outputs": [],
   "source": [
    "a_list = [2, 'b']       # a list, elements can be of different type"
   ]
  },
  {
   "cell_type": "code",
   "execution_count": null,
   "metadata": {},
   "outputs": [],
   "source": [
    "a_list.append(5)            # append is a method associated with the list object\n",
    "a_list.append(first_name)   # append an element to list \n",
    "print(a_list)\n",
    "a_list.append(['[7,6]',np.pi])      # append list item to list\n",
    "print(a_list)"
   ]
  },
  {
   "cell_type": "markdown",
   "metadata": {},
   "source": [
    "Slicing of lists:"
   ]
  },
  {
   "cell_type": "code",
   "execution_count": null,
   "metadata": {},
   "outputs": [],
   "source": [
    "a_list[2]"
   ]
  },
  {
   "cell_type": "code",
   "execution_count": null,
   "metadata": {},
   "outputs": [],
   "source": [
    "a_list[4][0][3]"
   ]
  },
  {
   "cell_type": "code",
   "execution_count": null,
   "metadata": {},
   "outputs": [],
   "source": [
    "a_list[4][1]"
   ]
  },
  {
   "cell_type": "markdown",
   "metadata": {},
   "source": [
    "Creating an empty list and then keep appending. This is a useful technique for adding objects to a list as they become available, like adding things to a bucket."
   ]
  },
  {
   "cell_type": "code",
   "execution_count": null,
   "metadata": {},
   "outputs": [],
   "source": [
    "elist = [] # this creates an empty list\n",
    "elist.append('first item')\n",
    "elist.append('second item')\n",
    "elist.append('third item')\n",
    "print(elist)"
   ]
  },
  {
   "cell_type": "markdown",
   "metadata": {},
   "source": [
    "We will not dwell much on tuples, just keep in mind they are immutable (which is sometimes desirable) and use round brackets, instead of the square brackets used for lists."
   ]
  },
  {
   "cell_type": "markdown",
   "metadata": {},
   "source": [
    "Arrays are numpy objects and are the equivalent of a mathematical vector. There are various ways to create arrays. "
   ]
  },
  {
   "cell_type": "code",
   "execution_count": null,
   "metadata": {},
   "outputs": [],
   "source": [
    "x = np.linspace(0.76,10,7) # a numerical array, floats\n",
    "print(x)"
   ]
  },
  {
   "cell_type": "code",
   "execution_count": null,
   "metadata": {},
   "outputs": [],
   "source": [
    "a = np.arange(1,21.5,3)\n",
    "print(a)"
   ]
  },
  {
   "cell_type": "code",
   "execution_count": null,
   "metadata": {},
   "outputs": [],
   "source": [
    "np.zeros(10)+1 - np.ones(10)"
   ]
  },
  {
   "cell_type": "code",
   "execution_count": null,
   "metadata": {},
   "outputs": [],
   "source": [
    "# calculating with arrays like with vectors\n",
    "c =  x+a\n",
    "print(c)"
   ]
  },
  {
   "cell_type": "markdown",
   "metadata": {},
   "source": [
    "Note the difference between adding two arrays and adding two lists! \n",
    "\n",
    "**Example:** \n",
    "```\n",
    "l1 = [1,2]\n",
    "l2 = [3,4]\n",
    "print(l1+l2)\n",
    "```\n",
    "\n",
    "Now turn both lists into arrays and do the same. \n"
   ]
  },
  {
   "cell_type": "markdown",
   "metadata": {},
   "source": [
    "Arrays, like lists or strings can be **sliced**, consider the following examples."
   ]
  },
  {
   "cell_type": "code",
   "execution_count": null,
   "metadata": {},
   "outputs": [],
   "source": [
    "a"
   ]
  },
  {
   "cell_type": "code",
   "execution_count": null,
   "metadata": {},
   "outputs": [],
   "source": [
    "a[0:5]"
   ]
  },
  {
   "cell_type": "code",
   "execution_count": null,
   "metadata": {},
   "outputs": [],
   "source": [
    "a[0:5:2]"
   ]
  },
  {
   "cell_type": "code",
   "execution_count": null,
   "metadata": {},
   "outputs": [],
   "source": [
    "a[1:-3]"
   ]
  },
  {
   "cell_type": "code",
   "execution_count": null,
   "metadata": {},
   "outputs": [],
   "source": [
    "a[::-1]   # revert order"
   ]
  },
  {
   "cell_type": "markdown",
   "metadata": {},
   "source": [
    "**Important concepts in this section:**\n",
    "* Variables have different types depending on what they are storing. \n",
    "* Some types are for single items, such as integer, float or string.\n",
    "* Lists, arrays and dictionaries are for collections of things. \n",
    "* Variables behave differently when applied in an operation depending on their type, e.g. array vs. list in addition.\n",
    "* Variables can be sliced."
   ]
  },
  {
   "cell_type": "markdown",
   "metadata": {},
   "source": [
    "## Formatted printing"
   ]
  },
  {
   "cell_type": "markdown",
   "metadata": {},
   "source": [
    "Formatted output (we will often want the answer of a problem in a formatted output statement!) can be done in two ways:\n",
    "* printf syntax\n",
    "* format string syntax\n",
    "\n",
    "Formatted output in format string syntax:"
   ]
  },
  {
   "cell_type": "code",
   "execution_count": null,
   "metadata": {},
   "outputs": [],
   "source": [
    "# Example 1\n",
    "i=5\n",
    "print(\"She bought {:2d} oranges.\".format(i))"
   ]
  },
  {
   "cell_type": "markdown",
   "metadata": {},
   "source": [
    "Commonly used format specifications:\n",
    "```\n",
    "%s a string\n",
    "%d an integer\n",
    "%0xd an integer padded with x leading zeros\n",
    "%f decimal notation with six decimals\n",
    "%e compact scientific notation, e in the exponent \n",
    "%E compact scientific notation, E in the exponent \n",
    "%g compact decimal or scientific notation (with e) \n",
    "%G compact decimal or scientific notation (with E) \n",
    "%xz format z right-adjusted in a field of width x \n",
    "%-xz format z left-adjusted in a field of width x \n",
    "%.yz format z with y decimals\n",
    "%x.yz format z with y decimals in a field of width x \n",
    "%% the percentage sign (%) itself\n",
    "```"
   ]
  },
  {
   "cell_type": "code",
   "execution_count": null,
   "metadata": {},
   "outputs": [],
   "source": [
    "# Example 2\n",
    "c = \"April\"; a = 4; x = 2.5987654345\n",
    "print('{name:7s} made {num_ex:3d} measurements, and the first yielded x = {xme:6.2f}'.format(num_ex=a,xme=x,name=c))"
   ]
  },
  {
   "cell_type": "markdown",
   "metadata": {},
   "source": [
    "Formatted strings can be saved:"
   ]
  },
  {
   "cell_type": "code",
   "execution_count": null,
   "metadata": {},
   "outputs": [],
   "source": [
    "formatted_string = '{name:7s} made {num_ex:3d} measurements, and the first yielded x = {xme:6.2f}'.format(num_ex=a,xme=x,name=c)"
   ]
  },
  {
   "cell_type": "code",
   "execution_count": null,
   "metadata": {},
   "outputs": [],
   "source": [
    "print(formatted_string)"
   ]
  },
  {
   "cell_type": "markdown",
   "metadata": {},
   "source": [
    "I will use exclusively the format string syntax. But if you see something like the examples below, that is printf syntax (derived from the printf function in the C programming language). "
   ]
  },
  {
   "cell_type": "code",
   "execution_count": null,
   "metadata": {},
   "outputs": [],
   "source": [
    "print(\"%10s made %d measurements, the first was %5.1g\\\n",
    " and the average was a = %g\" % (c,i,x,a))"
   ]
  },
  {
   "cell_type": "markdown",
   "metadata": {},
   "source": [
    "**Important concepts in this section:**\n",
    "* There are two types of formatted output, the more common one is _format string syntax_.\n",
    "* Formatted output produces text along with the content of variables in a preductable and human-readable form."
   ]
  }
 ],
 "metadata": {
  "anaconda-cloud": {},
  "kernelspec": {
   "display_name": "Python 3",
   "language": "python",
   "name": "python3"
  },
  "language_info": {
   "codemirror_mode": {
    "name": "ipython",
    "version": 3
   },
   "file_extension": ".py",
   "mimetype": "text/x-python",
   "name": "python",
   "nbconvert_exporter": "python",
   "pygments_lexer": "ipython3",
   "version": "3.6.10"
  }
 },
 "nbformat": 4,
 "nbformat_minor": 4
}
