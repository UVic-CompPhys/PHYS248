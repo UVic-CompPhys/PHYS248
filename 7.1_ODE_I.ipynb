{
 "cells": [
  {
   "cell_type": "markdown",
   "metadata": {},
   "source": [
    "# 7.1 ODE I\n",
    "\n",
    "#### Before we start:\n",
    "* review Assignment 2 model solution\n",
    "\n",
    "#### Today's class:\n",
    "\n",
    "* Ordinary differential equations\n",
    "    - Euler step\n",
    "    - Discretisation\n",
    "* Miscellaneous\n",
    "    - `map`\n",
    "    - Multi-threaded processing\n",
    "    - Animation, make movie with ffmpeg\n"
   ]
  },
  {
   "cell_type": "markdown",
   "metadata": {},
   "source": [
    "## Ordinary differential equations\n",
    "\n",
    "Differential equations are often hard to solve on paper but in many cases become trivial on a computer. \n",
    "\n",
    "### Euler step\n",
    "Take the simplest, first order ODE\n",
    "$$\n",
    "y^\\prime = f(y,x)\n",
    "$$\n",
    "where the right-hand side (RHS) is the function $f(y,x)$ that specifies the derivative $y^\\prime = \\frac{dy}{dx}$. We are looking for the function $y(x)$, but here not the algebraic expression but the numerical values. For a time dependent problem $x = t$. "
   ]
  },
  {
   "cell_type": "markdown",
   "metadata": {},
   "source": [
    "Take for example $f (y,x) = 2x$, then we know that $y(x) = x^2$. The differential equation is\n",
    "\n",
    "$$\\frac{dy}{dx} = 2x $$ \n",
    "\n",
    "Let's pretend we do not know the answer, but the initial conditions $y(0) = 0$. How can we numerically calculate $y(x)$ for a series of discrete values $x_i$?\n",
    "\n",
    "\n",
    "### Discretization\n",
    "\n",
    "We need to turn the ODE into a difference equation:\n",
    "\n",
    "$$\\frac{y_\\mathrm{n+1} - y_\\mathrm{n}}{x_\\mathrm{n+1} - x_\\mathrm{n}} = f(y_\\mathrm{n},x_\\mathrm{n}) $$\n",
    "\n",
    "which we solve for $y_\\mathrm{n+1}$:\n",
    "\n",
    "$$y_\\mathrm{n+1} = y_\\mathrm{n} +  h f(y_\\mathrm{n},x_\\mathrm{n})$$ where $h= x_\\mathrm{n+1} - x_\\mathrm{n}$"
   ]
  },
  {
   "cell_type": "markdown",
   "metadata": {},
   "source": [
    "The initial conditions then imply that $X_0 = 0$ and $y_0 = 0$. Specifically then for our case the first few steps look like this:\n",
    "\n",
    "$$\n",
    " \\frac{y_1 - y_0}{h} = f(y_0,x_0) ,\n",
    "$$ solve for $y_1$ and then start stepping:\n",
    "$$\n",
    " y_1  = y_0 + h 2 x_0 \\\\\n",
    " y_2  = y_1 + h 2 x_1 \\\\\n",
    " \\dots\n",
    "$$\n",
    "\n",
    "This is the **explicit** discretization, or the **Euler** step, the right-hand side is evaluated for the known values $(y_\\mathrm{n},x_\\mathrm{n})$."
   ]
  },
  {
   "cell_type": "markdown",
   "metadata": {},
   "source": [
    "Therefore, we evaluate $f(x,y)$ at a sequence of chosen points `x = [x[0],x[1],x[2],x[3],...,x[n]]` and start according to $ y(0) = 0 $   with `y[0] = 0` and then proceed to \n",
    "```python\n",
    "y[1]  = y[0] + h*2*x[0]\n",
    "y[2]  = y[1] + h*2*x[1]\n",
    "y[3]  = y[2] + h*2*x[2]\n",
    "...\n",
    "y[n]  = y[n-1] + h*2*x[n-1]\n",
    "```\n",
    "\n",
    "Let's implement this:"
   ]
  },
  {
   "cell_type": "code",
   "execution_count": null,
   "metadata": {},
   "outputs": [],
   "source": [
    "%pylab ipympl"
   ]
  },
  {
   "cell_type": "code",
   "execution_count": null,
   "metadata": {},
   "outputs": [],
   "source": [
    "y=[]; y.append(0)\n",
    "x=[]; x.append(0)\n",
    "\n",
    "rhs_f = lambda x: 2*x\n",
    "x_thing = x[0]; y_thing = y[0]\n",
    "dx=0.75; x_end = 7.\n",
    "while x_thing <= x_end+dx:\n",
    "    y_thing = y_thing + dx * rhs_f(x_thing)\n",
    "    x_thing += dx\n",
    "    #print(x_thing,y_thing)\n",
    "    x.append(x_thing); y.append(y_thing)"
   ]
  },
  {
   "cell_type": "code",
   "execution_count": null,
   "metadata": {},
   "outputs": [],
   "source": [
    "close(4);figure(4)\n",
    "plot(x,y,'o-',label='Euler explicit')\n",
    "plot(x,array(x)**2,'--',label='analytic')\n",
    "legend();xlabel('$x$'),ylabel('$y(x)$')"
   ]
  },
  {
   "cell_type": "markdown",
   "metadata": {},
   "source": [
    "The numerical answer does not agree very well with the analytic answer. By now you are familiar with the question: How can the accuracy be improved?"
   ]
  },
  {
   "cell_type": "markdown",
   "metadata": {},
   "source": [
    "### Solution using ODE solver library"
   ]
  },
  {
   "cell_type": "code",
   "execution_count": null,
   "metadata": {},
   "outputs": [],
   "source": [
    "from scipy import integrate"
   ]
  },
  {
   "cell_type": "code",
   "execution_count": null,
   "metadata": {},
   "outputs": [],
   "source": [
    "#integrate.odeint?"
   ]
  },
  {
   "cell_type": "code",
   "execution_count": null,
   "metadata": {},
   "outputs": [],
   "source": [
    "rhs_ff = lambda y,x: 2*x\n",
    "x = linspace(0,8,3)\n",
    "y0=0"
   ]
  },
  {
   "cell_type": "code",
   "execution_count": null,
   "metadata": {},
   "outputs": [],
   "source": [
    "yy = integrate.odeint(rhs_ff,y0,x)\n"
   ]
  },
  {
   "cell_type": "code",
   "execution_count": null,
   "metadata": {},
   "outputs": [],
   "source": [
    "figure(4)\n",
    "plot(x,yy,'v:',label='scipy.integrate.odeint')\n",
    "legend()"
   ]
  },
  {
   "cell_type": "markdown",
   "metadata": {},
   "source": [
    "## Miscellaneous"
   ]
  },
  {
   "cell_type": "markdown",
   "metadata": {},
   "source": [
    "### map\n",
    "[map](https://docs.python.org/3/library/functions.html#map)\n",
    "is one of the [built-in Python functions](https://docs.python.org/3/library/functions.html) \n",
    "[map](https://www.geeksforgeeks.org/python-map-function/). It returns an iterator that applies function to every item of iterable, yielding the results. `map` in combination with the `lambda` function provides a very similar (if not the same) functionality as list comprehension.\n",
    "\n",
    "**Example 1:**"
   ]
  },
  {
   "cell_type": "code",
   "execution_count": null,
   "metadata": {},
   "outputs": [],
   "source": [
    "my_pets = ['alfred', 'tabitha', 'william', 'arla']"
   ]
  },
  {
   "cell_type": "code",
   "execution_count": null,
   "metadata": {},
   "outputs": [],
   "source": [
    "my_pets[0].upper()"
   ]
  },
  {
   "cell_type": "code",
   "execution_count": null,
   "metadata": {},
   "outputs": [],
   "source": [
    "[pet.upper() for pet in my_pets]"
   ]
  },
  {
   "cell_type": "code",
   "execution_count": null,
   "metadata": {},
   "outputs": [],
   "source": [
    "list(map(str.upper, my_pets))"
   ]
  },
  {
   "cell_type": "markdown",
   "metadata": {},
   "source": [
    "**Example 2:**"
   ]
  },
  {
   "cell_type": "code",
   "execution_count": null,
   "metadata": {},
   "outputs": [],
   "source": [
    "f = lambda x,y,z: 100*x + 10*y + z\n",
    "f(1,2,3)"
   ]
  },
  {
   "cell_type": "code",
   "execution_count": null,
   "metadata": {},
   "outputs": [],
   "source": [
    "x=linspace(1,3,3)\n",
    "y=linspace(4,6,3)\n",
    "z=linspace(7,9,3)\n",
    "print(x,y,z)"
   ]
  },
  {
   "cell_type": "code",
   "execution_count": null,
   "metadata": {},
   "outputs": [],
   "source": [
    "xx = array([1,2,3])\n",
    "# xx = array([1])\n",
    "# xx = array([1,2])\n",
    "f(xx,y,z)"
   ]
  },
  {
   "cell_type": "code",
   "execution_count": null,
   "metadata": {},
   "outputs": [],
   "source": [
    "[f(xx,y,z) for xx in range(1,3)]"
   ]
  },
  {
   "cell_type": "code",
   "execution_count": null,
   "metadata": {},
   "outputs": [],
   "source": [
    "f_ = lambda x: f(xx,y,z)"
   ]
  },
  {
   "cell_type": "code",
   "execution_count": null,
   "metadata": {},
   "outputs": [],
   "source": [
    "[f_(x) for x in range(1,3)]"
   ]
  },
  {
   "cell_type": "code",
   "execution_count": null,
   "metadata": {},
   "outputs": [],
   "source": [
    "cc = map(f_,range(2,4)) "
   ]
  },
  {
   "cell_type": "code",
   "execution_count": null,
   "metadata": {},
   "outputs": [],
   "source": [
    "cc?"
   ]
  },
  {
   "cell_type": "code",
   "execution_count": null,
   "metadata": {},
   "outputs": [],
   "source": [
    "array(list(cc))"
   ]
  },
  {
   "cell_type": "markdown",
   "metadata": {},
   "source": [
    "**Example 3:** "
   ]
  },
  {
   "cell_type": "code",
   "execution_count": null,
   "metadata": {},
   "outputs": [],
   "source": [
    "C = [39.2, 36.5, 37.3, 38, 37.8] \n",
    "F = list(map(lambda x: (float(9)/5)*x + 32, C))\n",
    "print(\"{:7s}  {:10s}\".format('Celsius','Fahrenheit'))\n",
    "for a,b, in zip(C,F): print(\"{:7.2f}  {:10.2f}\".format(a,b))"
   ]
  },
  {
   "cell_type": "markdown",
   "metadata": {},
   "source": [
    "### Multiprocessing\n",
    "In lecture 5.2 we saw that the MC integration, if done for millions of runs, starts to use measurable computing time. This is an example for a case where a particular task needs to be done over and over again, maybe in another situation with different input parameters. Such problems are called _embarassingly parallel_, essentially because it takes no or very little effort to parallelize them. The following introduces a multiprocessing approach that will use multiple cpu cores (see notebook 3.1 where we covered the hardware aspects). \n",
    "\n",
    "The following very simple code example demonstrates the use of the [multiprocessing](https://docs.python.org/2/library/multiprocessing.html) module.\n",
    "\n",
    "Note: Using the `pool` functionality requires that the `__main__` module be importable by the children. This means that `pool` will not work properly in an interactive session. Thus, the following would have to be used as a Python script:"
   ]
  },
  {
   "cell_type": "markdown",
   "metadata": {},
   "source": [
    "```Python\n",
    "from multiprocessing import Pool\n",
    "\n",
    "def f(x):\n",
    "    return x*x\n",
    "\n",
    "p = Pool(5)\n",
    "print(p.map(f, [1, 2, 3]))\n",
    "```"
   ]
  },
  {
   "cell_type": "code",
   "execution_count": null,
   "metadata": {},
   "outputs": [],
   "source": [
    "def f(x):\n",
    "    return x*x\n",
    "\n",
    "print(list(map(f, [1, 2, 3])))"
   ]
  },
  {
   "cell_type": "markdown",
   "metadata": {},
   "source": [
    "#### Example MC integration"
   ]
  },
  {
   "cell_type": "code",
   "execution_count": null,
   "metadata": {},
   "outputs": [],
   "source": [
    "%pylab ipympl"
   ]
  },
  {
   "cell_type": "code",
   "execution_count": null,
   "metadata": {},
   "outputs": [],
   "source": [
    "def mcint(func,xrange,n):\n",
    "    '''MC integration of function func over xrange'''\n",
    "    dx = diff(xrange)[0]\n",
    "    x = dx*random.rand(n)-xrange[0]\n",
    "    favg = func(x).mean()\n",
    "    I = favg * dx\n",
    "    return I"
   ]
  },
  {
   "cell_type": "code",
   "execution_count": null,
   "metadata": {},
   "outputs": [],
   "source": [
    "func = lambda x: sin(1/(x*(2-x)))**2"
   ]
  },
  {
   "cell_type": "code",
   "execution_count": null,
   "metadata": {},
   "outputs": [],
   "source": [
    "xrange=(0,2); n = 1001   # nmax = 1e6\n",
    "x = linspace(*xrange,n)\n",
    "ifig=1; close(ifig);figure(ifig)\n",
    "plot(x,func(x))"
   ]
  },
  {
   "cell_type": "code",
   "execution_count": null,
   "metadata": {},
   "outputs": [],
   "source": [
    "mcint(func,xrange,n)"
   ]
  },
  {
   "cell_type": "code",
   "execution_count": null,
   "metadata": {},
   "outputs": [],
   "source": [
    "%%time\n",
    "ints2 = []\n",
    "nruns = int(5e5)\n",
    "nmc=1000\n",
    "for n in range(nruns):\n",
    "    ints2.append(mcint(func,xrange,nmc))\n",
    "print(\"Mean: {:6.4f}  Variance: {:6.4f}\".format(mean(ints2),var(ints2)))"
   ]
  },
  {
   "cell_type": "markdown",
   "metadata": {},
   "source": [
    "`nruns` determines how many times we are going to determine the integral with a complete MC integration. Remember, each time we will get a slightly different answer because each time a different set of random numbers will be drawn. Each MC integration will use `nmc` random numbers. \n",
    "\n",
    "As we can see, doing a million MC integrals takes about a minute. However, we are only using one of our 12 cores. We can use some more with the `multiporcessing` package. \n",
    "\n",
    "```Python\n",
    "from multiprocessing import Pool\n",
    "import numpy as np\n",
    "\n",
    "nruns = int(5e6)\n",
    "\n",
    "def mc(i):\n",
    "    '''MC integration of function func over xrange'''\n",
    "    n = 1000\n",
    "    dx = 2.\n",
    "    x = dx*np.random.rand(n)\n",
    "    y = np.sin(1/(x*(2-x)))**2\n",
    "    favg = y.mean()\n",
    "    I = favg * dx\n",
    "    return I\n",
    "\n",
    "\n",
    "p = Pool(20)\n",
    "ints3 = np.array(p.map(mc,range(nruns)))\n",
    "print(ints3.mean(),ints3.var())\n",
    "```"
   ]
  },
  {
   "cell_type": "markdown",
   "metadata": {},
   "source": [
    "Run the above program and compare the performance:"
   ]
  },
  {
   "cell_type": "code",
   "execution_count": null,
   "metadata": {},
   "outputs": [],
   "source": [
    "# single process\n",
    "34.5/nruns"
   ]
  },
  {
   "cell_type": "code",
   "execution_count": null,
   "metadata": {},
   "outputs": [],
   "source": [
    "# 4 procs\n",
    "4* 74 / 5e6 "
   ]
  },
  {
   "cell_type": "code",
   "execution_count": null,
   "metadata": {},
   "outputs": [],
   "source": [
    "# 10 procs\n",
    "10* 44 / 5e6 "
   ]
  },
  {
   "cell_type": "markdown",
   "metadata": {},
   "source": [
    "### Animation, make movie with ffmpeg"
   ]
  },
  {
   "cell_type": "markdown",
   "metadata": {},
   "source": [
    "A really easy way to make an animation is to generate a sequence of numbered `.png` images and connect them with the command-line program ``ffmpeg`. "
   ]
  },
  {
   "cell_type": "markdown",
   "metadata": {},
   "source": [
    "#### Example: Oscillating sine \n",
    "We want to make a movie of an oscillating spline."
   ]
  },
  {
   "cell_type": "code",
   "execution_count": null,
   "metadata": {},
   "outputs": [],
   "source": [
    "ifig=2\n",
    "close(ifig)\n",
    "figure(ifig)"
   ]
  },
  {
   "cell_type": "code",
   "execution_count": null,
   "metadata": {},
   "outputs": [],
   "source": [
    "x = linspace(0,2*pi)\n",
    "ff = 0.25\n",
    "plot(x, sin(ff*2*pi)*sin(x),lw=0.8)\n",
    "ylabel('$\\sin x$'), xlabel('$x$')"
   ]
  },
  {
   "cell_type": "code",
   "execution_count": null,
   "metadata": {},
   "outputs": [],
   "source": [
    "ifig=3;close(ifig);figure(ifig)\n",
    "x = linspace(0,2*pi)\n",
    "fact = linspace(0,2.,32)\n",
    "for ff in fact:\n",
    "    plot(x, sin(ff*pi)*sin(x),lw=0.8)\n",
    "    ylabel('$\\sin x$'), xlabel('$x$')"
   ]
  },
  {
   "cell_type": "code",
   "execution_count": null,
   "metadata": {},
   "outputs": [],
   "source": [
    "color=['c', 'm', 'y', 'k','r','g','b']\n",
    "linestyle=['-', '--', ':', '-.']\n",
    "cl = [a+b for a in linestyle for b in color]"
   ]
  },
  {
   "cell_type": "code",
   "execution_count": null,
   "metadata": {},
   "outputs": [],
   "source": [
    "from random import shuffle\n",
    "shuffle(cl)"
   ]
  },
  {
   "cell_type": "code",
   "execution_count": null,
   "metadata": {},
   "outputs": [],
   "source": [
    "ifig=4;close(ifig);figure(ifig)\n",
    "x = linspace(0,2*pi)\n",
    "fact = linspace(0,2.,32)\n",
    "for i,ff in enumerate(fact):\n",
    "    plot(x, sin(ff*pi)*sin(x),cl[mod(i,len(cl))],lw=0.8)\n",
    "    ylabel('$\\sin x$'), xlabel('$x$')"
   ]
  },
  {
   "cell_type": "markdown",
   "metadata": {},
   "source": [
    "With the following command the plot can be saved into a png image file:"
   ]
  },
  {
   "cell_type": "code",
   "execution_count": null,
   "metadata": {},
   "outputs": [],
   "source": [
    "savefig('my_great_sin_plot.png')"
   ]
  },
  {
   "cell_type": "markdown",
   "metadata": {},
   "source": [
    "Now, make one plot per line and save the plot each time as a png image file. "
   ]
  },
  {
   "cell_type": "code",
   "execution_count": null,
   "metadata": {},
   "outputs": [],
   "source": [
    "ifig=4;close(ifig);figure(ifig)\n",
    "x = linspace(0,2*pi)\n",
    "fact = linspace(0,2.,40)\n",
    "for i,ff in enumerate(fact):\n",
    "    ifig=4;close(ifig);figure(ifig)\n",
    "    plot(x, sin(ff*pi)*sin(x),'r-',lw=0.8)\n",
    "    ylim(-1.1,1.1)\n",
    "    savefig('sin'+str(i).zfill(4)+\".png\")\n",
    "    ylabel('$\\sin x$'), xlabel('$x$')"
   ]
  },
  {
   "cell_type": "code",
   "execution_count": null,
   "metadata": {},
   "outputs": [],
   "source": [
    "!rm sin*png"
   ]
  },
  {
   "cell_type": "code",
   "execution_count": null,
   "metadata": {},
   "outputs": [],
   "source": [
    "!ls sin*png"
   ]
  },
  {
   "cell_type": "markdown",
   "metadata": {},
   "source": [
    "We can use the ffmpeg command to generate out of these frames a movie:\n",
    "```\n",
    "#!/bin/bash\n",
    "# Produces mp4 movie from series of images (e.g. png format)\n",
    "# ARG1: name base of image files that is followed by numbers, and prefix.\n",
    "#       for example if the images are named img0001.png than ARG1 is \"img\"\n",
    "\n",
    "ffmpeg  -framerate 10   -y -f image2  -pattern_type glob -i \"$1*.png\" -preset slow -crf 18  -c:v libx264 -b:v 12000k  -pix_fmt yuv420p  $1.mp4\n",
    "\n",
    "```"
   ]
  },
  {
   "cell_type": "code",
   "execution_count": null,
   "metadata": {},
   "outputs": [],
   "source": [
    "!cat ./bin/movie.sh"
   ]
  },
  {
   "cell_type": "code",
   "execution_count": null,
   "metadata": {},
   "outputs": [],
   "source": [
    "%%bash\n",
    "./bin/movie.sh sin"
   ]
  },
  {
   "cell_type": "markdown",
   "metadata": {},
   "source": [
    "This great, but the movie does not look good yet. We need more frames for better time resolution. The notebook environment is not suitable for this, and we can only make one plot at a time. So, let's use multiprocessing again. The python script would look like this:\n",
    "\n",
    "```Python\n",
    "from multiprocessing import Pool\n",
    "from matplotlib import pyplot as pl\n",
    "import numpy as np\n",
    "\n",
    "x = np.linspace(0,2*np.pi)\n",
    "fact = np.linspace(0,5,2000)\n",
    "\n",
    "def make_image(inp):\n",
    "    i,ff = inp\n",
    "    pl.plot(x, np.sin(ff*np.pi)*np.sin(x),'r-',lw=0.8)\n",
    "    pl.ylabel('$\\sin x$'), pl.xlabel('$x$')\n",
    "    pl.ylim(-1.05,1.05)\n",
    "    pl.savefig('sin'+str(i).zfill(4)+\".png\")\n",
    "\n",
    "p = Pool(10)\n",
    "p.map(make_image,enumerate(fact))\n",
    "```"
   ]
  },
  {
   "cell_type": "markdown",
   "metadata": {},
   "source": [
    "Execute this with\n",
    "```Shell\n",
    "ipython --quiet multi_sin.py\n",
    "```\n",
    "instead of the bare `python` interpreter. This will make sure the script will work despite not being able to activate an actual plotting backend in script mode.\n",
    "\n",
    "Let's try it and make a nice movie ..."
   ]
  }
 ],
 "metadata": {
  "kernelspec": {
   "display_name": "Python 3",
   "language": "python",
   "name": "python3"
  },
  "language_info": {
   "codemirror_mode": {
    "name": "ipython",
    "version": 3
   },
   "file_extension": ".py",
   "mimetype": "text/x-python",
   "name": "python",
   "nbconvert_exporter": "python",
   "pygments_lexer": "ipython3",
   "version": "3.6.10"
  }
 },
 "nbformat": 4,
 "nbformat_minor": 4
}
