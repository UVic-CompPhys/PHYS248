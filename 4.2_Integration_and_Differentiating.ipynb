{
 "cells": [
  {
   "cell_type": "markdown",
   "metadata": {},
   "source": [
    "# 4.2 Numerical Integration and Differentiating\n",
    "\n",
    "**Today's class:**\n",
    "\n",
    "* review workflow personal mp248 repo\n",
    "* The `Index.md` file\n",
    "* Langtangen Book\n",
    "* Quiz\n",
    "\n",
    "\n",
    "* Introduction to functions\n",
    "    - def\n",
    "    - lambda\n",
    "* Numerical derivatives\n",
    "    - Difference equations\n",
    "    - Derivatives\n",
    "    - Errors: accuracy vs. precision\n",
    "    - Convergence\n",
    "    - Higher-order derivative"
   ]
  },
  {
   "cell_type": "code",
   "execution_count": null,
   "metadata": {},
   "outputs": [],
   "source": [
    "%pylab ipympl"
   ]
  },
  {
   "cell_type": "markdown",
   "metadata": {},
   "source": [
    "## Functions\n",
    "There are two common ways to express functions. A function in computing is a bit different from a [mathematical function](https://en.wikipedia.org/wiki/Function_(mathematics)). It has a number of inputs and a number of outputs, and typically organizes a particular _function_ in a code object.\n",
    "\n",
    "Let's express this mathematical function in Python:\n",
    "$$\n",
    "f(x) = ax^3 + bx^2 + cx + d\n",
    "$$\n",
    "for $a = -1$, $b = 1$, $c = 1$, $d = 1$.\n",
    "\n",
    "### Def\n",
    "```Python\n",
    "def fpoly(x,a=-1.,b=1.,c=1.,d=1.):\n",
    "    '''Return 3rd-order polynomial\n",
    "    '''\n",
    "    ff = a*x**3 + b*x**2 + c*x + d\n",
    "    return ff\n",
    "```\n",
    "Arguments with `=` are optional arguments, and the values given in the function definition are the default values, used if the parameters are not specified in the function call. Conversely, arguments without `=` are required.\n",
    "\n",
    "Functions can have more than one required argument. $$ z(x,y) = \\sin(x y)\\cos(y) $$ would be\n",
    "```Python\n",
    "    def ztrig(xx,yy):\n",
    "        '''2-variable trig function\n",
    "        '''\n",
    "        return sin(xx*yy)*cos(yy)\n",
    "```"
   ]
  },
  {
   "cell_type": "code",
   "execution_count": 13,
   "metadata": {},
   "outputs": [
    {
     "name": "stdout",
     "output_type": "stream",
     "text": [
      "Populating the interactive namespace from numpy and matplotlib\n"
     ]
    }
   ],
   "source": [
    "%pylab ipympl"
   ]
  },
  {
   "cell_type": "code",
   "execution_count": 6,
   "metadata": {},
   "outputs": [],
   "source": [
    "def fpoly(x,a=-1.,b=1.,c=1.,d=1.):\n",
    "    '''Return 3rd-order polynomial\n",
    "    \n",
    "    Parameters\n",
    "    ----------\n",
    "    x :: float \n",
    "      input value\n",
    "    \n",
    "    a,b,c,d :: float (optional)\n",
    "      coefficients\n",
    "    \n",
    "    Returns:\n",
    "    --------\n",
    "    f :: float\n",
    "      function value\n",
    "    '''\n",
    "    ff = a*x**3 + b*x**2 + c*x + d\n",
    "    return ff\n"
   ]
  },
  {
   "cell_type": "code",
   "execution_count": 7,
   "metadata": {},
   "outputs": [
    {
     "data": {
      "text/plain": [
       "\u001b[0;31mSignature:\u001b[0m \u001b[0mfpoly\u001b[0m\u001b[0;34m(\u001b[0m\u001b[0mx\u001b[0m\u001b[0;34m,\u001b[0m \u001b[0ma\u001b[0m\u001b[0;34m=\u001b[0m\u001b[0;34m-\u001b[0m\u001b[0;36m1.0\u001b[0m\u001b[0;34m,\u001b[0m \u001b[0mb\u001b[0m\u001b[0;34m=\u001b[0m\u001b[0;36m1.0\u001b[0m\u001b[0;34m,\u001b[0m \u001b[0mc\u001b[0m\u001b[0;34m=\u001b[0m\u001b[0;36m1.0\u001b[0m\u001b[0;34m,\u001b[0m \u001b[0md\u001b[0m\u001b[0;34m=\u001b[0m\u001b[0;36m1.0\u001b[0m\u001b[0;34m)\u001b[0m\u001b[0;34m\u001b[0m\u001b[0;34m\u001b[0m\u001b[0m\n",
       "\u001b[0;31mDocstring:\u001b[0m\n",
       "Return 3rd-order polynomial\n",
       "\n",
       "Parameters\n",
       "----------\n",
       "x :: float \n",
       "  input value\n",
       "\n",
       "a,b,c,d :: float (optional)\n",
       "  coefficients\n",
       "\n",
       "Returns:\n",
       "--------\n",
       "f :: float\n",
       "  function value\n",
       "\u001b[0;31mFile:\u001b[0m      ~/mp248-course-notes/<ipython-input-6-a0ec0bc2d51a>\n",
       "\u001b[0;31mType:\u001b[0m      function\n"
      ]
     },
     "metadata": {},
     "output_type": "display_data"
    }
   ],
   "source": [
    "fpoly?"
   ]
  },
  {
   "cell_type": "markdown",
   "metadata": {},
   "source": [
    "### Lambda\n",
    "```Python\n",
    "a = -1.; b = 1.; c = 1.; d = 1.\n",
    "fpoly = lambda x: a*x**3 + b*x**2 + c*x + d\n",
    "```\n",
    "\n",
    "\n",
    "In both cases the function is used as \n",
    "```Python\n",
    "x = 2\n",
    "fpoly(x)\n",
    "```\n",
    "\n",
    "**Example:** Make a line plot for the polynomial given above for $x \\in [-2,2]$."
   ]
  },
  {
   "cell_type": "code",
   "execution_count": 9,
   "metadata": {},
   "outputs": [],
   "source": [
    "def fpoly(x,a=-1.,b=1.,c=1.,d=1.):\n",
    "    '''Return 3rd-order polynomial\n",
    "    '''\n",
    "    ff = a*x**3 + b*x**2 + c*x + d\n",
    "    return ff"
   ]
  },
  {
   "cell_type": "code",
   "execution_count": 10,
   "metadata": {},
   "outputs": [],
   "source": [
    "def fpoly_deriv(x,a=-1.,b=1.,c=1.,d=1.):\n",
    "    '''Return derivative of 3rd-order polynomial\n",
    "    '''\n",
    "    ff = 3.*a*x**2 + 2*b*x + c\n",
    "    return ff"
   ]
  },
  {
   "cell_type": "code",
   "execution_count": 11,
   "metadata": {},
   "outputs": [
    {
     "data": {
      "text/plain": [
       "0.0"
      ]
     },
     "execution_count": 11,
     "metadata": {},
     "output_type": "execute_result"
    }
   ],
   "source": [
    "fpoly_deriv(1)"
   ]
  },
  {
   "cell_type": "code",
   "execution_count": 18,
   "metadata": {},
   "outputs": [
    {
     "data": {
      "application/vnd.jupyter.widget-view+json": {
       "model_id": "a5849afa6f7b4ebb8ecfe0316bcdd144",
       "version_major": 2,
       "version_minor": 0
      },
      "text/plain": [
       "Canvas(toolbar=Toolbar(toolitems=[('Home', 'Reset original view', 'home', 'home'), ('Back', 'Back to previous …"
      ]
     },
     "metadata": {},
     "output_type": "display_data"
    },
    {
     "data": {
      "text/plain": [
       "[<matplotlib.lines.Line2D at 0x7efc4c3e4400>]"
      ]
     },
     "execution_count": 18,
     "metadata": {},
     "output_type": "execute_result"
    }
   ],
   "source": [
    "x = linspace(-2,2,101)\n",
    "ifig=11;close(ifig);figure(ifig)\n",
    "plot(x,fpoly(x,a=2,b=10))"
   ]
  },
  {
   "cell_type": "code",
   "execution_count": 15,
   "metadata": {},
   "outputs": [],
   "source": [
    "def ztrig(xx,yy):\n",
    "    '''2-variable trig function\n",
    "    '''\n",
    "    return sin(xx*yy)*cos(yy)"
   ]
  },
  {
   "cell_type": "code",
   "execution_count": 16,
   "metadata": {},
   "outputs": [
    {
     "data": {
      "text/plain": [
       "-0.3365404292264392"
      ]
     },
     "execution_count": 16,
     "metadata": {},
     "output_type": "execute_result"
    }
   ],
   "source": [
    "x = 1.2; y = -0.3\n",
    "ztrig(x,y)"
   ]
  },
  {
   "cell_type": "markdown",
   "metadata": {},
   "source": [
    "## Numerical derivatives \n",
    "\n",
    "In this section we will learn how we can calculate a derivative numerically. The fundamental idea involves replacing differentials with differences. An important aspect is to think about the types of errors that emerge when doing that, especially we have to introduce the important concepts of rounding error and truncation errors.\n",
    "\n",
    "**Literature:** [Numerical Recipies](http://voyager.library.uvic.ca/vwebv/holdingsInfo?bibId=687673), Ch. 5.7"
   ]
  },
  {
   "cell_type": "markdown",
   "metadata": {},
   "source": [
    "### Difference equations\n",
    "Function\n",
    "$$ y = f(x) $$ for example $$y = x^2$$ for $x \\in [1,5]$."
   ]
  },
  {
   "cell_type": "code",
   "execution_count": 19,
   "metadata": {},
   "outputs": [],
   "source": [
    "x=linspace(5,25,25)"
   ]
  },
  {
   "cell_type": "code",
   "execution_count": 27,
   "metadata": {},
   "outputs": [
    {
     "data": {
      "application/vnd.jupyter.widget-view+json": {
       "model_id": "4cd4e46a828f464799a91015c3626393",
       "version_major": 2,
       "version_minor": 0
      },
      "text/plain": [
       "Canvas(toolbar=Toolbar(toolitems=[('Home', 'Reset original view', 'home', 'home'), ('Back', 'Back to previous …"
      ]
     },
     "metadata": {},
     "output_type": "display_data"
    }
   ],
   "source": [
    "figure(1)\n",
    "xl =  4; xr = 22\n",
    "f = lambda x: x**2    # function\n",
    "x0 = 10               # take derivative at x0\n",
    "ff = lambda x: 2*x0*x + f(x0) -2*x0**2   # derivative\n",
    "close(1);figure(1)\n",
    "plot(x,f(x)); xlabel('x'), ylabel('y = f(x)'); ylim(0,500)\n",
    "if True:\n",
    "    plot(x0,f(x0),'o')\n",
    "    plot(x[4:22],ff(x[4:22]),'-.',lw=2)\n",
    "if True:\n",
    "    h = 10\n",
    "    x1=10.;x2=x1 + h\n",
    "    plot([x1,x2],[f(x1),f(x1)],'k--x',lw=1)\n",
    "    plot([x2,x2],[f(x1),f(x2)],'k--x',lw=1)\n",
    "    text(0.5*(x2+x1),1.1*ff(x1),'$ \\Delta x$')\n",
    "    text(1.02*x2,0.5*(ff(x1)+ff(x2)),'$ \\Delta y$')\n",
    "    text(x1,0.5*f(x1),'$x_1$')\n",
    "    text(x2,0.5*f(x1),'$x_2$')\n",
    "    text(1.03*x2,1.*f(x1),'$y_1  = f(x_1)$')\n",
    "    text(0.8*x2,1.0*f(x2),'$y_2 = f(x_2)$')"
   ]
  },
  {
   "cell_type": "markdown",
   "metadata": {},
   "source": [
    "#### Slope\n",
    "$$\n",
    "\\frac{dy}{dx}  \\approx \\frac{\\Delta y}{\\Delta x} = \n",
    "\\frac{y_2 - y_1}{x_2 - x_1}\n",
    "$$"
   ]
  },
  {
   "cell_type": "markdown",
   "metadata": {},
   "source": [
    "### Derivative \n",
    "The derivative $\\frac{df}{dx}$ of a function $y=f(x)$ can be approximated by the difference equation \n",
    "$$ f'(x) \\approx \\frac{f(x+h) -f(x)}{h}.$$\n",
    "\n",
    "Why? Rearrange the Taylor expansion of $f(x)$\n",
    "$$\n",
    "f(x+h) = f(x) + hf^\\prime(x) + \\frac{1}{2}h^2f^{\\prime\\prime}(x)\n",
    " + \\frac{1}{6}h^3f^{\\prime\\prime\\prime}(x) + \\dots\n",
    "$$\n",
    "to solve for $f^\\prime(x)$ and discard order two and higher terms\n",
    "$$\n",
    "\\frac{1}{2}h^2f^{\\prime\\prime}(x)\n",
    " + \\frac{1}{6}h^3f^{\\prime\\prime\\prime}(x) + \\dots\n",
    "$$\n",
    "\n",
    "Thus:\n",
    "$$\n",
    " f'(x)=\\frac{f(x+h) -f(x)}{h} +\\mathcal{O}(2)\n",
    "$$"
   ]
  },
  {
   "cell_type": "code",
   "execution_count": 28,
   "metadata": {},
   "outputs": [],
   "source": [
    "def deriv1(f,x,h):\n",
    "    '''Derivative 1'''\n",
    "    dfdx = (f(x+h) - f(x)) / h\n",
    "    return dfdx"
   ]
  },
  {
   "cell_type": "code",
   "execution_count": 29,
   "metadata": {},
   "outputs": [
    {
     "data": {
      "text/plain": [
       "4"
      ]
     },
     "execution_count": 29,
     "metadata": {},
     "output_type": "execute_result"
    }
   ],
   "source": [
    "f(2)"
   ]
  },
  {
   "cell_type": "code",
   "execution_count": 38,
   "metadata": {},
   "outputs": [
    {
     "data": {
      "text/plain": [
       "7.270908099599183e-05"
      ]
     },
     "execution_count": 38,
     "metadata": {},
     "output_type": "execute_result"
    }
   ],
   "source": [
    "deriv1(f,10,1.e-10)-20."
   ]
  },
  {
   "cell_type": "markdown",
   "metadata": {},
   "source": [
    "Note that the answer is not exactly `2.00000000` as we know the answer to be from the analytical approach. But smaller values of `h` give a better answer? _Right?_ well, let's see .... let's analyse the error in a bit more detail. The higher order terms that we discarded represent the truncation error. They represent the difference between the solution of the difference equation and the exact mathematical equation, no matter how _precisely_ the difference equation is solved. The truncation error limits the _accuracy_ of the method. Note the difference between _precision_ and _accuracy_ introducecd here!\n",
    "\n",
    "We can improve the accuracy by taking smaller $h$ for calculating the derivative. Can't we make the answer then arbitrarily exact? Let's try ..."
   ]
  },
  {
   "cell_type": "markdown",
   "metadata": {},
   "source": [
    "### Errors\n",
    "There are two basic sources of error! They have to do with accuracy and with precision.\n",
    "\n",
    "**Accuracy:** How well does the discretized equation represent the original mathematical equation?\n",
    "This is the truncation error. \n",
    "\n",
    "**Precision:** How well is the solution satisfying the discretized equation? This is limited by the roundoff error.\n",
    "\n",
    "### Convergence test\n",
    "In order to determine the accuracy of our solution scheme we study the behaviour of a particular solution scheme under grid (time and/or space) refinement. In our case this means we do a series of runs with decreasing `h`."
   ]
  },
  {
   "cell_type": "code",
   "execution_count": 39,
   "metadata": {},
   "outputs": [
    {
     "data": {
      "text/plain": [
       "2.0009999999996975"
      ]
     },
     "execution_count": 39,
     "metadata": {},
     "output_type": "execute_result"
    }
   ],
   "source": [
    "h = 0.001\n",
    "deriv1(f,1,h)"
   ]
  },
  {
   "cell_type": "code",
   "execution_count": 40,
   "metadata": {},
   "outputs": [],
   "source": [
    "h_pow = range(0,-14,-1)"
   ]
  },
  {
   "cell_type": "code",
   "execution_count": 41,
   "metadata": {},
   "outputs": [
    {
     "data": {
      "text/plain": [
       "range(0, -14, -1)"
      ]
     },
     "execution_count": 41,
     "metadata": {},
     "output_type": "execute_result"
    }
   ],
   "source": [
    "h_pow"
   ]
  },
  {
   "cell_type": "code",
   "execution_count": 42,
   "metadata": {},
   "outputs": [],
   "source": [
    "h = 10**array(h_pow, dtype=float)"
   ]
  },
  {
   "cell_type": "code",
   "execution_count": 43,
   "metadata": {},
   "outputs": [
    {
     "data": {
      "text/plain": [
       "array([1.e+00, 1.e-01, 1.e-02, 1.e-03, 1.e-04, 1.e-05, 1.e-06, 1.e-07,\n",
       "       1.e-08, 1.e-09, 1.e-10, 1.e-11, 1.e-12, 1.e-13])"
      ]
     },
     "execution_count": 43,
     "metadata": {},
     "output_type": "execute_result"
    }
   ],
   "source": [
    "h"
   ]
  },
  {
   "cell_type": "code",
   "execution_count": 45,
   "metadata": {},
   "outputs": [
    {
     "data": {
      "text/plain": [
       "1.21549419418443e-08"
      ]
     },
     "execution_count": 45,
     "metadata": {},
     "output_type": "execute_result"
    }
   ],
   "source": [
    "abs(deriv1(f,1.,1.e-8)-2.0)"
   ]
  },
  {
   "cell_type": "code",
   "execution_count": 46,
   "metadata": {},
   "outputs": [
    {
     "data": {
      "text/plain": [
       "-7.915247111225982"
      ]
     },
     "execution_count": 46,
     "metadata": {},
     "output_type": "execute_result"
    }
   ],
   "source": [
    "log10(abs(deriv1(f,1.,1.e-8)-2.0))"
   ]
  },
  {
   "cell_type": "code",
   "execution_count": 47,
   "metadata": {},
   "outputs": [
    {
     "data": {
      "text/plain": [
       "array([ 0.        , -1.        , -2.        , -3.        , -4.        ,\n",
       "       -4.9999994 , -6.00003285, -6.99530123, -7.91524711, -6.78125254,\n",
       "       -6.78125254, -6.78125254, -3.7500654 , -2.79627223])"
      ]
     },
     "execution_count": 47,
     "metadata": {},
     "output_type": "execute_result"
    }
   ],
   "source": [
    "log10(abs(deriv1(f,1.,h)-2.0))"
   ]
  },
  {
   "cell_type": "code",
   "execution_count": 48,
   "metadata": {},
   "outputs": [
    {
     "data": {
      "application/vnd.jupyter.widget-view+json": {
       "model_id": "ad5b06a9a04646b8924d69352afaf938",
       "version_major": 2,
       "version_minor": 0
      },
      "text/plain": [
       "Canvas(toolbar=Toolbar(toolitems=[('Home', 'Reset original view', 'home', 'home'), ('Back', 'Back to previous …"
      ]
     },
     "metadata": {},
     "output_type": "display_data"
    },
    {
     "data": {
      "text/plain": [
       "((0, -14), Text(0, 0.5, 'log10 (df/dx - 2.0)'), Text(0.5, 0, 'log h'))"
      ]
     },
     "execution_count": 48,
     "metadata": {},
     "output_type": "execute_result"
    }
   ],
   "source": [
    "close(2);figure(2)\n",
    "fresids = log10(abs(deriv1(f,1.,h)-2.0))\n",
    "plot(h_pow, fresids,'o')\n",
    "xlim(0,-14), ylabel('log10 (df/dx - 2.0)'), xlabel('log h')"
   ]
  },
  {
   "cell_type": "markdown",
   "metadata": {},
   "source": [
    "#### Bottom line\n",
    "You can reduce the truncation error by taking a smaller interval `h`. However, as you try minimizing the truncation error you will see that there is a limit. At too small `h` the `deriv1` function will try to perform the difference `(f(x+h) - f(x))` with too few or no significant digits and the roundoff error will become larger, and eventually dominate the result. \n"
   ]
  },
  {
   "cell_type": "markdown",
   "metadata": {},
   "source": [
    "**Example:** Calculate $\\frac{d fpoly(1)}{dx}$"
   ]
  },
  {
   "cell_type": "code",
   "execution_count": 49,
   "metadata": {},
   "outputs": [
    {
     "data": {
      "text/plain": [
       "-0.5099999999999993"
      ]
     },
     "execution_count": 49,
     "metadata": {},
     "output_type": "execute_result"
    }
   ],
   "source": [
    "deriv1(fpoly,-0.5,0.1)"
   ]
  },
  {
   "cell_type": "markdown",
   "metadata": {},
   "source": [
    "### Higher-order derivative"
   ]
  },
  {
   "cell_type": "markdown",
   "metadata": {},
   "source": [
    "(1)   $ f(x+h) = f(x) + hf^\\prime(x) + \\frac{1}{2}h^2f^{\\prime\\prime}(x)\n",
    " + \\frac{1}{6}h^3f^{\\prime\\prime\\prime}(x) + \\dots$\n"
   ]
  },
  {
   "cell_type": "markdown",
   "metadata": {},
   "source": [
    "(2) $\n",
    "f(x-h) = f(x) - hf^\\prime(x) + \\frac{1}{2}h^2f^{\\prime\\prime}(x)\n",
    " - \\frac{1}{6}h^3f^{\\prime\\prime\\prime}(x) + \\dots\n",
    "$\n"
   ]
  },
  {
   "cell_type": "markdown",
   "metadata": {},
   "source": [
    "Eqn (3): (2) - (1) \n",
    "$$f(x+h) - f(x-h) =  2hf^\\prime(x) \n",
    " + \\frac{2}{3}h^3f^{\\prime\\prime\\prime}(x) + \\dots$$\n",
    "$$ f^\\prime(x)  =  \\frac{f(x+h) - f(x-h)}{2h} + \\mathcal{O}(3)$$"
   ]
  }
 ],
 "metadata": {
  "kernelspec": {
   "display_name": "Python 3",
   "language": "python",
   "name": "python3"
  },
  "language_info": {
   "codemirror_mode": {
    "name": "ipython",
    "version": 3
   },
   "file_extension": ".py",
   "mimetype": "text/x-python",
   "name": "python",
   "nbconvert_exporter": "python",
   "pygments_lexer": "ipython3",
   "version": "3.6.9"
  }
 },
 "nbformat": 4,
 "nbformat_minor": 4
}
