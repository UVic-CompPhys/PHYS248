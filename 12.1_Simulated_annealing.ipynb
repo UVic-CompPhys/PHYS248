{
 "cells": [
  {
   "cell_type": "markdown",
   "metadata": {},
   "source": [
    "# 12.1 Optimization: Simulated Annealing \n",
    "\n",
    "\n",
    "#### This class:\n",
    "\n",
    "* Simulated Annealing\n",
    "    - Travelling salesman problem\n",
    "    \n",
    "#### Before we finish\n",
    "* Please do your [Course experience survey](https://ces.uvic.ca/blue)"
   ]
  },
  {
   "cell_type": "markdown",
   "metadata": {},
   "source": [
    "## Optimization\n",
    "$f(x) = x^2 - \\cos(4 \\pi x)$\n"
   ]
  },
  {
   "cell_type": "markdown",
   "metadata": {},
   "source": [
    "### [Simulated annealing](https://en.wikipedia.org/wiki/Simulated_annealing)\n",
    "\n",
    "* Is a [probabilistic technique](https://en.wikipedia.org/wiki/Probabilistic_algorithm) for approximating the [global optimum](https://en.wikipedia.org/wiki/Global_optimum) of a given [function](https://en.wikipedia.org/wiki/Function_(mathematics)). \n",
    "* Inspiration come from [annealing in metallurgy](https://en.wikipedia.org/wiki/Annealing_(metallurgy)), a technique involving heating and controlled cooling of a material to  increase the size of its crystals and reduce their defects\n",
    "* The notion of slow cooling implemented in the simulated annealing  algorithm is interpreted as a slow decrease in the probability of  accepting worse solutions as the solution space is explored\n",
    "* Simulated annealing algorithms work as follows\n",
    "  * The temperature  progressively decreases from an initial positive value to zero. \n",
    "  * At each  time step, the algorithm \n",
    "    * randomly selects a solution close to the  current one, \n",
    "    * measures its quality, and \n",
    "    * moves to it according to the  temperature-dependent probabilities of selecting better or worse  solutions\n",
    "* The neighbours of a state\n",
    "  * Evaluating the neighbours of a state of the problem, which are new states produced through conservatively altering a given state\n",
    "  * The well-defined way in which the states are altered to produce neighbouring states is called a _move_\n",
    "  * Moves usually result in minimal alterations of the last state\n",
    "* Acceptance probablilities\n",
    "  * The probability of making the [transition](https://en.wikipedia.org/wiki/State_transition) from the current state $s$ to a candidate new state $s'$  is specified by an acceptance probability function $P(e,e',T)$  that depends on the energies $e = E(s)$ and $e' = E(s')$ of the two states, and on a global time-varying parameter $T$ called the *temperature*.\n",
    "  * States with a smaller energy are better than those with a greater energy.  \n",
    "  * When $T$ tends to zero, the probability $P(e,e',T)$ must tend to zero if $e'>e$ and to a positive value otherwise.\n",
    "  * The $P$ function is usually chosen so that the probability of accepting a move decreases when the difference $e'-e$ increases\n",
    "* The annealing schedule\n",
    "  * The algorithm starts initially with $T$ set to a high value (or infinity), and then it is decreased at each step following some *annealing schedule*—which may be specified by the user, but must end with $T=0$ towards the end of the allotted time budget.  "
   ]
  },
  {
   "cell_type": "markdown",
   "metadata": {},
   "source": [
    "#### Pseudocode\n",
    "\n",
    "- Let $s = s_0$\n",
    "- For $k = 0$ through $k_\\mathrm{max}$ (exclusive):\n",
    "  - $T$ ← $temperature( (k+1)/k_\\mathrm{max} )$\n",
    "  - Pick a random neighbour, $s_\\mathrm{new}$ ← $neighbour(s)$\n",
    "  - If  $P(E(s), E(s_\\mathrm{new}), T) ≥ random(0, 1)$\n",
    "    - $s$ ← $s_\\mathrm{new}$\n",
    "- Output: the final state $s$\n",
    "\n",
    "\n",
    "\n",
    "#### What we need \n",
    "\n",
    "* state space with states $s$\n",
    "* energy function $E(s)$ (goal)\n",
    "* a `neighbour` function to produce new $s$\n",
    "* the acceptance probability function `P()`\n",
    "* the annealing schedule `temperature` and initial temperature $T_0$\n",
    "\n",
    "#### Generic APF\n",
    "\n",
    "For the Acceptance Probability Function we can generally use\n",
    "\n",
    "$P(e,e',T) = 1$ if  $e'<e$ and $P(e,e',T) = exp(-(e'-e)/T)$ otherwise.\n",
    "\n",
    "\n",
    "\n",
    "#### Travelling salesman problem\n",
    "\n",
    "In the [travelling salesman problem](https://en.wikipedia.org/wiki/Travelling_salesman_problem) each state is typically defined as a [permutation](https://en.wikipedia.org/wiki/Permutation) of the cities to be visited, and its neighbours are the set of  permutations produced by reversing the order of any two successive  cities."
   ]
  },
  {
   "cell_type": "code",
   "execution_count": 1,
   "metadata": {},
   "outputs": [
    {
     "name": "stdout",
     "output_type": "stream",
     "text": [
      "Populating the interactive namespace from numpy and matplotlib\n"
     ]
    }
   ],
   "source": [
    "%pylab ipympl"
   ]
  },
  {
   "cell_type": "code",
   "execution_count": 18,
   "metadata": {},
   "outputs": [],
   "source": [
    "# cities, initial state\n",
    "ncity = 5\n",
    "s = array([random.randint(2*ncity+1) for i in range(2*ncity)],dtype='int')\n",
    "s = s.reshape(ncity,2)"
   ]
  },
  {
   "cell_type": "code",
   "execution_count": 2,
   "metadata": {},
   "outputs": [],
   "source": [
    "ncity = 4"
   ]
  },
  {
   "cell_type": "code",
   "execution_count": 17,
   "metadata": {},
   "outputs": [
    {
     "data": {
      "text/plain": [
       "array([[3, 6],\n",
       "       [6, 4],\n",
       "       [3, 5],\n",
       "       [0, 4]])"
      ]
     },
     "execution_count": 17,
     "metadata": {},
     "output_type": "execute_result"
    }
   ],
   "source": [
    "array([random.randint(2*ncity) for i in range(2*ncity)]).reshape(ncity,2)"
   ]
  },
  {
   "cell_type": "code",
   "execution_count": 20,
   "metadata": {},
   "outputs": [
    {
     "data": {
      "text/plain": [
       "array([[7, 4],\n",
       "       [3, 9],\n",
       "       [0, 7],\n",
       "       [8, 9],\n",
       "       [8, 7]])"
      ]
     },
     "execution_count": 20,
     "metadata": {},
     "output_type": "execute_result"
    }
   ],
   "source": [
    "s"
   ]
  },
  {
   "cell_type": "code",
   "execution_count": 19,
   "metadata": {},
   "outputs": [
    {
     "data": {
      "text/plain": [
       "array([7, 3, 0, 8, 8])"
      ]
     },
     "execution_count": 19,
     "metadata": {},
     "output_type": "execute_result"
    }
   ],
   "source": [
    "s.T[0]"
   ]
  },
  {
   "cell_type": "code",
   "execution_count": 43,
   "metadata": {},
   "outputs": [
    {
     "data": {
      "application/vnd.jupyter.widget-view+json": {
       "model_id": "4871871f70ce45219b702abb7cdf6f10",
       "version_major": 2,
       "version_minor": 0
      },
      "text/plain": [
       "Canvas(toolbar=Toolbar(toolitems=[('Home', 'Reset original view', 'home', 'home'), ('Back', 'Back to previous …"
      ]
     },
     "metadata": {},
     "output_type": "display_data"
    },
    {
     "data": {
      "text/plain": [
       "[<matplotlib.lines.Line2D at 0x7f9284de16d8>]"
      ]
     },
     "execution_count": 43,
     "metadata": {},
     "output_type": "execute_result"
    }
   ],
   "source": [
    "ifig=11;close(ifig);fig=figure(ifig)\n",
    "size=5\n",
    "fig.canvas.layout.height = str(size)+'in'   # This is a hack to prevent ipympl\n",
    "fig.canvas.layout.width  = str(size)+'in'   # to adjust horizontal figure size\n",
    "\n",
    "plot(s.T[0],s.T[1],'o-')\n",
    "plot(sp.T[0],sp.T[1],'--')"
   ]
  },
  {
   "cell_type": "code",
   "execution_count": 22,
   "metadata": {},
   "outputs": [
    {
     "data": {
      "text/plain": [
       "array([[7, 4],\n",
       "       [3, 9],\n",
       "       [0, 7],\n",
       "       [8, 9],\n",
       "       [8, 7]])"
      ]
     },
     "execution_count": 22,
     "metadata": {},
     "output_type": "execute_result"
    }
   ],
   "source": [
    "s"
   ]
  },
  {
   "cell_type": "code",
   "execution_count": 173,
   "metadata": {},
   "outputs": [
    {
     "data": {
      "text/plain": [
       "array([[ 9, 10,  7,  2,  7],\n",
       "       [ 8,  7,  1,  7,  9]])"
      ]
     },
     "execution_count": 173,
     "metadata": {},
     "output_type": "execute_result"
    }
   ],
   "source": [
    "s.T"
   ]
  },
  {
   "cell_type": "markdown",
   "metadata": {},
   "source": [
    "### Energy function"
   ]
  },
  {
   "cell_type": "code",
   "execution_count": 45,
   "metadata": {},
   "outputs": [
    {
     "data": {
      "text/plain": [
       "array([[7, 3, 0, 8, 8],\n",
       "       [4, 9, 7, 9, 7]])"
      ]
     },
     "execution_count": 45,
     "metadata": {},
     "output_type": "execute_result"
    }
   ],
   "source": [
    "s.T"
   ]
  },
  {
   "cell_type": "code",
   "execution_count": 47,
   "metadata": {},
   "outputs": [
    {
     "data": {
      "text/plain": [
       "array([[16,  9, 64,  0],\n",
       "       [25,  4,  4,  4]])"
      ]
     },
     "execution_count": 47,
     "metadata": {},
     "output_type": "execute_result"
    }
   ],
   "source": [
    "diff(s.T)**2"
   ]
  },
  {
   "cell_type": "code",
   "execution_count": 51,
   "metadata": {},
   "outputs": [
    {
     "data": {
      "text/plain": [
       "array([[16,  9, 64,  0],\n",
       "       [25,  4,  4,  4]])"
      ]
     },
     "execution_count": 51,
     "metadata": {},
     "output_type": "execute_result"
    }
   ],
   "source": [
    "sTds = diff(s.T)**2\n",
    "sTds"
   ]
  },
  {
   "cell_type": "code",
   "execution_count": 53,
   "metadata": {},
   "outputs": [
    {
     "data": {
      "text/plain": [
       "array([6.40312424, 3.60555128, 8.24621125, 2.        ])"
      ]
     },
     "execution_count": 53,
     "metadata": {},
     "output_type": "execute_result"
    }
   ],
   "source": [
    "sqrt(sTds.sum(axis=0))"
   ]
  },
  {
   "cell_type": "code",
   "execution_count": 54,
   "metadata": {},
   "outputs": [
    {
     "data": {
      "text/plain": [
       "20.25488676413216"
      ]
     },
     "execution_count": 54,
     "metadata": {},
     "output_type": "execute_result"
    }
   ],
   "source": [
    "sqrt(sTds.sum(axis=0)).sum()"
   ]
  },
  {
   "cell_type": "code",
   "execution_count": 55,
   "metadata": {},
   "outputs": [],
   "source": [
    "energy = lambda s: sqrt(sum(diff(s.T)**2,axis=0)).sum()"
   ]
  },
  {
   "cell_type": "code",
   "execution_count": 56,
   "metadata": {},
   "outputs": [
    {
     "data": {
      "text/plain": [
       "20.25488676413216"
      ]
     },
     "execution_count": 56,
     "metadata": {},
     "output_type": "execute_result"
    }
   ],
   "source": [
    "energy(s)"
   ]
  },
  {
   "cell_type": "code",
   "execution_count": 57,
   "metadata": {},
   "outputs": [
    {
     "data": {
      "text/plain": [
       "27.64933548866817"
      ]
     },
     "execution_count": 57,
     "metadata": {},
     "output_type": "execute_result"
    }
   ],
   "source": [
    "energy(sp)"
   ]
  },
  {
   "cell_type": "markdown",
   "metadata": {},
   "source": [
    "### Neighbour (or move)"
   ]
  },
  {
   "cell_type": "code",
   "execution_count": 24,
   "metadata": {},
   "outputs": [
    {
     "data": {
      "text/plain": [
       "array([[7, 4],\n",
       "       [3, 9],\n",
       "       [0, 7],\n",
       "       [8, 9],\n",
       "       [8, 7]])"
      ]
     },
     "execution_count": 24,
     "metadata": {},
     "output_type": "execute_result"
    }
   ],
   "source": [
    "s"
   ]
  },
  {
   "cell_type": "code",
   "execution_count": 26,
   "metadata": {},
   "outputs": [
    {
     "data": {
      "text/plain": [
       "3"
      ]
     },
     "execution_count": 26,
     "metadata": {},
     "output_type": "execute_result"
    }
   ],
   "source": [
    "iswap = random.randint(ncity-1)\n",
    "iswap"
   ]
  },
  {
   "cell_type": "code",
   "execution_count": 27,
   "metadata": {},
   "outputs": [
    {
     "data": {
      "text/plain": [
       "array([1, 2, 3, 4])"
      ]
     },
     "execution_count": 27,
     "metadata": {},
     "output_type": "execute_result"
    }
   ],
   "source": [
    "arange(1,5,1)"
   ]
  },
  {
   "cell_type": "code",
   "execution_count": 29,
   "metadata": {},
   "outputs": [
    {
     "data": {
      "text/plain": [
       "array([1, 2])"
      ]
     },
     "execution_count": 29,
     "metadata": {},
     "output_type": "execute_result"
    }
   ],
   "source": [
    "arange(1,3,1)"
   ]
  },
  {
   "cell_type": "code",
   "execution_count": 31,
   "metadata": {},
   "outputs": [
    {
     "data": {
      "text/plain": [
       "array([1, 4])"
      ]
     },
     "execution_count": 31,
     "metadata": {},
     "output_type": "execute_result"
    }
   ],
   "source": [
    "arange(1,5,1)[array((0,3))]"
   ]
  },
  {
   "cell_type": "markdown",
   "metadata": {},
   "source": [
    "index array"
   ]
  },
  {
   "cell_type": "code",
   "execution_count": 35,
   "metadata": {},
   "outputs": [
    {
     "data": {
      "text/plain": [
       "array([3, 4])"
      ]
     },
     "execution_count": 35,
     "metadata": {},
     "output_type": "execute_result"
    }
   ],
   "source": [
    "ind_arr = array((iswap,iswap+1))\n",
    "ind_arr"
   ]
  },
  {
   "cell_type": "code",
   "execution_count": 36,
   "metadata": {},
   "outputs": [
    {
     "data": {
      "text/plain": [
       "array([4, 3])"
      ]
     },
     "execution_count": 36,
     "metadata": {},
     "output_type": "execute_result"
    }
   ],
   "source": [
    "ind_arr[::-1]"
   ]
  },
  {
   "cell_type": "code",
   "execution_count": 34,
   "metadata": {},
   "outputs": [
    {
     "data": {
      "text/plain": [
       "array([[8, 9],\n",
       "       [8, 7]])"
      ]
     },
     "execution_count": 34,
     "metadata": {},
     "output_type": "execute_result"
    }
   ],
   "source": [
    "s[ind_arr]"
   ]
  },
  {
   "cell_type": "code",
   "execution_count": 37,
   "metadata": {},
   "outputs": [
    {
     "data": {
      "text/plain": [
       "array([[8, 7],\n",
       "       [8, 9]])"
      ]
     },
     "execution_count": 37,
     "metadata": {},
     "output_type": "execute_result"
    }
   ],
   "source": [
    "s[ind_arr[::-1]]"
   ]
  },
  {
   "cell_type": "code",
   "execution_count": 38,
   "metadata": {},
   "outputs": [],
   "source": [
    "def neighbour(s):\n",
    "    sp = copy(s)\n",
    "    ncity = len(s)\n",
    "    iswap = random.randint(ncity-1)  # random number of left cities, swap with right neighbour\n",
    "    ind_arr=array((iswap,iswap+1))\n",
    "    sp[ind_arr] = s[ind_arr[::-1]]\n",
    "    return sp,iswap"
   ]
  },
  {
   "cell_type": "code",
   "execution_count": 39,
   "metadata": {},
   "outputs": [
    {
     "data": {
      "text/plain": [
       "array([[7, 4],\n",
       "       [3, 9],\n",
       "       [0, 7],\n",
       "       [8, 9],\n",
       "       [8, 7]])"
      ]
     },
     "execution_count": 39,
     "metadata": {},
     "output_type": "execute_result"
    }
   ],
   "source": [
    "s"
   ]
  },
  {
   "cell_type": "code",
   "execution_count": 40,
   "metadata": {},
   "outputs": [
    {
     "name": "stdout",
     "output_type": "stream",
     "text": [
      "2\n"
     ]
    }
   ],
   "source": [
    "sp,iswap = neighbour(s)\n",
    "print(iswap)\n",
    "# plot(sp.T[0],sp.T[1],':')"
   ]
  },
  {
   "cell_type": "code",
   "execution_count": 41,
   "metadata": {},
   "outputs": [
    {
     "data": {
      "text/plain": [
       "array([[7, 4],\n",
       "       [3, 9],\n",
       "       [8, 9],\n",
       "       [0, 7],\n",
       "       [8, 7]])"
      ]
     },
     "execution_count": 41,
     "metadata": {},
     "output_type": "execute_result"
    }
   ],
   "source": [
    "sp"
   ]
  },
  {
   "cell_type": "code",
   "execution_count": 295,
   "metadata": {},
   "outputs": [
    {
     "name": "stdout",
     "output_type": "stream",
     "text": [
      "24.94427190999916 24.224381799279676\n"
     ]
    }
   ],
   "source": [
    "print(energy(sp),energy(s))"
   ]
  },
  {
   "cell_type": "code",
   "execution_count": 292,
   "metadata": {},
   "outputs": [],
   "source": [
    "s = copy(sp)"
   ]
  },
  {
   "cell_type": "markdown",
   "metadata": {},
   "source": [
    "### APF\n",
    "Acceptance probability function"
   ]
  },
  {
   "cell_type": "code",
   "execution_count": null,
   "metadata": {},
   "outputs": [],
   "source": [
    "ifig=12;close(ifig);figure(ifig)\n"
   ]
  },
  {
   "cell_type": "code",
   "execution_count": 63,
   "metadata": {},
   "outputs": [],
   "source": [
    "def P(sp,s,T):\n",
    "    ep,e = energy(sp),energy(s)\n",
    "    if ep <= e:\n",
    "        P = 1\n",
    "    else:\n",
    "        P = exp(-(ep-e)/T)\n",
    "    return P"
   ]
  },
  {
   "cell_type": "code",
   "execution_count": 64,
   "metadata": {},
   "outputs": [],
   "source": [
    "Tgrid = arange(20,0,-0.1)"
   ]
  },
  {
   "cell_type": "code",
   "execution_count": 387,
   "metadata": {},
   "outputs": [],
   "source": [
    "Tgrid0 = copy(10*exp(-1*grid))"
   ]
  },
  {
   "cell_type": "code",
   "execution_count": 73,
   "metadata": {},
   "outputs": [
    {
     "data": {
      "application/vnd.jupyter.widget-view+json": {
       "model_id": "4c1e522dab8c4ac1acbb3d430224e66b",
       "version_major": 2,
       "version_minor": 0
      },
      "text/plain": [
       "Canvas(toolbar=Toolbar(toolitems=[('Home', 'Reset original view', 'home', 'home'), ('Back', 'Back to previous …"
      ]
     },
     "metadata": {},
     "output_type": "display_data"
    },
    {
     "data": {
      "text/plain": [
       "[<matplotlib.lines.Line2D at 0x7f92836455c0>]"
      ]
     },
     "execution_count": 73,
     "metadata": {},
     "output_type": "execute_result"
    }
   ],
   "source": [
    "# explore temperature cooling schedule\n",
    "ifig=37;close(ifig);fig=figure(ifig)\n",
    "grid = linspace(0,15,100)\n",
    "Tgrid = 10*exp(-1*grid)\n",
    "plot(Tgrid)\n",
    "# plot(Tgrid,'--')"
   ]
  },
  {
   "cell_type": "code",
   "execution_count": 67,
   "metadata": {},
   "outputs": [
    {
     "data": {
      "application/vnd.jupyter.widget-view+json": {
       "model_id": "",
       "version_major": 2,
       "version_minor": 0
      },
      "text/plain": [
       "Canvas(toolbar=Toolbar(toolitems=[('Home', 'Reset original view', 'home', 'home'), ('Back', 'Back to previous …"
      ]
     },
     "metadata": {},
     "output_type": "display_data"
    },
    {
     "data": {
      "text/plain": [
       "[<matplotlib.lines.Line2D at 0x7f928462fcc0>]"
      ]
     },
     "execution_count": 67,
     "metadata": {},
     "output_type": "execute_result"
    }
   ],
   "source": [
    "ifig=12;close(ifig);figure(ifig)\n",
    "plot(Tgrid, P(sp,s,Tgrid),'--')\n",
    "# plot(Tgrid,exp(-(0.21)/Tgrid))"
   ]
  },
  {
   "cell_type": "code",
   "execution_count": 74,
   "metadata": {},
   "outputs": [
    {
     "name": "stdout",
     "output_type": "stream",
     "text": [
      "    67.997\n",
      "    67.997     66.353    1.000    0.872   50.000\n",
      "    66.353     67.997    0.968    0.108   49.900\n",
      "    67.997     73.640    0.893    0.852   49.800\n",
      "    73.640     53.487    1.000    0.044   49.700\n",
      "    53.487     74.592    0.653    0.486   49.600\n",
      "    74.592     74.128    1.000    0.349   49.500\n",
      "    74.128     74.592    0.991    0.200   49.400\n",
      "    74.592     53.487    1.000    0.414   49.300\n",
      "    53.487     51.163    1.000    0.033   49.200\n",
      "    51.163     52.649    0.970    0.061   49.100\n",
      "    52.649     48.443    1.000    0.405   49.000\n",
      "    48.443     46.200    1.000    0.196   48.900\n",
      "    46.200     67.305    0.649    0.578   48.800\n",
      "    67.305     67.925    0.987    0.008   48.700\n",
      "    67.925     69.362    0.971    0.641   48.600\n",
      "    69.362     68.638    1.000    0.439   48.500\n",
      "    68.638     66.414    1.000    0.067   48.400\n",
      "    66.414     43.877    1.000    0.977   48.300\n",
      "    43.877     66.414    0.627    0.204   48.200\n",
      "    66.414     68.638    0.955    0.244   48.100\n",
      "    68.638     66.414    1.000    0.018   48.000\n",
      "    66.414     66.803    0.992    0.704   47.900\n",
      "    66.803     66.414    1.000    0.096   47.800\n",
      "    66.414     68.638    0.954    0.345   47.700\n",
      "    68.638     66.414    1.000    0.966   47.600\n",
      "    66.414     43.877    1.000    0.766   47.500\n",
      "    43.877     66.414    0.622    0.422   47.400\n",
      "    66.414     67.576    0.976    0.997   47.300\n",
      "    66.414     66.803    0.992    0.206   47.200\n",
      "    66.803     63.583    1.000    0.131   47.100\n",
      "    63.583     62.146    1.000    0.869   47.000\n",
      "    62.146     65.367    0.934    0.970   46.900\n",
      "    62.146     62.397    0.995    0.745   46.800\n",
      "    62.397     61.213    1.000    0.661   46.700\n",
      "    61.213     63.566    0.951    0.136   46.600\n",
      "    63.566     61.213    1.000    0.859   46.500\n",
      "    61.213     55.498    1.000    0.872   46.400\n",
      "    55.498     58.718    0.933    0.651   46.300\n",
      "    58.718     61.071    0.950    0.440   46.200\n",
      "    61.071     62.463    0.970    0.727   46.100\n",
      "    62.463     61.547    1.000    0.017   46.000\n",
      "    61.547     63.756    0.953    0.179   45.900\n",
      "    63.756     65.980    0.953    0.444   45.800\n",
      "    65.980     65.772    1.000    0.749   45.700\n",
      "    65.772     63.548    1.000    0.815   45.600\n",
      "    63.548     64.020    0.990    0.072   45.500\n",
      "    64.020     67.520    0.926    0.120   45.400\n",
      "    67.520     59.866    1.000    0.965   45.300\n",
      "    59.866     62.363    0.946    0.072   45.200\n",
      "    62.363     63.526    0.975    0.166   45.100\n",
      "    63.526     62.363    1.000    0.206   45.000\n",
      "    62.363     48.911    1.000    0.579   44.900\n",
      "    48.911     50.975    0.955    0.216   44.800\n",
      "    50.975     70.838    0.641    0.289   44.700\n",
      "    70.838     67.520    1.000    0.515   44.600\n",
      "    67.520     48.911    1.000    0.280   44.500\n",
      "    48.911     50.074    0.974    0.673   44.400\n",
      "    50.074     63.526    0.738    0.356   44.300\n",
      "    63.526     61.029    1.000    0.301   44.200\n",
      "    61.029     66.672    0.880    0.073   44.100\n",
      "    66.672     63.592    1.000    0.604   44.000\n",
      "    63.592     71.245    0.840    0.281   43.900\n",
      "    71.245     63.592    1.000    0.508   43.800\n",
      "    63.592     63.341    1.000    0.783   43.700\n",
      "    63.341     62.159    1.000    0.922   43.600\n",
      "    62.159     63.341    0.973    0.572   43.500\n",
      "    63.341     63.478    0.997    0.157   43.400\n",
      "    63.478     59.243    1.000    0.610   43.300\n",
      "    59.243     60.915    0.962    0.697   43.200\n",
      "    60.915     65.122    0.907    0.608   43.100\n",
      "    65.122     57.807    1.000    0.856   43.000\n",
      "    57.807     60.480    0.940    0.200   42.900\n",
      "    60.480     60.011    1.000    0.546   42.800\n",
      "    60.011     63.115    0.930    0.017   42.700\n",
      "    63.115     62.938    1.000    0.801   42.600\n",
      "    62.938     52.620    1.000    0.262   42.500\n",
      "    52.620     53.077    0.989    0.993   42.400\n",
      "    52.620     62.938    0.784    0.925   42.300\n",
      "    52.620     54.180    0.964    0.267   42.200\n",
      "    54.180     53.114    1.000    0.557   42.100\n",
      "    53.114     53.839    0.983    0.757   42.000\n",
      "    53.839     46.156    1.000    0.471   41.900\n",
      "    46.156     44.300    1.000    0.621   41.800\n",
      "    44.300     56.850    0.740    0.652   41.700\n",
      "    56.850     57.459    0.985    0.960   41.600\n",
      "    57.459     66.232    0.809    0.960   41.500\n",
      "    57.459     66.232    0.809    0.880   41.400\n",
      "    57.459     56.850    1.000    0.887   41.300\n",
      "    56.850     67.436    0.773    0.637   41.200\n",
      "    67.436     64.789    1.000    0.157   41.100\n",
      "    64.789     76.706    0.748    0.227   41.000\n",
      "    76.706     64.789    1.000    0.590   40.900\n",
      "    64.789     63.834    1.000    0.957   40.800\n",
      "    63.834     63.862    0.999    0.856   40.700\n",
      "    63.862     75.132    0.758    0.119   40.600\n",
      "    75.132     62.582    1.000    0.594   40.500\n",
      "    62.582     58.347    1.000    0.688   40.400\n",
      "    58.347     58.577    0.994    0.302   40.300\n",
      "    58.577     64.730    0.858    0.299   40.200\n",
      "    64.730     55.917    1.000    0.280   40.100\n",
      "    55.917     33.422    1.000    0.877   40.000\n",
      "    33.422     55.917    0.569    0.229   39.900\n",
      "    55.917     45.929    1.000    0.882   39.800\n",
      "    45.929     54.743    0.801    0.546   39.700\n",
      "    54.743     45.929    1.000    0.022   39.600\n",
      "    45.929     45.501    1.000    0.652   39.500\n",
      "    45.501     46.108    0.985    0.962   39.400\n",
      "    46.108     74.371    0.487    0.554   39.300\n",
      "    46.108     56.095    0.775    0.858   39.200\n",
      "    46.108     56.095    0.775    0.185   39.100\n",
      "    56.095     33.462    1.000    0.993   39.000\n",
      "    33.462     32.993    1.000    0.987   38.900\n",
      "    32.993     33.422    0.989    0.811   38.800\n",
      "    33.422     32.993    1.000    0.994   38.700\n",
      "    32.993     38.619    0.864    0.372   38.600\n",
      "    38.619     34.704    1.000    0.692   38.500\n",
      "    34.704     34.841    0.996    0.529   38.400\n",
      "    34.841     36.092    0.968    0.900   38.300\n",
      "    36.092     35.993    1.000    0.648   38.200\n",
      "    35.993     36.092    0.997    0.727   38.100\n",
      "    36.092     40.478    0.891    0.885   38.000\n",
      "    40.478     39.226    1.000    0.034   37.900\n",
      "    39.226     34.841    1.000    0.444   37.800\n",
      "    34.841     31.156    1.000    0.055   37.700\n",
      "    31.156     31.019    1.000    0.971   37.600\n",
      "    31.019     59.321    0.470    0.771   37.500\n",
      "    31.019     34.704    0.906    0.693   37.400\n",
      "    34.704     63.005    0.468    0.539   37.300\n",
      "    34.704     38.915    0.893    0.011   37.200\n",
      "    38.915     67.216    0.466    0.842   37.100\n",
      "    38.915     39.522    0.984    0.325   37.000\n",
      "    39.522     38.915    1.000    0.010   36.900\n",
      "    38.915     43.300    0.888    0.522   36.800\n",
      "    43.300     43.477    0.995    0.812   36.700\n",
      "    43.477     64.833    0.558    0.798   36.600\n",
      "    43.477     43.007    1.000    0.442   36.500\n",
      "    43.007     38.619    1.000    0.272   36.400\n",
      "    38.619     32.993    1.000    0.347   36.300\n",
      "    32.993     33.422    0.988    0.238   36.200\n",
      "    33.422     33.932    0.986    0.205   36.100\n",
      "    33.932     34.833    0.975    0.695   36.000\n",
      "    34.833     34.323    1.000    0.507   35.900\n",
      "    34.323     33.422    1.000    0.985   35.800\n",
      "    33.422     33.932    0.986    0.295   35.700\n",
      "    33.932     56.565    0.530    0.644   35.600\n",
      "    33.932     56.565    0.529    0.943   35.500\n",
      "    33.932     34.833    0.975    0.840   35.400\n",
      "    34.833     40.597    0.849    0.383   35.300\n",
      "    40.597     34.833    1.000    0.512   35.200\n",
      "    34.833     33.932    1.000    0.191   35.100\n",
      "    33.932     42.705    0.778    0.141   35.000\n",
      "    42.705     38.102    1.000    0.872   34.900\n",
      "    38.102     45.160    0.816    0.174   34.800\n",
      "    45.160     36.387    1.000    0.106   34.700\n",
      "    36.387     36.543    0.996    0.485   34.600\n",
      "    36.543     51.861    0.641    0.990   34.500\n",
      "    36.543     36.760    0.994    0.940   34.400\n",
      "    36.760     45.533    0.774    0.706   34.300\n",
      "    45.533     40.635    1.000    0.558   34.200\n",
      "    40.635     63.131    0.517    0.082   34.100\n",
      "    63.131     65.606    0.930    0.436   34.000\n",
      "    65.606     56.833    1.000    0.824   33.900\n",
      "    56.833     56.637    1.000    0.841   33.800\n",
      "    56.637     59.879    0.908    0.056   33.700\n",
      "    59.879     52.393    1.000    0.674   33.600\n",
      "    52.393     51.137    1.000    0.194   33.500\n",
      "    51.137     61.013    0.744    0.204   33.400\n",
      "    61.013     68.500    0.799    0.231   33.300\n",
      "    68.500     61.013    1.000    0.345   33.200\n",
      "    61.013     68.500    0.798    0.623   33.100\n",
      "    68.500     49.892    1.000    0.537   33.000\n",
      "    49.892     51.022    0.966    0.127   32.900\n",
      "    51.022     72.735    0.516    0.026   32.800\n",
      "    72.735     72.931    0.994    0.938   32.700\n",
      "    72.931     52.858    1.000    0.914   32.600\n",
      "    52.858     52.662    1.000    0.300   32.500\n",
      "    52.662     69.655    0.592    0.298   32.400\n",
      "    69.655     52.662    1.000    0.797   32.300\n",
      "    52.662     52.875    0.993    0.638   32.200\n",
      "    52.875     69.183    0.602    0.865   32.100\n",
      "    52.875     72.738    0.538    0.923   32.000\n",
      "    52.875     69.183    0.600    0.530   31.900\n",
      "    69.183     74.140    0.856    0.741   31.800\n",
      "    74.140     52.215    1.000    0.731   31.700\n",
      "    52.215     68.495    0.597    0.528   31.600\n",
      "    68.495     52.215    1.000    0.452   31.500\n",
      "    52.215     74.140    0.497    0.499   31.400\n",
      "    52.215     68.495    0.594    0.638   31.300\n",
      "    52.215     52.346    0.996    0.848   31.200\n",
      "    52.346     69.180    0.582    0.714   31.100\n",
      "    52.346     47.943    1.000    0.435   31.000\n",
      "    47.943     69.655    0.495    0.438   30.900\n",
      "    69.655     69.266    1.000    0.915   30.800\n",
      "    69.266     69.238    1.000    0.219   30.700\n",
      "    69.238     69.627    0.987    0.578   30.600\n",
      "    69.627     64.223    1.000    0.912   30.500\n",
      "    64.223     68.006    0.883    0.847   30.400\n",
      "    68.006     65.233    1.000    0.988   30.300\n",
      "    65.233     65.787    0.982    0.597   30.200\n",
      "    65.787     60.812    1.000    0.789   30.100\n",
      "    60.812     45.152    1.000    0.380   30.000\n",
      "    45.152     44.598    1.000    0.358   29.900\n",
      "    44.598     60.982    0.577    0.562   29.800\n",
      "    60.982     63.810    0.909    0.358   29.700\n",
      "    63.810     61.601    1.000    0.056   29.600\n",
      "    61.601     63.810    0.928    0.707   29.500\n",
      "    63.810     62.500    1.000    0.320   29.400\n",
      "    62.500     46.116    1.000    0.357   29.300\n",
      "    46.116     45.183    1.000    0.670   29.200\n",
      "    45.183     46.620    0.952    0.939   29.100\n",
      "    46.620     45.183    1.000    0.894   29.000\n",
      "    45.183     46.620    0.952    0.818   28.900\n",
      "    46.620     44.725    1.000    0.570   28.800\n",
      "    44.725     45.406    0.977    0.363   28.700\n",
      "    45.406     68.042    0.453    0.646   28.600\n",
      "    45.406     68.042    0.452    0.926   28.500\n",
      "    45.406     46.325    0.968    0.744   28.400\n",
      "    46.325     45.406    1.000    0.810   28.300\n",
      "    45.406     47.301    0.935    0.049   28.200\n",
      "    47.301     50.084    0.906    0.516   28.100\n",
      "    50.084     50.127    0.998    0.556   28.000\n",
      "    50.127     50.084    1.000    0.189   27.900\n",
      "    50.084     47.301    1.000    0.422   27.800\n",
      "    47.301     45.738    1.000    0.684   27.700\n",
      "    45.738     66.018    0.480    0.556   27.600\n",
      "    45.738     47.301    0.945    0.619   27.500\n",
      "    47.301     46.620    1.000    0.505   27.400\n",
      "    46.620     66.900    0.476    0.152   27.300\n",
      "    66.900     70.407    0.879    0.036   27.200\n",
      "    70.407     67.578    1.000    0.635   27.100\n",
      "    67.578     68.304    0.974    0.425   27.000\n",
      "    68.304     67.578    1.000    0.770   26.900\n",
      "    67.578     68.762    0.957    0.456   26.800\n",
      "    68.762     66.378    1.000    0.142   26.700\n",
      "    66.378     68.938    0.908    0.712   26.600\n",
      "    68.938     70.004    0.961    0.628   26.500\n",
      "    70.004     71.882    0.931    0.267   26.400\n",
      "    71.882     69.322    1.000    0.341   26.300\n",
      "    69.322     68.602    1.000    0.667   26.200\n",
      "    68.602     71.431    0.897    0.006   26.100\n",
      "    71.431     48.935    1.000    0.550   26.000\n",
      "    48.935     47.869    1.000    0.034   25.900\n",
      "    47.869     52.264    0.843    0.233   25.800\n",
      "    52.264     45.429    1.000    0.203   25.700\n",
      "    45.429     66.498    0.439    0.919   25.600\n",
      "    45.429     66.498    0.438    0.021   25.500\n",
      "    66.498     63.938    1.000    0.315   25.400\n",
      "    63.938     42.601    1.000    0.942   25.300\n",
      "    42.601     43.326    0.972    0.126   25.200\n",
      "    43.326     64.581    0.429    0.219   25.100\n",
      "    64.581     64.313    1.000    0.380   25.000\n",
      "    64.313     64.395    0.997    0.609   24.900\n",
      "    64.395     64.313    1.000    0.408   24.800\n",
      "    64.313     71.148    0.758    0.663   24.700\n",
      "    71.148     64.313    1.000    0.226   24.600\n",
      "    64.313     67.514    0.878    0.499   24.500\n",
      "    67.514     62.287    1.000    0.024   24.400\n",
      "    62.287     55.484    1.000    0.211   24.300\n",
      "    55.484     60.165    0.824    0.527   24.200\n",
      "    60.165     65.085    0.815    0.464   24.100\n",
      "    65.085     60.404    1.000    0.660   24.000\n",
      "    60.404     39.335    1.000    0.313   23.900\n",
      "    39.335     39.176    1.000    0.057   23.800\n",
      "    39.176     39.335    0.993    0.380   23.700\n",
      "    39.335     38.084    1.000    0.413   23.600\n",
      "    38.084     38.336    0.989    0.020   23.500\n",
      "    38.336     59.536    0.404    0.862   23.400\n",
      "    38.336     38.084    1.000    0.064   23.300\n",
      "    38.084     59.284    0.401    0.255   23.200\n",
      "    59.284     38.084    1.000    0.437   23.100\n",
      "    38.084     40.307    0.908    0.393   23.000\n",
      "    40.307     41.866    0.934    0.191   22.900\n",
      "    41.866     43.117    0.947    0.240   22.800\n",
      "    43.117     46.260    0.871    0.684   22.700\n",
      "    46.260     41.340    1.000    0.765   22.600\n",
      "    41.340     46.260    0.804    0.297   22.500\n",
      "    46.260     46.456    0.991    0.578   22.400\n",
      "    46.456     67.525    0.389    0.096   22.300\n",
      "    67.525     62.568    1.000    0.424   22.200\n",
      "    62.568     48.171    1.000    0.609   22.100\n",
      "    48.171     65.005    0.465    0.888   22.000\n",
      "    48.171     65.005    0.464    0.433   21.900\n",
      "    65.005     63.226    1.000    0.529   21.800\n",
      "    63.226     62.449    1.000    0.195   21.700\n",
      "    62.449     66.449    0.831    0.823   21.600\n",
      "    66.449     67.732    0.942    0.283   21.500\n",
      "    67.732     69.512    0.920    0.216   21.400\n",
      "    69.512     68.958    1.000    0.967   21.300\n",
      "    68.958     66.284    1.000    0.590   21.200\n",
      "    66.284     66.838    0.974    0.159   21.100\n",
      "    66.838     64.242    1.000    0.937   21.000\n",
      "    64.242     60.007    1.000    0.967   20.900\n",
      "    60.007     62.681    0.879    0.744   20.800\n",
      "    62.681     62.840    0.992    0.144   20.700\n",
      "    62.840     67.047    0.815    0.742   20.600\n",
      "    67.047     65.267    1.000    0.899   20.500\n",
      "    65.267     71.350    0.742    0.837   20.400\n",
      "    65.267     67.047    0.916    0.098   20.300\n",
      "    67.047     55.053    1.000    0.164   20.200\n",
      "    55.053     55.607    0.973    0.450   20.100\n",
      "    55.607     53.828    1.000    0.429   20.000\n",
      "    53.828     53.274    1.000    0.757   19.900\n",
      "    53.274     53.175    1.000    0.327   19.800\n",
      "    53.175     57.090    0.820    0.988   19.700\n",
      "    53.175     57.090    0.819    0.858   19.600\n",
      "    53.175     57.090    0.818    0.353   19.500\n",
      "    57.090     53.175    1.000    0.231   19.400\n",
      "    53.175     53.274    0.995    0.252   19.300\n",
      "    53.274     53.175    1.000    0.771   19.200\n",
      "    53.175     54.484    0.934    0.625   19.100\n",
      "    54.484     58.870    0.794    0.512   19.000\n",
      "    58.870     54.484    1.000    0.466   18.900\n",
      "    54.484     60.567    0.724    0.592   18.800\n",
      "    60.567     54.484    1.000    0.119   18.700\n",
      "    54.484     55.053    0.970    0.494   18.600\n",
      "    55.053     54.894    1.000    0.630   18.500\n",
      "    54.894     38.614    1.000    0.877   18.400\n",
      "    38.614     38.654    0.998    0.622   18.300\n",
      "    38.654     33.698    1.000    0.319   18.200\n",
      "    33.698     33.132    1.000    0.480   18.100\n",
      "    33.132     37.534    0.783    0.389   18.000\n",
      "    37.534     45.021    0.658    0.098   17.900\n",
      "    45.021     65.639    0.314    0.018   17.800\n",
      "    65.639     61.251    1.000    0.858   17.700\n",
      "    61.251     65.639    0.779    0.334   17.600\n",
      "    65.639     56.825    1.000    0.064   17.500\n",
      "    56.825     56.648    1.000    0.488   17.400\n",
      "    56.648     64.163    0.648    0.112   17.300\n",
      "    64.163     64.332    0.990    0.038   17.200\n",
      "    64.332     66.160    0.899    0.986   17.100\n",
      "    64.332     65.057    0.958    0.643   17.000\n",
      "    65.057     57.543    1.000    0.151   16.900\n",
      "    57.543     55.606    1.000    0.262   16.800\n",
      "    55.606     70.417    0.412    0.149   16.700\n",
      "    70.417     63.185    1.000    0.019   16.600\n",
      "    63.185     63.529    0.979    0.203   16.500\n",
      "    63.529     62.137    1.000    0.808   16.400\n",
      "    62.137     61.793    1.000    0.636   16.300\n",
      "    61.793     61.848    0.997    0.369   16.200\n",
      "    61.848     41.985    1.000    0.829   16.100\n",
      "    41.985     41.903    1.000    0.373   16.000\n",
      "    41.903     62.972    0.266    0.305   15.900\n",
      "    41.903     61.976    0.281    0.638   15.800\n",
      "    41.903     62.972    0.261    0.762   15.700\n",
      "    41.903     61.976    0.276    0.033   15.600\n",
      "    61.976     61.976    1.000    0.897   15.500\n",
      "    61.976     69.490    0.614    0.149   15.400\n",
      "    69.490     69.490    1.000    0.028   15.300\n",
      "    69.490     47.778    1.000    0.095   15.200\n",
      "    47.778     47.569    1.000    0.380   15.100\n",
      "    47.569     40.511    1.000    0.330   15.000\n",
      "    40.511     41.193    0.955    0.964   14.900\n",
      "    40.511     41.193    0.955    0.809   14.800\n",
      "    41.193     41.950    0.950    0.148   14.700\n",
      "    41.950     41.462    1.000    0.219   14.600\n",
      "    41.462     48.520    0.615    0.338   14.500\n",
      "    48.520     47.839    1.000    0.769   14.400\n",
      "    47.839     63.157    0.343    0.189   14.300\n",
      "    63.157     58.772    1.000    0.188   14.200\n",
      "    58.772     43.454    1.000    0.175   14.100\n",
      "    43.454     44.135    0.953    0.808   14.000\n",
      "    44.135     51.368    0.594    0.038   13.900\n",
      "    51.368     44.310    1.000    0.018   13.800\n",
      "    44.310     44.723    0.970    0.502   13.700\n",
      "    44.723     45.108    0.972    0.888   13.600\n",
      "    45.108     44.723    1.000    0.595   13.500\n",
      "    44.723     59.360    0.335    0.738   13.400\n",
      "    44.723     45.108    0.971    0.636   13.300\n",
      "    45.108     44.427    1.000    0.706   13.200\n",
      "    44.427     59.745    0.311    0.498   13.100\n",
      "    44.427     51.485    0.581    0.490   13.000\n",
      "    51.485     44.327    1.000    0.398   12.900\n",
      "    44.327     51.485    0.572    0.960   12.800\n",
      "    44.327     44.482    0.988    0.921   12.700\n",
      "    44.482     45.163    0.947    0.082   12.600\n",
      "    45.163     45.008    1.000    0.329   12.500\n",
      "    45.008     66.933    0.171    0.046   12.400\n",
      "    66.933     45.008    1.000    0.419   12.300\n",
      "    45.008     44.327    1.000    0.279   12.200\n",
      "    44.327     44.535    0.983    0.081   12.100\n",
      "    44.535     44.535    1.000    0.283   12.000\n",
      "    44.535     45.008    0.961    0.188   11.900\n",
      "    45.008     66.933    0.156    0.511   11.800\n",
      "    45.008     48.250    0.758    0.420   11.700\n",
      "    48.250     48.195    1.000    0.451   11.600\n",
      "    48.195     48.351    0.987    0.239   11.500\n",
      "    48.351     47.763    1.000    0.339   11.400\n",
      "    47.763     40.549    1.000    0.840   11.300\n",
      "    40.549     47.763    0.525    0.165   11.200\n",
      "    47.763     47.209    1.000    0.825   11.100\n",
      "    47.209     47.666    0.959    0.173   11.000\n",
      "    47.666     47.209    1.000    0.376   10.900\n",
      "    47.209     62.527    0.242    0.828   10.800\n",
      "    47.209     62.527    0.239    0.954   10.700\n",
      "    47.209     47.666    0.958    0.788   10.600\n",
      "    47.666     48.351    0.937    0.657   10.500\n",
      "    48.351     69.420    0.132    0.837   10.400\n",
      "    48.351     51.936    0.706    0.904   10.300\n",
      "    48.351     47.666    1.000    0.527   10.200\n",
      "    47.666     51.251    0.701    0.619   10.100\n",
      "    51.251     47.666    1.000    0.884   10.000\n",
      "    47.666     47.209    1.000    0.435    9.900\n",
      "    47.209     47.209    1.000    0.886    9.800\n",
      "    47.209     61.845    0.221    0.644    9.700\n",
      "    47.209     47.209    1.000    0.102    9.600\n",
      "    47.209     68.278    0.109    0.135    9.500\n",
      "    47.209     62.527    0.196    0.415    9.400\n",
      "    47.209     43.736    1.000    0.599    9.300\n",
      "    43.736     64.805    0.101    0.659    9.200\n",
      "    43.736     64.805    0.099    0.506    9.100\n",
      "    43.736     51.251    0.434    0.913    9.000\n",
      "    43.736     43.736    1.000    0.457    8.900\n",
      "    43.736     58.373    0.190    0.209    8.800\n",
      "    43.736     43.736    1.000    0.361    8.700\n",
      "    43.736     47.209    0.668    0.722    8.600\n",
      "    43.736     59.054    0.165    0.038    8.500\n",
      "    59.054     63.289    0.604    0.906    8.400\n",
      "    59.054     43.736    1.000    0.554    8.300\n",
      "    43.736     43.581    1.000    0.119    8.200\n",
      "    43.581     64.198    0.078    0.430    8.100\n",
      "    43.581     43.581    1.000    0.102    8.000\n",
      "    43.581     43.581    1.000    0.613    7.900\n",
      "    43.581     44.135    0.931    0.269    7.800\n",
      "    44.135     48.520    0.566    0.033    7.700\n",
      "    48.520     63.157    0.146    0.830    7.600\n",
      "    48.520     63.157    0.142    0.660    7.500\n",
      "    48.520     48.539    0.997    0.924    7.400\n",
      "    48.539     63.176    0.135    0.969    7.300\n",
      "    48.539     48.520    1.000    0.003    7.200\n",
      "    48.520     47.839    1.000    0.351    7.100\n",
      "    47.839     43.454    1.000    0.316    7.000\n",
      "    43.454     58.772    0.109    0.422    6.900\n",
      "    43.454     50.686    0.345    0.331    6.800\n",
      "    50.686     50.644    1.000    0.431    6.700\n",
      "    50.644     65.281    0.109    0.671    6.600\n",
      "    50.644     43.586    1.000    0.421    6.500\n",
      "    43.586     44.038    0.932    0.007    6.400\n",
      "    44.038     44.423    0.941    0.216    6.300\n",
      "    44.423     44.038    1.000    0.106    6.200\n",
      "    44.038     51.251    0.306    0.044    6.100\n",
      "    51.251     47.666    1.000    0.823    6.000\n",
      "    47.666     47.209    1.000    0.830    5.900\n",
      "    47.209     61.845    0.080    0.483    5.800\n",
      "    47.209     61.845    0.077    0.733    5.700\n",
      "    47.209     47.666    0.922    0.313    5.600\n",
      "    47.666     47.669    0.999    0.470    5.500\n",
      "    47.669     47.666    1.000    0.232    5.400\n",
      "    47.666     47.209    1.000    0.362    5.300\n",
      "    47.209     47.666    0.916    0.570    5.200\n",
      "    47.666     51.251    0.495    0.838    5.100\n",
      "    47.666     47.510    1.000    0.453    5.000\n",
      "    47.510     47.514    0.999    0.277    4.900\n",
      "    47.514     47.669    0.968    0.362    4.800\n",
      "    47.669     51.255    0.466    0.668    4.700\n",
      "    47.669     68.738    0.010    0.293    4.600\n",
      "    47.669     62.987    0.033    0.616    4.500\n",
      "    47.669     62.987    0.031    0.122    4.400\n",
      "    47.669     47.081    1.000    0.318    4.300\n",
      "    47.081     47.763    0.850    0.521    4.200\n",
      "    47.763     40.549    1.000    0.974    4.100\n",
      "    40.549     47.763    0.165    0.704    4.000\n",
      "    40.549     39.995    1.000    0.158    3.900\n",
      "    39.995     40.549    0.864    0.797    3.800\n",
      "    40.549     39.995    1.000    0.729    3.700\n",
      "    39.995     39.995    1.000    0.820    3.600\n",
      "    39.995     61.332    0.002    0.046    3.500\n",
      "    39.995     39.868    1.000    0.862    3.400\n",
      "    39.868     47.081    0.112    0.174    3.300\n",
      "    39.868     55.186    0.008    0.368    3.200\n",
      "    39.868     55.186    0.007    0.426    3.100\n",
      "    39.868     55.186    0.006    0.597    3.000\n",
      "    39.868     40.511    0.801    0.799    2.900\n",
      "    40.511     47.569    0.080    0.142    2.800\n",
      "    40.511     47.569    0.073    0.748    2.700\n",
      "    40.511     41.193    0.769    0.942    2.600\n",
      "    40.511     41.269    0.739    0.994    2.500\n",
      "    40.511     39.868    1.000    0.008    2.400\n",
      "    39.868     61.123    0.000    0.961    2.300\n",
      "    39.868     61.123    0.000    0.984    2.200\n",
      "    39.868     55.186    0.001    0.141    2.100\n",
      "    39.868     39.995    0.938    0.654    2.000\n",
      "    39.995     39.995    1.000    0.132    1.900\n",
      "    39.995     40.720    0.668    0.286    1.800\n",
      "    40.720     41.478    0.641    0.629    1.700\n",
      "    41.478     41.478    1.000    0.615    1.600\n",
      "    41.478     40.720    1.000    0.520    1.500\n",
      "    40.720     55.357    0.000    0.364    1.400\n",
      "    40.720     40.720    1.000    0.047    1.300\n",
      "    40.720     39.995    1.000    0.636    1.200\n",
      "    39.995     61.332    0.000    0.694    1.100\n",
      "    39.995     55.313    0.000    0.947    1.000\n",
      "    39.995     55.313    0.000    0.033    0.900\n",
      "    39.995     55.313    0.000    0.735    0.800\n",
      "    39.995     40.908    0.271    0.623    0.700\n",
      "    39.995     55.313    0.000    0.910    0.600\n",
      "    39.995     39.995    1.000    0.885    0.500\n",
      "    39.995     47.209    0.000    0.884    0.400\n",
      "    39.995     40.720    0.089    0.032    0.300\n",
      "    40.720     47.778    0.000    0.340    0.200\n",
      "    40.720     39.995    1.000    0.208    0.100\n",
      "    39.995     39.995    1.000    0.208    0.100\n",
      "    31.019\n"
     ]
    }
   ],
   "source": [
    "ncity = 8\n",
    "Tgrid = arange(50,0,-0.1)\n",
    "s = array([random.randint(2*ncity+1) for i in range(2*ncity)],dtype='int')\n",
    "s = s.reshape(ncity,2)\n",
    "sini = copy(s)\n",
    "print(\"{:10.3f}\".format(energy(s)))\n",
    "ef = energy(sini)\n",
    "sf = copy(sini)\n",
    "for T in Tgrid:\n",
    "    sp,iswap = neighbour(s)\n",
    "    PP = P(sp,s,T)\n",
    "    RR = random.random()\n",
    "    print(\"{:10.3f} {:10.3f} {:8.3f} {:8.3f} {:8.3f}\".format(energy(s),energy(sp),PP,RR,T))\n",
    "    if PP >= RR: \n",
    "        s = copy(sp)\n",
    "        if energy(s) < energy(sf): sf = copy(s)\n",
    "        \n",
    "print(\"{:10.3f} {:10.3f} {:8.3f} {:8.3f} {:8.3f}\".format(energy(s),energy(sp),PP,RR,T))\n",
    "print(\"{:10.3f}\".format(energy(sf)))"
   ]
  },
  {
   "cell_type": "code",
   "execution_count": 75,
   "metadata": {},
   "outputs": [
    {
     "data": {
      "application/vnd.jupyter.widget-view+json": {
       "model_id": "68b9acd51530423baadefbe1b4b205f2",
       "version_major": 2,
       "version_minor": 0
      },
      "text/plain": [
       "Canvas(toolbar=Toolbar(toolitems=[('Home', 'Reset original view', 'home', 'home'), ('Back', 'Back to previous …"
      ]
     },
     "metadata": {},
     "output_type": "display_data"
    },
    {
     "data": {
      "text/plain": [
       "[<matplotlib.lines.Line2D at 0x7f92830b88d0>]"
      ]
     },
     "execution_count": 75,
     "metadata": {},
     "output_type": "execute_result"
    }
   ],
   "source": [
    "ifig=12;close(ifig);fig=figure(ifig)\n",
    "size=8\n",
    "fig.canvas.layout.height = str(size)+'in'   # This is a hack to prevent ipympl\n",
    "fig.canvas.layout.width  = str(size)+'in'   # to adjust horizontal figure size\n",
    "\n",
    "plot(sini.T[0],sini.T[1],'s-',label='sini')\n",
    "plot(sf.T[0],sf.T[1],'o--',label='sfinal')\n"
   ]
  },
  {
   "cell_type": "code",
   "execution_count": null,
   "metadata": {},
   "outputs": [],
   "source": []
  }
 ],
 "metadata": {
  "kernelspec": {
   "display_name": "Python 3",
   "language": "python",
   "name": "python3"
  },
  "language_info": {
   "codemirror_mode": {
    "name": "ipython",
    "version": 3
   },
   "file_extension": ".py",
   "mimetype": "text/x-python",
   "name": "python",
   "nbconvert_exporter": "python",
   "pygments_lexer": "ipython3",
   "version": "3.6.9"
  }
 },
 "nbformat": 4,
 "nbformat_minor": 4
}
