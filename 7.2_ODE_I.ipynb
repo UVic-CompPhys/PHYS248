{
 "cells": [
  {
   "cell_type": "markdown",
   "metadata": {},
   "source": [
    "# 7.2 ODE I\n",
    "\n",
    "#### Today's class:\n",
    "\n",
    "* Non-linear equations\n",
    "    - Relaxation method\n",
    "    - Binary search - bisection method\n",
    "    - Newton-Raphson\n",
    "* Skydiver problem: Falling body with drag\n",
    "    - Equation of motion\n",
    "    - Solve ODE explicit\n",
    "    - Solve with library\n",
    "    "
   ]
  },
  {
   "cell_type": "markdown",
   "metadata": {},
   "source": [
    "## Non-linear equations\n",
    "### Relaxation method\n",
    "\n",
    "Find solution to transcendental equation \n",
    "$$\n",
    "x = 2-e^{-x}\n",
    "$$\n",
    "by relaxation method. Guess initial value for $x$, enter into RHS, calculate new LHS and calculate RHS again, and hope that this converges.\n",
    "\n",
    "Start with a plot. Then experiment with a couple of initial values. "
   ]
  },
  {
   "cell_type": "code",
   "execution_count": null,
   "metadata": {},
   "outputs": [],
   "source": [
    "%pylab ipympl"
   ]
  },
  {
   "cell_type": "code",
   "execution_count": null,
   "metadata": {},
   "outputs": [],
   "source": [
    "ifig=1;close(ifig);figure(ifig)\n",
    "x = linspace(-4,4,100)\n",
    "plot(x,2-e**(-x))\n",
    "plot(x,x,'--')"
   ]
  },
  {
   "cell_type": "code",
   "execution_count": null,
   "metadata": {},
   "outputs": [],
   "source": [
    "x0 = 4\n",
    "x = 1.1*x0\n",
    "while abs(x-x0) > 1e-2:\n",
    "    x0 = x\n",
    "    print(x0)\n",
    "    x = 2-e**(-x0)\n",
    "print(x)"
   ]
  },
  {
   "cell_type": "markdown",
   "metadata": {},
   "source": [
    "We can quickly see some problems. This is not a very general method. \n",
    "\n",
    "The method can fail in even more dramatic ways:"
   ]
  },
  {
   "cell_type": "markdown",
   "metadata": {},
   "source": [
    "$$\n",
    "x = e^{1-x^2}\n",
    "$$"
   ]
  },
  {
   "cell_type": "code",
   "execution_count": null,
   "metadata": {},
   "outputs": [],
   "source": [
    "ifig=2;close(ifig);figure(ifig)\n",
    "x = linspace(-4,4,100)\n",
    "rhs = lambda x : e**(1-x**2)\n",
    "plot(x,rhs(x))\n",
    "plot(x,x,'--')"
   ]
  },
  {
   "cell_type": "code",
   "execution_count": null,
   "metadata": {},
   "outputs": [],
   "source": [
    "x0 = 2\n",
    "x = 1.1*x0\n",
    "for i in range(10):\n",
    "    x0 = x\n",
    "    print(x0)\n",
    "    x = rhs(x)\n",
    "print(x)"
   ]
  },
  {
   "cell_type": "markdown",
   "metadata": {},
   "source": [
    "No matter where you start you can't find the root as you are oscillating back and forth. Interestingly, rearranging will lead to success:\n",
    "$$\n",
    "x = \\sqrt{(1-\\log{x})}\n",
    "$$"
   ]
  },
  {
   "cell_type": "code",
   "execution_count": null,
   "metadata": {},
   "outputs": [],
   "source": [
    "rhs = lambda x : sqrt(1 - log(x))"
   ]
  },
  {
   "cell_type": "code",
   "execution_count": null,
   "metadata": {},
   "outputs": [],
   "source": [
    "x0 = 2.\n",
    "x = 1.1*x0\n",
    "while abs(x-x0) > 1e-3:\n",
    "    x0 = x\n",
    "    #print(x0)\n",
    "    x = rhs(x)\n",
    "print(x)"
   ]
  },
  {
   "cell_type": "markdown",
   "metadata": {},
   "source": [
    "### Binary search - bisection method"
   ]
  },
  {
   "cell_type": "code",
   "execution_count": null,
   "metadata": {},
   "outputs": [],
   "source": [
    "rhs = lambda x : e**(1-x**2)\n",
    "xrange = linspace(0,2,10)"
   ]
  },
  {
   "cell_type": "code",
   "execution_count": null,
   "metadata": {},
   "outputs": [],
   "source": [
    "xx = rhs(xrange)-xrange\n",
    "ind = where(xx[:-1]*xx[1:]<0)[0][0]\n",
    "xrange = linspace(xrange[4],xrange[5],10)\n",
    "xrange[ind]"
   ]
  },
  {
   "cell_type": "markdown",
   "metadata": {},
   "source": [
    "### Newton-Raphson\n",
    "\n",
    "Using the definition of the derivative \n",
    "$$\n",
    "f'(x) = \\frac{f(x)}{\\Delta x}\n",
    "$$\n",
    "we can improve on an initial estimate of $x$ by\n",
    "$$\n",
    "x' = x - \\Delta x =  x - \\frac{f(x)}{f'(x) }\n",
    "$$"
   ]
  },
  {
   "cell_type": "code",
   "execution_count": null,
   "metadata": {},
   "outputs": [],
   "source": [
    "x = linspace(-6,6,10000)\n",
    "rhs = lambda x : e**(1-x**2)\n",
    "G = lambda x : rhs(x)-x"
   ]
  },
  {
   "cell_type": "code",
   "execution_count": null,
   "metadata": {},
   "outputs": [],
   "source": [
    "# from class notes 4.2 \n",
    "def deriv2(f,x,h):\n",
    "    dfdx = (f(x+h) - f(x-h)) / (2*h)\n",
    "    return dfdx"
   ]
  },
  {
   "cell_type": "code",
   "execution_count": null,
   "metadata": {},
   "outputs": [],
   "source": [
    "# check how G looks like, what are we trying to find the root of?\n",
    "ifig=2;close(ifig);figure(ifig)\n",
    "plot(x,G(x),':')\n",
    "axhline(color='k',linestyle='dashed',lw=0.75)\n",
    "xlabel('$x_\\mathrm{n+1}$')\n",
    "ylabel('$G$')"
   ]
  },
  {
   "cell_type": "code",
   "execution_count": null,
   "metadata": {},
   "outputs": [],
   "source": [
    "xx=1.5; h=0.01   # we start with an estimate for x_0 = 0.5\n",
    "plot(xx,G(xx),'h')"
   ]
  },
  {
   "cell_type": "code",
   "execution_count": null,
   "metadata": {},
   "outputs": [],
   "source": [
    "# one NR iteration, repeat until satisfactory solution is found\n",
    "# x is the estimate for x_n+1 and accepted as solution if \n",
    "# G(xx) < eps1 and delta < eps2, where eps1 and eps2 are \n",
    "# suitably small limits\n",
    "\n",
    "x = xx\n",
    "delta = G(x)/deriv2(G,x,h)\n",
    "xx = x - delta\n",
    "print(xx,G(xx),delta)\n",
    "plot(xx,G(xx),'h')"
   ]
  },
  {
   "cell_type": "code",
   "execution_count": null,
   "metadata": {},
   "outputs": [],
   "source": []
  },
  {
   "cell_type": "code",
   "execution_count": null,
   "metadata": {},
   "outputs": [],
   "source": [
    "from scipy import optimize"
   ]
  },
  {
   "cell_type": "code",
   "execution_count": null,
   "metadata": {},
   "outputs": [],
   "source": [
    "optimize.newton(G, 90)"
   ]
  },
  {
   "cell_type": "code",
   "execution_count": null,
   "metadata": {},
   "outputs": [],
   "source": [
    "FF = lambda x: 2-e**(-x) - x"
   ]
  },
  {
   "cell_type": "code",
   "execution_count": null,
   "metadata": {},
   "outputs": [],
   "source": [
    "ifig=6;close(ifig);figure(ifig)\n",
    "x = linspace(-2,4,100)\n",
    "plot(x,FF(x))\n",
    "hlines(0,-2,4,lw=0.75)"
   ]
  },
  {
   "cell_type": "code",
   "execution_count": null,
   "metadata": {},
   "outputs": [],
   "source": [
    "optimize.newton(FF, [-1.19,1.73])"
   ]
  },
  {
   "cell_type": "markdown",
   "metadata": {},
   "source": [
    "## Skydiver problem: Falling body with drag\n",
    "\n",
    "A falling body - say a skydiver - will increase speed when she jumps off the plane because she is accelerated by the earth's gravity. However, the speed will not increase forever. In addition to the gravitational force the sky diver will feel the drag force due to air resistance.\n",
    "\n",
    "What is the terminal velocity of the sky diver? This will depend on the balance of two forces: the gravitational force and the drag force that describes the air resistance\n",
    "\n",
    "\n",
    "### Equation of motion\n",
    "The equation of motion for the velocity is $v = a t +v_0$ where $a$ is the acceration and $v_0$ the initial velocity. But this is of course just a special case of the more general case\n",
    "$$\\frac{d\\vec{p}}{dt} = \\sum \\vec{F}_i .$$\n",
    "where $\\vec{p}$ is the momentum and $\\vec{F}_i$ is one of several forces that may act, like gravitational force and friction.\n",
    "\n",
    "#### Forces\n",
    "We will consider a 1D motion in the vertical direction, and therefore consider the scalar equations.\n",
    "\n",
    "#### Gravity\n",
    "\n",
    "$$F = - m g$$\n",
    "where $m$ is the mass of the body and $g$ is the magnitude of the gravitational acceleration.\n",
    "\n",
    "#### Air drag\n",
    "\n",
    "The   expression for the drag force is \n",
    "$$F_D = \\frac{1}{2} C_D \\rho v^2 A ,$$ where $C_D \\approx 0.3$ is the drag coefficient, $v$ velocity of object experiencing the drag, $\\rho = 1.224 \\mathrm{kg/m^3}$ the density of air the object is experiencing the drag in. $A$ is the cross-sectional area of the object, for a skydiver assume $A = 1 m^2$, and their weight is $80\\mathrm{kg}$.\n"
   ]
  },
  {
   "cell_type": "markdown",
   "metadata": {},
   "source": [
    "#### Equation of motion for sky diver\n",
    "\n",
    "\n",
    "$$ m \\frac{dv}{dt} = -mg + \\frac{1}{2} C_D \\rho v^2 A $$\n",
    "or, with $$k = \\frac{1}{2} \\frac{C_\\mathrm{D} \\rho A}{m}$$ we just have\n",
    "$$ \\frac{dv}{dt} = -g +  k v^2.$$"
   ]
  },
  {
   "cell_type": "markdown",
   "metadata": {},
   "source": [
    "#### In class activity:\n",
    "* what is the unit of k\n",
    "* calculate k using the units package"
   ]
  },
  {
   "cell_type": "code",
   "execution_count": null,
   "metadata": {},
   "outputs": [],
   "source": [
    "import astropy.units as u"
   ]
  },
  {
   "cell_type": "code",
   "execution_count": null,
   "metadata": {},
   "outputs": [],
   "source": [
    "Cd  = 0.3\n",
    "rho = 1.225 *u.kg/u.m**3\n",
    "A   = 1 * u.m**2\n",
    "m = 80 * u.kg\n",
    "k = 0.5*Cd*rho*A/m\n",
    "k"
   ]
  },
  {
   "cell_type": "markdown",
   "metadata": {},
   "source": [
    "In order to solve this differential equation on a compute we use the Euler step method. The most simple solution scheme would be the following: \n",
    "\n",
    "$$\\frac{v_\\mathrm{n+1} - v_\\mathrm{n}}{h} = -g + kv_\\mathrm{n}^2$$\n",
    "\n",
    "where the subscript $n$ indicates subsequents steps in time, and $h$ is the choosen time step length $\\Delta t$. Solving for $v_\\mathrm{n+1}$ yields:\n",
    "\n",
    "$$ v_\\mathrm{n+1} = v_\\mathrm{n} + h(kv_\\mathrm{n}^2 -g) $$\n",
    "\n",
    "Finally, we just need some appropriate initial conditions, such as $v_\\mathrm{0} = 0$.\n",
    "\n",
    "What we want to get is the function $v(t)$. How will it likely look like? Initially the velocity will increase as the graviational acceleration dominates. Ultimately the quadratic drag term in $v$ will become noticable. In fact, there is an equillibrium solution then the drag force equals the gravitational force. Equillibrium means that nothing changes, i.e. $$\\frac{dv}{dt}=0$$ \n",
    "\n",
    "In that case from the differential equation above we find that the terminal velocity is  $$v_\\mathrm{T} = \\sqrt{\\frac{g}{k}}$$\n",
    "Calculating this terminal velocity will provide us with a scale for the problem."
   ]
  },
  {
   "cell_type": "code",
   "execution_count": null,
   "metadata": {},
   "outputs": [],
   "source": [
    "g = 9.8 * u.m/u.s**2\n",
    "v_t = sqrt(g/k)\n",
    "print(v_t.to('km/h'))"
   ]
  },
  {
   "cell_type": "markdown",
   "metadata": {},
   "source": [
    "Shed the units going forward:"
   ]
  },
  {
   "cell_type": "code",
   "execution_count": null,
   "metadata": {},
   "outputs": [],
   "source": [
    "vt = v_t.value  # m/s\n",
    "g = g.value\n",
    "k = k.value "
   ]
  },
  {
   "cell_type": "markdown",
   "metadata": {},
   "source": [
    "#### Solve ODE\n",
    "We must integrate both the velocity as well as the distance according to \n",
    "$$\n",
    "\\frac{dh}{dt} = v\n",
    "$$\n"
   ]
  },
  {
   "cell_type": "code",
   "execution_count": null,
   "metadata": {},
   "outputs": [],
   "source": [
    "h0   = 2000   # jump-off height [m]\n",
    "h_p  = 300    # end of free flight, pull parachute height [m]"
   ]
  },
  {
   "cell_type": "code",
   "execution_count": null,
   "metadata": {},
   "outputs": [],
   "source": [
    "def rhs_sdiver(x,dt):\n",
    "    'Evaluate RHS for skydiver problem, advance one time step'\n",
    "    h = x[0] + dt*x[1]\n",
    "    v = x[1] + dt*(k*x[1]**2 - g)\n",
    "    return [h,v]"
   ]
  },
  {
   "cell_type": "markdown",
   "metadata": {},
   "source": [
    "We must also estimate a reasonable time step. "
   ]
  },
  {
   "cell_type": "code",
   "execution_count": null,
   "metadata": {},
   "outputs": [],
   "source": [
    "dh = 10  # typical spatial step at terminal velocity [m]\n",
    "dt = dh / vt\n",
    "print('%5.3f'%dt,'s')"
   ]
  },
  {
   "cell_type": "code",
   "execution_count": null,
   "metadata": {},
   "outputs": [],
   "source": [
    "hv_all = []\n",
    "hv = array([h0,0])\n",
    "while hv[0] > h_p:\n",
    "    hv = rhs_sdiver(hv,dt)\n",
    "    hv_all.append(hv)"
   ]
  },
  {
   "cell_type": "code",
   "execution_count": null,
   "metadata": {},
   "outputs": [],
   "source": [
    "hv_10=array(hv_all)"
   ]
  },
  {
   "cell_type": "code",
   "execution_count": null,
   "metadata": {},
   "outputs": [],
   "source": [
    "hv_plot_10=hv_10.T\n",
    "close(1),figure(1)\n",
    "plot(hv_plot_10[0],hv_plot_10[1],label='dh= 10m')\n",
    "plot((hv_plot_10[0][0],hv_plot_10[0][-1]),(-vt,-vt),'k-',lw=0.75)\n",
    "xlabel('h / [m]')\n",
    "ylabel('v / [km/s]')\n",
    "legend(loc=1)\n",
    "xlim(2100,250)"
   ]
  },
  {
   "cell_type": "markdown",
   "metadata": {},
   "source": [
    "#### Convergence test"
   ]
  },
  {
   "cell_type": "code",
   "execution_count": null,
   "metadata": {},
   "outputs": [],
   "source": [
    "t_max = 15\n",
    "\n",
    "dh = [10,100, 300]\n",
    "close(2);figure(2)\n",
    "for this_dh in dh:\n",
    "    dt = this_dh / vt\n",
    "    tv_all = [[0,0]] # each element is [t, v]\n",
    "    hv = array([0,0]); t = 0\n",
    "    while t < t_max:\n",
    "        hv = rhs_sdiver(hv,dt)\n",
    "        t += dt\n",
    "        tv_all.append([t,hv[1]])\n",
    "    tv = array(tv_all).T\n",
    "    plot(tv[0],tv[1],'-o',label='dh='+str(this_dh)+'m')\n",
    "xlabel('t / [s]')\n",
    "ylabel('v / [m/s]')\n",
    "legend(loc=1)\n"
   ]
  },
  {
   "cell_type": "code",
   "execution_count": null,
   "metadata": {},
   "outputs": [],
   "source": [
    "close(3);figure(3)\n",
    "dh_range = [5,10,20,40,80,160]\n",
    "#dh_range = [2,100]\n",
    "for dh in dh_range[::-1]:\n",
    "    dt = dh / vt\n",
    "    print('time step %5.3f'%dt,'s')\n",
    "    hv_all = []\n",
    "    hv = array([2000,0])\n",
    "    while hv[0] > h_p:\n",
    "        hv = rhs_sdiver(hv,dt)\n",
    "        hv_all.append(hv)\n",
    "    hv_plot = array(hv_all).T    \n",
    "    plot(hv_plot[0],log10(hv_plot[1]+vt),label='dh='+str(dh)+'m')\n",
    "xlabel('h [m]')\n",
    "ylabel('$ \\log (v-v_\\mathrm{t}) \\mathrm{\\ [km/s]}$')\n",
    "legend(loc=1)\n",
    "xlim(2100,250)"
   ]
  },
  {
   "cell_type": "markdown",
   "metadata": {},
   "source": [
    "### Solution for system with odeint\n",
    "Plot H and v as a function of t."
   ]
  },
  {
   "cell_type": "code",
   "execution_count": null,
   "metadata": {},
   "outputs": [],
   "source": [
    "def rhs_sdiver_odeint(y,t,k,g):\n",
    "    'Evaluate RHS for skydiver problem, advance one time step'\n",
    "    hrhs = y[1]\n",
    "    vrhs = k*y[1]**2 - g\n",
    "    return [hrhs,vrhs]\n"
   ]
  },
  {
   "cell_type": "code",
   "execution_count": null,
   "metadata": {},
   "outputs": [],
   "source": [
    "from scipy import integrate"
   ]
  },
  {
   "cell_type": "code",
   "execution_count": null,
   "metadata": {},
   "outputs": [],
   "source": [
    "t=linspace(0,25,25)\n",
    "y = integrate.odeint(rhs_sdiver_odeint,[h0,0],t, args=(k,g))"
   ]
  },
  {
   "cell_type": "code",
   "execution_count": null,
   "metadata": {},
   "outputs": [],
   "source": [
    "close(5);figure(5)\n",
    "plot(t,y.T[0])\n",
    "ylabel('height / m')\n",
    "xlabel('time / s')"
   ]
  },
  {
   "cell_type": "code",
   "execution_count": null,
   "metadata": {},
   "outputs": [],
   "source": [
    "close(6);figure(6)\n",
    "plot(t,y.T[1])\n",
    "ylabel('velocity / m/s')\n",
    "xlabel('time / s')"
   ]
  },
  {
   "cell_type": "markdown",
   "metadata": {},
   "source": [
    "### Solving with a library - try another solver\n",
    "The documentation says _For new code, use_ `scipy.integrate.solve_ivp` _to solve a differential equation._ OK, ... let's try that ..."
   ]
  },
  {
   "cell_type": "code",
   "execution_count": null,
   "metadata": {},
   "outputs": [],
   "source": [
    "# integrate.solve_ivp?"
   ]
  },
  {
   "cell_type": "code",
   "execution_count": null,
   "metadata": {},
   "outputs": [],
   "source": [
    "rhs_ff_sivp = lambda x,y: 2*x   # note that for this solver the calling \n",
    "                                # sequence is different than for odeint!\n",
    "sol = integrate.solve_ivp(rhs_ff_sivp,[0,7],[0],t_eval=linspace(0,7,8)) # note the different call \n",
    "                                                 # arguments compared to odeing"
   ]
  },
  {
   "cell_type": "markdown",
   "metadata": {},
   "source": [
    "This libary provides a range of solvers, including the _LSODA_ solver used in `odeint`. Try the option `method='LSODA'`."
   ]
  },
  {
   "cell_type": "code",
   "execution_count": null,
   "metadata": {},
   "outputs": [],
   "source": [
    "sol"
   ]
  },
  {
   "cell_type": "code",
   "execution_count": null,
   "metadata": {},
   "outputs": [],
   "source": [
    "close(7);figure(7)\n",
    "plot(sol.t,sol.y[0],'h-.',label='scipy.integrate.solve_ivp')\n",
    "plot(sol.t,sol.t**2)\n",
    "legend()"
   ]
  },
  {
   "cell_type": "code",
   "execution_count": null,
   "metadata": {},
   "outputs": [],
   "source": []
  }
 ],
 "metadata": {
  "kernelspec": {
   "display_name": "Python 3",
   "language": "python",
   "name": "python3"
  },
  "language_info": {
   "codemirror_mode": {
    "name": "ipython",
    "version": 3
   },
   "file_extension": ".py",
   "mimetype": "text/x-python",
   "name": "python",
   "nbconvert_exporter": "python",
   "pygments_lexer": "ipython3",
   "version": "3.6.10"
  }
 },
 "nbformat": 4,
 "nbformat_minor": 4
}
