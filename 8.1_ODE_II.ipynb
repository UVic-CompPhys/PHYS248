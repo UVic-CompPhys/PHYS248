{
 "cells": [
  {
   "cell_type": "markdown",
   "metadata": {},
   "source": [
    "# 8.1 ODE II\n",
    "\n",
    "#### Before we start:\n",
    "* revisit 7.2 convergence test\n",
    "\n",
    "#### Today's class:\n",
    "\n",
    "* 3D line plots\n",
    "* ODE's with mulitple coupled equations\n",
    "    - _Lotka–Volterra_ equations and comparison of two solvers\n",
    "    - Discuss and understand the accuracy of a numerical solution, and how to use libraries properly\n",
    "    - Conclusions and recommendations\n",
    "* Chaos: Lorenz equations\n",
    "\n",
    "    "
   ]
  },
  {
   "cell_type": "markdown",
   "metadata": {},
   "source": [
    "## 3D line plots\n",
    "Just in case we have to solve systems with three equations it may be useful to remind us of how to do 3D line plots."
   ]
  },
  {
   "cell_type": "code",
   "execution_count": null,
   "metadata": {},
   "outputs": [],
   "source": [
    "%pylab ipympl\n",
    "import matplotlib.pyplot as plt\n",
    "from mpl_toolkits.mplot3d import Axes3D"
   ]
  },
  {
   "cell_type": "code",
   "execution_count": null,
   "metadata": {},
   "outputs": [],
   "source": [
    "# plot 1\n",
    "x = lambda t: t*cos(t)\n",
    "y = lambda t: 1.5*t*sin(t)\n",
    "z = lambda t: t**2\n",
    "t = linspace(0,50,10001)"
   ]
  },
  {
   "cell_type": "code",
   "execution_count": null,
   "metadata": {},
   "outputs": [],
   "source": [
    "# plot 2\n",
    "def x(t):\n",
    "    t_ = fac * t\n",
    "    return t_*cos(t_)\n",
    "def y(t):\n",
    "    t_ = fac * t\n",
    "    return 1.5*t_*sin(t_)\n",
    "# z = lambda t: t**2 * t**-0.3\n",
    "z = lambda x: sin(t**2)*x**2/exp(-t/2.) # from Lab 6.1\n",
    "t = linspace(-2.5,0.25,10001); fac = 100"
   ]
  },
  {
   "cell_type": "code",
   "execution_count": null,
   "metadata": {},
   "outputs": [],
   "source": [
    "ifig=19;close(ifig);fig = plt.figure(ifig)\n",
    "ax = fig.gca(projection='3d',azim=-30, elev=45)\n",
    "ax.plot(x(t),y(t),z(t))\n",
    "ax.set_xlabel('X')\n",
    "ax.set_ylabel('Y')\n",
    "ax.set_zlabel('Z')\n",
    "show()"
   ]
  },
  {
   "cell_type": "markdown",
   "metadata": {
    "deletable": true,
    "editable": true
   },
   "source": [
    "## ODE's with mulitple coupled equations\n",
    "The [Lotka–Volterra equations](https://en.wikipedia.org/wiki/Lotka%E2%80%93Volterra_equations), also known as the predator–prey equations, represent a model for an interacting predator and a prey population:\n",
    " \n",
    " $$ \\frac{dx}{dt} = \\alpha x - \\beta x y$$ \n",
    " \n",
    " $$\\frac{dy}{dt} = \\delta xy -\\gamma y$$ \n",
    " \n",
    " where:\n",
    " * $x$ number of prey\n",
    " * $y$ number of predetors\n",
    " * and $\\alpha$, $\\beta$, $\\delta$ and $\\gamma$ are parameters that describe the interaction between the two species.\n",
    " \n",
    "1. Write the code to solve the Lotka–Volterra equations equations using first the `scipy.integrate.odeint` and  then the `integrate.solve_ivp` method. \n",
    "2. Create a plot with the evolution of prey and predetor for the parameters $\\alpha=2/3$, $\\beta=4/3$, $\\delta=1$ and $\\gamma=1/2$ for the time interval $[0,35]$ for each solution. Make a plot that shows the prey population which shows both solutions. Are you satisfied with the agreement?\n",
    "3. Integrate the ODE with both solvers to $t=350$ and plot the prey population. Also zoom in to view in detail just the last 35 time units. Are you still satisfied? What is the solver you prefer for this problem, and why?\n",
    "\n",
    "Note: make sure that you are using for each line a different compination of linestyle and color to make distinguishing the lines very easy."
   ]
  },
  {
   "cell_type": "code",
   "execution_count": null,
   "metadata": {
    "deletable": true,
    "editable": true
   },
   "outputs": [],
   "source": [
    "%pylab ipympl\n",
    "from scipy.integrate import odeint"
   ]
  },
  {
   "cell_type": "code",
   "execution_count": null,
   "metadata": {
    "collapsed": false,
    "deletable": true,
    "editable": true,
    "jupyter": {
     "outputs_hidden": false
    }
   },
   "outputs": [],
   "source": [
    "# parameters and initial conditions\n",
    "a=4/3; b=4/3; d=1.0; g=1/2\n",
    "state0 = [0.2, 0.5]\n",
    "tmin,tmax = (0,350)"
   ]
  },
  {
   "cell_type": "markdown",
   "metadata": {},
   "source": [
    "### `odeint` solution\n",
    "\n",
    "* Before we start using the `odeint` let's explore what is in it! \n",
    "* Look at and find [documentation](https://computing.llnl.gov/casc/nsde/pubs/u113855.pdf)"
   ]
  },
  {
   "cell_type": "code",
   "execution_count": null,
   "metadata": {},
   "outputs": [],
   "source": [
    "# odeint?"
   ]
  },
  {
   "cell_type": "code",
   "execution_count": null,
   "metadata": {},
   "outputs": [],
   "source": [
    "def fl(state, t):\n",
    "    x, y = state  # unpack the state vector\n",
    "    return a*x - b*x*y, d*x*y - g*y\n",
    "\n",
    "t = arange(tmin, tmax, 0.01)\n",
    "\n",
    "states = odeint(fl, state0, t)\n",
    "\n"
   ]
  },
  {
   "cell_type": "code",
   "execution_count": null,
   "metadata": {},
   "outputs": [],
   "source": [
    "ifig = 7; close(ifig); figure(ifig)\n",
    "plot(t,states[:,0],label='odeint, prey')\n",
    "plot(t,states[:,1],'-.',label='odeint, predator')\n",
    "legend(loc=0); xlabel('time'); ylabel('population')"
   ]
  },
  {
   "cell_type": "markdown",
   "metadata": {},
   "source": [
    "### `solve_ivp` solution"
   ]
  },
  {
   "cell_type": "markdown",
   "metadata": {},
   "source": [
    "As it turns out there is one caveat with `integrate.solve_ivp`, which is how it deals with arguments to the RHS. It does not have a built-in way to do this. "
   ]
  },
  {
   "cell_type": "code",
   "execution_count": null,
   "metadata": {
    "collapsed": false,
    "editable": true,
    "jupyter": {
     "outputs_hidden": false
    }
   },
   "outputs": [],
   "source": [
    "from scipy.integrate import solve_ivp\n",
    "def fl_sivp(t,state,parms):\n",
    "    a,b,d,g = parms  # unpack parameter vector\n",
    "    x, y = state     # unpack the state vector\n",
    "    return (a*x - b*x*y, d*x*y - g*y)\n",
    "\n",
    "state0 = array([0.2, 0.5])\n",
    "parms=(a,b,d,g)"
   ]
  },
  {
   "cell_type": "markdown",
   "metadata": {},
   "source": [
    "Another point to note is that this library will automatically pick the time step size. "
   ]
  },
  {
   "cell_type": "code",
   "execution_count": null,
   "metadata": {
    "collapsed": false,
    "editable": true,
    "jupyter": {
     "outputs_hidden": false
    }
   },
   "outputs": [],
   "source": [
    "t_eval = arange(tmin, tmax, 0.01)"
   ]
  },
  {
   "cell_type": "code",
   "execution_count": null,
   "metadata": {
    "collapsed": false,
    "editable": true,
    "jupyter": {
     "outputs_hidden": false
    }
   },
   "outputs": [],
   "source": [
    "rhs = lambda t,y: fl_sivp(t,y,parms)\n",
    "sol = solve_ivp(rhs,[tmin,tmax],state0,t_eval=t_eval)\n",
    "#  default: 1e-3 for `rtol` and 1e-6 for `atol`"
   ]
  },
  {
   "cell_type": "code",
   "execution_count": null,
   "metadata": {},
   "outputs": [],
   "source": [
    "# inspect solution\n",
    "sol"
   ]
  },
  {
   "cell_type": "code",
   "execution_count": null,
   "metadata": {
    "collapsed": false,
    "editable": true,
    "jupyter": {
     "outputs_hidden": false
    }
   },
   "outputs": [],
   "source": [
    "ifig = 3; close(ifig); figure(ifig)\n",
    "plot(t_eval,sol.y[0],label='prey')\n",
    "plot(t_eval,sol.y[1],label='predator')\n",
    "legend(loc=0); xlabel('time'); ylabel('population')\n",
    "title('solve_ivp')"
   ]
  },
  {
   "cell_type": "markdown",
   "metadata": {},
   "source": [
    "### Observation\n",
    "The solution fluctuates with this solver in an irregular pattern. Is this correct?"
   ]
  },
  {
   "cell_type": "code",
   "execution_count": null,
   "metadata": {},
   "outputs": [],
   "source": [
    "close(8);figure(8)\n",
    "plot(t_eval,sol.y[0],'--',label='solve_ivp, prey')\n",
    "plot(t,states[:,0],label='odeint, prey')\n",
    "legend()\n"
   ]
  },
  {
   "cell_type": "markdown",
   "metadata": {},
   "source": [
    "The comparison between the two solvers shows this to be a substantial effect. Could the `solve_ivp` be incorrect? Is the predetor-prey model maybe chaotic? No! [The Poincaré–Bendixson theorem states that a two-dimensional differential equation has very regular behavior.](https://en.wikipedia.org/wiki/Chaos_theory). The `solve_ivp` solver with the default methods and parameters simply does not do a very good job for this problem. This becomes clear when we compare the evolution of prey at the end of a longer run. Not only the amplitude differs by >10%.  The phase has shifted as well."
   ]
  },
  {
   "cell_type": "code",
   "execution_count": null,
   "metadata": {},
   "outputs": [],
   "source": [
    "close(9);figure(9)\n",
    "plot(t,states[:,0],label='odeint, prey')\n",
    "plot(t_eval,sol.y[0],'--',label='solve_ivp, prey')\n",
    "legend()\n",
    "xlim(0.9*tmax,tmax)"
   ]
  },
  {
   "cell_type": "markdown",
   "metadata": {},
   "source": [
    "**What is going on?**"
   ]
  },
  {
   "cell_type": "code",
   "execution_count": null,
   "metadata": {},
   "outputs": [],
   "source": [
    "# solve_ivp?"
   ]
  },
  {
   "cell_type": "markdown",
   "metadata": {},
   "source": [
    "### Conclusions and recommendations\n",
    "* library can have a number of solver behaviours\n",
    "* properties of solvers may be optional arguments, such as tolerance\n",
    "* read the documentation"
   ]
  },
  {
   "cell_type": "markdown",
   "metadata": {},
   "source": [
    "## Lorenz equations\n",
    "One of the most celebrated sets of differential equations in physics is the [Lorenz equations](https://en.wikipedia.org/wiki/Lorenz_system):\n",
    "$$ \\frac{dx}{dt} = \\sigma(y-x) $$ $$\\frac{dy}{dt} = rx -y -xz$$ $$\\frac{dz}{dt} = xy - bz$$ where $\\sigma$, $r$ and $b$ are constants. (The names of these constants may seem arbirtrary and odd but are always used in these equations -- _for historical reasons_).\n",
    "\n",
    "Use the range from $t = 0$ to $t = 50 $ with the intial condition $(x,y,z) = (1,1,1)$, and solve with parameters $\\sigma=10.0$, $r=28$ and $b=8/3$."
   ]
  },
  {
   "cell_type": "markdown",
   "metadata": {},
   "source": [
    "Use the scipy solver `integrate.solve_ivp`."
   ]
  },
  {
   "cell_type": "code",
   "execution_count": null,
   "metadata": {},
   "outputs": [],
   "source": [
    "%pylab ipympl\n",
    "from scipy import integrate"
   ]
  },
  {
   "cell_type": "code",
   "execution_count": null,
   "metadata": {},
   "outputs": [],
   "source": [
    "def lorenz_rhs_ode(t,yy,params):\n",
    "    '''\n",
    "    Righ-hand-side (RHS) of Lorenz equations for scipy.integrate.solve_ivp\n",
    "    \n",
    "    Parameters:\n",
    "    -----------\n",
    "    t : float\n",
    "      time \n",
    "    params : tuple, floats\n",
    "      (s,r,b) sigma, r, b parameters\n",
    "    yy : array, float\n",
    "      position vector, three components\n",
    "\n",
    "    Return: \n",
    "    -------\n",
    "    rhs : list, floats \n",
    "      RHS new position vector\n",
    "    '''\n",
    "\n",
    "    s,r,b = params\n",
    "    x,y,z = yy\n",
    "    rhs = array([ s*(y-x), r*x -y -x*z, x*y - b*z])\n",
    "    return rhs"
   ]
  },
  {
   "cell_type": "code",
   "execution_count": null,
   "metadata": {},
   "outputs": [],
   "source": [
    "# set the parameters for this solution\n",
    "s = 7.0; r = 32; b = 9./3\n",
    "params = (s,r,b)\n",
    "tmin,tmax = (0,25)\n",
    "\n",
    "nmax = 2000\n",
    "t_eval = linspace(tmin,tmax,nmax)\n",
    "fun = lambda t,y : lorenz_rhs_ode(t,y,params)\n",
    "a0  = array([1.,1.,1.])\n",
    "sol    = integrate.solve_ivp(fun,[tmin,tmax],a0, t_eval = t_eval,rtol=1.e-6 )"
   ]
  },
  {
   "cell_type": "markdown",
   "metadata": {},
   "source": [
    "#### Time evolution of the first component"
   ]
  },
  {
   "cell_type": "code",
   "execution_count": null,
   "metadata": {},
   "outputs": [],
   "source": [
    "close(1);figure(1)\n",
    "plot(sol.t,sol.y[0],label='x')\n",
    "plot(sol.t,sol.y[1],label='y')\n",
    "plot(sol.t,sol.y[2],label='z')\n",
    "xlabel('time'); ylabel(\"x coordinate\")\n",
    "legend()"
   ]
  },
  {
   "cell_type": "code",
   "execution_count": null,
   "metadata": {},
   "outputs": [],
   "source": [
    "close(11);figure(11)\n",
    "plot(sol.t,sol.y[0],label='x')\n",
    "plot(sol.t,sol.y[1],label='y')\n",
    "plot(sol.t,sol.y[2],label='z')\n",
    "xlabel('time'); ylabel(\"x coordinate\")\n",
    "legend()"
   ]
  },
  {
   "cell_type": "markdown",
   "metadata": {},
   "source": [
    "#### Plot of x vs y component"
   ]
  },
  {
   "cell_type": "code",
   "execution_count": null,
   "metadata": {},
   "outputs": [],
   "source": [
    "cm = plt.cm.get_cmap('coolwarm')\n",
    "n = linspace(1,nmax+1,nmax)\n",
    "color = cm(n/nmax)[::-1]"
   ]
  },
  {
   "cell_type": "code",
   "execution_count": null,
   "metadata": {},
   "outputs": [],
   "source": [
    "close(2);figure(2)\n",
    "for i in range(nmax-2):\n",
    "    plot(sol.y[0][i:i+2],sol.y[1][i:i+2],'-',c=color[i],lw=0.75)\n",
    "plot(sol.y[0][-2],sol.y[1][-2],'o',c=color[-2])\n",
    "xlabel('x'); ylabel(\"y\")"
   ]
  },
  {
   "cell_type": "code",
   "execution_count": null,
   "metadata": {},
   "outputs": [],
   "source": [
    "close(12);figure(12)\n",
    "for i in range(nmax-2):\n",
    "    plot(sol.y[0][i:i+2],sol.y[1][i:i+2],'-',c=color[i],lw=0.75)\n",
    "plot(sol.y[0][-2],sol.y[1][-2],'o',c=color[-2])\n",
    "xlabel('x'); ylabel(\"y\")"
   ]
  },
  {
   "cell_type": "code",
   "execution_count": null,
   "metadata": {},
   "outputs": [],
   "source": [
    "close(3);figure(3)\n",
    "for i in range(nmax-2):\n",
    "    plot(sol.y[0][i:i+2],sol.y[2][i:i+2],'-',c=color[i],lw=0.75)\n",
    "plot(sol.y[0][-2],sol.y[2][-2],'o',c=color[-2])\n",
    "xlabel('x'); ylabel(\"z\")"
   ]
  },
  {
   "cell_type": "code",
   "execution_count": null,
   "metadata": {},
   "outputs": [],
   "source": [
    "close(13);figure(13)\n",
    "for i in range(nmax-2):\n",
    "    plot(sol.y[0][i:i+2],sol.y[2][i:i+2],'-',c=color[i],lw=0.75)\n",
    "plot(sol.y[0][-2],sol.y[2][-2],'o',c=color[-2])\n",
    "xlabel('x'); ylabel(\"z\")"
   ]
  },
  {
   "cell_type": "markdown",
   "metadata": {},
   "source": [
    "#### Last but not least, let's do a 3D plot of the 3D trajectory."
   ]
  },
  {
   "cell_type": "code",
   "execution_count": null,
   "metadata": {},
   "outputs": [],
   "source": [
    "import matplotlib.pyplot as plt\n",
    "from scipy.integrate import odeint\n",
    "from mpl_toolkits.mplot3d import Axes3D"
   ]
  },
  {
   "cell_type": "code",
   "execution_count": null,
   "metadata": {},
   "outputs": [],
   "source": [
    "ifig=4;close(ifig);fig = plt.figure(ifig)\n",
    "ax = fig.gca(projection='3d',azim=-30, elev=45)\n",
    "for i in range(nmax-2):\n",
    "    ax.plot(sol.y[0][i:i+2],sol.y[1][i:i+2],sol.y[2][i:i+2],'-',c=color[i],lw=0.75)\n",
    "ax.plot(sol.y[0][-2:-1],sol.y[1][-2:-1],sol.y[2][-2:-1],'o',c=color[-2])\n",
    "ax.set_xlabel('X')\n",
    "ax.set_ylabel('Y')\n",
    "ax.set_zlabel('Z')\n",
    "show()"
   ]
  },
  {
   "cell_type": "code",
   "execution_count": null,
   "metadata": {},
   "outputs": [],
   "source": [
    "ifig=14;close(ifig);fig = plt.figure(ifig)\n",
    "ax = fig.gca(projection='3d',azim=-30, elev=45)\n",
    "for i in range(nmax-2):\n",
    "    ax.plot(sol.y[0][i:i+2],sol.y[1][i:i+2],sol.y[2][i:i+2],'-',c=color[i],lw=0.75)\n",
    "ax.plot(sol.y[0][-2:-1],sol.y[1][-2:-1],sol.y[2][-2:-1],'o',c=color[-2])\n",
    "ax.set_xlabel('X')\n",
    "ax.set_ylabel('Y')\n",
    "ax.set_zlabel('Z')\n",
    "show()"
   ]
  },
  {
   "cell_type": "code",
   "execution_count": null,
   "metadata": {},
   "outputs": [],
   "source": []
  }
 ],
 "metadata": {
  "kernelspec": {
   "display_name": "Python 3",
   "language": "python",
   "name": "python3"
  },
  "language_info": {
   "codemirror_mode": {
    "name": "ipython",
    "version": 3
   },
   "file_extension": ".py",
   "mimetype": "text/x-python",
   "name": "python",
   "nbconvert_exporter": "python",
   "pygments_lexer": "ipython3",
   "version": "3.6.10"
  }
 },
 "nbformat": 4,
 "nbformat_minor": 4
}
