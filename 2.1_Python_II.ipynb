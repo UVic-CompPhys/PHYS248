{
 "cells": [
  {
   "cell_type": "markdown",
   "metadata": {},
   "source": [
    "# 2.1 Intro to Python language II\n",
    "\n",
    "Programming in style: https://www.python.org/dev/peps/pep-0008/"
   ]
  },
  {
   "cell_type": "markdown",
   "metadata": {},
   "source": [
    "## JupyterLab\n",
    "\n",
    "### Magic functions\n",
    "\n",
    "There are a number of so-called _magic functions_ that do useful things in JupyterLab (actuall in the underlying ipython framework).\n",
    "\n",
    "The most often used is `%pylab ipympl` which loads numpy and matlplotlib into the current namespace. Then numpy functions and matplotlib commands appear without prefix in the current namespace. This is convenient, but must be kept in mind!\n",
    "\n",
    "This  [yoursdata.net page](https://yoursdata.net/jupyter-lab-shortcut-and-magic-functions-tips/) also contains a number of useful magic functions. You will find more when you search for them. "
   ]
  },
  {
   "cell_type": "code",
   "execution_count": null,
   "metadata": {},
   "outputs": [],
   "source": [
    "%pylab ipympl"
   ]
  },
  {
   "cell_type": "code",
   "execution_count": null,
   "metadata": {},
   "outputs": [],
   "source": [
    "sqrt(2.)"
   ]
  },
  {
   "cell_type": "markdown",
   "metadata": {},
   "source": [
    "## Simple line plots\n",
    "The workhorse for plotting and visualisation with Python is= [matplotlib](http://matplotlib.org).\n",
    "\n",
    "The matplotlib `plot` function takes as a minimum two arguements, an array for $x$ values and an array of the _same_ length containing the corresponding $y$ values. The $y$ values may be calculated in place.\n",
    "\n",
    "There are several ways how a plot (or anything) can be done. Here is an example that loads explicitely all required libraries and keeps the name space clean:\n",
    "\n",
    "![plot-example](https://www.tutorialspoint.com/jupyter/images/matplotlib_library_toolbar.jpg)\n",
    "\n",
    "The details of the magic command used to specify the graphical backend can vary depending on the specific software stack and versions of the particular environment. Here we will follow the path of convenience and by default always work with the `%pylab ipympl` magic command, which loads `numpy` and `matplotlib` and loads automatically the `ipympl` backend for interactive figures in notebooks."
   ]
  },
  {
   "cell_type": "code",
   "execution_count": null,
   "metadata": {},
   "outputs": [],
   "source": [
    "x = linspace(1,9,10)   \n",
    "x"
   ]
  },
  {
   "cell_type": "code",
   "execution_count": null,
   "metadata": {},
   "outputs": [],
   "source": [
    "close(1);figure(1)\n",
    "plot(x,cos(x))"
   ]
  },
  {
   "cell_type": "code",
   "execution_count": null,
   "metadata": {},
   "outputs": [],
   "source": [
    "ifig=2;close(ifig);figure(ifig)\n",
    "plot(x,sin(x),'g--')"
   ]
  },
  {
   "cell_type": "markdown",
   "metadata": {},
   "source": [
    "[List of available markers](https://matplotlib.org/api/markers_api.html)\n"
   ]
  },
  {
   "cell_type": "markdown",
   "metadata": {},
   "source": [
    "Plot the function $y = x^2-10.3 x+15$"
   ]
  },
  {
   "cell_type": "code",
   "execution_count": null,
   "metadata": {},
   "outputs": [],
   "source": [
    "ifig=3;close(ifig);figure(ifig)\n",
    "y = x**2-10.3*x+15\n",
    "plot(x,y,'g--')\n",
    "# what is missing? lims, legends, labels, text, vlines, markevery, color, linestyle, lw"
   ]
  },
  {
   "cell_type": "markdown",
   "metadata": {},
   "source": [
    "#### In class exercise:\n",
    "Plot the function $y1 = sin(x)$ and $y2 = cos(x^2)$ on the same plot for $x \\in [0.,5.]$ using an `x` array with 30 equal intervals. "
   ]
  },
  {
   "cell_type": "code",
   "execution_count": null,
   "metadata": {},
   "outputs": [],
   "source": [
    "ifig=4;close(ifig);figure(ifig)\n",
    "x = linspace(0.,4.,31)\n",
    "y1 = sin(x); y2 = cos(x**2)\n",
    "plot(x,y1,'--',label='y1')\n",
    "plot(x,y2,label='y2',linestyle='dashdot',marker='v',markevery=1)\n",
    "ylim(-1.2,1.2)\n",
    "legend(loc=0)"
   ]
  },
  {
   "cell_type": "code",
   "execution_count": null,
   "metadata": {},
   "outputs": [],
   "source": [
    "vlines(3.0,-1.2,1.2,lw=0.5)"
   ]
  },
  {
   "cell_type": "markdown",
   "metadata": {},
   "source": [
    "What is the smallest value of `y2` that is larger than `y1` and corresponds to $x<3.0$?"
   ]
  },
  {
   "cell_type": "code",
   "execution_count": null,
   "metadata": {},
   "outputs": [],
   "source": [
    "min(y2[(y2>y1) * (x<3.)])"
   ]
  },
  {
   "cell_type": "markdown",
   "metadata": {},
   "source": [
    "### Convergence of geometric series \n",
    "\n",
    "This plotting example reviews mathematical expressions involving arrays (vector operations), `for` loops. It also introduces the concept of accurcy vs. precision.\n",
    "\n",
    "Consider again the geometric series example from lecture 1.2, with a common ration $r=2/3$ and start term $a = 1$ and an asymptotic sum of $3.0$.\n",
    "\n",
    "* Write a loop that calculates $s(N)$, where $s$ is the value of the series, and $N$ is the number of terms included. Use for $N$ the powers of $2$ from $2^0$ to $2^{9}$. \n"
   ]
  },
  {
   "cell_type": "code",
   "execution_count": null,
   "metadata": {},
   "outputs": [],
   "source": [
    "NN = [2**n for n in range(10)]; NN    # list comprehension"
   ]
  },
  {
   "cell_type": "code",
   "execution_count": null,
   "metadata": {},
   "outputs": [],
   "source": [
    "# copy code from lecture 1.2\n",
    "r = 2./3; a = 1.\n",
    "s = 0\n",
    "for i in range(3):  \n",
    "    s = s + a \n",
    "    print(s)\n",
    "    a = a*r\n",
    "print(\"s(N): \",s-3.)"
   ]
  },
  {
   "cell_type": "code",
   "execution_count": null,
   "metadata": {},
   "outputs": [],
   "source": [
    "sNs = []\n",
    "for n in NN:\n",
    "    a = 1.\n",
    "    s = 0.\n",
    "    for i in range(n):\n",
    "        s = s + a \n",
    "        a = a*r\n",
    "    print(n,s)\n",
    "    sNs.append(s)"
   ]
  },
  {
   "cell_type": "code",
   "execution_count": null,
   "metadata": {},
   "outputs": [],
   "source": [
    "NN"
   ]
  },
  {
   "cell_type": "code",
   "execution_count": null,
   "metadata": {},
   "outputs": [],
   "source": [
    "sNs"
   ]
  },
  {
   "cell_type": "code",
   "execution_count": null,
   "metadata": {},
   "outputs": [],
   "source": [
    "sNs = array(sNs)"
   ]
  },
  {
   "cell_type": "markdown",
   "metadata": {},
   "source": [
    "* Make a plot of $\\log_\\mathrm{10} \\zeta(N))$ where $\\zeta(N) = 3.0 -s(N)$"
   ]
  },
  {
   "cell_type": "code",
   "execution_count": null,
   "metadata": {},
   "outputs": [],
   "source": [
    "3.-sNs"
   ]
  },
  {
   "cell_type": "code",
   "execution_count": null,
   "metadata": {},
   "outputs": [],
   "source": [
    "log10(array(NN))"
   ]
  },
  {
   "cell_type": "code",
   "execution_count": null,
   "metadata": {},
   "outputs": [],
   "source": [
    "log10(sNs-3.)"
   ]
  },
  {
   "cell_type": "code",
   "execution_count": null,
   "metadata": {},
   "outputs": [],
   "source": [
    "ifig=7;close(ifig);figure(ifig)\n",
    "# plot(NN,3.-sNs)\n",
    "plot(NN,log10(3.-sNs),'--o') \n",
    "# add what is missing from this plot"
   ]
  },
  {
   "cell_type": "markdown",
   "metadata": {},
   "source": [
    "We see exponential convergence up to some point, followed by no further improvements beyond about $N=100$. This is because up to $N=100$ adding more terms increases the _accuracy_ and reduces the _truncation error_, whereas for higher $N$ the _rounding error_ limits the _precision_ with which the answer can be calculated. This is because floating point operations are performed with variables that have a finite number of significant digits due to their machine representation."
   ]
  },
  {
   "cell_type": "code",
   "execution_count": null,
   "metadata": {},
   "outputs": [],
   "source": [
    "ifig=8;close(ifig);figure(ifig)\n",
    "y = 2**x\n",
    "plot(x,log10(y))"
   ]
  },
  {
   "cell_type": "markdown",
   "metadata": {},
   "source": [
    "**Fabulous image:** Kelvin-Helmholtz instability in clouds\n",
    "![KH image cloud](https://lh6.ggpht.com/-xLUg_ZrfDBw/UdJxWst575I/AAAAAAAAp6c/xMkLJ4PeG44/kelvin-helmholtz-clouds-3%25255B7%25255D.jpg?imgmax=800)"
   ]
  },
  {
   "cell_type": "markdown",
   "metadata": {},
   "source": [
    "## Advanced arrays\n",
    "\n",
    "### Array analysis\n",
    "\n",
    "#### Parabola analysis\n",
    "Let's reconsider the parabola  $y = x^2-10.3 x+15$  we plotted earlier:"
   ]
  },
  {
   "cell_type": "code",
   "execution_count": null,
   "metadata": {},
   "outputs": [],
   "source": [
    "ifig=3;close(ifig);figure(ifig)\n",
    "x = linspace(1,9,9)   \n",
    "y = x**2-10.3*x+15\n",
    "plot(x,y,'g--o')"
   ]
  },
  {
   "cell_type": "markdown",
   "metadata": {},
   "source": [
    "Determine the minimum value for $y$ and at which value $x$ that minimum value is located."
   ]
  },
  {
   "cell_type": "code",
   "execution_count": null,
   "metadata": {},
   "outputs": [],
   "source": [
    "ymin = y.min(); print(ymin)"
   ]
  },
  {
   "cell_type": "code",
   "execution_count": null,
   "metadata": {},
   "outputs": [],
   "source": [
    "where(y==ymin) # this works here - but what if I want to find location od arbitrary y value that\n",
    "               # may not be a point?"
   ]
  },
  {
   "cell_type": "code",
   "execution_count": null,
   "metadata": {},
   "outputs": [],
   "source": [
    "iymin = where(y==ymin)[0][0]\n",
    "x[iymin]"
   ]
  },
  {
   "cell_type": "code",
   "execution_count": null,
   "metadata": {},
   "outputs": [],
   "source": [
    "# put everything together - does that look esthetically pleasing?\n",
    "x[...]"
   ]
  },
  {
   "cell_type": "markdown",
   "metadata": {},
   "source": [
    "Finding location of arbitrary point involves to think about it. For example, there are two locations where $ y_\\mathrm{f} = -5.2$. "
   ]
  },
  {
   "cell_type": "code",
   "execution_count": null,
   "metadata": {},
   "outputs": [],
   "source": [
    "yfind = -5.2\n",
    "where(y<yfind)[0]"
   ]
  },
  {
   "cell_type": "code",
   "execution_count": null,
   "metadata": {},
   "outputs": [],
   "source": [
    "ind1 = where(y<yfind)[0][0]\n",
    "ind2 = where(y<yfind)[0][-1]\n",
    "print(\"First location:  x1 = {:.2f} and y1 = {:.2f}\".format(x[ind1],y[ind1]))\n",
    "print(\"Second location: x2 = {:.2f} and y2 = {:.2f}\".format(x[ind2],y[ind2]))"
   ]
  },
  {
   "cell_type": "markdown",
   "metadata": {},
   "source": [
    "We found the points with the next value that is smaller than $5.2$. Because the $x$ array has only 10 points the $y$ values are quite far away from the location $y_\\mathrm{f} = 5.2$ that we want to find. We can improve this by interpolation. \n",
    "\n",
    "Study the diagram _parabola-interpolation_: ![parabola-interp](Figs/parabola-interp.png)"
   ]
  },
  {
   "cell_type": "markdown",
   "metadata": {},
   "source": [
    "We are seeking $x_\\mathrm{f}$ for the first location represented by the variable `xf1` and the corresponding value `xf2` for the second location. These can be found by interpolation in the following way for the first location:\n",
    "$$\n",
    "\\frac{x_\\mathrm{f1} - x_\\mathrm{i1}}{y_\\mathrm{f} - y_\\mathrm{i1}} = \n",
    "\\frac{x_\\mathrm{i1-1} - x_\\mathrm{i1}}{y_\\mathrm{i1-1} - y_\\mathrm{i1}}$$\n",
    "where $y_\\mathrm{i}$  corresponds to the variable `y[ind1]` and so on. This needs to be solved for $x_\\mathrm{f1}$.\n",
    "\n",
    "Calculating $x_\\mathrm{f1}$ and $x_\\mathrm{f2}$ by interpolation will be your task in Lab1.2 Activity 1. "
   ]
  },
  {
   "cell_type": "markdown",
   "metadata": {},
   "source": [
    "#### Other useful things with arrays\n",
    "Take the mean, median, sum and diff."
   ]
  },
  {
   "cell_type": "code",
   "execution_count": null,
   "metadata": {},
   "outputs": [],
   "source": [
    "y.mean()"
   ]
  },
  {
   "cell_type": "code",
   "execution_count": null,
   "metadata": {},
   "outputs": [],
   "source": [
    "median(y)"
   ]
  },
  {
   "cell_type": "code",
   "execution_count": null,
   "metadata": {},
   "outputs": [],
   "source": [
    "y.sum()"
   ]
  },
  {
   "cell_type": "code",
   "execution_count": null,
   "metadata": {},
   "outputs": [],
   "source": [
    "diff(x)"
   ]
  },
  {
   "cell_type": "markdown",
   "metadata": {},
   "source": [
    "Change type of array elements:"
   ]
  },
  {
   "cell_type": "code",
   "execution_count": null,
   "metadata": {},
   "outputs": [],
   "source": [
    "iy = array(y, dtype='int')"
   ]
  },
  {
   "cell_type": "code",
   "execution_count": null,
   "metadata": {},
   "outputs": [],
   "source": [
    "y"
   ]
  },
  {
   "cell_type": "code",
   "execution_count": null,
   "metadata": {},
   "outputs": [],
   "source": [
    "iy"
   ]
  },
  {
   "cell_type": "markdown",
   "metadata": {},
   "source": [
    "Creating an array with random numbers:"
   ]
  },
  {
   "cell_type": "code",
   "execution_count": null,
   "metadata": {},
   "outputs": [],
   "source": [
    "%pylab ipympl"
   ]
  },
  {
   "cell_type": "code",
   "execution_count": null,
   "metadata": {},
   "outputs": [],
   "source": [
    "# random"
   ]
  },
  {
   "cell_type": "code",
   "execution_count": null,
   "metadata": {},
   "outputs": [],
   "source": [
    "# random.random?\n",
    "random.random(10)-0.5"
   ]
  },
  {
   "cell_type": "code",
   "execution_count": null,
   "metadata": {},
   "outputs": [],
   "source": [
    "random.rand(3,4)"
   ]
  },
  {
   "cell_type": "markdown",
   "metadata": {},
   "source": [
    "Splitting arrays and stripping strings:"
   ]
  },
  {
   "cell_type": "code",
   "execution_count": null,
   "metadata": {},
   "outputs": [],
   "source": [
    "line = \"1 Paula\\n 32 1.78\"\n",
    "print(line)"
   ]
  },
  {
   "cell_type": "code",
   "execution_count": null,
   "metadata": {},
   "outputs": [],
   "source": [
    "line = \"1 Paula\\n 32 1.78\"\n",
    "a,b,c,d = line.split()\n",
    "print(b)"
   ]
  },
  {
   "cell_type": "code",
   "execution_count": null,
   "metadata": {},
   "outputs": [],
   "source": [
    "line = \"1, Paula\\n , 32, 1.78\"\n",
    "line.split(',')[1].strip()  # strip blanks with .strip()"
   ]
  },
  {
   "cell_type": "markdown",
   "metadata": {},
   "source": [
    "#### Array analysis with Boolen index mask\n",
    "Let's revisit our trig plot:"
   ]
  },
  {
   "cell_type": "code",
   "execution_count": null,
   "metadata": {},
   "outputs": [],
   "source": [
    "ifig=14;close(ifig);figure(ifig)\n",
    "x = linspace(0.,4.,31)\n",
    "y1 = sin(x); y2 = cos(x**2)\n",
    "plot(x,y1,'--',label='y1')\n",
    "plot(x,y2,label='y2',linestyle='dashdot',marker='v',markevery=1)\n",
    "ylim(-1.2,1.2)\n",
    "vlines(3.0,-1.2,1.2,lw=0.5)\n",
    "legend(loc=0)"
   ]
  },
  {
   "cell_type": "markdown",
   "metadata": {},
   "source": [
    "What is the smallest value of `y2` that is larger than `y1` and corresponds to $x<3.0$?"
   ]
  },
  {
   "cell_type": "code",
   "execution_count": null,
   "metadata": {},
   "outputs": [],
   "source": [
    "(y2>y1)"
   ]
  },
  {
   "cell_type": "code",
   "execution_count": null,
   "metadata": {},
   "outputs": [],
   "source": [
    "min(y2[(y2>y1) * (x<3.)])"
   ]
  },
  {
   "cell_type": "markdown",
   "metadata": {},
   "source": [
    "### Higher-dimensional arrays\n",
    "In this section we will learn about 2D and higher-dimensional arrays, and how to slice them."
   ]
  },
  {
   "cell_type": "code",
   "execution_count": null,
   "metadata": {},
   "outputs": [],
   "source": [
    "%pylab ipympl"
   ]
  },
  {
   "cell_type": "code",
   "execution_count": null,
   "metadata": {},
   "outputs": [],
   "source": [
    "[i for i in [0,1,5]]"
   ]
  },
  {
   "cell_type": "code",
   "execution_count": null,
   "metadata": {},
   "outputs": [],
   "source": [
    "a=[array([n,n**2,n**3]) for n in range(6)]\n",
    "a"
   ]
  },
  {
   "cell_type": "code",
   "execution_count": null,
   "metadata": {},
   "outputs": [],
   "source": [
    "a = array(a)\n",
    "a"
   ]
  },
  {
   "cell_type": "markdown",
   "metadata": {},
   "source": [
    "What is the shape of the array?"
   ]
  },
  {
   "cell_type": "code",
   "execution_count": null,
   "metadata": {},
   "outputs": [],
   "source": [
    "shape(a)"
   ]
  },
  {
   "cell_type": "code",
   "execution_count": null,
   "metadata": {},
   "outputs": [],
   "source": [
    "a[5,2]"
   ]
  },
  {
   "cell_type": "code",
   "execution_count": null,
   "metadata": {},
   "outputs": [],
   "source": [
    "a[2]"
   ]
  },
  {
   "cell_type": "markdown",
   "metadata": {},
   "source": [
    "Transpose of the array:"
   ]
  },
  {
   "cell_type": "code",
   "execution_count": null,
   "metadata": {},
   "outputs": [],
   "source": [
    "a.T"
   ]
  },
  {
   "cell_type": "code",
   "execution_count": null,
   "metadata": {},
   "outputs": [],
   "source": [
    "a.T[1]"
   ]
  },
  {
   "cell_type": "markdown",
   "metadata": {},
   "source": [
    "You often end up with an array of pairs of values which represent, for example, the quantity of something at a given time, and that pair for a number of times. You want to plot quantity against time. For that the transpose is used, to extract colums from the array:"
   ]
  },
  {
   "cell_type": "code",
   "execution_count": null,
   "metadata": {},
   "outputs": [],
   "source": [
    "x,y,z = a.T\n",
    "\n",
    "ifig=19; close(ifig); figure(ifig)\n",
    "plot(x,y)\n",
    "plot(x,z)\n"
   ]
  },
  {
   "cell_type": "markdown",
   "metadata": {},
   "source": [
    "Flatten array, which is to move all elements into a 1D array order:"
   ]
  },
  {
   "cell_type": "code",
   "execution_count": null,
   "metadata": {},
   "outputs": [],
   "source": [
    "a"
   ]
  },
  {
   "cell_type": "code",
   "execution_count": null,
   "metadata": {},
   "outputs": [],
   "source": [
    "a.flatten()"
   ]
  },
  {
   "cell_type": "code",
   "execution_count": null,
   "metadata": {},
   "outputs": [],
   "source": [
    "a.reshape((9,2))"
   ]
  },
  {
   "cell_type": "code",
   "execution_count": null,
   "metadata": {},
   "outputs": [],
   "source": [
    "b = arange(1,9)\n",
    "b = b.reshape(2,2,2)"
   ]
  },
  {
   "cell_type": "code",
   "execution_count": null,
   "metadata": {},
   "outputs": [],
   "source": [
    "b"
   ]
  },
  {
   "cell_type": "code",
   "execution_count": null,
   "metadata": {},
   "outputs": [],
   "source": [
    "b[0,1,0]"
   ]
  },
  {
   "cell_type": "code",
   "execution_count": null,
   "metadata": {},
   "outputs": [],
   "source": []
  }
 ],
 "metadata": {
  "kernelspec": {
   "display_name": "Python 3",
   "language": "python",
   "name": "python3"
  },
  "language_info": {
   "codemirror_mode": {
    "name": "ipython",
    "version": 3
   },
   "file_extension": ".py",
   "mimetype": "text/x-python",
   "name": "python",
   "nbconvert_exporter": "python",
   "pygments_lexer": "ipython3",
   "version": "3.6.9"
  }
 },
 "nbformat": 4,
 "nbformat_minor": 4
}
