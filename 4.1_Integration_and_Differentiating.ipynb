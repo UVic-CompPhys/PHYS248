{
 "cells": [
  {
   "cell_type": "markdown",
   "metadata": {},
   "source": [
    "# 4.1 Numerical Integration and Differentiating\n",
    "\n",
    "**Today's class:**\n",
    "\n",
    "* The Riemann sum\n",
    "    - Midpoint rule\n",
    "    - Trapezoidal rule\n",
    "    \n",
    "\n",
    "We start with numerical integration.\n",
    "\n",
    "## The Riemann sum\n",
    "The basic idea is to approximate the area under a curve with a sequence of regular shapes, such as rectangles, trapeziods or parabolas. This approach is called the approximation by the [Riemann sum](https://en.wikipedia.org/wiki/Riemann_sum).\n",
    "\n",
    "Let's consider again the bar plot of a sin function from notebook `2.2_Python_II.ipynb`:"
   ]
  },
  {
   "cell_type": "code",
   "execution_count": null,
   "metadata": {},
   "outputs": [],
   "source": [
    "%pylab ipympl"
   ]
  },
  {
   "cell_type": "code",
   "execution_count": null,
   "metadata": {},
   "outputs": [],
   "source": [
    "ifig=3; close(ifig); figure(ifig)\n",
    "\n",
    "n=20\n",
    "x = linspace(0,2*pi,n)\n",
    "delta_x = 2*np.pi/(n-1)\n",
    "\n",
    "bar(x,sin(x),delta_x)\n",
    "plot(x,sin(x),'--',color='orange')"
   ]
  },
  {
   "cell_type": "markdown",
   "metadata": {},
   "source": [
    "We need to fix a couple of things here. The rectangles must align at the left and right interval edge. And let's consider $x\\in[0,\\pi]$. Then the Riemann sum is just the sum of the area of the rectangles."
   ]
  },
  {
   "cell_type": "code",
   "execution_count": null,
   "metadata": {},
   "outputs": [],
   "source": [
    "ifig=4; close(ifig); figure(ifig)\n",
    "\n",
    "n=10\n",
    "x = linspace(0,pi,n+1)\n",
    "delta_x = diff(x)[0]\n",
    "xb = x[:-1]+0.5*delta_x\n",
    "bar(xb,sin(xb),delta_x)\n",
    "x = linspace(0,pi,10*n+1)\n",
    "plot(x,sin(x),'--',color='orange')\n",
    "sin_int = sum(sin(xb)*delta_x)\n",
    "print(\"int(sin(x)) for x in [0,pi] = {:6.4f}\".format(sin_int))"
   ]
  },
  {
   "cell_type": "markdown",
   "metadata": {},
   "source": [
    "In the example above we have used the midpoint rule. We can also calculate the _left Riemann sum_, approximating the function by its value at the left-end point of each $\\Delta x$ interval, or the _right Rieman sum_ approximating  the function by its value at the right-end point of each $\\Delta x$ interval. "
   ]
  },
  {
   "cell_type": "code",
   "execution_count": null,
   "metadata": {},
   "outputs": [],
   "source": [
    "ifig=6; close(ifig); figure(ifig)\n",
    "\n",
    "n=10\n",
    "x = linspace(0,pi,n+1)\n",
    "delta_x = diff(x)[0]\n",
    "xbm = x[:-1]+0.5*delta_x  # midpoint\n",
    "xbl = x[:-1]+0.*delta_x  # left edge\n",
    "bar(xbm,sin(xbl),delta_x)\n",
    "x = linspace(0,pi,10*n+1)\n",
    "plot(x,sin(x),'--',color='orange')\n",
    "sin_int = sum(sin(xbl)*delta_x)\n",
    "print(\"int(sin(x)) for x in [0,pi] = {:6.4f}\".format(sin_int))"
   ]
  },
  {
   "cell_type": "markdown",
   "metadata": {},
   "source": [
    "An improvement of the accuracy can be optained in some cases by using trapezoids instead of rectangles:"
   ]
  },
  {
   "cell_type": "code",
   "execution_count": null,
   "metadata": {},
   "outputs": [],
   "source": [
    "n=10\n",
    "x = linspace(0,pi,n+1)\n",
    "delta_x = diff(x)[0]\n",
    "xbl = x[:-1] # left edge\n",
    "xbr = x[1:]  # right edge\n",
    "sin_int = 0.5*delta_x*sum((sin(xbl)+ sin(xbr)))\n",
    "print(\"int(sin(x)) for x in [0,pi] = {:6.4f}\".format(sin_int))"
   ]
  },
  {
   "cell_type": "markdown",
   "metadata": {},
   "source": [
    "#### Example\n",
    "Let's integrate $f(x) = x**2$ for $x \\in [0,3]$"
   ]
  },
  {
   "cell_type": "code",
   "execution_count": null,
   "metadata": {},
   "outputs": [],
   "source": [
    "ifig=11; close(ifig); figure(ifig)\n",
    "n=10\n",
    "x = linspace(0,3.0,n+1)\n",
    "delta_x = diff(x)[0]\n",
    "xb = x[:-1]+0.5*delta_x\n",
    "bar(xb,xb**2,delta_x)\n",
    "x = linspace(0,3.,10*n+1)\n",
    "plot(x,x**2,'--',color='orange',label='$f(x) = x^2$')\n",
    "xlabel('x'),ylabel('y');legend()\n",
    "sin_int = sum(xb**2*delta_x)\n",
    "print(\"int(sin(x)) for x in [0,pi] = {:6.4f}\".format(sin_int))"
   ]
  },
  {
   "cell_type": "markdown",
   "metadata": {},
   "source": [
    "#### Midpoint rule"
   ]
  },
  {
   "cell_type": "code",
   "execution_count": null,
   "metadata": {},
   "outputs": [],
   "source": [
    "n=10\n",
    "x = linspace(0,3.0,n+1)\n",
    "delta_x = diff(x)[0]\n",
    "xbm = x[:-1]+0.5*delta_x  # midpoint\n",
    "int_sum = sum(delta_x*xbm**2)\n",
    "abs(9-int_sum)"
   ]
  },
  {
   "cell_type": "markdown",
   "metadata": {},
   "source": [
    "#### Trapeziodal rule"
   ]
  },
  {
   "cell_type": "code",
   "execution_count": null,
   "metadata": {},
   "outputs": [],
   "source": [
    "n=10\n",
    "x = linspace(0,3.0,n+1)\n",
    "delta_x = diff(x)[0]\n",
    "y = x**2\n",
    "abs(0.5*delta_x*sum(y[:-1]+y[1:])-9.)"
   ]
  },
  {
   "cell_type": "markdown",
   "metadata": {},
   "source": [
    "Compare to analytical solution:"
   ]
  },
  {
   "cell_type": "code",
   "execution_count": null,
   "metadata": {},
   "outputs": [],
   "source": [
    "F_3 = (1./3)*3**3 \n",
    "print(F_3)"
   ]
  },
  {
   "cell_type": "code",
   "execution_count": null,
   "metadata": {},
   "outputs": [],
   "source": []
  }
 ],
 "metadata": {
  "kernelspec": {
   "display_name": "Python 3",
   "language": "python",
   "name": "python3"
  },
  "language_info": {
   "codemirror_mode": {
    "name": "ipython",
    "version": 3
   },
   "file_extension": ".py",
   "mimetype": "text/x-python",
   "name": "python",
   "nbconvert_exporter": "python",
   "pygments_lexer": "ipython3",
   "version": "3.6.9"
  }
 },
 "nbformat": 4,
 "nbformat_minor": 4
}
