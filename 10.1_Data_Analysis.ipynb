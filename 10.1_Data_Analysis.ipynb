{
 "cells": [
  {
   "cell_type": "markdown",
   "metadata": {},
   "source": [
    "# 10.1 Data analysis\n",
    "\n",
    "\n",
    "#### This week:\n",
    "* Fitting a Gaussian distribution to a data set\n",
    "* Analysing Frontera Lone Star II simulations\n",
    "\n",
    "#### Miscellaneous:\n",
    "* Lorenz equations from class 8.1\n",
    "\n"
   ]
  },
  {
   "cell_type": "code",
   "execution_count": 1,
   "metadata": {},
   "outputs": [
    {
     "name": "stdout",
     "output_type": "stream",
     "text": [
      "Populating the interactive namespace from numpy and matplotlib\n"
     ]
    }
   ],
   "source": [
    "%pylab ipympl"
   ]
  },
  {
   "cell_type": "markdown",
   "metadata": {},
   "source": [
    "## Fitting a Gaussian distribution to a data set"
   ]
  },
  {
   "cell_type": "code",
   "execution_count": 5,
   "metadata": {},
   "outputs": [
    {
     "data": {
      "application/vnd.jupyter.widget-view+json": {
       "model_id": "",
       "version_major": 2,
       "version_minor": 0
      },
      "text/plain": [
       "Canvas(toolbar=Toolbar(toolitems=[('Home', 'Reset original view', 'home', 'home'), ('Back', 'Back to previous …"
      ]
     },
     "metadata": {},
     "output_type": "display_data"
    }
   ],
   "source": [
    "\n",
    "ifig=1;close(ifig);figure(ifig)\n",
    "a=random.standard_normal(1000)\n",
    "n=10\n",
    "ah=hist(a,n)"
   ]
  },
  {
   "cell_type": "code",
   "execution_count": 8,
   "metadata": {},
   "outputs": [
    {
     "data": {
      "text/plain": [
       "11"
      ]
     },
     "execution_count": 8,
     "metadata": {},
     "output_type": "execute_result"
    }
   ],
   "source": [
    "len(ah[1])"
   ]
  },
  {
   "cell_type": "code",
   "execution_count": 9,
   "metadata": {},
   "outputs": [
    {
     "data": {
      "text/plain": [
       "[<matplotlib.lines.Line2D at 0x7f57e7bade10>]"
      ]
     },
     "execution_count": 9,
     "metadata": {},
     "output_type": "execute_result"
    }
   ],
   "source": [
    "# plot distribution\n",
    "yh=ah[0]\n",
    "xh=ah[1][0:-1]+0.5*diff(ah[1])\n",
    "plot(xh,yh,'o--')"
   ]
  },
  {
   "cell_type": "code",
   "execution_count": 10,
   "metadata": {},
   "outputs": [
    {
     "data": {
      "application/vnd.jupyter.widget-view+json": {
       "model_id": "793518be283244f0a1984fa8ed105d3b",
       "version_major": 2,
       "version_minor": 0
      },
      "text/plain": [
       "Canvas(toolbar=Toolbar(toolitems=[('Home', 'Reset original view', 'home', 'home'), ('Back', 'Back to previous …"
      ]
     },
     "metadata": {},
     "output_type": "display_data"
    },
    {
     "data": {
      "text/plain": [
       "[<matplotlib.lines.Line2D at 0x7f57e7b7a780>]"
      ]
     },
     "execution_count": 10,
     "metadata": {},
     "output_type": "execute_result"
    }
   ],
   "source": [
    "ifig=22;close(ifig);figure(ifig)\n",
    "#ifig=2;figure(ifig)\n",
    "n=15\n",
    "ad=hist(a,n,density=True)\n",
    "yh=ad[0]\n",
    "xh=ad[1][0:-1]+0.5*diff(ad[1])\n",
    "plot(xh,yh,'o--')"
   ]
  },
  {
   "cell_type": "code",
   "execution_count": 19,
   "metadata": {},
   "outputs": [],
   "source": [
    "def gauss(x, *p):\n",
    "    A, mu, sigma = p\n",
    "    return A*np.exp(-(x-mu)**2/(2.*sigma**2))"
   ]
  },
  {
   "cell_type": "code",
   "execution_count": 20,
   "metadata": {},
   "outputs": [],
   "source": [
    "from scipy.optimize import curve_fit "
   ]
  },
  {
   "cell_type": "code",
   "execution_count": 25,
   "metadata": {},
   "outputs": [],
   "source": [
    "p0 = [1., 0.01, 2]\n",
    "coeff, var_matrix = curve_fit(gauss, xh, yh,p0=p0)"
   ]
  },
  {
   "cell_type": "code",
   "execution_count": 26,
   "metadata": {},
   "outputs": [
    {
     "name": "stdout",
     "output_type": "stream",
     "text": [
      "[0.39640537 0.0082021  1.01154956]\n"
     ]
    }
   ],
   "source": [
    "print(coeff)"
   ]
  },
  {
   "cell_type": "code",
   "execution_count": 27,
   "metadata": {},
   "outputs": [
    {
     "data": {
      "text/plain": [
       "[<matplotlib.lines.Line2D at 0x7f57a5d284e0>]"
      ]
     },
     "execution_count": 27,
     "metadata": {},
     "output_type": "execute_result"
    }
   ],
   "source": [
    "x = linspace(xh[0],xh[-1],100)\n",
    "plot(x,gauss(x,*coeff))"
   ]
  },
  {
   "cell_type": "markdown",
   "metadata": {},
   "source": [
    "## Fitting mixing results from hydrodynamic simulations\n",
    "\n",
    "\n",
    "###  The Frontera Lone Star II simulations - background\n",
    "* Demonstrate the stellar evolution model on the _Outreach_ hub on [Astrohub](https://astrohub.uvic.ca) \n",
    "* [Movies](http://scandium.phys.uvic.ca:88/~fherwig/StellarHydro/H-core-M25), let's focus on case `M93-3163xL-3163xK`\n",
    "* Some of the science: \n",
    "    - [Observed stellar oscillations (Nature Astronomy)](../data/Nature-Astronomy-2019-Bowman.pdf)\n",
    "    - [Some initial simulation results on stellar oscillations](https://ui.adsabs.harvard.edu/abs/2019arXiv191009712F/abstract)\n",
    "* Some of the key questions for this simulation campaign:\n",
    "    - How does the width of the convective boundary (the transition between stable and unstable) depend on the driving (the amount of heat added in the center)?\n",
    "    - How does this depend on the assumption of radiative transfer?\n",
    "\n",
    "### Parameters for this simulation campaign"
   ]
  },
  {
   "cell_type": "code",
   "execution_count": 28,
   "metadata": {},
   "outputs": [
    {
     "name": "stdout",
     "output_type": "stream",
     "text": [
      "x-heating     x^2/3    x       \n",
      "  1000.0      100.0    1000.0\n",
      "  3162.3      215.4    3162.3\n",
      " 10000.0      464.2   10000.0\n",
      " 31622.8     1000.0   31622.8\n"
     ]
    }
   ],
   "source": [
    "k1 = lambda x: x**(2/3)\n",
    "k2 = lambda x: x\n",
    "L = 10**arange(3.,4.6,0.5)\n",
    "\n",
    "print(\"{:8s}     {:8s} {:8s}\".format(\"x-heating\",'x^2/3','x'))\n",
    "for ll in L:\n",
    "    print(\"{:8.1f}   {:8.1f}  {:8.1f}\".format(ll,k1(ll),k2(ll)))"
   ]
  },
  {
   "cell_type": "code",
   "execution_count": 29,
   "metadata": {},
   "outputs": [
    {
     "data": {
      "application/vnd.jupyter.widget-view+json": {
       "model_id": "65f932d767bd4b6fb5c5837e217d607c",
       "version_major": 2,
       "version_minor": 0
      },
      "text/plain": [
       "Canvas(toolbar=Toolbar(toolitems=[('Home', 'Reset original view', 'home', 'home'), ('Back', 'Back to previous …"
      ]
     },
     "metadata": {},
     "output_type": "display_data"
    },
    {
     "data": {
      "text/plain": [
       "Text(0, 0.5, 'K factor')"
      ]
     },
     "execution_count": 29,
     "metadata": {},
     "output_type": "execute_result"
    }
   ],
   "source": [
    "ifig=1; close(ifig);figure(ifig)\n",
    "plot(L,k1(L),'o:',label='$10 \\\\times x^{2/3}$')\n",
    "plot(L,L,'h--',label='$x^{1}$')\n",
    "# plot(L,0.333*L,'s-.',label='$1/3 \\\\times x$')\n",
    "yscale('log');xscale('log')\n",
    "legend()\n",
    "xlabel('heating factor x');ylabel('K factor')"
   ]
  },
  {
   "cell_type": "code",
   "execution_count": null,
   "metadata": {},
   "outputs": [],
   "source": []
  },
  {
   "cell_type": "markdown",
   "metadata": {},
   "source": [
    "### Analyse radial profiles of case 'M93-3163xL-3163xK'\n",
    "\n",
    "... this will be developed in class ..."
   ]
  },
  {
   "cell_type": "code",
   "execution_count": 31,
   "metadata": {},
   "outputs": [
    {
     "data": {
      "text/plain": [
       "'/home/user/mp248-course-notes'"
      ]
     },
     "execution_count": 31,
     "metadata": {},
     "output_type": "execute_result"
    }
   ],
   "source": [
    "pwd"
   ]
  },
  {
   "cell_type": "code",
   "execution_count": 32,
   "metadata": {},
   "outputs": [],
   "source": [
    "import pickle\n",
    "pickle_in = open(\"data/HcoreM25-rprof-M93-3163xL-3163xK.pickle\",\"rb\")\n",
    "data = pickle.load(pickle_in)\n",
    "pickle_in.close()"
   ]
  },
  {
   "cell_type": "code",
   "execution_count": 35,
   "metadata": {},
   "outputs": [
    {
     "data": {
      "text/plain": [
       "dict_keys(['dump', 'm', 'A', 'FV', 'R', 'label'])"
      ]
     },
     "execution_count": 35,
     "metadata": {},
     "output_type": "execute_result"
    }
   ],
   "source": [
    "data.keys()"
   ]
  },
  {
   "cell_type": "code",
   "execution_count": 39,
   "metadata": {},
   "outputs": [],
   "source": [
    "#data['m']"
   ]
  },
  {
   "cell_type": "code",
   "execution_count": 46,
   "metadata": {},
   "outputs": [],
   "source": [
    "lims = (12.5,16) # broadly the region where the boundary is located"
   ]
  },
  {
   "cell_type": "code",
   "execution_count": 48,
   "metadata": {},
   "outputs": [
    {
     "data": {
      "application/vnd.jupyter.widget-view+json": {
       "model_id": "2a5d96a5f7dc4f3ca434e8a1751630ae",
       "version_major": 2,
       "version_minor": 0
      },
      "text/plain": [
       "Canvas(toolbar=Toolbar(toolitems=[('Home', 'Reset original view', 'home', 'home'), ('Back', 'Back to previous …"
      ]
     },
     "metadata": {},
     "output_type": "display_data"
    },
    {
     "data": {
      "text/plain": [
       "(12.5, 16)"
      ]
     },
     "execution_count": 48,
     "metadata": {},
     "output_type": "execute_result"
    }
   ],
   "source": [
    "ifig=154;close(ifig);figure(ifig)\n",
    "plot(data['m'],data['FV'])\n",
    "xlabel('$m / M_\\odot$'); ylabel('FV')\n",
    "xlim(lims)"
   ]
  },
  {
   "cell_type": "code",
   "execution_count": 50,
   "metadata": {},
   "outputs": [],
   "source": [
    "m = data['m']\n",
    "ything = data['FV']\n",
    "mm = m[where((m>lims[0])&(m<lims[1]))][-1:0:-1]\n",
    "yy = ything[where((m>lims[0])&(m<lims[1]))][-1:0:-1]"
   ]
  },
  {
   "cell_type": "code",
   "execution_count": 52,
   "metadata": {},
   "outputs": [],
   "source": [
    "grad_yy = gradient(yy,mm)      "
   ]
  },
  {
   "cell_type": "code",
   "execution_count": 53,
   "metadata": {},
   "outputs": [
    {
     "data": {
      "application/vnd.jupyter.widget-view+json": {
       "model_id": "089fa29aaa1a4b85b8f9072a83beb9b5",
       "version_major": 2,
       "version_minor": 0
      },
      "text/plain": [
       "Canvas(toolbar=Toolbar(toolitems=[('Home', 'Reset original view', 'home', 'home'), ('Back', 'Back to previous …"
      ]
     },
     "metadata": {},
     "output_type": "display_data"
    },
    {
     "data": {
      "text/plain": [
       "[<matplotlib.lines.Line2D at 0x7f57a3799c50>]"
      ]
     },
     "execution_count": 53,
     "metadata": {},
     "output_type": "execute_result"
    }
   ],
   "source": [
    "ifig=155;close(ifig);figure(ifig)\n",
    "plot(mm,grad_yy,'o')"
   ]
  },
  {
   "cell_type": "code",
   "execution_count": 54,
   "metadata": {},
   "outputs": [],
   "source": [
    "def gauss(x, *p):\n",
    "    A, mu, sigma = p\n",
    "    return A*np.exp(-(x-mu)**2/(2.*sigma**2))"
   ]
  },
  {
   "cell_type": "code",
   "execution_count": 55,
   "metadata": {},
   "outputs": [],
   "source": [
    "p0 = [3.5,13.5,0.5]\n",
    "coeff, var_matrix = curve_fit(gauss, mm, grad_yy, p0=p0)"
   ]
  },
  {
   "cell_type": "code",
   "execution_count": 56,
   "metadata": {},
   "outputs": [
    {
     "data": {
      "text/plain": [
       "[<matplotlib.lines.Line2D at 0x7f57a375d780>]"
      ]
     },
     "execution_count": 56,
     "metadata": {},
     "output_type": "execute_result"
    }
   ],
   "source": [
    "x = linspace(mm[0],mm[-1],100)\n",
    "plot(x,gauss(x,*coeff))"
   ]
  },
  {
   "cell_type": "code",
   "execution_count": 58,
   "metadata": {},
   "outputs": [],
   "source": [
    "sigma = abs(coeff[2])"
   ]
  },
  {
   "cell_type": "code",
   "execution_count": 59,
   "metadata": {},
   "outputs": [
    {
     "data": {
      "text/plain": [
       "Text(13.476688407284824, 0.25, '$\\\\sigma = $ 0.106')"
      ]
     },
     "execution_count": 59,
     "metadata": {},
     "output_type": "execute_result"
    }
   ],
   "source": [
    "text(coeff[1],0.25,'$\\sigma = $ {:5.3f}'.format(sigma))"
   ]
  },
  {
   "cell_type": "code",
   "execution_count": null,
   "metadata": {},
   "outputs": [],
   "source": [
    "# if this fails\n",
    "\n",
    "# focus only on peak\n",
    "ind = where(grad_yy > 0.3* max(grad_yy))\n",
    "mm = mm[ind]; grad_yy = grad_yy[ind]\n",
    "\n",
    "# offset to mu = 0, and change then your intial values p0\n",
    "mmu = mm[where(grad_yy == max(grad_yy))]*1.001\n",
    "mm = mm-mmu\n",
    "\n"
   ]
  },
  {
   "cell_type": "markdown",
   "metadata": {},
   "source": [
    "## Miscellaneous\n",
    "* line styles, reminder"
   ]
  },
  {
   "cell_type": "code",
   "execution_count": null,
   "metadata": {},
   "outputs": [],
   "source": [
    "from random import shuffle"
   ]
  },
  {
   "cell_type": "code",
   "execution_count": null,
   "metadata": {},
   "outputs": [],
   "source": [
    "color=['c', 'm', 'y', 'k','r','g','b']\n",
    "linestyle=['-', '--', ':', '-.']\n",
    "cl = [a+b for a in linestyle for b in color]\n",
    "from random import shuffle\n",
    "shuffle(cl)"
   ]
  },
  {
   "cell_type": "code",
   "execution_count": null,
   "metadata": {},
   "outputs": [],
   "source": [
    "import seaborn"
   ]
  },
  {
   "cell_type": "code",
   "execution_count": null,
   "metadata": {},
   "outputs": [],
   "source": [
    "cbs = seaborn.color_palette(palette='colorblind', n_colors=None, desat=None)"
   ]
  }
 ],
 "metadata": {
  "kernelspec": {
   "display_name": "Python 3",
   "language": "python",
   "name": "python3"
  },
  "language_info": {
   "codemirror_mode": {
    "name": "ipython",
    "version": 3
   },
   "file_extension": ".py",
   "mimetype": "text/x-python",
   "name": "python",
   "nbconvert_exporter": "python",
   "pygments_lexer": "ipython3",
   "version": "3.6.10"
  }
 },
 "nbformat": 4,
 "nbformat_minor": 4
}
