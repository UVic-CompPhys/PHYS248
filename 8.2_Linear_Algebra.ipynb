{
 "cells": [
  {
   "cell_type": "markdown",
   "metadata": {},
   "source": [
    "# 8.2 Linear Algebra\n",
    "\n",
    "#### Before we start:\n",
    "* midterm\n",
    "* finish Lorenz equations from last class\n",
    "\n",
    "#### Today's class:\n",
    "\n",
    "##### Linear Algebra\n",
    "* Basic matrix and vector operations\n",
    "* Linear transformations\n",
    "* Solving systems of equationsd\n",
    "    "
   ]
  },
  {
   "cell_type": "markdown",
   "metadata": {},
   "source": [
    "## Basic matrix and vector operations\n",
    "\n",
    "### Vector operations"
   ]
  },
  {
   "cell_type": "code",
   "execution_count": 5,
   "metadata": {},
   "outputs": [
    {
     "data": {
      "text/plain": [
       "array([ 4, 10, 18])"
      ]
     },
     "execution_count": 5,
     "metadata": {},
     "output_type": "execute_result"
    }
   ],
   "source": [
    "# numpy arrays may behave like vectors, however ...\n",
    "import numpy as np\n",
    "\n",
    "a = [1, 2, 3] \n",
    "b = [4, 5, 6]\n",
    "\n",
    "u = np.array(a)\n",
    "v = np.array(b)\n",
    "u*v"
   ]
  },
  {
   "cell_type": "markdown",
   "metadata": {},
   "source": [
    "This is an element-wise operation but not any of the vector operations that we are familiar with! "
   ]
  },
  {
   "cell_type": "markdown",
   "metadata": {},
   "source": [
    "Instead we need to use explicitely the dot product provided by numpy:"
   ]
  },
  {
   "cell_type": "code",
   "execution_count": 6,
   "metadata": {},
   "outputs": [
    {
     "data": {
      "text/plain": [
       "32"
      ]
     },
     "execution_count": 6,
     "metadata": {},
     "output_type": "execute_result"
    }
   ],
   "source": [
    "np.dot(u,v)"
   ]
  },
  {
   "cell_type": "markdown",
   "metadata": {},
   "source": [
    "Numpy objects have methods associated with them to perform operations associated with the object, such as the dot product. The [cross product](https://docs.scipy.org/doc/numpy/reference/generated/numpy.cross.html) is a stand-alone numpy function."
   ]
  },
  {
   "cell_type": "code",
   "execution_count": 10,
   "metadata": {},
   "outputs": [
    {
     "data": {
      "text/plain": [
       "array([-4,  8, -4])"
      ]
     },
     "execution_count": 10,
     "metadata": {},
     "output_type": "execute_result"
    }
   ],
   "source": [
    "# cross product \n",
    "a=np.array([1,2,3])\n",
    "b=np.array([3,2,1])\n",
    "np.cross(a,b)"
   ]
  },
  {
   "cell_type": "markdown",
   "metadata": {},
   "source": [
    "### Numpy.matrix\n",
    "A [matrix](https://docs.scipy.org/doc/numpy/reference/generated/numpy.matrix.html) is a specialized 2-D array that retains its 2-D nature through operations. \n",
    " "
   ]
  },
  {
   "cell_type": "code",
   "execution_count": 11,
   "metadata": {},
   "outputs": [],
   "source": [
    "T = np.matrix([[1, 2], [3, 4]])\n",
    "v=np.array([1,2])"
   ]
  },
  {
   "cell_type": "code",
   "execution_count": 12,
   "metadata": {},
   "outputs": [
    {
     "data": {
      "text/plain": [
       "matrix([[1, 2],\n",
       "        [3, 4]])"
      ]
     },
     "execution_count": 12,
     "metadata": {},
     "output_type": "execute_result"
    }
   ],
   "source": [
    "T"
   ]
  },
  {
   "cell_type": "code",
   "execution_count": 13,
   "metadata": {},
   "outputs": [
    {
     "data": {
      "text/plain": [
       "array([1, 2])"
      ]
     },
     "execution_count": 13,
     "metadata": {},
     "output_type": "execute_result"
    }
   ],
   "source": [
    "v"
   ]
  },
  {
   "cell_type": "code",
   "execution_count": 14,
   "metadata": {},
   "outputs": [
    {
     "data": {
      "text/plain": [
       "matrix([[ 5, 11]])"
      ]
     },
     "execution_count": 14,
     "metadata": {},
     "output_type": "execute_result"
    }
   ],
   "source": [
    "T.dot(v)"
   ]
  },
  {
   "cell_type": "code",
   "execution_count": 16,
   "metadata": {},
   "outputs": [
    {
     "data": {
      "text/plain": [
       "matrix([[1, 3],\n",
       "        [2, 4]])"
      ]
     },
     "execution_count": 16,
     "metadata": {},
     "output_type": "execute_result"
    }
   ],
   "source": [
    "T.T"
   ]
  },
  {
   "cell_type": "markdown",
   "metadata": {},
   "source": [
    "A couple of examples of array manipulation methods in numpy:\n",
    "    \n",
    "* [numpy.concatenate](https://docs.scipy.org/doc/numpy/reference/generated/numpy.concatenate.html)\n",
    "* [numpy.roll](https://docs.scipy.org/doc/numpy/reference/generated/numpy.roll.html)\n",
    "* [numpy.ravel](https://docs.scipy.org/doc/numpy/reference/generated/numpy.ravel.html)\n",
    "* [numpy.reshape](https://docs.scipy.org/doc/numpy/reference/generated/numpy.reshape.html#numpy.reshape)\n"
   ]
  },
  {
   "cell_type": "code",
   "execution_count": null,
   "metadata": {},
   "outputs": [],
   "source": [
    "numpy.concatenate ...\n"
   ]
  },
  {
   "cell_type": "markdown",
   "metadata": {},
   "source": [
    "### Linear Algebra\n",
    "\n",
    "Resources:\n",
    "\n",
    "* Linear Algebra:\n",
    "    * Chapter 6 in [Newman: Computational Physics _with Python_](http://www-personal.umich.edu/~mejn/computational-physics) (available in the library).\n",
    "    * many resources on the internet, e.g. [Linear Algebra Primer](https://plot.ly/python/linear-algebra/)\n",
    "* [Array creation in Python](http://docs.scipy.org/doc/numpy-1.10.1/user/basics.creation.html)\n",
    "* more Python programming with arrays for example in Chapter 5 in [Langtangen: A Primer on Scientific Programming with Python](http://voyager.library.uvic.ca/vwebv/holdingsInfo?searchId=4972&recCount=25&recPointer=13&bibId=2865846) (available as ebook from the UVic library)"
   ]
  },
  {
   "cell_type": "markdown",
   "metadata": {},
   "source": [
    "## Linear transfromations in 2D\n",
    "We can use matrices to express linear transformations of   2D sets of points (or any object). Typical transformations are reflection, rotation or scaling, see [Examples of linear transformation matrices](https://en.wikipedia.org/wiki/Linear_map). Let's implement a framework to experiment with such linear maps. "
   ]
  },
  {
   "cell_type": "code",
   "execution_count": 57,
   "metadata": {},
   "outputs": [
    {
     "name": "stdout",
     "output_type": "stream",
     "text": [
      "Populating the interactive namespace from numpy and matplotlib\n"
     ]
    },
    {
     "name": "stderr",
     "output_type": "stream",
     "text": [
      "/usr/local/lib/python3.6/dist-packages/IPython/core/magics/pylab.py:160: UserWarning: pylab import has clobbered these variables: ['size']\n",
      "`%matplotlib` prevents importing * from pylab and numpy\n",
      "  \"\\n`%matplotlib` prevents importing * from pylab and numpy\"\n"
     ]
    }
   ],
   "source": [
    "%pylab ipympl\n",
    "\n",
    "# populate the 2D points array that contains the cos and sin of \n",
    "# the 2pi full circle with n angles\n",
    "n=50\n",
    "points=[[cos(2*pi*t/n),sin(2*pi*t/n)] for t in range(n)]"
   ]
  },
  {
   "cell_type": "code",
   "execution_count": 58,
   "metadata": {},
   "outputs": [
    {
     "data": {
      "text/plain": [
       "array([ 1.        ,  0.9921147 ,  0.96858316,  0.92977649,  0.87630668,\n",
       "        0.80901699,  0.72896863,  0.63742399,  0.53582679,  0.42577929,\n",
       "        0.30901699,  0.18738131,  0.06279052, -0.06279052, -0.18738131,\n",
       "       -0.30901699, -0.42577929, -0.53582679, -0.63742399, -0.72896863,\n",
       "       -0.80901699, -0.87630668, -0.92977649, -0.96858316, -0.9921147 ,\n",
       "       -1.        , -0.9921147 , -0.96858316, -0.92977649, -0.87630668,\n",
       "       -0.80901699, -0.72896863, -0.63742399, -0.53582679, -0.42577929,\n",
       "       -0.30901699, -0.18738131, -0.06279052,  0.06279052,  0.18738131,\n",
       "        0.30901699,  0.42577929,  0.53582679,  0.63742399,  0.72896863,\n",
       "        0.80901699,  0.87630668,  0.92977649,  0.96858316,  0.9921147 ])"
      ]
     },
     "execution_count": 58,
     "metadata": {},
     "output_type": "execute_result"
    }
   ],
   "source": [
    "# these are the x coordinates\n",
    "array(points).T[0]"
   ]
  },
  {
   "cell_type": "code",
   "execution_count": 59,
   "metadata": {},
   "outputs": [],
   "source": [
    "# save x and y coordinates for easy plotting\n",
    "x=array(points).T[0]; y=array(points).T[1]"
   ]
  },
  {
   "cell_type": "code",
   "execution_count": 60,
   "metadata": {},
   "outputs": [
    {
     "data": {
      "application/vnd.jupyter.widget-view+json": {
       "model_id": "8a9375ed495d4460aea17a84fd25576c",
       "version_major": 2,
       "version_minor": 0
      },
      "text/plain": [
       "Canvas(toolbar=Toolbar(toolitems=[('Home', 'Reset original view', 'home', 'home'), ('Back', 'Back to previous …"
      ]
     },
     "metadata": {},
     "output_type": "display_data"
    },
    {
     "data": {
      "text/plain": [
       "[<matplotlib.lines.Line2D at 0x7fd2201514a8>]"
      ]
     },
     "execution_count": 60,
     "metadata": {},
     "output_type": "execute_result"
    }
   ],
   "source": [
    "ifig=10;close(ifig);figure(ifig)\n",
    "plot(x,'x')\n",
    "plot(y,'o')"
   ]
  },
  {
   "cell_type": "code",
   "execution_count": 61,
   "metadata": {},
   "outputs": [
    {
     "data": {
      "application/vnd.jupyter.widget-view+json": {
       "model_id": "41e24e480ad549a986848b309d295aeb",
       "version_major": 2,
       "version_minor": 0
      },
      "text/plain": [
       "Canvas(toolbar=Toolbar(toolitems=[('Home', 'Reset original view', 'home', 'home'), ('Back', 'Back to previous …"
      ]
     },
     "metadata": {},
     "output_type": "display_data"
    },
    {
     "data": {
      "text/plain": [
       "(-2, 2)"
      ]
     },
     "execution_count": 61,
     "metadata": {},
     "output_type": "execute_result"
    }
   ],
   "source": [
    "# plot circle \n",
    "ifig=11;close(ifig);fig=figure(ifig)\n",
    "size=7\n",
    "fig.canvas.layout.height = str(size)+'in'   # This is a hack to prevent ipympl\n",
    "fig.canvas.layout.width  = str(size)+'in'   # to adjust horizontal figure size\n",
    "\n",
    "\n",
    "\n",
    "plot(x,y,'o')\n",
    "xlim(-2,2);ylim(-2,2)"
   ]
  },
  {
   "cell_type": "markdown",
   "metadata": {},
   "source": [
    "We will now experiment with some of the linear transformation matrices given on the [Linear map](https://en.wikipedia.org/wiki/Linear_map#Examples) Wikipedia page."
   ]
  },
  {
   "cell_type": "code",
   "execution_count": 62,
   "metadata": {},
   "outputs": [
    {
     "data": {
      "text/plain": [
       "matrix([[2. , 0. ],\n",
       "        [0. , 0.5]])"
      ]
     },
     "execution_count": 62,
     "metadata": {},
     "output_type": "execute_result"
    }
   ],
   "source": [
    "# squeeze mapping:\n",
    "T1 = matrix([[2,0],[0,1./2]])\n",
    "T1"
   ]
  },
  {
   "cell_type": "code",
   "execution_count": 63,
   "metadata": {},
   "outputs": [],
   "source": [
    "# each point will be individually subjected to the transformation matrix\n",
    "#\n",
    "# points is a list, what we need is an array of vectors (x_i,y_i), where each vector has \n",
    "# the x and y components of point i. \n",
    "#\n",
    "# therefore: turn into array of tupples\n",
    "\n",
    "vecs=array(points)"
   ]
  },
  {
   "cell_type": "code",
   "execution_count": 64,
   "metadata": {},
   "outputs": [
    {
     "data": {
      "text/plain": [
       "array([0.80901699, 0.58778525])"
      ]
     },
     "execution_count": 64,
     "metadata": {},
     "output_type": "execute_result"
    }
   ],
   "source": [
    "vecs[5]"
   ]
  },
  {
   "cell_type": "code",
   "execution_count": 65,
   "metadata": {},
   "outputs": [
    {
     "data": {
      "text/plain": [
       "array([1.85955297, 0.18406228])"
      ]
     },
     "execution_count": 65,
     "metadata": {},
     "output_type": "execute_result"
    }
   ],
   "source": [
    "# apply transformation matrix to one vector as an example\n",
    "T1.dot(vecs[3]).A1  # .A1 return flattened ndarray"
   ]
  },
  {
   "cell_type": "code",
   "execution_count": 66,
   "metadata": {},
   "outputs": [
    {
     "data": {
      "text/plain": [
       "<matplotlib.legend.Legend at 0x7fd22003a7b8>"
      ]
     },
     "execution_count": 66,
     "metadata": {},
     "output_type": "execute_result"
    }
   ],
   "source": [
    "# now do this for all vectors (= points)\n",
    "\n",
    "T = T1\n",
    "trans_vec = []\n",
    "for i in range(len(vecs)):\n",
    "    this_tv = T.dot(vecs[i]).A1\n",
    "    trans_vec.append(this_tv)\n",
    "\n",
    "# transpose to make plotable arrays\n",
    "xt=array(trans_vec).T[0]; yt=array(trans_vec).T[1]\n",
    "\n",
    "# plot all transformed points to same plot\n",
    "ifig=11;figure(ifig)\n",
    "plot(xt,yt,'*',label='squeeze transformation')\n",
    "legend()"
   ]
  },
  {
   "cell_type": "markdown",
   "metadata": {},
   "source": [
    "Next we will try a couple more examples:"
   ]
  },
  {
   "cell_type": "code",
   "execution_count": 67,
   "metadata": {},
   "outputs": [],
   "source": [
    "# horizontal shear mapping\n",
    "T2 = matrix([[1,1.5],[0,1]])"
   ]
  },
  {
   "cell_type": "code",
   "execution_count": 68,
   "metadata": {},
   "outputs": [
    {
     "data": {
      "text/plain": [
       "<matplotlib.legend.Legend at 0x7fd22003b4a8>"
      ]
     },
     "execution_count": 68,
     "metadata": {},
     "output_type": "execute_result"
    }
   ],
   "source": [
    "T = T2\n",
    "\n",
    "# transformation:\n",
    "# vecs = trans_vec  # uncomment - result of previous trans is input for next\n",
    "trans_vec = []\n",
    "for i in range(len(vecs)):\n",
    "    this_tv = T.dot(vecs[i]).A1\n",
    "    trans_vec.append(this_tv)\n",
    "trans_vec.append(trans_vec[0])\n",
    "# transpose to make plotable arrays\n",
    "xt=array(trans_vec).T[0]; yt=array(trans_vec).T[1]\n",
    "\n",
    "# plot\n",
    "ifig=11;figure(ifig)\n",
    "plot(xt,yt,'h--',label=\"horizontal shear\")\n",
    "legend()"
   ]
  },
  {
   "cell_type": "code",
   "execution_count": 49,
   "metadata": {},
   "outputs": [],
   "source": [
    "# reflection against y-axis\n",
    "T3 = matrix([[-1,0],[0,1]])"
   ]
  },
  {
   "cell_type": "code",
   "execution_count": 50,
   "metadata": {},
   "outputs": [
    {
     "data": {
      "text/plain": [
       "<matplotlib.legend.Legend at 0x7fd2206305c0>"
      ]
     },
     "execution_count": 50,
     "metadata": {},
     "output_type": "execute_result"
    }
   ],
   "source": [
    "T = T3\n",
    "\n",
    "# transformation:\n",
    "vecs = trans_vec   # uncomment - result of previous trans is input for next\n",
    "trans_vec = []\n",
    "for i in range(len(vecs)):\n",
    "    this_tv = T.dot(vecs[i]).A1\n",
    "    trans_vec.append(this_tv)\n",
    "\n",
    "# transpose to make plotable arrays\n",
    "xt=array(trans_vec).T[0]; yt=array(trans_vec).T[1]\n",
    "\n",
    "# plot\n",
    "ifig=11;figure(ifig)\n",
    "plot(xt,yt,'rd:',label=\"reflection y-axis\")\n",
    "legend()"
   ]
  },
  {
   "cell_type": "markdown",
   "metadata": {},
   "source": [
    "## Linear Algebra: Systems of equations\n",
    "\n",
    "* Many problems require finding solutions to systems of linear equations.\n",
    "* Example problem: a circuit of resistors.\n",
    "* Other examples include solving coupled ODEs with multiple variables.\n",
    "* We will solve linear systems of equations via Gaussian elimination."
   ]
  },
  {
   "cell_type": "markdown",
   "metadata": {},
   "source": [
    "### Circuit of resistors\n",
    "#### The problem\n",
    "A circuit of resistors, all with the same resistance, connects ground with a power rail at the voltage $V_\\mathrm{Rail}$ as shown in this diagram: ![Resistor](Figs/ResistorCircuit.png)\n",
    "\n",
    "A common problem in physics may involve that we  want to know the voltages at each of the junctions, $V_1, V_2, \\dots$ when $V_\\mathrm{Rail}$ is given and all resistors have the same  resistance $R$.\n",
    "\n",
    "The physics of this problem involves two aspects:\n",
    "1. Kirchhoff current law (a conservation law): The sum of all currents at any junction points must be zero.\n",
    "2. Ohm's law: The relation between current $I$, voltage $V$ and resistance is $$R = \\frac{V}{I}$$\n",
    "\n",
    "These fundamental electricitiy problems can be best understood in terms of the water analogy. \n",
    "\n",
    "### Set up equations\n",
    "* The current between two junctions is given by the voltage difference divided by the resistance (Ohm's law).\n",
    "* For each junction the sum of the currents into (or out of) the junction must be zero, i.e. in the voltage differences must contain the voltage at the junction with the same sign \n",
    "* Since the resistance is the same for all resistors it cancels and I we can omit it right from the beginning. \n",
    "* $V_\\mathrm{Rail} = 5 \\mathrm{V}$\n",
    "\n",
    "The sum of the voltage differences at each junction is as follows:"
   ]
  },
  {
   "cell_type": "markdown",
   "metadata": {},
   "source": [
    "- v3: $(V_3 - V_4) + (V_3 -5) + (V_3 - V_1) = 0$\n",
    "- v2: $(V_2 - V_4) + (V_2 - 0) + (V_2 - V_1) = 0$\n",
    "- v1: $(V_1 - V_3) + (V_1 - 0) + (V_1 - V_2) + (V_1 - V_4) = 0$\n",
    "- v4: $(V_4 - 5) + (V_4 - V_3) + (V_4 - V_2) + (V_4 - V_1) = 0$"
   ]
  },
  {
   "cell_type": "markdown",
   "metadata": {},
   "source": [
    "You will need to simplify the equations in the four variables $V_1, V_2, V_3$ and $V_4$ and then solve the linear system of equations, which we will do in the lab.\n",
    "\n",
    "### Another example\n",
    "Let's look at this example of a coupled system of linear equations and see how to solve:\n",
    "\n",
    "$$\\begin{eqnarray*}\n",
    " 2 v_1 + 2 v_2 + 3 v_3 &= 1 \\\\ \n",
    " 4 v_1 + 5 v_2 + 5 v_3 &= 4 \\\\\n",
    " v_1 + 2 v_2 + v_3 &= 2\n",
    "\\end{eqnarray*}$$\n",
    "\n",
    "In this case you have three equations, three variables - this is solvable (unless the equations are not independent).  "
   ]
  },
  {
   "cell_type": "markdown",
   "metadata": {},
   "source": [
    "### Gaussian elimination\n",
    "\n",
    "The work horse of solving systems of linear equations is the Gaussian elimination method. Many improvements can be made to the basic idea. Let's see how it works. The above system of equations can be written as  $\\vec{u} = \\matrix{A} \\cdot \\vec{v}$ with \n",
    "\n",
    "$$\n",
    "\\matrix{A} = \\pmatrix{ 2 & 2 & 3 \\\\ \n",
    "                       4 & 5 & 5 \\\\\n",
    "                       1 & 2 & 1 }\n",
    "$$\n",
    "\n",
    "and $$\\vec{u} = \\pmatrix{1\\\\4\\\\2}.$$ The vector $\\vec{v}$ is the desired solution to the coupled system of linear equations given above. [Gaussian elimination](https://en.wikipedia.org/wiki/Gaussian_elimination) is a systematic method to accomplish this.\n",
    "\n",
    "Recall the important notion from linear algebra that the solution will not change if\n",
    "* we multiply an equation by any number, or if\n",
    "* we add and substract equations from each other. \n",
    "\n",
    "With this a scheme that finds numerically $vec{v}$ by using these rules looks like this:\n",
    "\n",
    "1. divide 1$^\\mathrm{st}$ equation by $a_{11} (= 2)$:\n",
    "$$\\begin{eqnarray*}\n",
    " v_1 + v_2 + \\frac{3}{2} v_3 &= \\frac{1}{2} \\\\ \n",
    " 4 v_1 + 5 v_2 + 5 v_3 &= 4 \\\\\n",
    " v_1 + 2 v_2 +  v_3 &= 2\n",
    "\\end{eqnarray*}$$\n",
    "2. substract $a_{21} (= 4)$ times 1$^\\mathrm{st}$ equation from 2$^\\mathrm{nd}$ equation:\n",
    "$$\\begin{eqnarray*}\n",
    " v_1 + 1 v_2 + \\frac{3}{2} v_3 &= \\frac{1}{2} \\\\ \n",
    "                   1 v_2 - 1 v_3 &= 2 \\\\\n",
    " v_1 + 2 v_2 + 1 v_3 &= 2\n",
    "\\end{eqnarray*}$$\n",
    "3. substract $a_{31} (= 1)$ times 1$^\\mathrm{st}$ equation from 3$^\\mathrm{rd}$ equation:\n",
    "$$\\begin{eqnarray*}\n",
    " v_1 + v_2 + \\frac{3}{2} v_3 &= \\frac{1}{2} \\\\ \n",
    "       v_2 -             v_3 &= 2 \\\\\n",
    "       v_2 - \\frac{1}{2} v_3 &= \\frac{3}{2}\n",
    "\\end{eqnarray*}$$\n",
    "the result is that the first column disappeared in all but the first row\n",
    "4. repeat for remaining set of equations excluding first row\n",
    "$$\\begin{eqnarray*}\n",
    " v_1 + v_2 + \\frac{3}{2} v_3 &= \\frac{1}{2} \\\\ \n",
    "       v_2 -             v_3 &= 2 \\\\\n",
    "             \\frac{1}{2} v_3 &= -\\frac{1}{2}\n",
    "\\end{eqnarray*}$$\n",
    "5. repeat until entire set of equations is in triangular form and last equation has only one variable\n",
    "6. backsubstitution: solve last equation, substitute into last-but-one, solve, substitute etc.\n",
    "\n",
    "The solution should be $$\\vec{v} = \\pmatrix{1 \\\\ 1 \\\\ -1 }$$ \n",
    "\n",
    "Let's see how this can be implemented:"
   ]
  },
  {
   "cell_type": "code",
   "execution_count": null,
   "metadata": {},
   "outputs": [],
   "source": [
    "# reset A\n",
    "ar1=array([2,2,3])\n",
    "ar2=array([4,5,5])\n",
    "ar3=array([1,2,1])\n",
    "A=array([ar1,ar2,ar3])\n",
    "u = array([1,4,2])\n",
    "print(A,u)"
   ]
  },
  {
   "cell_type": "markdown",
   "metadata": {},
   "source": [
    "I need to apply the same operation to the right-hand side, i.e. $\\vec{u}$. The easiest way to do this is to add $\\vec{u}$ as an additional column to my working copy `AA` of the matrix `A`. I can use numpy `vstack` for that again, but add to `A.T` instead of `A`, and then take the transpose again:"
   ]
  },
  {
   "cell_type": "code",
   "execution_count": null,
   "metadata": {},
   "outputs": [],
   "source": [
    "AA = vstack((A.T,u)).T      # vstack is a numpy function!\n",
    "print(AA)"
   ]
  },
  {
   "cell_type": "markdown",
   "metadata": {},
   "source": [
    "I will start by performing the first step by hand. That will give me some ideas how to compactify and generalize the algorithm into a routine.\n",
    "\n",
    "1. divide 1$^\\mathrm{st}$ equation by $a_{11} (= 2)$:"
   ]
  },
  {
   "cell_type": "code",
   "execution_count": null,
   "metadata": {},
   "outputs": [],
   "source": [
    "# I will be working with rows:\n",
    "i=0\n",
    "AA[i] = AA[i]/AA[i,0]"
   ]
  },
  {
   "cell_type": "code",
   "execution_count": null,
   "metadata": {},
   "outputs": [],
   "source": [
    "AA"
   ]
  },
  {
   "cell_type": "markdown",
   "metadata": {},
   "source": [
    "Here we can see a problem. The $3^\\mathrm{rd}$ element in the first row should be $1.5$ and the last should be $0.5$. The matrix `AA` has data type`dtype('int64')`. It needs to be a float. I must check for this situation and change the dtype to float. "
   ]
  },
  {
   "cell_type": "code",
   "execution_count": null,
   "metadata": {},
   "outputs": [],
   "source": [
    "if not 'float' in str(AA.dtype): # there are different types of floats\n",
    "    AA=AA.astype(float) \n",
    "    # and integer data types, e.g. int32, int64\n",
    "    # and this way I am checking in the most general way\n",
    "    # I will also not overwrite A but create a new working array with the \n",
    "    # required float data type\n",
    "print(AA)"
   ]
  },
  {
   "cell_type": "code",
   "execution_count": null,
   "metadata": {
    "collapsed": true,
    "jupyter": {
     "outputs_hidden": true
    }
   },
   "outputs": [],
   "source": [
    "#  now try again\n",
    "i=0\n",
    "AA[i] = AA[i]/AA[i,0]"
   ]
  },
  {
   "cell_type": "code",
   "execution_count": null,
   "metadata": {},
   "outputs": [],
   "source": [
    "AA"
   ]
  },
  {
   "cell_type": "code",
   "execution_count": null,
   "metadata": {},
   "outputs": [],
   "source": [
    "# This loop allows me to perform step 2 and 3: \n",
    "i=0\n",
    "for j in range(i,len(A)): print(j)"
   ]
  },
  {
   "cell_type": "code",
   "execution_count": null,
   "metadata": {},
   "outputs": [],
   "source": [
    "i=0\n",
    "for j in range(i+1,len(AA)):\n",
    "    print (i,j)\n",
    "    AA[j] -= AA[j,0]*AA[i]\n",
    "    print(AA[j])"
   ]
  },
  {
   "cell_type": "code",
   "execution_count": null,
   "metadata": {},
   "outputs": [],
   "source": [
    "AA"
   ]
  },
  {
   "cell_type": "markdown",
   "metadata": {},
   "source": [
    "Now, I will repeat this with `i=1` [I discover that of course the second index in `AA[j,0]` needs to be updated as well"
   ]
  },
  {
   "cell_type": "code",
   "execution_count": null,
   "metadata": {},
   "outputs": [],
   "source": [
    "i=1\n",
    "AA[i] = AA[i]/AA[i,i]\n",
    "for j in range(i+1,len(AA)):\n",
    "    print (i,j)\n",
    "    AA[j] -= AA[j,i]*AA[i]\n",
    "    print(AA[j])"
   ]
  },
  {
   "cell_type": "code",
   "execution_count": null,
   "metadata": {},
   "outputs": [],
   "source": [
    "# check that AA is still what they should be, if not \n",
    "# reset by going back to the cell:\n",
    "AA"
   ]
  },
  {
   "cell_type": "markdown",
   "metadata": {},
   "source": [
    "Executing again with `i=2` gives the desired diagonal form."
   ]
  },
  {
   "cell_type": "markdown",
   "metadata": {},
   "source": [
    "Now we just need to implement the back-substitution"
   ]
  },
  {
   "cell_type": "code",
   "execution_count": null,
   "metadata": {},
   "outputs": [],
   "source": [
    "BB=copy(AA)\n",
    "m  = len(A)-1     # highest row/col index (we do only square matrices)\n",
    "v  = zeros(m+1,float) \n",
    "u  = BB.T[-1]       # extract RHS\n",
    "AA = delete(BB,m+1,1) # recover diagonalized coefficient matrix  "
   ]
  },
  {
   "cell_type": "code",
   "execution_count": null,
   "metadata": {},
   "outputs": [],
   "source": [
    "v[m] = u[m]"
   ]
  },
  {
   "cell_type": "code",
   "execution_count": null,
   "metadata": {
    "collapsed": true,
    "jupyter": {
     "outputs_hidden": true
    }
   },
   "outputs": [],
   "source": [
    "v[m-1] = u[m-1] - v[m]*AA[m-1,m]"
   ]
  },
  {
   "cell_type": "code",
   "execution_count": null,
   "metadata": {},
   "outputs": [],
   "source": [
    "v"
   ]
  },
  {
   "cell_type": "code",
   "execution_count": null,
   "metadata": {},
   "outputs": [],
   "source": [
    "v[m-2] = u[m-2] - v[m]*AA[m-2,m] - v[m-1]*AA[m-2,m-1]"
   ]
  },
  {
   "cell_type": "markdown",
   "metadata": {},
   "source": [
    "This can be made into a loop. However, I realize that this can be generalized in the following way. If we go backwards and initialize `v` as `zeros()` then I may just always subtract from the u component the dot product of `v` and the respective row of `AA`:"
   ]
  },
  {
   "cell_type": "code",
   "execution_count": null,
   "metadata": {},
   "outputs": [],
   "source": [
    "for j in range(m,-1,-1): print(j)"
   ]
  },
  {
   "cell_type": "code",
   "execution_count": null,
   "metadata": {},
   "outputs": [],
   "source": [
    "# reset AA and u:\n",
    "AA,u"
   ]
  },
  {
   "cell_type": "code",
   "execution_count": null,
   "metadata": {},
   "outputs": [],
   "source": [
    "for j in range(m,-1,-1):\n",
    "    v[j] = u[j] - v.dot(AA[j])"
   ]
  },
  {
   "cell_type": "code",
   "execution_count": null,
   "metadata": {},
   "outputs": [],
   "source": [
    "v"
   ]
  },
  {
   "cell_type": "markdown",
   "metadata": {},
   "source": [
    "While it is instuctive to see how we can implement Gaussian elimination in practice we will prefer to use a library.\n",
    "\n",
    "### Solution with numpy.linalg\n",
    "\n",
    "As an example we define a matrix $\\matrix{A}$ and carry out the dot product with a vector $vec{u}$. "
   ]
  },
  {
   "cell_type": "code",
   "execution_count": 54,
   "metadata": {},
   "outputs": [
    {
     "data": {
      "text/plain": [
       "matrix([[5, 4]])"
      ]
     },
     "execution_count": 54,
     "metadata": {},
     "output_type": "execute_result"
    }
   ],
   "source": [
    "import numpy as np\n",
    "A=np.matrix([[1,2],[1,1]])\n",
    "u=np.array([3,1])\n",
    "A.dot(u)"
   ]
  },
  {
   "cell_type": "markdown",
   "metadata": {},
   "source": [
    "$ \\matrix{A} \\cdot \\vec{u} = \\vec{v}$, given $\\vec{v}$ and $\\matrix{A}$ what is $\\vec{u}$?"
   ]
  },
  {
   "cell_type": "code",
   "execution_count": 55,
   "metadata": {},
   "outputs": [
    {
     "data": {
      "text/plain": [
       "matrix([[1, 2],\n",
       "        [1, 1]])"
      ]
     },
     "execution_count": 55,
     "metadata": {},
     "output_type": "execute_result"
    }
   ],
   "source": [
    "A"
   ]
  },
  {
   "cell_type": "code",
   "execution_count": 52,
   "metadata": {},
   "outputs": [
    {
     "data": {
      "text/plain": [
       "array([3., 1.])"
      ]
     },
     "execution_count": 52,
     "metadata": {},
     "output_type": "execute_result"
    }
   ],
   "source": [
    "v=np.array([5,4])\n",
    "np.linalg.solve(A,v)"
   ]
  },
  {
   "cell_type": "code",
   "execution_count": null,
   "metadata": {},
   "outputs": [],
   "source": []
  },
  {
   "cell_type": "code",
   "execution_count": null,
   "metadata": {},
   "outputs": [],
   "source": []
  },
  {
   "cell_type": "code",
   "execution_count": null,
   "metadata": {},
   "outputs": [],
   "source": []
  }
 ],
 "metadata": {
  "kernelspec": {
   "display_name": "Python 3",
   "language": "python",
   "name": "python3"
  },
  "language_info": {
   "codemirror_mode": {
    "name": "ipython",
    "version": 3
   },
   "file_extension": ".py",
   "mimetype": "text/x-python",
   "name": "python",
   "nbconvert_exporter": "python",
   "pygments_lexer": "ipython3",
   "version": "3.6.10"
  }
 },
 "nbformat": 4,
 "nbformat_minor": 4
}
