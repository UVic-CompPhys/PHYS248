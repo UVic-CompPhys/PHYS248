{
 "cells": [
  {
   "cell_type": "markdown",
   "metadata": {},
   "source": [
    "# Introduction\n"
   ]
  },
  {
   "cell_type": "markdown",
   "metadata": {},
   "source": [
    "## How scientists and mathematicians use computers\n",
    "\n",
    "### Data\n",
    "Data is generated all the time when experiments or simulations are carried out. Confronting both with each other or with models involves:\n",
    "\n",
    "* move, store, archive data\n",
    "* analyse data \n",
    "* model data\n",
    "* statistics (see below)\n",
    "* visualise data\n",
    "\n",
    "\n",
    "### Numerical analysis\n",
    "\n",
    "Solve mathematical problems numerically. Examples include: \n",
    "\n",
    "* integrating a function or differential equation\n",
    "* finding the root of an equation\n",
    "* solving a linear algebra problem with many variables\n",
    "\n",
    "### Symbolic computing\n",
    "\n",
    "Despite the availability of powerful simulation codes and libraries to rapidly deploy proven methods in numerical analysis we need to be able to work with complicated mathematics in an analytical fashion. The laws of physics come in the language of mathematics, and we need to _speak_ that language to understand physics and to write down new physics insights. Symbolic computing is a powerful way to support that. \n",
    "\n",
    "\n",
    "### Utilities\n",
    "There are numerous tasks that we have to be familiar with, and that are common to more than one of the above roles. These utilities enable science and any type of quantitative analysis.\n",
    "\n",
    "1. reading and writing data (IO) \n",
    "2. visualizing, plotting data\n",
    "3. programming\n",
    "3. (distributed) version control\n",
    "4. documentation and sharing software\n",
    "5. networking & storage\n",
    "6. using libraries (e.g. for numerical analysis!)\n",
    "8. parallel/threaded computing\n",
    "9. debugging techniques\n",
    "\n",
    "\n",
    "__In this course it is the goal that you obtain an introduction to all of the above by looking at specific physics and mathematics examples.__"
   ]
  },
  {
   "cell_type": "markdown",
   "metadata": {},
   "source": [
    "## Course organization\n",
    "\n",
    "### Computer language\n",
    "This course could be taught in several languages. We have choosen [Python](https://www.python.org) for a number of reasons:\n",
    "* freely available\n",
    "* very mature\n",
    "* used by scientist, big data analyst, marketing, even financial anlysts and  many other communities in their day-to-day operation\n",
    "* extendable, e.g. [symbolic computing](http://www.sympy.org/en/index.html), [astronomy](http://www.astropython.org), [math, science and engeneering](http://www.scipy.org) and much, much more\n",
    "* integrate data aquistion, model building, analysis, simulation and visualisation in one framework\n",
    "\n",
    "\n",
    "### Literature and online resources\n",
    "\n",
    "We will not follow one individual text book in this course, but many topics in this course are covered in books on Python-based Computational Physics and Mathematics: \n",
    "\n",
    "1. [Newman: Computational Physics _with Python_](http://www-personal.umich.edu/~mejn/computational-physics) (Some chapters are online)\n",
    "2. [Stickler & Schachinger: Basic Concepts in Computational Physics](http://voyager.library.uvic.ca/vwebv/holdingsInfo?bibId=3086030) (available as ebook from the UVic library)\n",
    "3. [Langtangen: A Primer on Scientific Programming with Python](http://voyager.library.uvic.ca/vwebv/holdingsInfo?searchId=4972&recCount=25&recPointer=13&bibId=2865846) (available as ebook from the UVic library)\n",
    "4. [Roundy: Introduction to Computational Physics](http://www.lulu.com/ca/en/shop/david-roundy/introduction-to-computational-physics/ebook/product-17437845.html) (free ebook)\n",
    "6. [Pierro: Annotated Algorithms in Python](https://books.google.ca/books/about/Annotated_Algorithms_in_Python.html?id=cZyPngEACAAJ&redir_esc=y)\n",
    "7. Specifically for numerical work there is the classic text [Press etal.: Numerical Recipes](http://www.nr.com) also available from our library!\n",
    "\n",
    "A lot of course resources are online, including online tutorials e.g. [codeacademy.org](https://www.codecademy.com/learn/python), [lernpython.org](http://www.learnpython.org) or [Python Course](https://www.python-course.eu/python3_course.php). "
   ]
  },
  {
   "cell_type": "markdown",
   "metadata": {},
   "source": [
    "### The computing platform\n",
    "The course will take place on the Jupyter server Abacus hosted by the Department of Physics and Astronomy. A link to the server can be found on CourseSpace. Later in the course we will introduce GitLab, a distributed version control system, and we will use the GitLab server on Abacus. \n",
    "\n",
    "You will need to bring a **laptop** to the labs and it would be beneficial (but not required) to have the laptop available in class as well. You need to be able to connect to the UVic WiFi, and you must have an up-to-date web browser (Firefox is recommended) operational. There is no need to install or use any other software on your laptop. \n",
    "\n",
    "Contact your instructor if your laptop  does not satisfy the following requirements:\n",
    "* Your laptop must be able to connect to the wireless network on campus.\n",
    "* You can arrive for class/tutorial with a battery charge that lasts reliably for 2 hours.\n",
    "* You have an up-to-date browser operational, such as Firefox."
   ]
  },
  {
   "cell_type": "markdown",
   "metadata": {},
   "source": [
    "### Lectures and laboratories\n",
    "Learning scientific and mathematical computing requires practice. It is important to _understand_ the concepts we cover in class. In order to gain the necessary proficiency in computing you need practice. That is why this course has two laboratory sessions, one after each lecture. You will gain practice in these laboratory session by working through a number of exercises. Key will be the help you will get in these labortories. There will be four TAs in each lab, and initially the instructor as well. \n",
    "\n",
    "But we will practice as well in the class. In each class there will be one or two 5-10min breaks in which I will ask you to do something yourself, either using your computer or on paper. \n",
    "\n",
    "Each lab has two activities. You have to complete the first (and always very easy) single-part activity by the end of the lab by answering a question on CourseSpaces correctly. You have to finish the second multi-part lab activity by the date given, typically before the following class, again by answering correctly the corresponding lab question on Coursespaces. When you have answered the Coursespaces question correctly you will be shown the model solution. You have three attempts to answer the lab questions. \n",
    "\n",
    "If you can't answer the lab question correctly you have the option to get help from a TA in person, either during the regular lab session, or during the TA office hours, before the end of the following week.  In other words: TAs can't fix lab completion points for lab activities that are from before the previous week. They can of course still answer questions for any previous course content at any time.  Each correctly answered lab activity gives 1 point. There are two activities per lab, thus 4 points per week, 48 in total.  You need to get at least 36 lab activity points (75%) to pass the course. \n",
    "\n",
    "At the due date for each lab we will pull the copy of the lab notebook. TAs will spot check if work in the lab notebook is consistent with answers given on CourseSpaces and will cases to the instructors attention where this is not the case. It work in lab notebooks is not consistent with answers given on CourseSpace the corresponding lab point may be revoked. \n",
    "\n",
    "### Assignments\n",
    "There are four assignments which are composed of multi-part questions. Each question is associated with a previously covered lecture/lab. \n",
    "\n",
    "Assignment | Lecture/lab covered\n",
    "-----------|---------------------\n",
    "1 | 1, 2.1\n",
    "2 | 2.2, 3, 4.1\n",
    "3 | 4.2, 5, 6, 7.1\n",
    "4 | 7.2, 8, 9, 10.1\n",
    "\n",
    "\n",
    "### Getting in touch\n",
    "Announcements to students will be via the Annoucements message board on Coursespaces. The primary way for asking questions concerning the course material will be the _General student forum_ room on Coursespaces. TAs will monitor the forum to answer questions throughout the week during normal business hours, time permitting. Students are encouged to help othe students as well. \n",
    "\n",
    "In addition there will be TA office hours on Wednesday and Friday as well as chat sessions  on each of these days. TA\n"
   ]
  },
  {
   "cell_type": "code",
   "execution_count": null,
   "metadata": {},
   "outputs": [],
   "source": []
  }
 ],
 "metadata": {
  "anaconda-cloud": {},
  "kernelspec": {
   "display_name": "Python 3",
   "language": "python",
   "name": "python3"
  },
  "language_info": {
   "codemirror_mode": {
    "name": "ipython",
    "version": 3
   },
   "file_extension": ".py",
   "mimetype": "text/x-python",
   "name": "python",
   "nbconvert_exporter": "python",
   "pygments_lexer": "ipython3",
   "version": "3.6.10"
  }
 },
 "nbformat": 4,
 "nbformat_minor": 4
}
