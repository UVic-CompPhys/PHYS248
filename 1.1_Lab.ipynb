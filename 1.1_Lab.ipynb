{
 "cells": [
  {
   "cell_type": "markdown",
   "metadata": {},
   "source": [
    "## Lab 1.1\n",
    "\n",
    "### Activity 1 \n",
    "Name: `sphere-cube-volumes`\n",
    "\n",
    "**Complete this activity before the end of the lab by entering the answer into the Coursespaces assignment**\n",
    "\n",
    "Program in a notebook code cell the formula for the volume $V_\\mathrm{sph}$ (variable name `vsp`) of a sphere with radius $r$ and the volume $V_\\mathrm{cube}$ (variable name `vcb`) of a cube with side length $a$, $b$, $c$. Calculate each volume separately. Then calculate the product (variable name `p`) of sphere and cube volume and the sum (variable `s`) of the two. Print each intermediate answer with a print statement. \n",
    "\n",
    "\n",
    "**CourseSpace assignment Lab1.1_A1:**\n",
    "Print the ratio of product to sum. Used formatted printing, with 2 digits following the decimal point. Enter the answer into the Coursespaces question. \n",
    "\n",
    "**Variables:**\n",
    "```\n",
    "r = 1.4\n",
    "a = 4\n",
    "b = 7\n",
    "c = 0.2\n",
    "```"
   ]
  },
  {
   "cell_type": "code",
   "execution_count": 1,
   "metadata": {},
   "outputs": [],
   "source": [
    "# enter code here\n",
    "\n"
   ]
  },
  {
   "cell_type": "markdown",
   "metadata": {},
   "source": [
    "Complete the following activities before the end of the week (Friday 10pm) by entering the final answer into the corresponding Coursespaces assignment.\n",
    "\n",
    "## Activity 2.1\n",
    "Name: `qwerty-string-slicing`\n",
    "\n",
    "1. Create new variables `a` and `b` that store the strings 'qwertyu' and 'asdfghj'\n",
    "2. Create a new variable `c` that contains the string consisting of the first three characters of `a` and the last four characters of `b` using only slicing and string addition on the two previous variables.\n",
    "\n",
    "**CourseSpace assignment Lab1.1_A2.1:**\n",
    "Create the 3-character string that consists of the 4th character in each of the three strings `a, b, c` in that order. (Remember that python indexing starts with 0 for the first item.) Enter this string into the course spaces question.\n",
    "\n",
    "**Solution:**"
   ]
  },
  {
   "cell_type": "code",
   "execution_count": null,
   "metadata": {},
   "outputs": [],
   "source": []
  },
  {
   "cell_type": "code",
   "execution_count": null,
   "metadata": {},
   "outputs": [],
   "source": []
  },
  {
   "cell_type": "markdown",
   "metadata": {},
   "source": [
    "### Activity 2.2\n",
    "Name: `formatted-output`\n",
    "\n",
    "Create variables `a,b,c` with strings containing the number in the following formats\n",
    "- `a`: decimal notation with 2 decimals\n",
    "- `b`: compact scientific notation, e in the exponent, field of 8 with 3 decimals\n",
    "- `c`: using the `%g` format descriptor (how is that different from the previous) \n",
    "\n",
    "```python\n",
    "number = 536918852.5879\n",
    "```\n",
    "\n",
    "**CourseSpace assignment Lab1.1_A2.2:**\n",
    "\n",
    "Create the 3-character string that consists of the 6th character in each of the three strings `a, b, c` in that order. Enter this string into the course spaces question.\n",
    "\n",
    "**Solution:**"
   ]
  },
  {
   "cell_type": "code",
   "execution_count": null,
   "metadata": {},
   "outputs": [],
   "source": []
  },
  {
   "cell_type": "code",
   "execution_count": null,
   "metadata": {},
   "outputs": [],
   "source": []
  },
  {
   "cell_type": "code",
   "execution_count": null,
   "metadata": {},
   "outputs": [],
   "source": []
  }
 ],
 "metadata": {
  "kernelspec": {
   "display_name": "Python 3",
   "language": "python",
   "name": "python3"
  },
  "language_info": {
   "codemirror_mode": {
    "name": "ipython",
    "version": 3
   },
   "file_extension": ".py",
   "mimetype": "text/x-python",
   "name": "python",
   "nbconvert_exporter": "python",
   "pygments_lexer": "ipython3",
   "version": "3.6.10"
  }
 },
 "nbformat": 4,
 "nbformat_minor": 4
}
